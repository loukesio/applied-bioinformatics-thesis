{
 "cells": [
  {
   "cell_type": "code",
   "id": "initial_id",
   "metadata": {
    "collapsed": true,
    "ExecuteTime": {
     "end_time": "2024-06-11T11:59:38.053960Z",
     "start_time": "2024-06-11T11:59:38.051295Z"
    }
   },
   "source": [
    "from sklearn.linear_model import LogisticRegression\n",
    "from sklearn.metrics import confusion_matrix, ConfusionMatrixDisplay, accuracy_score, precision_score, recall_score, f1_score\n",
    "\n",
    "import polars as pl\n",
    "import numpy as np\n",
    "\n",
    "from adex.models import Condition, ConditionDataLoader, ConditionSequencingTissueDataLoader, \\\n",
    "    ConditionSequencingDataLoader, SequencingTechnique, TissueEnum, METADATA_COLUMNS, FileDataLoader, DataLoader\n",
    "from adex.helpers import get_pre_processed_dataset, run_ml_model\n",
    "from adex.models import DATASET_INFO_COLUMNS\n",
    "from sklearn import model_selection\n",
    "from sklearn.model_selection import GridSearchCV, cross_val_score\n",
    "\n",
    "data_path = \"../data/adex-database/samples\"\n",
    "metadata_path = \"../data/adex-database/metadata.csv\"\n",
    "datasets_info_path = \"../data/adex-database/datasets_info.csv\"\n",
    "results_path = \"../results\""
   ],
   "outputs": [],
   "execution_count": 93
  },
  {
   "metadata": {},
   "cell_type": "markdown",
   "source": "# Prepare Data",
   "id": "e2c0b7f1c449e07e"
  },
  {
   "metadata": {
    "ExecuteTime": {
     "end_time": "2024-06-11T11:59:38.138535Z",
     "start_time": "2024-06-11T11:59:38.135328Z"
    }
   },
   "cell_type": "code",
   "source": [
    "top10_de_genes_ra_GSE89408 = (\n",
    "    pl\n",
    "    .read_csv(f\"../data/ml/GSE89408_top_de_train_genes.csv\", has_header=True)\n",
    "    .to_series()\n",
    "    .to_list()\n",
    ")\n",
    "len(top10_de_genes_ra_GSE89408)"
   ],
   "id": "797ce337c0766ef6",
   "outputs": [
    {
     "data": {
      "text/plain": [
       "10"
      ]
     },
     "execution_count": 94,
     "metadata": {},
     "output_type": "execute_result"
    }
   ],
   "execution_count": 94
  },
  {
   "metadata": {
    "ExecuteTime": {
     "end_time": "2024-06-11T11:59:38.172855Z",
     "start_time": "2024-06-11T11:59:38.169838Z"
    }
   },
   "cell_type": "code",
   "source": [
    "top_de_genes_ra_GSE89408 = (\n",
    "    pl\n",
    "    .read_csv(f\"../results/GSE89408_only_train_samples/edgeR_de_genes.csv\", has_header=True)\n",
    "    .to_series()\n",
    "    .to_list()\n",
    ")\n",
    "len(top_de_genes_ra_GSE89408)"
   ],
   "id": "817ac0ad3a4b493b",
   "outputs": [
    {
     "data": {
      "text/plain": [
       "148"
      ]
     },
     "execution_count": 95,
     "metadata": {},
     "output_type": "execute_result"
    }
   ],
   "execution_count": 95
  },
  {
   "metadata": {
    "ExecuteTime": {
     "end_time": "2024-06-11T11:59:39.709281Z",
     "start_time": "2024-06-11T11:59:38.201775Z"
    }
   },
   "cell_type": "code",
   "source": [
    "de_GSE89408 = (\n",
    "    get_pre_processed_dataset(\n",
    "        data_loader=FileDataLoader(\n",
    "            condition=Condition.RA,\n",
    "            file_name=\"GSE89408.tsv.parquet\",\n",
    "            genes=['AC017083.2', 'U62317.1', 'AC025423.4']\n",
    "        ),\n",
    "        data_path=data_path,\n",
    "        metadata_path=metadata_path,\n",
    "        datasets_info_path=datasets_info_path,\n",
    "        return_metadata=True\n",
    "    ).fill_null(value=0)\n",
    "    .drop(filter(lambda item: item != 'Condition',METADATA_COLUMNS)) # We need only the condition from Metadata  \n",
    "    .drop(DATASET_INFO_COLUMNS)\n",
    "    .with_columns(\n",
    "        pl.col(\"Condition\")\n",
    "            .map_elements(lambda x: 0 if x == \"Healthy\" else 1, return_dtype=pl.Int8)\n",
    "            .alias(\"class_label\")\n",
    "    )\n",
    "    .drop(\"Condition\")\n",
    ").sort(\"Sample\")  # Remove randomness at this point \n",
    "de_GSE89408"
   ],
   "id": "7f097d355e57893",
   "outputs": [
    {
     "data": {
      "text/plain": [
       "shape: (180, 5)\n",
       "┌────────────┬────────────┬──────────┬────────────┬─────────────┐\n",
       "│ Sample     ┆ AC017083.2 ┆ U62317.1 ┆ AC025423.4 ┆ class_label │\n",
       "│ ---        ┆ ---        ┆ ---      ┆ ---        ┆ ---         │\n",
       "│ str        ┆ f64        ┆ f64      ┆ f64        ┆ i8          │\n",
       "╞════════════╪════════════╪══════════╪════════════╪═════════════╡\n",
       "│ GSM2370970 ┆ 0.0        ┆ 0.0      ┆ 0.0        ┆ 0           │\n",
       "│ GSM2370971 ┆ 7.938222   ┆ 0.0      ┆ 7.707919   ┆ 0           │\n",
       "│ GSM2370972 ┆ 7.53651    ┆ 0.858757 ┆ 6.148911   ┆ 0           │\n",
       "│ GSM2370973 ┆ 0.0        ┆ 1.069102 ┆ 5.776321   ┆ 0           │\n",
       "│ GSM2370974 ┆ 5.758763   ┆ 0.0      ┆ 4.476259   ┆ 0           │\n",
       "│ …          ┆ …          ┆ …        ┆ …          ┆ …           │\n",
       "│ GSM2371183 ┆ 7.564782   ┆ 2.794609 ┆ 7.378751   ┆ 1           │\n",
       "│ GSM2371184 ┆ 8.341194   ┆ 3.255327 ┆ 7.99071    ┆ 1           │\n",
       "│ GSM2371185 ┆ 7.450259   ┆ 3.103816 ┆ 8.041741   ┆ 1           │\n",
       "│ GSM2371186 ┆ 7.930536   ┆ 2.795792 ┆ 7.969548   ┆ 1           │\n",
       "│ GSM2371187 ┆ 7.012352   ┆ 0.869047 ┆ 8.201594   ┆ 1           │\n",
       "└────────────┴────────────┴──────────┴────────────┴─────────────┘"
      ],
      "text/html": [
       "<div><style>\n",
       ".dataframe > thead > tr,\n",
       ".dataframe > tbody > tr {\n",
       "  text-align: right;\n",
       "  white-space: pre-wrap;\n",
       "}\n",
       "</style>\n",
       "<small>shape: (180, 5)</small><table border=\"1\" class=\"dataframe\"><thead><tr><th>Sample</th><th>AC017083.2</th><th>U62317.1</th><th>AC025423.4</th><th>class_label</th></tr><tr><td>str</td><td>f64</td><td>f64</td><td>f64</td><td>i8</td></tr></thead><tbody><tr><td>&quot;GSM2370970&quot;</td><td>0.0</td><td>0.0</td><td>0.0</td><td>0</td></tr><tr><td>&quot;GSM2370971&quot;</td><td>7.938222</td><td>0.0</td><td>7.707919</td><td>0</td></tr><tr><td>&quot;GSM2370972&quot;</td><td>7.53651</td><td>0.858757</td><td>6.148911</td><td>0</td></tr><tr><td>&quot;GSM2370973&quot;</td><td>0.0</td><td>1.069102</td><td>5.776321</td><td>0</td></tr><tr><td>&quot;GSM2370974&quot;</td><td>5.758763</td><td>0.0</td><td>4.476259</td><td>0</td></tr><tr><td>&hellip;</td><td>&hellip;</td><td>&hellip;</td><td>&hellip;</td><td>&hellip;</td></tr><tr><td>&quot;GSM2371183&quot;</td><td>7.564782</td><td>2.794609</td><td>7.378751</td><td>1</td></tr><tr><td>&quot;GSM2371184&quot;</td><td>8.341194</td><td>3.255327</td><td>7.99071</td><td>1</td></tr><tr><td>&quot;GSM2371185&quot;</td><td>7.450259</td><td>3.103816</td><td>8.041741</td><td>1</td></tr><tr><td>&quot;GSM2371186&quot;</td><td>7.930536</td><td>2.795792</td><td>7.969548</td><td>1</td></tr><tr><td>&quot;GSM2371187&quot;</td><td>7.012352</td><td>0.869047</td><td>8.201594</td><td>1</td></tr></tbody></table></div>"
      ]
     },
     "execution_count": 96,
     "metadata": {},
     "output_type": "execute_result"
    }
   ],
   "execution_count": 96
  },
  {
   "metadata": {
    "ExecuteTime": {
     "end_time": "2024-06-11T11:59:39.714685Z",
     "start_time": "2024-06-11T11:59:39.710370Z"
    }
   },
   "cell_type": "code",
   "source": [
    "x_df = (\n",
    "        de_GSE89408.select([\n",
    "            pl.all().exclude(\"Sample\", \"class_label\"),\n",
    "        ]).to_pandas()\n",
    " )\n",
    "x_df"
   ],
   "id": "554cebbc3f99cc87",
   "outputs": [
    {
     "data": {
      "text/plain": [
       "     AC017083.2  U62317.1  AC025423.4\n",
       "0      0.000000  0.000000    0.000000\n",
       "1      7.938222  0.000000    7.707919\n",
       "2      7.536510  0.858757    6.148911\n",
       "3      0.000000  1.069102    5.776321\n",
       "4      5.758763  0.000000    4.476259\n",
       "..          ...       ...         ...\n",
       "175    7.564782  2.794609    7.378751\n",
       "176    8.341194  3.255327    7.990710\n",
       "177    7.450259  3.103816    8.041741\n",
       "178    7.930536  2.795792    7.969548\n",
       "179    7.012352  0.869047    8.201594\n",
       "\n",
       "[180 rows x 3 columns]"
      ],
      "text/html": [
       "<div>\n",
       "<style scoped>\n",
       "    .dataframe tbody tr th:only-of-type {\n",
       "        vertical-align: middle;\n",
       "    }\n",
       "\n",
       "    .dataframe tbody tr th {\n",
       "        vertical-align: top;\n",
       "    }\n",
       "\n",
       "    .dataframe thead th {\n",
       "        text-align: right;\n",
       "    }\n",
       "</style>\n",
       "<table border=\"1\" class=\"dataframe\">\n",
       "  <thead>\n",
       "    <tr style=\"text-align: right;\">\n",
       "      <th></th>\n",
       "      <th>AC017083.2</th>\n",
       "      <th>U62317.1</th>\n",
       "      <th>AC025423.4</th>\n",
       "    </tr>\n",
       "  </thead>\n",
       "  <tbody>\n",
       "    <tr>\n",
       "      <th>0</th>\n",
       "      <td>0.000000</td>\n",
       "      <td>0.000000</td>\n",
       "      <td>0.000000</td>\n",
       "    </tr>\n",
       "    <tr>\n",
       "      <th>1</th>\n",
       "      <td>7.938222</td>\n",
       "      <td>0.000000</td>\n",
       "      <td>7.707919</td>\n",
       "    </tr>\n",
       "    <tr>\n",
       "      <th>2</th>\n",
       "      <td>7.536510</td>\n",
       "      <td>0.858757</td>\n",
       "      <td>6.148911</td>\n",
       "    </tr>\n",
       "    <tr>\n",
       "      <th>3</th>\n",
       "      <td>0.000000</td>\n",
       "      <td>1.069102</td>\n",
       "      <td>5.776321</td>\n",
       "    </tr>\n",
       "    <tr>\n",
       "      <th>4</th>\n",
       "      <td>5.758763</td>\n",
       "      <td>0.000000</td>\n",
       "      <td>4.476259</td>\n",
       "    </tr>\n",
       "    <tr>\n",
       "      <th>...</th>\n",
       "      <td>...</td>\n",
       "      <td>...</td>\n",
       "      <td>...</td>\n",
       "    </tr>\n",
       "    <tr>\n",
       "      <th>175</th>\n",
       "      <td>7.564782</td>\n",
       "      <td>2.794609</td>\n",
       "      <td>7.378751</td>\n",
       "    </tr>\n",
       "    <tr>\n",
       "      <th>176</th>\n",
       "      <td>8.341194</td>\n",
       "      <td>3.255327</td>\n",
       "      <td>7.990710</td>\n",
       "    </tr>\n",
       "    <tr>\n",
       "      <th>177</th>\n",
       "      <td>7.450259</td>\n",
       "      <td>3.103816</td>\n",
       "      <td>8.041741</td>\n",
       "    </tr>\n",
       "    <tr>\n",
       "      <th>178</th>\n",
       "      <td>7.930536</td>\n",
       "      <td>2.795792</td>\n",
       "      <td>7.969548</td>\n",
       "    </tr>\n",
       "    <tr>\n",
       "      <th>179</th>\n",
       "      <td>7.012352</td>\n",
       "      <td>0.869047</td>\n",
       "      <td>8.201594</td>\n",
       "    </tr>\n",
       "  </tbody>\n",
       "</table>\n",
       "<p>180 rows × 3 columns</p>\n",
       "</div>"
      ]
     },
     "execution_count": 97,
     "metadata": {},
     "output_type": "execute_result"
    }
   ],
   "execution_count": 97
  },
  {
   "metadata": {
    "ExecuteTime": {
     "end_time": "2024-06-11T11:59:39.718484Z",
     "start_time": "2024-06-11T11:59:39.715374Z"
    }
   },
   "cell_type": "code",
   "source": [
    "y_df = de_GSE89408.select(pl.col(\"class_label\").alias(\"y\")).to_pandas()\n",
    "y_df"
   ],
   "id": "6fbab6b72820254f",
   "outputs": [
    {
     "data": {
      "text/plain": [
       "     y\n",
       "0    0\n",
       "1    0\n",
       "2    0\n",
       "3    0\n",
       "4    0\n",
       "..  ..\n",
       "175  1\n",
       "176  1\n",
       "177  1\n",
       "178  1\n",
       "179  1\n",
       "\n",
       "[180 rows x 1 columns]"
      ],
      "text/html": [
       "<div>\n",
       "<style scoped>\n",
       "    .dataframe tbody tr th:only-of-type {\n",
       "        vertical-align: middle;\n",
       "    }\n",
       "\n",
       "    .dataframe tbody tr th {\n",
       "        vertical-align: top;\n",
       "    }\n",
       "\n",
       "    .dataframe thead th {\n",
       "        text-align: right;\n",
       "    }\n",
       "</style>\n",
       "<table border=\"1\" class=\"dataframe\">\n",
       "  <thead>\n",
       "    <tr style=\"text-align: right;\">\n",
       "      <th></th>\n",
       "      <th>y</th>\n",
       "    </tr>\n",
       "  </thead>\n",
       "  <tbody>\n",
       "    <tr>\n",
       "      <th>0</th>\n",
       "      <td>0</td>\n",
       "    </tr>\n",
       "    <tr>\n",
       "      <th>1</th>\n",
       "      <td>0</td>\n",
       "    </tr>\n",
       "    <tr>\n",
       "      <th>2</th>\n",
       "      <td>0</td>\n",
       "    </tr>\n",
       "    <tr>\n",
       "      <th>3</th>\n",
       "      <td>0</td>\n",
       "    </tr>\n",
       "    <tr>\n",
       "      <th>4</th>\n",
       "      <td>0</td>\n",
       "    </tr>\n",
       "    <tr>\n",
       "      <th>...</th>\n",
       "      <td>...</td>\n",
       "    </tr>\n",
       "    <tr>\n",
       "      <th>175</th>\n",
       "      <td>1</td>\n",
       "    </tr>\n",
       "    <tr>\n",
       "      <th>176</th>\n",
       "      <td>1</td>\n",
       "    </tr>\n",
       "    <tr>\n",
       "      <th>177</th>\n",
       "      <td>1</td>\n",
       "    </tr>\n",
       "    <tr>\n",
       "      <th>178</th>\n",
       "      <td>1</td>\n",
       "    </tr>\n",
       "    <tr>\n",
       "      <th>179</th>\n",
       "      <td>1</td>\n",
       "    </tr>\n",
       "  </tbody>\n",
       "</table>\n",
       "<p>180 rows × 1 columns</p>\n",
       "</div>"
      ]
     },
     "execution_count": 98,
     "metadata": {},
     "output_type": "execute_result"
    }
   ],
   "execution_count": 98
  },
  {
   "metadata": {
    "ExecuteTime": {
     "end_time": "2024-06-11T11:59:39.722835Z",
     "start_time": "2024-06-11T11:59:39.719806Z"
    }
   },
   "cell_type": "code",
   "source": [
    "x_train, _, y_train, _ = model_selection.train_test_split(\n",
    "    x_df, y_df, \n",
    "    train_size=0.7, \n",
    "    random_state=42,  # Ensure a reproducible split \n",
    "    shuffle=True, \n",
    "    stratify=y_df  # solve the class imbalance issue \n",
    ")"
   ],
   "id": "90426e77777aca48",
   "outputs": [],
   "execution_count": 99
  },
  {
   "metadata": {
    "ExecuteTime": {
     "end_time": "2024-06-11T11:59:39.726552Z",
     "start_time": "2024-06-11T11:59:39.723328Z"
    }
   },
   "cell_type": "code",
   "source": "x_train",
   "id": "30542593dc0cc1bd",
   "outputs": [
    {
     "data": {
      "text/plain": [
       "     AC017083.2  U62317.1  AC025423.4\n",
       "13     0.000000  1.864341    4.348193\n",
       "73     7.122238  5.518350    6.921170\n",
       "4      5.758763  0.000000    4.476259\n",
       "5      5.965939  3.491997    7.195406\n",
       "57     5.156864  3.369568    6.887080\n",
       "..          ...       ...         ...\n",
       "53     7.649072  4.026287    7.152249\n",
       "64     7.112296  3.523430    7.582939\n",
       "176    8.341194  3.255327    7.990710\n",
       "89     7.224499  6.023392    8.236785\n",
       "113    7.431345  5.414871    6.919167\n",
       "\n",
       "[125 rows x 3 columns]"
      ],
      "text/html": [
       "<div>\n",
       "<style scoped>\n",
       "    .dataframe tbody tr th:only-of-type {\n",
       "        vertical-align: middle;\n",
       "    }\n",
       "\n",
       "    .dataframe tbody tr th {\n",
       "        vertical-align: top;\n",
       "    }\n",
       "\n",
       "    .dataframe thead th {\n",
       "        text-align: right;\n",
       "    }\n",
       "</style>\n",
       "<table border=\"1\" class=\"dataframe\">\n",
       "  <thead>\n",
       "    <tr style=\"text-align: right;\">\n",
       "      <th></th>\n",
       "      <th>AC017083.2</th>\n",
       "      <th>U62317.1</th>\n",
       "      <th>AC025423.4</th>\n",
       "    </tr>\n",
       "  </thead>\n",
       "  <tbody>\n",
       "    <tr>\n",
       "      <th>13</th>\n",
       "      <td>0.000000</td>\n",
       "      <td>1.864341</td>\n",
       "      <td>4.348193</td>\n",
       "    </tr>\n",
       "    <tr>\n",
       "      <th>73</th>\n",
       "      <td>7.122238</td>\n",
       "      <td>5.518350</td>\n",
       "      <td>6.921170</td>\n",
       "    </tr>\n",
       "    <tr>\n",
       "      <th>4</th>\n",
       "      <td>5.758763</td>\n",
       "      <td>0.000000</td>\n",
       "      <td>4.476259</td>\n",
       "    </tr>\n",
       "    <tr>\n",
       "      <th>5</th>\n",
       "      <td>5.965939</td>\n",
       "      <td>3.491997</td>\n",
       "      <td>7.195406</td>\n",
       "    </tr>\n",
       "    <tr>\n",
       "      <th>57</th>\n",
       "      <td>5.156864</td>\n",
       "      <td>3.369568</td>\n",
       "      <td>6.887080</td>\n",
       "    </tr>\n",
       "    <tr>\n",
       "      <th>...</th>\n",
       "      <td>...</td>\n",
       "      <td>...</td>\n",
       "      <td>...</td>\n",
       "    </tr>\n",
       "    <tr>\n",
       "      <th>53</th>\n",
       "      <td>7.649072</td>\n",
       "      <td>4.026287</td>\n",
       "      <td>7.152249</td>\n",
       "    </tr>\n",
       "    <tr>\n",
       "      <th>64</th>\n",
       "      <td>7.112296</td>\n",
       "      <td>3.523430</td>\n",
       "      <td>7.582939</td>\n",
       "    </tr>\n",
       "    <tr>\n",
       "      <th>176</th>\n",
       "      <td>8.341194</td>\n",
       "      <td>3.255327</td>\n",
       "      <td>7.990710</td>\n",
       "    </tr>\n",
       "    <tr>\n",
       "      <th>89</th>\n",
       "      <td>7.224499</td>\n",
       "      <td>6.023392</td>\n",
       "      <td>8.236785</td>\n",
       "    </tr>\n",
       "    <tr>\n",
       "      <th>113</th>\n",
       "      <td>7.431345</td>\n",
       "      <td>5.414871</td>\n",
       "      <td>6.919167</td>\n",
       "    </tr>\n",
       "  </tbody>\n",
       "</table>\n",
       "<p>125 rows × 3 columns</p>\n",
       "</div>"
      ]
     },
     "execution_count": 100,
     "metadata": {},
     "output_type": "execute_result"
    }
   ],
   "execution_count": 100
  },
  {
   "metadata": {
    "ExecuteTime": {
     "end_time": "2024-06-11T11:59:39.729710Z",
     "start_time": "2024-06-11T11:59:39.727106Z"
    }
   },
   "cell_type": "code",
   "source": "y_train",
   "id": "32aff997ccfbf120",
   "outputs": [
    {
     "data": {
      "text/plain": [
       "     y\n",
       "13   0\n",
       "73   1\n",
       "4    0\n",
       "5    0\n",
       "57   1\n",
       "..  ..\n",
       "53   1\n",
       "64   1\n",
       "176  1\n",
       "89   1\n",
       "113  1\n",
       "\n",
       "[125 rows x 1 columns]"
      ],
      "text/html": [
       "<div>\n",
       "<style scoped>\n",
       "    .dataframe tbody tr th:only-of-type {\n",
       "        vertical-align: middle;\n",
       "    }\n",
       "\n",
       "    .dataframe tbody tr th {\n",
       "        vertical-align: top;\n",
       "    }\n",
       "\n",
       "    .dataframe thead th {\n",
       "        text-align: right;\n",
       "    }\n",
       "</style>\n",
       "<table border=\"1\" class=\"dataframe\">\n",
       "  <thead>\n",
       "    <tr style=\"text-align: right;\">\n",
       "      <th></th>\n",
       "      <th>y</th>\n",
       "    </tr>\n",
       "  </thead>\n",
       "  <tbody>\n",
       "    <tr>\n",
       "      <th>13</th>\n",
       "      <td>0</td>\n",
       "    </tr>\n",
       "    <tr>\n",
       "      <th>73</th>\n",
       "      <td>1</td>\n",
       "    </tr>\n",
       "    <tr>\n",
       "      <th>4</th>\n",
       "      <td>0</td>\n",
       "    </tr>\n",
       "    <tr>\n",
       "      <th>5</th>\n",
       "      <td>0</td>\n",
       "    </tr>\n",
       "    <tr>\n",
       "      <th>57</th>\n",
       "      <td>1</td>\n",
       "    </tr>\n",
       "    <tr>\n",
       "      <th>...</th>\n",
       "      <td>...</td>\n",
       "    </tr>\n",
       "    <tr>\n",
       "      <th>53</th>\n",
       "      <td>1</td>\n",
       "    </tr>\n",
       "    <tr>\n",
       "      <th>64</th>\n",
       "      <td>1</td>\n",
       "    </tr>\n",
       "    <tr>\n",
       "      <th>176</th>\n",
       "      <td>1</td>\n",
       "    </tr>\n",
       "    <tr>\n",
       "      <th>89</th>\n",
       "      <td>1</td>\n",
       "    </tr>\n",
       "    <tr>\n",
       "      <th>113</th>\n",
       "      <td>1</td>\n",
       "    </tr>\n",
       "  </tbody>\n",
       "</table>\n",
       "<p>125 rows × 1 columns</p>\n",
       "</div>"
      ]
     },
     "execution_count": 101,
     "metadata": {},
     "output_type": "execute_result"
    }
   ],
   "execution_count": 101
  },
  {
   "metadata": {
    "ExecuteTime": {
     "end_time": "2024-06-11T11:59:39.732660Z",
     "start_time": "2024-06-11T11:59:39.730183Z"
    }
   },
   "cell_type": "code",
   "source": "y_train.value_counts()",
   "id": "f981a740874a0c65",
   "outputs": [
    {
     "data": {
      "text/plain": [
       "y\n",
       "1    106\n",
       "0     19\n",
       "Name: count, dtype: int64"
      ]
     },
     "execution_count": 102,
     "metadata": {},
     "output_type": "execute_result"
    }
   ],
   "execution_count": 102
  },
  {
   "metadata": {
    "ExecuteTime": {
     "end_time": "2024-06-11T11:59:40.395493Z",
     "start_time": "2024-06-11T11:59:39.733161Z"
    }
   },
   "cell_type": "code",
   "source": [
    "other_dataset = (\n",
    "    get_pre_processed_dataset(\n",
    "        data_loader=FileDataLoader(\n",
    "            condition=Condition.RA,\n",
    "            file_name=\"GSE90081.tsv.parquet\",\n",
    "            genes=['AC017083.2', 'U62317.1', 'AC025423.4']\n",
    "        ),\n",
    "        data_path=data_path,\n",
    "        metadata_path=metadata_path,\n",
    "        datasets_info_path=datasets_info_path,\n",
    "        return_metadata=True\n",
    "    ).fill_null(value=0)\n",
    "    .drop(filter(lambda item: item != 'Condition',METADATA_COLUMNS)) # We need only the condition from Metadata  \n",
    "    .drop(DATASET_INFO_COLUMNS)\n",
    "    .with_columns(\n",
    "        pl.col(\"Condition\")\n",
    "        .map_elements(lambda x: 0 if x == \"Healthy\" else 1, return_dtype=pl.Int8)\n",
    "        .alias(\"class_label\")\n",
    "    )\n",
    "    .drop(\"Condition\")\n",
    ").sort(\"Sample\")  # Remove randomness at this point \n",
    "other_dataset"
   ],
   "id": "2908c26f7648ee6c",
   "outputs": [
    {
     "data": {
      "text/plain": [
       "shape: (24, 5)\n",
       "┌────────────┬────────────┬──────────┬────────────┬─────────────┐\n",
       "│ Sample     ┆ AC017083.2 ┆ U62317.1 ┆ AC025423.4 ┆ class_label │\n",
       "│ ---        ┆ ---        ┆ ---      ┆ ---        ┆ ---         │\n",
       "│ str        ┆ f64        ┆ f64      ┆ f64        ┆ i8          │\n",
       "╞════════════╪════════════╪══════════╪════════════╪═════════════╡\n",
       "│ GSM2397368 ┆ 3.481152   ┆ 3.945145 ┆ 1.430005   ┆ 1           │\n",
       "│ GSM2397369 ┆ 3.460948   ┆ 3.592805 ┆ 3.066424   ┆ 1           │\n",
       "│ GSM2397370 ┆ 4.618138   ┆ 3.785423 ┆ 3.919814   ┆ 1           │\n",
       "│ GSM2397371 ┆ 3.522376   ┆ 3.522376 ┆ 3.148595   ┆ 1           │\n",
       "│ GSM2397372 ┆ 5.192835   ┆ 4.364799 ┆ 5.134392   ┆ 1           │\n",
       "│ …          ┆ …          ┆ …        ┆ …          ┆ …           │\n",
       "│ GSM2397387 ┆ 3.325761   ┆ 2.957906 ┆ 4.487884   ┆ 1           │\n",
       "│ GSM2397388 ┆ 4.819667   ┆ 3.535223 ┆ 3.535223   ┆ 1           │\n",
       "│ GSM2397389 ┆ 3.598231   ┆ 5.445981 ┆ 4.142929   ┆ 1           │\n",
       "│ GSM2397390 ┆ 3.704578   ┆ 4.583783 ┆ 3.114389   ┆ 1           │\n",
       "│ GSM2397391 ┆ 6.166331   ┆ 4.67995  ┆ 0.0        ┆ 1           │\n",
       "└────────────┴────────────┴──────────┴────────────┴─────────────┘"
      ],
      "text/html": [
       "<div><style>\n",
       ".dataframe > thead > tr,\n",
       ".dataframe > tbody > tr {\n",
       "  text-align: right;\n",
       "  white-space: pre-wrap;\n",
       "}\n",
       "</style>\n",
       "<small>shape: (24, 5)</small><table border=\"1\" class=\"dataframe\"><thead><tr><th>Sample</th><th>AC017083.2</th><th>U62317.1</th><th>AC025423.4</th><th>class_label</th></tr><tr><td>str</td><td>f64</td><td>f64</td><td>f64</td><td>i8</td></tr></thead><tbody><tr><td>&quot;GSM2397368&quot;</td><td>3.481152</td><td>3.945145</td><td>1.430005</td><td>1</td></tr><tr><td>&quot;GSM2397369&quot;</td><td>3.460948</td><td>3.592805</td><td>3.066424</td><td>1</td></tr><tr><td>&quot;GSM2397370&quot;</td><td>4.618138</td><td>3.785423</td><td>3.919814</td><td>1</td></tr><tr><td>&quot;GSM2397371&quot;</td><td>3.522376</td><td>3.522376</td><td>3.148595</td><td>1</td></tr><tr><td>&quot;GSM2397372&quot;</td><td>5.192835</td><td>4.364799</td><td>5.134392</td><td>1</td></tr><tr><td>&hellip;</td><td>&hellip;</td><td>&hellip;</td><td>&hellip;</td><td>&hellip;</td></tr><tr><td>&quot;GSM2397387&quot;</td><td>3.325761</td><td>2.957906</td><td>4.487884</td><td>1</td></tr><tr><td>&quot;GSM2397388&quot;</td><td>4.819667</td><td>3.535223</td><td>3.535223</td><td>1</td></tr><tr><td>&quot;GSM2397389&quot;</td><td>3.598231</td><td>5.445981</td><td>4.142929</td><td>1</td></tr><tr><td>&quot;GSM2397390&quot;</td><td>3.704578</td><td>4.583783</td><td>3.114389</td><td>1</td></tr><tr><td>&quot;GSM2397391&quot;</td><td>6.166331</td><td>4.67995</td><td>0.0</td><td>1</td></tr></tbody></table></div>"
      ]
     },
     "execution_count": 103,
     "metadata": {},
     "output_type": "execute_result"
    }
   ],
   "execution_count": 103
  },
  {
   "metadata": {
    "ExecuteTime": {
     "end_time": "2024-06-11T11:59:40.398446Z",
     "start_time": "2024-06-11T11:59:40.396033Z"
    }
   },
   "cell_type": "code",
   "source": [
    "x_test = other_dataset.drop(\"Sample\").drop(\"class_label\")\n",
    "x_test"
   ],
   "id": "85b8c5b1ce2f33fb",
   "outputs": [
    {
     "data": {
      "text/plain": [
       "shape: (24, 3)\n",
       "┌────────────┬──────────┬────────────┐\n",
       "│ AC017083.2 ┆ U62317.1 ┆ AC025423.4 │\n",
       "│ ---        ┆ ---      ┆ ---        │\n",
       "│ f64        ┆ f64      ┆ f64        │\n",
       "╞════════════╪══════════╪════════════╡\n",
       "│ 3.481152   ┆ 3.945145 ┆ 1.430005   │\n",
       "│ 3.460948   ┆ 3.592805 ┆ 3.066424   │\n",
       "│ 4.618138   ┆ 3.785423 ┆ 3.919814   │\n",
       "│ 3.522376   ┆ 3.522376 ┆ 3.148595   │\n",
       "│ 5.192835   ┆ 4.364799 ┆ 5.134392   │\n",
       "│ …          ┆ …        ┆ …          │\n",
       "│ 3.325761   ┆ 2.957906 ┆ 4.487884   │\n",
       "│ 4.819667   ┆ 3.535223 ┆ 3.535223   │\n",
       "│ 3.598231   ┆ 5.445981 ┆ 4.142929   │\n",
       "│ 3.704578   ┆ 4.583783 ┆ 3.114389   │\n",
       "│ 6.166331   ┆ 4.67995  ┆ 0.0        │\n",
       "└────────────┴──────────┴────────────┘"
      ],
      "text/html": [
       "<div><style>\n",
       ".dataframe > thead > tr,\n",
       ".dataframe > tbody > tr {\n",
       "  text-align: right;\n",
       "  white-space: pre-wrap;\n",
       "}\n",
       "</style>\n",
       "<small>shape: (24, 3)</small><table border=\"1\" class=\"dataframe\"><thead><tr><th>AC017083.2</th><th>U62317.1</th><th>AC025423.4</th></tr><tr><td>f64</td><td>f64</td><td>f64</td></tr></thead><tbody><tr><td>3.481152</td><td>3.945145</td><td>1.430005</td></tr><tr><td>3.460948</td><td>3.592805</td><td>3.066424</td></tr><tr><td>4.618138</td><td>3.785423</td><td>3.919814</td></tr><tr><td>3.522376</td><td>3.522376</td><td>3.148595</td></tr><tr><td>5.192835</td><td>4.364799</td><td>5.134392</td></tr><tr><td>&hellip;</td><td>&hellip;</td><td>&hellip;</td></tr><tr><td>3.325761</td><td>2.957906</td><td>4.487884</td></tr><tr><td>4.819667</td><td>3.535223</td><td>3.535223</td></tr><tr><td>3.598231</td><td>5.445981</td><td>4.142929</td></tr><tr><td>3.704578</td><td>4.583783</td><td>3.114389</td></tr><tr><td>6.166331</td><td>4.67995</td><td>0.0</td></tr></tbody></table></div>"
      ]
     },
     "execution_count": 104,
     "metadata": {},
     "output_type": "execute_result"
    }
   ],
   "execution_count": 104
  },
  {
   "metadata": {
    "ExecuteTime": {
     "end_time": "2024-06-11T11:59:40.402274Z",
     "start_time": "2024-06-11T11:59:40.400428Z"
    }
   },
   "cell_type": "code",
   "source": [
    "y_test = other_dataset.select(\"class_label\")\n",
    "y_test"
   ],
   "id": "a184ce324c4f4ece",
   "outputs": [
    {
     "data": {
      "text/plain": [
       "shape: (24, 1)\n",
       "┌─────────────┐\n",
       "│ class_label │\n",
       "│ ---         │\n",
       "│ i8          │\n",
       "╞═════════════╡\n",
       "│ 1           │\n",
       "│ 1           │\n",
       "│ 1           │\n",
       "│ 1           │\n",
       "│ 1           │\n",
       "│ …           │\n",
       "│ 1           │\n",
       "│ 1           │\n",
       "│ 1           │\n",
       "│ 1           │\n",
       "│ 1           │\n",
       "└─────────────┘"
      ],
      "text/html": [
       "<div><style>\n",
       ".dataframe > thead > tr,\n",
       ".dataframe > tbody > tr {\n",
       "  text-align: right;\n",
       "  white-space: pre-wrap;\n",
       "}\n",
       "</style>\n",
       "<small>shape: (24, 1)</small><table border=\"1\" class=\"dataframe\"><thead><tr><th>class_label</th></tr><tr><td>i8</td></tr></thead><tbody><tr><td>1</td></tr><tr><td>1</td></tr><tr><td>1</td></tr><tr><td>1</td></tr><tr><td>1</td></tr><tr><td>&hellip;</td></tr><tr><td>1</td></tr><tr><td>1</td></tr><tr><td>1</td></tr><tr><td>1</td></tr><tr><td>1</td></tr></tbody></table></div>"
      ]
     },
     "execution_count": 105,
     "metadata": {},
     "output_type": "execute_result"
    }
   ],
   "execution_count": 105
  },
  {
   "metadata": {},
   "cell_type": "markdown",
   "source": "# Logistic Regression ",
   "id": "85ce19467d91da1d"
  },
  {
   "metadata": {
    "ExecuteTime": {
     "end_time": "2024-06-11T11:59:40.507727Z",
     "start_time": "2024-06-11T11:59:40.402785Z"
    }
   },
   "cell_type": "code",
   "source": [
    "logistic_model, _ = run_ml_model(\n",
    "    classifier=LogisticRegression(solver='liblinear', random_state=0),\n",
    "    x_train=x_train,\n",
    "    y_train=y_train,\n",
    "    x_test=x_test,\n",
    "    y_test=y_test,\n",
    "    param_grid={'C': [0.001, 0.01, 0.1, 1, 10, 100, 1000]}\n",
    ")"
   ],
   "id": "ccf69acbd141517f",
   "outputs": [
    {
     "name": "stdout",
     "output_type": "stream",
     "text": [
      "Default Parameters of Base Model: {'C': 1.0, 'class_weight': None, 'dual': False, 'fit_intercept': True, 'intercept_scaling': 1, 'l1_ratio': None, 'max_iter': 100, 'multi_class': 'auto', 'n_jobs': None, 'penalty': 'l2', 'random_state': 0, 'solver': 'liblinear', 'tol': 0.0001, 'verbose': 0, 'warm_start': False}\n",
      "Parameters for tuning provided: {'C': [0.001, 0.01, 0.1, 1, 10, 100, 1000]}\n",
      "Fitting 4 folds for each of 7 candidates, totalling 28 fits\n",
      "Running with hyper-parameter tuned model\n",
      "Optimised Model Parameters: {'C': 10, 'class_weight': None, 'dual': False, 'fit_intercept': True, 'intercept_scaling': 1, 'l1_ratio': None, 'max_iter': 100, 'multi_class': 'auto', 'n_jobs': None, 'penalty': 'l2', 'random_state': 0, 'solver': 'liblinear', 'tol': 0.0001, 'verbose': 0, 'warm_start': False}\n",
      "Cross Validation Scores (cv=4): 0.9375,1.0,0.967741935483871,0.9354838709677419\n",
      "Cross Validation gives 0.96 accuracy with a standard deviation of 0.03\n",
      "\n",
      "Metrics on the Test Set:\n",
      "\n",
      "        Accuracy: 0.625\n",
      "        Precision: 0.5714285714285714\n",
      "        Recall: 1.0\n",
      "        f1: 0.7272727272727273\n",
      "    \n"
     ]
    },
    {
     "data": {
      "text/plain": [
       "<Figure size 640x480 with 2 Axes>"
      ],
      "image/png": "[encoded data removed]"
     },
     "metadata": {},
     "output_type": "display_data"
    }
   ],
   "execution_count": 106
  },
  {
   "metadata": {
    "ExecuteTime": {
     "end_time": "2024-06-11T11:59:40.535372Z",
     "start_time": "2024-06-11T11:59:40.511117Z"
    }
   },
   "cell_type": "code",
   "source": "logistic_model.intercept_",
   "id": "57661331e80d1fdd",
   "outputs": [
    {
     "data": {
      "text/plain": [
       "array([-5.02382292])"
      ]
     },
     "execution_count": 107,
     "metadata": {},
     "output_type": "execute_result"
    }
   ],
   "execution_count": 107
  },
  {
   "metadata": {
    "ExecuteTime": {
     "end_time": "2024-06-11T11:59:40.538790Z",
     "start_time": "2024-06-11T11:59:40.536116Z"
    }
   },
   "cell_type": "code",
   "source": "logistic_model.coef_",
   "id": "d300317086fe0254",
   "outputs": [
    {
     "data": {
      "text/plain": [
       "array([[0.37582769, 0.87221342, 0.44561521]])"
      ]
     },
     "execution_count": 108,
     "metadata": {},
     "output_type": "execute_result"
    }
   ],
   "execution_count": 108
  },
  {
   "metadata": {
    "ExecuteTime": {
     "end_time": "2024-06-11T11:59:40.542043Z",
     "start_time": "2024-06-11T11:59:40.539410Z"
    }
   },
   "cell_type": "code",
   "source": "logistic_model.predict_proba(x_test)",
   "id": "a0177c7d733061a5",
   "outputs": [
    {
     "data": {
      "text/plain": [
       "array([[0.41029871, 0.58970129],\n",
       "       [0.31495921, 0.68504079],\n",
       "       [0.14676195, 0.85323805],\n",
       "       [0.3153317 , 0.6846683 ],\n",
       "       [0.04640693, 0.95359307],\n",
       "       [0.76134282, 0.23865718],\n",
       "       [0.4688357 , 0.5311643 ],\n",
       "       [0.32705808, 0.67294192],\n",
       "       [0.7469313 , 0.2530687 ],\n",
       "       [0.13144401, 0.86855599],\n",
       "       [0.47884646, 0.52115354],\n",
       "       [0.34838539, 0.65161461],\n",
       "       [0.14711577, 0.85288423],\n",
       "       [0.55637133, 0.44362867],\n",
       "       [0.19711241, 0.80288759],\n",
       "       [0.27443276, 0.72556724],\n",
       "       [0.31414371, 0.68585629],\n",
       "       [0.49991566, 0.50008434],\n",
       "       [0.06900134, 0.93099866],\n",
       "       [0.30876818, 0.69123182],\n",
       "       [0.19056255, 0.80943745],\n",
       "       [0.05094589, 0.94905411],\n",
       "       [0.14750358, 0.85249642],\n",
       "       [0.2017214 , 0.7982786 ]])"
      ]
     },
     "execution_count": 109,
     "metadata": {},
     "output_type": "execute_result"
    }
   ],
   "execution_count": 109
  },
  {
   "metadata": {},
   "cell_type": "markdown",
   "source": "# Decision Tree ",
   "id": "26012cf96dc332c5"
  },
  {
   "metadata": {
    "ExecuteTime": {
     "end_time": "2024-06-11T11:59:40.790059Z",
     "start_time": "2024-06-11T11:59:40.542753Z"
    }
   },
   "cell_type": "code",
   "source": [
    "from sklearn import tree\n",
    "\n",
    "tree_model, _ = run_ml_model(\n",
    "    classifier=tree.DecisionTreeClassifier(),\n",
    "    x_train=x_train,\n",
    "    y_train=y_train,\n",
    "    x_test=x_test,\n",
    "    y_test=y_test,\n",
    "    param_grid={\n",
    "        'max_depth': [10, 20, 30, None],\n",
    "        'min_samples_split': [2, 5, 10],\n",
    "        'min_samples_leaf': [1, 2, 4]\n",
    "    }\n",
    ")"
   ],
   "id": "e35e569eb119efa0",
   "outputs": [
    {
     "name": "stdout",
     "output_type": "stream",
     "text": [
      "Default Parameters of Base Model: {'ccp_alpha': 0.0, 'class_weight': None, 'criterion': 'gini', 'max_depth': None, 'max_features': None, 'max_leaf_nodes': None, 'min_impurity_decrease': 0.0, 'min_samples_leaf': 1, 'min_samples_split': 2, 'min_weight_fraction_leaf': 0.0, 'monotonic_cst': None, 'random_state': None, 'splitter': 'best'}\n",
      "Parameters for tuning provided: {'max_depth': [10, 20, 30, None], 'min_samples_split': [2, 5, 10], 'min_samples_leaf': [1, 2, 4]}\n",
      "Fitting 4 folds for each of 36 candidates, totalling 144 fits\n",
      "Running with hyper-parameter tuned model\n",
      "Optimised Model Parameters: {'ccp_alpha': 0.0, 'class_weight': None, 'criterion': 'gini', 'max_depth': 10, 'max_features': None, 'max_leaf_nodes': None, 'min_impurity_decrease': 0.0, 'min_samples_leaf': 1, 'min_samples_split': 10, 'min_weight_fraction_leaf': 0.0, 'monotonic_cst': None, 'random_state': None, 'splitter': 'best'}\n",
      "Cross Validation Scores (cv=4): 0.9375,1.0,0.9354838709677419,0.9032258064516129\n",
      "Cross Validation gives 0.94 accuracy with a standard deviation of 0.04\n",
      "\n",
      "Metrics on the Test Set:\n",
      "\n",
      "        Accuracy: 0.5\n",
      "        Precision: 0.5\n",
      "        Recall: 1.0\n",
      "        f1: 0.6666666666666666\n",
      "    \n"
     ]
    },
    {
     "data": {
      "text/plain": [
       "<Figure size 640x480 with 2 Axes>"
      ],
      "image/png": "[encoded data removed]"
     },
     "metadata": {},
     "output_type": "display_data"
    }
   ],
   "execution_count": 110
  },
  {
   "metadata": {
    "ExecuteTime": {
     "end_time": "2024-06-11T11:59:40.918987Z",
     "start_time": "2024-06-11T11:59:40.791402Z"
    }
   },
   "cell_type": "code",
   "source": "tree.plot_tree(tree_model)",
   "id": "3834acca6d21ecf4",
   "outputs": [
    {
     "data": {
      "text/plain": [
       "[Text(0.5, 0.875, 'x[2] <= 6.158\\ngini = 0.258\\nsamples = 125\\nvalue = [19, 106]'),\n",
       " Text(0.3, 0.625, 'x[0] <= 7.693\\ngini = 0.308\\nsamples = 21\\nvalue = [17, 4]'),\n",
       " Text(0.2, 0.375, 'x[1] <= 2.041\\ngini = 0.188\\nsamples = 19\\nvalue = [17, 2]'),\n",
       " Text(0.1, 0.125, 'gini = 0.0\\nsamples = 17\\nvalue = [17, 0]'),\n",
       " Text(0.3, 0.125, 'gini = 0.0\\nsamples = 2\\nvalue = [0, 2]'),\n",
       " Text(0.4, 0.375, 'gini = 0.0\\nsamples = 2\\nvalue = [0, 2]'),\n",
       " Text(0.7, 0.625, 'x[1] <= 0.422\\ngini = 0.038\\nsamples = 104\\nvalue = [2, 102]'),\n",
       " Text(0.6, 0.375, 'gini = 0.32\\nsamples = 5\\nvalue = [1, 4]'),\n",
       " Text(0.8, 0.375, 'x[0] <= 6.03\\ngini = 0.02\\nsamples = 99\\nvalue = [1, 98]'),\n",
       " Text(0.7, 0.125, 'gini = 0.219\\nsamples = 8\\nvalue = [1, 7]'),\n",
       " Text(0.9, 0.125, 'gini = 0.0\\nsamples = 91\\nvalue = [0, 91]')]"
      ]
     },
     "execution_count": 111,
     "metadata": {},
     "output_type": "execute_result"
    },
    {
     "data": {
      "text/plain": [
       "<Figure size 640x480 with 1 Axes>"
      ],
      "image/png": "[encoded data removed]"
     },
     "metadata": {},
     "output_type": "display_data"
    }
   ],
   "execution_count": 111
  },
  {
   "metadata": {},
   "cell_type": "markdown",
   "source": "# Gradient boosted Tree",
   "id": "a69e4ada6ef56dc2"
  },
  {
   "metadata": {
    "ExecuteTime": {
     "end_time": "2024-06-11T12:01:27.432852Z",
     "start_time": "2024-06-11T11:59:40.920049Z"
    }
   },
   "cell_type": "code",
   "source": [
    "from sklearn.ensemble import HistGradientBoostingClassifier\n",
    "\n",
    "run_ml_model(\n",
    "    classifier=HistGradientBoostingClassifier(max_iter=100), \n",
    "    x_train=x_train, \n",
    "    y_train=y_train, \n",
    "    x_test=x_test, \n",
    "    y_test=y_test,\n",
    "    param_grid={\n",
    "        \"max_iter\": [100, 1000, 1500],\n",
    "        \"learning_rate\": [0.1, 0.2, 0.3],\n",
    "        \"max_depth\": [25, 50, 75],\n",
    "        \"l2_regularization\": [0.0, 1.5]\n",
    "    }\n",
    ")"
   ],
   "id": "e86a7cc4173c2f2",
   "outputs": [
    {
     "name": "stdout",
     "output_type": "stream",
     "text": [
      "Default Parameters of Base Model: {'categorical_features': 'warn', 'class_weight': None, 'early_stopping': 'auto', 'interaction_cst': None, 'l2_regularization': 0.0, 'learning_rate': 0.1, 'loss': 'log_loss', 'max_bins': 255, 'max_depth': None, 'max_features': 1.0, 'max_iter': 100, 'max_leaf_nodes': 31, 'min_samples_leaf': 20, 'monotonic_cst': None, 'n_iter_no_change': 10, 'random_state': None, 'scoring': 'loss', 'tol': 1e-07, 'validation_fraction': 0.1, 'verbose': 0, 'warm_start': False}\n",
      "Parameters for tuning provided: {'max_iter': [100, 1000, 1500], 'learning_rate': [0.1, 0.2, 0.3], 'max_depth': [25, 50, 75], 'l2_regularization': [0.0, 1.5]}\n",
      "Fitting 4 folds for each of 54 candidates, totalling 216 fits\n",
      "Running with hyper-parameter tuned model\n",
      "Optimised Model Parameters: {'categorical_features': 'warn', 'class_weight': None, 'early_stopping': 'auto', 'interaction_cst': None, 'l2_regularization': 0.0, 'learning_rate': 0.1, 'loss': 'log_loss', 'max_bins': 255, 'max_depth': 25, 'max_features': 1.0, 'max_iter': 100, 'max_leaf_nodes': 31, 'min_samples_leaf': 20, 'monotonic_cst': None, 'n_iter_no_change': 10, 'random_state': None, 'scoring': 'loss', 'tol': 1e-07, 'validation_fraction': 0.1, 'verbose': 0, 'warm_start': False}\n",
      "Cross Validation Scores (cv=4): 0.9375,0.967741935483871,0.9354838709677419,0.9354838709677419\n",
      "Cross Validation gives 0.94 accuracy with a standard deviation of 0.01\n",
      "\n",
      "Metrics on the Test Set:\n",
      "\n",
      "        Accuracy: 0.5\n",
      "        Precision: 0.5\n",
      "        Recall: 1.0\n",
      "        f1: 0.6666666666666666\n",
      "    \n"
     ]
    },
    {
     "data": {
      "text/plain": [
       "(HistGradientBoostingClassifier(max_depth=25),\n",
       " array([1, 1, 1, 1, 1, 1, 1, 1, 1, 1, 1, 1, 1, 1, 1, 1, 1, 1, 1, 1, 1, 1,\n",
       "        1, 1], dtype=int8))"
      ]
     },
     "execution_count": 112,
     "metadata": {},
     "output_type": "execute_result"
    },
    {
     "data": {
      "text/plain": [
       "<Figure size 640x480 with 2 Axes>"
      ],
      "image/png": "[encoded data removed]"
     },
     "metadata": {},
     "output_type": "display_data"
    }
   ],
   "execution_count": 112
  },
  {
   "metadata": {},
   "cell_type": "markdown",
   "source": "# Random Forest ",
   "id": "f6bfef242f0f7f4f"
  },
  {
   "metadata": {
    "ExecuteTime": {
     "end_time": "2024-06-11T12:03:04.829025Z",
     "start_time": "2024-06-11T12:01:27.433504Z"
    }
   },
   "cell_type": "code",
   "source": [
    "from sklearn.ensemble import RandomForestClassifier\n",
    "\n",
    "# worst than using the defaults \n",
    "run_ml_model(\n",
    "    classifier=RandomForestClassifier(n_estimators=10),\n",
    "    x_train=x_train,\n",
    "    y_train=y_train,\n",
    "    x_test=x_test,\n",
    "    y_test=y_test,\n",
    "    param_grid={\n",
    "        'bootstrap': [True, False],\n",
    "        'max_depth': [10, 50, 100, None],\n",
    "        'min_samples_leaf': [1, 2, 4],\n",
    "        'min_samples_split': [2, 5, 10],\n",
    "        'n_estimators': [10, 100, 1000]\n",
    "    }\n",
    ")"
   ],
   "id": "d58edae027955d6f",
   "outputs": [
    {
     "name": "stdout",
     "output_type": "stream",
     "text": [
      "Default Parameters of Base Model: {'bootstrap': True, 'ccp_alpha': 0.0, 'class_weight': None, 'criterion': 'gini', 'max_depth': None, 'max_features': 'sqrt', 'max_leaf_nodes': None, 'max_samples': None, 'min_impurity_decrease': 0.0, 'min_samples_leaf': 1, 'min_samples_split': 2, 'min_weight_fraction_leaf': 0.0, 'monotonic_cst': None, 'n_estimators': 10, 'n_jobs': None, 'oob_score': False, 'random_state': None, 'verbose': 0, 'warm_start': False}\n",
      "Parameters for tuning provided: {'bootstrap': [True, False], 'max_depth': [10, 50, 100, None], 'min_samples_leaf': [1, 2, 4], 'min_samples_split': [2, 5, 10], 'n_estimators': [10, 100, 1000]}\n",
      "Fitting 4 folds for each of 216 candidates, totalling 864 fits\n",
      "Running with hyper-parameter tuned model\n",
      "Optimised Model Parameters: {'bootstrap': False, 'ccp_alpha': 0.0, 'class_weight': None, 'criterion': 'gini', 'max_depth': 10, 'max_features': 'sqrt', 'max_leaf_nodes': None, 'max_samples': None, 'min_impurity_decrease': 0.0, 'min_samples_leaf': 2, 'min_samples_split': 2, 'min_weight_fraction_leaf': 0.0, 'monotonic_cst': None, 'n_estimators': 10, 'n_jobs': None, 'oob_score': False, 'random_state': None, 'verbose': 0, 'warm_start': False}\n",
      "Cross Validation Scores (cv=4): 0.90625,1.0,0.9354838709677419,0.9032258064516129\n",
      "Cross Validation gives 0.94 accuracy with a standard deviation of 0.04\n",
      "\n",
      "Metrics on the Test Set:\n",
      "\n",
      "        Accuracy: 0.5833333333333334\n",
      "        Precision: 0.5714285714285714\n",
      "        Recall: 0.6666666666666666\n",
      "        f1: 0.6153846153846154\n",
      "    \n"
     ]
    },
    {
     "data": {
      "text/plain": [
       "(RandomForestClassifier(bootstrap=False, max_depth=10, min_samples_leaf=2,\n",
       "                        n_estimators=10),\n",
       " array([0, 0, 1, 0, 1, 0, 1, 1, 0, 1, 0, 0, 1, 1, 1, 0, 0, 1, 1, 0, 1, 1,\n",
       "        1, 1], dtype=int8))"
      ]
     },
     "execution_count": 113,
     "metadata": {},
     "output_type": "execute_result"
    },
    {
     "data": {
      "text/plain": [
       "<Figure size 640x480 with 2 Axes>"
      ],
      "image/png": "[encoded data removed]"
     },
     "metadata": {},
     "output_type": "display_data"
    }
   ],
   "execution_count": 113
  },
  {
   "metadata": {
    "ExecuteTime": {
     "end_time": "2024-06-11T12:03:04.922858Z",
     "start_time": "2024-06-11T12:03:04.829798Z"
    }
   },
   "cell_type": "code",
   "source": [
    "run_ml_model(\n",
    "    classifier=RandomForestClassifier(n_estimators=10),\n",
    "    x_train=x_train,\n",
    "    y_train=y_train,\n",
    "    x_test=x_test,\n",
    "    y_test=y_test\n",
    ")"
   ],
   "id": "24720b493d56d87a",
   "outputs": [
    {
     "name": "stdout",
     "output_type": "stream",
     "text": [
      "Default Parameters of Base Model: {'bootstrap': True, 'ccp_alpha': 0.0, 'class_weight': None, 'criterion': 'gini', 'max_depth': None, 'max_features': 'sqrt', 'max_leaf_nodes': None, 'max_samples': None, 'min_impurity_decrease': 0.0, 'min_samples_leaf': 1, 'min_samples_split': 2, 'min_weight_fraction_leaf': 0.0, 'monotonic_cst': None, 'n_estimators': 10, 'n_jobs': None, 'oob_score': False, 'random_state': None, 'verbose': 0, 'warm_start': False}\n",
      "Running with base model\n",
      "Cross Validation Scores (cv=4): 0.90625,1.0,0.967741935483871,0.9032258064516129\n",
      "Cross Validation gives 0.94 accuracy with a standard deviation of 0.04\n",
      "\n",
      "Metrics on the Test Set:\n",
      "\n",
      "        Accuracy: 0.5416666666666666\n",
      "        Precision: 0.5217391304347826\n",
      "        Recall: 1.0\n",
      "        f1: 0.6857142857142857\n",
      "    \n"
     ]
    },
    {
     "data": {
      "text/plain": [
       "(RandomForestClassifier(n_estimators=10),\n",
       " array([1, 1, 1, 1, 1, 1, 1, 1, 0, 1, 1, 1, 1, 1, 1, 1, 1, 1, 1, 1, 1, 1,\n",
       "        1, 1], dtype=int8))"
      ]
     },
     "execution_count": 114,
     "metadata": {},
     "output_type": "execute_result"
    },
    {
     "data": {
      "text/plain": [
       "<Figure size 640x480 with 2 Axes>"
      ],
      "image/png": "[encoded data removed]"
     },
     "metadata": {},
     "output_type": "display_data"
    }
   ],
   "execution_count": 114
  },
  {
   "metadata": {},
   "cell_type": "markdown",
   "source": "# SVMs",
   "id": "49bdfd437e535701"
  },
  {
   "metadata": {
    "ExecuteTime": {
     "end_time": "2024-06-11T12:03:05.089875Z",
     "start_time": "2024-06-11T12:03:04.923581Z"
    }
   },
   "cell_type": "code",
   "source": [
    "from sklearn import svm\n",
    "\n",
    "run_ml_model(\n",
    "    classifier=svm.SVC(),\n",
    "    x_train=x_train,\n",
    "    y_train=y_train,\n",
    "    x_test=x_test,\n",
    "    y_test=y_test,\n",
    "    param_grid={\n",
    "        'C': [0.1, 1, 10, 100, 1000],\n",
    "        'gamma': [1, 0.1, 0.01, 0.001, 0.0001]\n",
    "    }\n",
    ")"
   ],
   "id": "ca42351b213ca109",
   "outputs": [
    {
     "name": "stdout",
     "output_type": "stream",
     "text": [
      "Default Parameters of Base Model: {'C': 1.0, 'break_ties': False, 'cache_size': 200, 'class_weight': None, 'coef0': 0.0, 'decision_function_shape': 'ovr', 'degree': 3, 'gamma': 'scale', 'kernel': 'rbf', 'max_iter': -1, 'probability': False, 'random_state': None, 'shrinking': True, 'tol': 0.001, 'verbose': False}\n",
      "Parameters for tuning provided: {'C': [0.1, 1, 10, 100, 1000], 'gamma': [1, 0.1, 0.01, 0.001, 0.0001]}\n",
      "Fitting 4 folds for each of 25 candidates, totalling 100 fits\n",
      "Running with hyper-parameter tuned model\n",
      "Optimised Model Parameters: {'C': 10, 'break_ties': False, 'cache_size': 200, 'class_weight': None, 'coef0': 0.0, 'decision_function_shape': 'ovr', 'degree': 3, 'gamma': 0.001, 'kernel': 'rbf', 'max_iter': -1, 'probability': False, 'random_state': None, 'shrinking': True, 'tol': 0.001, 'verbose': False}\n",
      "Cross Validation Scores (cv=4): 0.90625,1.0,0.967741935483871,0.9354838709677419\n",
      "Cross Validation gives 0.95 accuracy with a standard deviation of 0.04\n",
      "\n",
      "Metrics on the Test Set:\n",
      "\n",
      "        Accuracy: 0.7083333333333334\n",
      "        Precision: 0.7777777777777778\n",
      "        Recall: 0.5833333333333334\n",
      "        f1: 0.6666666666666666\n",
      "    \n"
     ]
    },
    {
     "data": {
      "text/plain": [
       "(SVC(C=10, gamma=0.001),\n",
       " array([0, 0, 1, 0, 1, 0, 0, 0, 0, 1, 0, 0, 1, 0, 0, 0, 0, 0, 1, 1, 1, 1,\n",
       "        1, 0], dtype=int8))"
      ]
     },
     "execution_count": 115,
     "metadata": {},
     "output_type": "execute_result"
    },
    {
     "data": {
      "text/plain": [
       "<Figure size 640x480 with 2 Axes>"
      ],
      "image/png": "[encoded data removed]"
     },
     "metadata": {},
     "output_type": "display_data"
    }
   ],
   "execution_count": 115
  }
 ],
 "metadata": {
  "kernelspec": {
   "display_name": "Python 3",
   "language": "python",
   "name": "python3"
  },
  "language_info": {
   "codemirror_mode": {
    "name": "ipython",
    "version": 2
   },
   "file_extension": ".py",
   "mimetype": "text/x-python",
   "name": "python",
   "nbconvert_exporter": "python",
   "pygments_lexer": "ipython2",
   "version": "2.7.6"
  }
 },
 "nbformat": 4,
 "nbformat_minor": 5
}
