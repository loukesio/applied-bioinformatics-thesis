{
 "cells": [
  {
   "cell_type": "markdown",
   "source": [
    "# Initialization"
   ],
   "metadata": {
    "collapsed": false
   },
   "id": "1ab8843571f39edd"
  },
  {
   "cell_type": "code",
   "execution_count": 1,
   "outputs": [],
   "source": [
    "import polars as pl\n",
    "\n",
    "from adex.helpers import load_data_per_condition, gene_intersection\n",
    "from adex.models import Condition, ConditionSequencingTissueDataLoader, SequencingTechnique, TissueEnum\n",
    "from adex.helpers import high_frequency_genes_dataframe, common_genes_dataframe, get_pre_processed_dataset\n",
    "from adex.models import ConditionDataLoader\n",
    "\n",
    "files_path = \"../data/adex-database/samples\"\n",
    "metadata_path = \"../data/adex-database/metadata.csv\"\n",
    "datasets_info_path = \"../data/adex-database/datasets_info.csv\"\n",
    "\n",
    "ra_data  = load_data_per_condition(Condition.RA, files_path)\n",
    "t1d_data = load_data_per_condition(Condition.T1D, files_path)\n",
    "ssc_data = load_data_per_condition(Condition.SSc, files_path)\n",
    "sle_data = load_data_per_condition(Condition.SLE, files_path)\n",
    "sjs_data = load_data_per_condition(Condition.SjS, files_path)"
   ],
   "metadata": {
    "collapsed": true,
    "ExecuteTime": {
     "end_time": "2024-03-03T09:21:11.548543Z",
     "start_time": "2024-03-03T09:21:10.665865Z"
    }
   },
   "id": "initial_id"
  },
  {
   "cell_type": "markdown",
   "source": [
    "# Explore Metadata"
   ],
   "metadata": {
    "collapsed": false
   },
   "id": "8f284e4080d4d719"
  },
  {
   "cell_type": "code",
   "execution_count": 2,
   "outputs": [
    {
     "data": {
      "text/plain": "(3980, 10)"
     },
     "execution_count": 2,
     "metadata": {},
     "output_type": "execute_result"
    }
   ],
   "source": [
    "metadata_df = pl.read_csv(\"../data/adex-database/metadata.csv\")\n",
    "metadata_df.shape"
   ],
   "metadata": {
    "collapsed": false,
    "ExecuteTime": {
     "end_time": "2024-03-03T09:21:13.393390Z",
     "start_time": "2024-03-03T09:21:13.387075Z"
    }
   },
   "id": "69d86560bc071cae"
  },
  {
   "cell_type": "code",
   "execution_count": 3,
   "outputs": [
    {
     "data": {
      "text/plain": "shape: (3_980, 10)\n┌────────────┬──────────┬──────────────┬────────┬───┬───────────┬────────┬──────┬───────────┐\n│ Sample     ┆ GSE      ┆ Experimental ┆ GPL    ┆ … ┆ Cell Type ┆ Gender ┆ Age  ┆ Ethnicity │\n│ ---        ┆ ---      ┆ Strategy     ┆ ---    ┆   ┆ ---       ┆ ---    ┆ ---  ┆ ---       │\n│ str        ┆ str      ┆ ---          ┆ str    ┆   ┆ str       ┆ str    ┆ str  ┆ str       │\n│            ┆          ┆ str          ┆        ┆   ┆           ┆        ┆      ┆           │\n╞════════════╪══════════╪══════════════╪════════╪═══╪═══════════╪════════╪══════╪═══════════╡\n│ GSM260887  ┆ GSE10325 ┆ Expression   ┆ GPL96  ┆ … ┆ B cells   ┆ null   ┆ null ┆ null      │\n│ GSM260890  ┆ GSE10325 ┆ Expression   ┆ GPL96  ┆ … ┆ B cells   ┆ null   ┆ null ┆ null      │\n│ GSM260892  ┆ GSE10325 ┆ Expression   ┆ GPL96  ┆ … ┆ B cells   ┆ null   ┆ null ┆ null      │\n│ GSM260895  ┆ GSE10325 ┆ Expression   ┆ GPL96  ┆ … ┆ B cells   ┆ null   ┆ null ┆ null      │\n│ GSM260898  ┆ GSE10325 ┆ Expression   ┆ GPL96  ┆ … ┆ B cells   ┆ null   ┆ null ┆ null      │\n│ …          ┆ …        ┆ …            ┆ …      ┆ … ┆ …         ┆ …      ┆ …    ┆ …         │\n│ GSM2495622 ┆ GSE95065 ┆ Expression   ┆ GPL570 ┆ … ┆ null      ┆ null   ┆ null ┆ null      │\n│ GSM2495623 ┆ GSE95065 ┆ Expression   ┆ GPL570 ┆ … ┆ null      ┆ null   ┆ null ┆ null      │\n│ GSM2495624 ┆ GSE95065 ┆ Expression   ┆ GPL570 ┆ … ┆ null      ┆ null   ┆ null ┆ null      │\n│ GSM2495625 ┆ GSE95065 ┆ Expression   ┆ GPL570 ┆ … ┆ null      ┆ null   ┆ null ┆ null      │\n│ GSM2495626 ┆ GSE95065 ┆ Expression   ┆ GPL570 ┆ … ┆ null      ┆ null   ┆ null ┆ null      │\n└────────────┴──────────┴──────────────┴────────┴───┴───────────┴────────┴──────┴───────────┘",
      "text/html": "<div><style>\n.dataframe > thead > tr,\n.dataframe > tbody > tr {\n  text-align: right;\n  white-space: pre-wrap;\n}\n</style>\n<small>shape: (3_980, 10)</small><table border=\"1\" class=\"dataframe\"><thead><tr><th>Sample</th><th>GSE</th><th>Experimental Strategy</th><th>GPL</th><th>Condition</th><th>Tissue</th><th>Cell Type</th><th>Gender</th><th>Age</th><th>Ethnicity</th></tr><tr><td>str</td><td>str</td><td>str</td><td>str</td><td>str</td><td>str</td><td>str</td><td>str</td><td>str</td><td>str</td></tr></thead><tbody><tr><td>&quot;GSM260887&quot;</td><td>&quot;GSE10325&quot;</td><td>&quot;Expression&quot;</td><td>&quot;GPL96&quot;</td><td>&quot;Healthy&quot;</td><td>&quot;Peripheral blo…</td><td>&quot;B cells&quot;</td><td>null</td><td>null</td><td>null</td></tr><tr><td>&quot;GSM260890&quot;</td><td>&quot;GSE10325&quot;</td><td>&quot;Expression&quot;</td><td>&quot;GPL96&quot;</td><td>&quot;Healthy&quot;</td><td>&quot;Peripheral blo…</td><td>&quot;B cells&quot;</td><td>null</td><td>null</td><td>null</td></tr><tr><td>&quot;GSM260892&quot;</td><td>&quot;GSE10325&quot;</td><td>&quot;Expression&quot;</td><td>&quot;GPL96&quot;</td><td>&quot;Healthy&quot;</td><td>&quot;Peripheral blo…</td><td>&quot;B cells&quot;</td><td>null</td><td>null</td><td>null</td></tr><tr><td>&quot;GSM260895&quot;</td><td>&quot;GSE10325&quot;</td><td>&quot;Expression&quot;</td><td>&quot;GPL96&quot;</td><td>&quot;Healthy&quot;</td><td>&quot;Peripheral blo…</td><td>&quot;B cells&quot;</td><td>null</td><td>null</td><td>null</td></tr><tr><td>&quot;GSM260898&quot;</td><td>&quot;GSE10325&quot;</td><td>&quot;Expression&quot;</td><td>&quot;GPL96&quot;</td><td>&quot;Healthy&quot;</td><td>&quot;Peripheral blo…</td><td>&quot;B cells&quot;</td><td>null</td><td>null</td><td>null</td></tr><tr><td>&quot;GSM260901&quot;</td><td>&quot;GSE10325&quot;</td><td>&quot;Expression&quot;</td><td>&quot;GPL96&quot;</td><td>&quot;Healthy&quot;</td><td>&quot;Peripheral blo…</td><td>&quot;B cells&quot;</td><td>null</td><td>null</td><td>null</td></tr><tr><td>&quot;GSM260904&quot;</td><td>&quot;GSE10325&quot;</td><td>&quot;Expression&quot;</td><td>&quot;GPL96&quot;</td><td>&quot;Healthy&quot;</td><td>&quot;Peripheral blo…</td><td>&quot;B cells&quot;</td><td>null</td><td>null</td><td>null</td></tr><tr><td>&quot;GSM260907&quot;</td><td>&quot;GSE10325&quot;</td><td>&quot;Expression&quot;</td><td>&quot;GPL96&quot;</td><td>&quot;Healthy&quot;</td><td>&quot;Peripheral blo…</td><td>&quot;B cells&quot;</td><td>null</td><td>null</td><td>null</td></tr><tr><td>&quot;GSM260910&quot;</td><td>&quot;GSE10325&quot;</td><td>&quot;Expression&quot;</td><td>&quot;GPL96&quot;</td><td>&quot;Healthy&quot;</td><td>&quot;Peripheral blo…</td><td>&quot;B cells&quot;</td><td>null</td><td>null</td><td>null</td></tr><tr><td>&quot;GSM260915&quot;</td><td>&quot;GSE10325&quot;</td><td>&quot;Expression&quot;</td><td>&quot;GPL96&quot;</td><td>&quot;SLE&quot;</td><td>&quot;Peripheral blo…</td><td>&quot;B cells&quot;</td><td>null</td><td>null</td><td>null</td></tr><tr><td>&quot;GSM260917&quot;</td><td>&quot;GSE10325&quot;</td><td>&quot;Expression&quot;</td><td>&quot;GPL96&quot;</td><td>&quot;SLE&quot;</td><td>&quot;Peripheral blo…</td><td>&quot;B cells&quot;</td><td>null</td><td>null</td><td>null</td></tr><tr><td>&quot;GSM260920&quot;</td><td>&quot;GSE10325&quot;</td><td>&quot;Expression&quot;</td><td>&quot;GPL96&quot;</td><td>&quot;SLE&quot;</td><td>&quot;Peripheral blo…</td><td>&quot;B cells&quot;</td><td>null</td><td>null</td><td>null</td></tr><tr><td>&hellip;</td><td>&hellip;</td><td>&hellip;</td><td>&hellip;</td><td>&hellip;</td><td>&hellip;</td><td>&hellip;</td><td>&hellip;</td><td>&hellip;</td><td>&hellip;</td></tr><tr><td>&quot;GSM2495615&quot;</td><td>&quot;GSE95065&quot;</td><td>&quot;Expression&quot;</td><td>&quot;GPL570&quot;</td><td>&quot;SSc&quot;</td><td>&quot;Skin&quot;</td><td>null</td><td>null</td><td>null</td><td>null</td></tr><tr><td>&quot;GSM2495616&quot;</td><td>&quot;GSE95065&quot;</td><td>&quot;Expression&quot;</td><td>&quot;GPL570&quot;</td><td>&quot;Healthy&quot;</td><td>&quot;Skin&quot;</td><td>null</td><td>null</td><td>null</td><td>null</td></tr><tr><td>&quot;GSM2495617&quot;</td><td>&quot;GSE95065&quot;</td><td>&quot;Expression&quot;</td><td>&quot;GPL570&quot;</td><td>&quot;SSc&quot;</td><td>&quot;Skin&quot;</td><td>null</td><td>null</td><td>null</td><td>null</td></tr><tr><td>&quot;GSM2495618&quot;</td><td>&quot;GSE95065&quot;</td><td>&quot;Expression&quot;</td><td>&quot;GPL570&quot;</td><td>&quot;Healthy&quot;</td><td>&quot;Skin&quot;</td><td>null</td><td>null</td><td>null</td><td>null</td></tr><tr><td>&quot;GSM2495619&quot;</td><td>&quot;GSE95065&quot;</td><td>&quot;Expression&quot;</td><td>&quot;GPL570&quot;</td><td>&quot;SSc&quot;</td><td>&quot;Skin&quot;</td><td>null</td><td>null</td><td>null</td><td>null</td></tr><tr><td>&quot;GSM2495620&quot;</td><td>&quot;GSE95065&quot;</td><td>&quot;Expression&quot;</td><td>&quot;GPL570&quot;</td><td>&quot;SSc&quot;</td><td>&quot;Skin&quot;</td><td>null</td><td>null</td><td>null</td><td>null</td></tr><tr><td>&quot;GSM2495621&quot;</td><td>&quot;GSE95065&quot;</td><td>&quot;Expression&quot;</td><td>&quot;GPL570&quot;</td><td>&quot;SSc&quot;</td><td>&quot;Skin&quot;</td><td>null</td><td>null</td><td>null</td><td>null</td></tr><tr><td>&quot;GSM2495622&quot;</td><td>&quot;GSE95065&quot;</td><td>&quot;Expression&quot;</td><td>&quot;GPL570&quot;</td><td>&quot;SSc&quot;</td><td>&quot;Skin&quot;</td><td>null</td><td>null</td><td>null</td><td>null</td></tr><tr><td>&quot;GSM2495623&quot;</td><td>&quot;GSE95065&quot;</td><td>&quot;Expression&quot;</td><td>&quot;GPL570&quot;</td><td>&quot;Healthy&quot;</td><td>&quot;Skin&quot;</td><td>null</td><td>null</td><td>null</td><td>null</td></tr><tr><td>&quot;GSM2495624&quot;</td><td>&quot;GSE95065&quot;</td><td>&quot;Expression&quot;</td><td>&quot;GPL570&quot;</td><td>&quot;Healthy&quot;</td><td>&quot;Skin&quot;</td><td>null</td><td>null</td><td>null</td><td>null</td></tr><tr><td>&quot;GSM2495625&quot;</td><td>&quot;GSE95065&quot;</td><td>&quot;Expression&quot;</td><td>&quot;GPL570&quot;</td><td>&quot;Healthy&quot;</td><td>&quot;Skin&quot;</td><td>null</td><td>null</td><td>null</td><td>null</td></tr><tr><td>&quot;GSM2495626&quot;</td><td>&quot;GSE95065&quot;</td><td>&quot;Expression&quot;</td><td>&quot;GPL570&quot;</td><td>&quot;Healthy&quot;</td><td>&quot;Skin&quot;</td><td>null</td><td>null</td><td>null</td><td>null</td></tr></tbody></table></div>"
     },
     "execution_count": 3,
     "metadata": {},
     "output_type": "execute_result"
    }
   ],
   "source": [
    "metadata_df"
   ],
   "metadata": {
    "collapsed": false,
    "ExecuteTime": {
     "end_time": "2024-02-25T20:48:08.181718Z",
     "start_time": "2024-02-25T20:48:08.177389Z"
    }
   },
   "id": "264392c7ea588a60"
  },
  {
   "cell_type": "code",
   "execution_count": 4,
   "outputs": [
    {
     "name": "stdout",
     "output_type": "stream",
     "text": [
      "\n",
      "Total Samples = 3980\n",
      "Unique Samples = 3854\n",
      "Conditions = 6 [RA,SjS,T1D,SLE,SSc,Healthy]\n",
      "GPL = 13 [GPL97,GPL14951_GPL13534,GPL13158,GPL11154,GPL96,GPL20301,GPL6884,GPL570,GPL15456,GPL10558_GPL13534,GPL10558,GPL13667,GPL16791]\n",
      "GSE = 41 [GSE89408,GSE56649,GSE51092,GSE110174,GSE55098,GSE124073,GSE55235,GSE7451,GSE50772,GSE13887,GSE63903,GSE77298,GSE65010,GSE12021,GSE11907,GSE40611,GSE38351,GSE60424,GSE10325,GSE82221,GSE72509,GSE80183,GSE24706,GSE65391,GSE110914,GSE23117,GSE55457,GSE90081,GSE110169,GSE45291,GSE117931,GSE112341,GSE108497,GSE30153,GSE124939,GSE104174,GSE57383,GSE61635,GSE93683,GSE95065,GSE84844]\n",
      "Tissues = 7 [Parotid gland,Peripheral blood,Salivary gland,Skin,Saliva,Whole blood,Synovial membrane]\n",
      "Males = 269, Females = 1547, Unknown Gender = 0\n",
      "Experimental Strategy = ['Expression', 'Expression + Methylation']\n"
     ]
    }
   ],
   "source": [
    "total_samples = metadata_df.select(\"Sample\").shape[0]\n",
    "unique_samples = metadata_df.select(\"Sample\").unique().shape[0]\n",
    "\n",
    "conditions_df = metadata_df.select(\"Condition\").unique()\n",
    "conditions_count = conditions_df.shape[0]\n",
    "conditions = conditions_df.to_series().to_list()\n",
    "\n",
    "tissues_df = metadata_df.select(\"Tissue\").unique()\n",
    "tissues_count = tissues_df.shape[0]\n",
    "tissues = tissues_df.to_series().to_list()\n",
    "\n",
    "gpl_df = metadata_df.select(\"GPL\").unique()\n",
    "gpl_count = gpl_df.shape[0]\n",
    "gpls = gpl_df.to_series().to_list()\n",
    "\n",
    "gse_df = metadata_df.select(\"GSE\").unique()\n",
    "gse_count = gse_df.shape[0]\n",
    "gses = gse_df.to_series().to_list()\n",
    "\n",
    "males = metadata_df.select(\"Gender\").filter(pl.col(\"Gender\") == \"Male\").shape[0]\n",
    "females = metadata_df.select(\"Gender\").filter(pl.col(\"Gender\") == \"Female\").shape[0]\n",
    "gender_unknown = metadata_df.select(\"Gender\").filter((pl.col(\"Gender\") != \"Female\") & (pl.col(\"Gender\") != \"Male\")).shape[0]\n",
    "\n",
    "strategy_df = metadata_df.select(\"Experimental Strategy\").unique()\n",
    "\n",
    "print(f\"\"\"\n",
    "Total Samples = {total_samples}\n",
    "Unique Samples = {unique_samples}\n",
    "Conditions = {conditions_count} [{\",\".join(conditions)}]\n",
    "GPL = {gpl_count} [{\",\".join(gpls)}]\n",
    "GSE = {gse_count} [{\",\".join(gses)}]\n",
    "Tissues = {tissues_count} [{\",\".join(tissues)}]\n",
    "Males = {males}, Females = {females}, Unknown Gender = {gender_unknown}\n",
    "Experimental Strategy = {strategy_df.to_series().to_list()}\n",
    "\"\"\")"
   ],
   "metadata": {
    "collapsed": false,
    "ExecuteTime": {
     "end_time": "2024-02-25T20:48:11.235466Z",
     "start_time": "2024-02-25T20:48:11.226657Z"
    }
   },
   "id": "a263aa6014efa310"
  },
  {
   "cell_type": "code",
   "execution_count": 5,
   "outputs": [
    {
     "data": {
      "text/plain": "shape: (6, 2)\n┌───────────┬─────────────────────┐\n│ Condition ┆ SamplesPerCondition │\n│ ---       ┆ ---                 │\n│ str       ┆ u32                 │\n╞═══════════╪═════════════════════╡\n│ SLE       ┆ 1502                │\n│ Healthy   ┆ 957                 │\n│ RA        ┆ 862                 │\n│ SjS       ┆ 281                 │\n│ SSc       ┆ 157                 │\n│ T1D       ┆ 95                  │\n└───────────┴─────────────────────┘",
      "text/html": "<div><style>\n.dataframe > thead > tr,\n.dataframe > tbody > tr {\n  text-align: right;\n  white-space: pre-wrap;\n}\n</style>\n<small>shape: (6, 2)</small><table border=\"1\" class=\"dataframe\"><thead><tr><th>Condition</th><th>SamplesPerCondition</th></tr><tr><td>str</td><td>u32</td></tr></thead><tbody><tr><td>&quot;SLE&quot;</td><td>1502</td></tr><tr><td>&quot;Healthy&quot;</td><td>957</td></tr><tr><td>&quot;RA&quot;</td><td>862</td></tr><tr><td>&quot;SjS&quot;</td><td>281</td></tr><tr><td>&quot;SSc&quot;</td><td>157</td></tr><tr><td>&quot;T1D&quot;</td><td>95</td></tr></tbody></table></div>"
     },
     "execution_count": 5,
     "metadata": {},
     "output_type": "execute_result"
    }
   ],
   "source": [
    "metadata_df.group_by(\"Condition\").agg(pl.struct([\"Sample\"]).n_unique().alias('SamplesPerCondition')).sort(\"SamplesPerCondition\", descending=True)"
   ],
   "metadata": {
    "collapsed": false,
    "ExecuteTime": {
     "end_time": "2024-02-25T20:49:13.032604Z",
     "start_time": "2024-02-25T20:49:13.028102Z"
    }
   },
   "id": "7dd1d1184588e16f"
  },
  {
   "cell_type": "code",
   "execution_count": 6,
   "outputs": [
    {
     "data": {
      "text/plain": "shape: (10, 2)\n┌───────┬───────────────┐\n│ Age   ┆ SamplesPerAge │\n│ ---   ┆ ---           │\n│ str   ┆ u32           │\n╞═══════╪═══════════════╡\n│ null  ┆ 2400          │\n│ 1-10  ┆ 113           │\n│ 11-20 ┆ 342           │\n│ 21-30 ┆ 383           │\n│ 31-40 ┆ 331           │\n│ 41-50 ┆ 105           │\n│ 51-60 ┆ 66            │\n│ 61-70 ┆ 69            │\n│ 71-80 ┆ 39            │\n│ >80   ┆ 6             │\n└───────┴───────────────┘",
      "text/html": "<div><style>\n.dataframe > thead > tr,\n.dataframe > tbody > tr {\n  text-align: right;\n  white-space: pre-wrap;\n}\n</style>\n<small>shape: (10, 2)</small><table border=\"1\" class=\"dataframe\"><thead><tr><th>Age</th><th>SamplesPerAge</th></tr><tr><td>str</td><td>u32</td></tr></thead><tbody><tr><td>null</td><td>2400</td></tr><tr><td>&quot;1-10&quot;</td><td>113</td></tr><tr><td>&quot;11-20&quot;</td><td>342</td></tr><tr><td>&quot;21-30&quot;</td><td>383</td></tr><tr><td>&quot;31-40&quot;</td><td>331</td></tr><tr><td>&quot;41-50&quot;</td><td>105</td></tr><tr><td>&quot;51-60&quot;</td><td>66</td></tr><tr><td>&quot;61-70&quot;</td><td>69</td></tr><tr><td>&quot;71-80&quot;</td><td>39</td></tr><tr><td>&quot;&gt;80&quot;</td><td>6</td></tr></tbody></table></div>"
     },
     "execution_count": 6,
     "metadata": {},
     "output_type": "execute_result"
    }
   ],
   "source": [
    "metadata_df.group_by(\"Age\").agg(pl.struct([\"Sample\"]).n_unique().alias('SamplesPerAge')).sort(\"Age\")\n"
   ],
   "metadata": {
    "collapsed": false,
    "ExecuteTime": {
     "end_time": "2024-02-25T20:49:19.912214Z",
     "start_time": "2024-02-25T20:49:19.904828Z"
    }
   },
   "id": "6ec7fdd91846766a"
  },
  {
   "cell_type": "markdown",
   "source": [
    "# Check Metadata for duplicates\n",
    "\n",
    "Duplicates will create issues later in the process if there is a join with this file. "
   ],
   "metadata": {
    "collapsed": false
   },
   "id": "a47a2f3b313acfba"
  },
  {
   "cell_type": "code",
   "execution_count": 7,
   "outputs": [
    {
     "data": {
      "text/plain": "shape: (5, 2)\n┌────────────┬─────┐\n│ Sample     ┆ len │\n│ ---        ┆ --- │\n│ str        ┆ u32 │\n╞════════════╪═════╡\n│ GSM940478  ┆ 2   │\n│ GSM2981155 ┆ 2   │\n│ GSM2981203 ┆ 2   │\n│ GSM940473  ┆ 2   │\n│ GSM2981058 ┆ 2   │\n└────────────┴─────┘",
      "text/html": "<div><style>\n.dataframe > thead > tr,\n.dataframe > tbody > tr {\n  text-align: right;\n  white-space: pre-wrap;\n}\n</style>\n<small>shape: (5, 2)</small><table border=\"1\" class=\"dataframe\"><thead><tr><th>Sample</th><th>len</th></tr><tr><td>str</td><td>u32</td></tr></thead><tbody><tr><td>&quot;GSM940478&quot;</td><td>2</td></tr><tr><td>&quot;GSM2981155&quot;</td><td>2</td></tr><tr><td>&quot;GSM2981203&quot;</td><td>2</td></tr><tr><td>&quot;GSM940473&quot;</td><td>2</td></tr><tr><td>&quot;GSM2981058&quot;</td><td>2</td></tr></tbody></table></div>"
     },
     "execution_count": 7,
     "metadata": {},
     "output_type": "execute_result"
    }
   ],
   "source": [
    "metadata_df.group_by(\"Sample\").len().filter(pl.col(\"len\") > 1).sort(\"len\", descending=True).head()"
   ],
   "metadata": {
    "collapsed": false,
    "ExecuteTime": {
     "end_time": "2024-02-25T20:49:25.670035Z",
     "start_time": "2024-02-25T20:49:25.662476Z"
    }
   },
   "id": "18e58bb258a4ab72"
  },
  {
   "cell_type": "code",
   "execution_count": 9,
   "outputs": [
    {
     "data": {
      "text/plain": "shape: (5, 2)\n┌────────────┬─────┐\n│ Sample     ┆ len │\n│ ---        ┆ --- │\n│ str        ┆ u32 │\n╞════════════╪═════╡\n│ GSM2902068 ┆ 1   │\n│ GSM1863695 ┆ 1   │\n│ GSM1101281 ┆ 1   │\n│ GSM2902264 ┆ 1   │\n│ GSM301752  ┆ 1   │\n└────────────┴─────┘",
      "text/html": "<div><style>\n.dataframe > thead > tr,\n.dataframe > tbody > tr {\n  text-align: right;\n  white-space: pre-wrap;\n}\n</style>\n<small>shape: (5, 2)</small><table border=\"1\" class=\"dataframe\"><thead><tr><th>Sample</th><th>len</th></tr><tr><td>str</td><td>u32</td></tr></thead><tbody><tr><td>&quot;GSM2902068&quot;</td><td>1</td></tr><tr><td>&quot;GSM1863695&quot;</td><td>1</td></tr><tr><td>&quot;GSM1101281&quot;</td><td>1</td></tr><tr><td>&quot;GSM2902264&quot;</td><td>1</td></tr><tr><td>&quot;GSM301752&quot;</td><td>1</td></tr></tbody></table></div>"
     },
     "execution_count": 9,
     "metadata": {},
     "output_type": "execute_result"
    }
   ],
   "source": [
    "# Check removing duplicates \n",
    "metadata_df.unique(subset=[\"Sample\"]).group_by(\"Sample\").len().sort(\"len\", descending=True).head()"
   ],
   "metadata": {
    "collapsed": false,
    "ExecuteTime": {
     "end_time": "2024-02-25T20:49:48.952439Z",
     "start_time": "2024-02-25T20:49:48.948457Z"
    }
   },
   "id": "7a7958508bb2aedf"
  },
  {
   "cell_type": "markdown",
   "source": [
    "# Explore Files that seem problematic"
   ],
   "metadata": {
    "collapsed": false
   },
   "id": "15b574c3b24959eb"
  },
  {
   "cell_type": "markdown",
   "source": [
    "### GSE95065\n",
    "\n",
    "There seem to be two files that need to be merged into one \n"
   ],
   "metadata": {
    "collapsed": false
   },
   "id": "16a5375b1989ee5b"
  },
  {
   "cell_type": "code",
   "execution_count": 7,
   "outputs": [
    {
     "data": {
      "text/plain": "shape: (10_477, 34)\n┌─────────┬────────────┬───────────┬───────────┬───┬───────────┬───────────┬───────────┬───────────┐\n│ gene    ┆ GSM2495594 ┆ GSM249559 ┆ GSM249559 ┆ … ┆ GSM249562 ┆ GSM249562 ┆ GSM249562 ┆ GSM249562 │\n│ ---     ┆ ---        ┆ 5         ┆ 6         ┆   ┆ 3         ┆ 4         ┆ 5         ┆ 6         │\n│ str     ┆ f64        ┆ ---       ┆ ---       ┆   ┆ ---       ┆ ---       ┆ ---       ┆ ---       │\n│         ┆            ┆ f64       ┆ f64       ┆   ┆ f64       ┆ f64       ┆ f64       ┆ f64       │\n╞═════════╪════════════╪═══════════╪═══════════╪═══╪═══════════╪═══════════╪═══════════╪═══════════╡\n│ RFC2    ┆ 7.472319   ┆ 7.520892  ┆ 7.46077   ┆ … ┆ 7.379748  ┆ 7.278312  ┆ 7.269157  ┆ 7.1024    │\n│ HSPA6   ┆ 6.655682   ┆ 6.248444  ┆ 6.563427  ┆ … ┆ 6.119981  ┆ 6.749708  ┆ 6.33245   ┆ 6.380119  │\n│ PAX8    ┆ 6.772054   ┆ 6.926438  ┆ 7.034588  ┆ … ┆ 7.145639  ┆ 7.119249  ┆ 7.113005  ┆ 6.452059  │\n│ THRA    ┆ 6.90694    ┆ 6.48762   ┆ 6.229516  ┆ … ┆ 5.903811  ┆ 6.093964  ┆ 5.95448   ┆ 6.172006  │\n│ …       ┆ …          ┆ …         ┆ …         ┆ … ┆ …         ┆ …         ┆ …         ┆ …         │\n│ FAM86B2 ┆ 5.615606   ┆ 5.311966  ┆ 5.0533    ┆ … ┆ 5.146797  ┆ 5.129829  ┆ 5.213772  ┆ 5.857212  │\n│ FAM86FP ┆ 5.615606   ┆ 5.311966  ┆ 5.0533    ┆ … ┆ 5.146797  ┆ 5.129829  ┆ 5.213772  ┆ 5.857212  │\n│ FAM86B1 ┆ 5.615606   ┆ 5.311966  ┆ 5.0533    ┆ … ┆ 5.146797  ┆ 5.129829  ┆ 5.213772  ┆ 5.857212  │\n│ FAM86C1 ┆ 5.615606   ┆ 5.311966  ┆ 5.0533    ┆ … ┆ 5.146797  ┆ 5.129829  ┆ 5.213772  ┆ 5.857212  │\n└─────────┴────────────┴───────────┴───────────┴───┴───────────┴───────────┴───────────┴───────────┘",
      "text/html": "<div><style>\n.dataframe > thead > tr,\n.dataframe > tbody > tr {\n  text-align: right;\n  white-space: pre-wrap;\n}\n</style>\n<small>shape: (10_477, 34)</small><table border=\"1\" class=\"dataframe\"><thead><tr><th>gene</th><th>GSM2495594</th><th>GSM2495595</th><th>GSM2495596</th><th>GSM2495597</th><th>GSM2495598</th><th>GSM2495599</th><th>GSM2495600</th><th>GSM2495601</th><th>GSM2495602</th><th>GSM2495603</th><th>GSM2495604</th><th>GSM2495605</th><th>GSM2495606</th><th>GSM2495607</th><th>GSM2495608</th><th>GSM2495609</th><th>GSM2495610</th><th>GSM2495611</th><th>GSM2495612</th><th>GSM2495613</th><th>GSM2495614</th><th>GSM2495615</th><th>GSM2495616</th><th>GSM2495617</th><th>GSM2495618</th><th>GSM2495619</th><th>GSM2495620</th><th>GSM2495621</th><th>GSM2495622</th><th>GSM2495623</th><th>GSM2495624</th><th>GSM2495625</th><th>GSM2495626</th></tr><tr><td>str</td><td>f64</td><td>f64</td><td>f64</td><td>f64</td><td>f64</td><td>f64</td><td>f64</td><td>f64</td><td>f64</td><td>f64</td><td>f64</td><td>f64</td><td>f64</td><td>f64</td><td>f64</td><td>f64</td><td>f64</td><td>f64</td><td>f64</td><td>f64</td><td>f64</td><td>f64</td><td>f64</td><td>f64</td><td>f64</td><td>f64</td><td>f64</td><td>f64</td><td>f64</td><td>f64</td><td>f64</td><td>f64</td><td>f64</td></tr></thead><tbody><tr><td>&quot;RFC2&quot;</td><td>7.472319</td><td>7.520892</td><td>7.46077</td><td>7.708487</td><td>7.484799</td><td>7.299081</td><td>7.403904</td><td>7.419463</td><td>7.45063</td><td>7.61232</td><td>7.46854</td><td>7.532882</td><td>7.411745</td><td>7.435213</td><td>7.392205</td><td>7.532592</td><td>7.403685</td><td>7.449712</td><td>7.52772</td><td>7.240532</td><td>7.633632</td><td>7.264277</td><td>7.582619</td><td>7.21455</td><td>7.082178</td><td>7.386463</td><td>7.320884</td><td>7.227947</td><td>7.456815</td><td>7.379748</td><td>7.278312</td><td>7.269157</td><td>7.1024</td></tr><tr><td>&quot;HSPA6&quot;</td><td>6.655682</td><td>6.248444</td><td>6.563427</td><td>6.74514</td><td>6.030863</td><td>5.127361</td><td>6.477777</td><td>5.914106</td><td>6.815282</td><td>6.247377</td><td>6.455072</td><td>6.769109</td><td>5.906113</td><td>6.368727</td><td>6.104465</td><td>6.300024</td><td>6.50896</td><td>6.381587</td><td>6.293698</td><td>6.213825</td><td>6.221177</td><td>7.188617</td><td>5.930373</td><td>6.517476</td><td>5.987333</td><td>6.650793</td><td>6.977275</td><td>6.185656</td><td>7.468024</td><td>6.119981</td><td>6.749708</td><td>6.33245</td><td>6.380119</td></tr><tr><td>&quot;PAX8&quot;</td><td>6.772054</td><td>6.926438</td><td>7.034588</td><td>6.975327</td><td>7.220449</td><td>6.916914</td><td>6.659487</td><td>6.965389</td><td>6.622051</td><td>7.281831</td><td>7.033667</td><td>6.778211</td><td>7.172063</td><td>7.045818</td><td>7.006107</td><td>6.899453</td><td>7.061638</td><td>7.335806</td><td>6.919635</td><td>6.931886</td><td>6.94088</td><td>6.986259</td><td>7.180362</td><td>6.525082</td><td>7.144469</td><td>6.556937</td><td>6.600135</td><td>7.149994</td><td>6.662156</td><td>7.145639</td><td>7.119249</td><td>7.113005</td><td>6.452059</td></tr><tr><td>&quot;THRA&quot;</td><td>6.90694</td><td>6.48762</td><td>6.229516</td><td>6.134647</td><td>6.217019</td><td>6.197873</td><td>5.779039</td><td>6.464217</td><td>6.489212</td><td>6.001884</td><td>6.219632</td><td>6.309929</td><td>5.870903</td><td>5.843094</td><td>6.005228</td><td>6.168541</td><td>5.932801</td><td>6.147186</td><td>5.98024</td><td>5.860218</td><td>5.608119</td><td>5.963343</td><td>6.404039</td><td>6.674311</td><td>6.161022</td><td>6.13027</td><td>6.000803</td><td>5.985383</td><td>5.773169</td><td>5.903811</td><td>6.093964</td><td>5.95448</td><td>6.172006</td></tr><tr><td>&quot;PTPN21&quot;</td><td>6.99916</td><td>7.081638</td><td>7.270245</td><td>6.609682</td><td>7.529765</td><td>6.601726</td><td>6.198417</td><td>7.849579</td><td>6.695222</td><td>6.546318</td><td>6.706809</td><td>7.358162</td><td>7.494944</td><td>7.113105</td><td>6.591536</td><td>7.221406</td><td>6.52857</td><td>6.701473</td><td>7.611369</td><td>7.117925</td><td>6.774631</td><td>6.386196</td><td>7.258027</td><td>6.129345</td><td>6.430386</td><td>6.517319</td><td>6.941436</td><td>6.722773</td><td>6.443518</td><td>7.459997</td><td>7.135372</td><td>7.249807</td><td>7.095118</td></tr><tr><td>&quot;CCL5&quot;</td><td>7.07975</td><td>6.092999</td><td>5.735654</td><td>6.728099</td><td>5.811003</td><td>4.609014</td><td>8.603649</td><td>6.084578</td><td>7.141292</td><td>5.4493</td><td>5.653901</td><td>7.069109</td><td>5.446654</td><td>6.361946</td><td>4.8171</td><td>5.031157</td><td>4.938001</td><td>5.160383</td><td>6.333225</td><td>4.035719</td><td>4.729835</td><td>6.90157</td><td>5.817311</td><td>6.325495</td><td>5.580433</td><td>5.583964</td><td>8.38015</td><td>6.218533</td><td>6.087392</td><td>8.100331</td><td>5.367073</td><td>5.649418</td><td>5.039789</td></tr><tr><td>&quot;CYP2E1&quot;</td><td>6.196167</td><td>4.492376</td><td>6.459971</td><td>6.627319</td><td>6.291382</td><td>5.109184</td><td>5.991173</td><td>4.886798</td><td>5.518165</td><td>5.869055</td><td>6.285918</td><td>6.374689</td><td>6.242608</td><td>7.109768</td><td>6.597216</td><td>4.919737</td><td>6.845075</td><td>5.972443</td><td>6.209479</td><td>6.62767</td><td>5.960389</td><td>4.929532</td><td>5.697879</td><td>5.336928</td><td>6.289446</td><td>4.41045</td><td>6.09204</td><td>5.686044</td><td>5.875945</td><td>5.935592</td><td>6.07799</td><td>6.337083</td><td>5.81603</td></tr><tr><td>&quot;EPHB3&quot;</td><td>6.958701</td><td>6.994674</td><td>7.523542</td><td>7.152963</td><td>7.115558</td><td>7.486647</td><td>6.428781</td><td>7.50271</td><td>6.905031</td><td>7.73239</td><td>7.597305</td><td>7.363381</td><td>7.893089</td><td>7.599454</td><td>8.193947</td><td>7.752947</td><td>7.931709</td><td>7.831751</td><td>7.553464</td><td>7.979561</td><td>7.743131</td><td>7.468185</td><td>7.82446</td><td>7.405587</td><td>7.720182</td><td>7.507602</td><td>7.167658</td><td>7.26325</td><td>7.153739</td><td>7.480215</td><td>7.481708</td><td>7.64475</td><td>7.53078</td></tr><tr><td>&quot;ESRRA&quot;</td><td>6.80847</td><td>6.797286</td><td>6.954059</td><td>7.001706</td><td>6.857725</td><td>7.050968</td><td>6.814291</td><td>6.938178</td><td>6.786193</td><td>7.206581</td><td>7.022166</td><td>6.916465</td><td>7.041363</td><td>7.029736</td><td>7.339206</td><td>6.988665</td><td>7.099916</td><td>7.382145</td><td>6.832798</td><td>7.048717</td><td>7.14127</td><td>6.830311</td><td>7.200086</td><td>6.789154</td><td>7.324337</td><td>6.704587</td><td>6.626802</td><td>6.917285</td><td>6.828058</td><td>6.940019</td><td>6.931476</td><td>7.230816</td><td>7.018688</td></tr><tr><td>&quot;GAS6&quot;</td><td>9.598344</td><td>9.975522</td><td>10.043358</td><td>9.968912</td><td>9.87949</td><td>9.540436</td><td>10.094454</td><td>9.71956</td><td>10.151767</td><td>9.801949</td><td>9.588306</td><td>9.721379</td><td>9.970734</td><td>9.573153</td><td>9.719227</td><td>9.843187</td><td>9.528572</td><td>9.904768</td><td>9.916989</td><td>10.180935</td><td>9.559053</td><td>9.901122</td><td>9.73748</td><td>10.235113</td><td>9.698278</td><td>10.099996</td><td>9.70151</td><td>10.168666</td><td>9.455319</td><td>9.541577</td><td>9.562279</td><td>9.665531</td><td>10.100651</td></tr><tr><td>&quot;MMP14&quot;</td><td>7.079234</td><td>7.047663</td><td>7.01382</td><td>6.902914</td><td>6.637911</td><td>6.954738</td><td>6.489702</td><td>6.815829</td><td>6.915536</td><td>7.449373</td><td>7.728835</td><td>6.886141</td><td>7.305579</td><td>7.067983</td><td>7.144364</td><td>6.551023</td><td>7.530121</td><td>7.245633</td><td>6.638007</td><td>7.864902</td><td>6.884323</td><td>6.921689</td><td>6.952239</td><td>6.808449</td><td>7.398329</td><td>6.817549</td><td>6.854476</td><td>6.873423</td><td>6.85419</td><td>6.665248</td><td>6.905698</td><td>6.772127</td><td>6.793436</td></tr><tr><td>&quot;TRADD&quot;</td><td>8.049873</td><td>8.182473</td><td>7.951397</td><td>8.188164</td><td>8.010101</td><td>7.75072</td><td>8.121716</td><td>7.97306</td><td>7.930293</td><td>7.407354</td><td>7.716073</td><td>7.964018</td><td>7.858354</td><td>7.850807</td><td>7.76765</td><td>8.025791</td><td>7.713898</td><td>7.7806</td><td>7.947534</td><td>7.639629</td><td>7.647853</td><td>8.121263</td><td>7.888895</td><td>7.869775</td><td>7.61128</td><td>8.090809</td><td>8.067961</td><td>8.031667</td><td>7.966515</td><td>7.808033</td><td>7.889919</td><td>7.907241</td><td>8.135943</td></tr><tr><td>&hellip;</td><td>&hellip;</td><td>&hellip;</td><td>&hellip;</td><td>&hellip;</td><td>&hellip;</td><td>&hellip;</td><td>&hellip;</td><td>&hellip;</td><td>&hellip;</td><td>&hellip;</td><td>&hellip;</td><td>&hellip;</td><td>&hellip;</td><td>&hellip;</td><td>&hellip;</td><td>&hellip;</td><td>&hellip;</td><td>&hellip;</td><td>&hellip;</td><td>&hellip;</td><td>&hellip;</td><td>&hellip;</td><td>&hellip;</td><td>&hellip;</td><td>&hellip;</td><td>&hellip;</td><td>&hellip;</td><td>&hellip;</td><td>&hellip;</td><td>&hellip;</td><td>&hellip;</td><td>&hellip;</td><td>&hellip;</td></tr><tr><td>&quot;OR2A20P&quot;</td><td>5.778814</td><td>5.791296</td><td>5.463386</td><td>5.945621</td><td>5.583762</td><td>5.936077</td><td>5.57345</td><td>5.357116</td><td>5.581411</td><td>6.366555</td><td>5.951798</td><td>5.796811</td><td>6.255392</td><td>6.251308</td><td>5.943678</td><td>5.37813</td><td>6.652685</td><td>6.168945</td><td>5.825986</td><td>6.060001</td><td>5.601285</td><td>5.37878</td><td>6.017911</td><td>6.288248</td><td>5.709947</td><td>6.842944</td><td>6.104551</td><td>6.092505</td><td>5.474005</td><td>6.33356</td><td>6.057608</td><td>6.060001</td><td>6.449684</td></tr><tr><td>&quot;MICOS10-NBL1&quot;</td><td>9.702582</td><td>10.081371</td><td>9.939637</td><td>10.09617</td><td>9.705303</td><td>9.701938</td><td>10.04455</td><td>9.705173</td><td>9.90844</td><td>9.80729</td><td>9.7025</td><td>9.827032</td><td>10.08562</td><td>9.841804</td><td>10.076738</td><td>9.578483</td><td>9.90219</td><td>10.104731</td><td>9.406269</td><td>10.097943</td><td>9.422341</td><td>9.933771</td><td>9.81475</td><td>9.901239</td><td>9.932126</td><td>9.992739</td><td>9.70289</td><td>10.063029</td><td>9.743193</td><td>9.777758</td><td>9.553528</td><td>9.651734</td><td>9.939343</td></tr><tr><td>&quot;LOC101927826&quot;</td><td>4.952962</td><td>5.326603</td><td>5.124925</td><td>5.098328</td><td>4.98826</td><td>5.282599</td><td>5.155468</td><td>5.009854</td><td>4.905158</td><td>5.190186</td><td>5.22257</td><td>5.131847</td><td>5.226423</td><td>5.12285</td><td>5.102567</td><td>5.041326</td><td>5.802414</td><td>5.052765</td><td>5.089356</td><td>5.136498</td><td>5.554768</td><td>4.98157</td><td>5.057257</td><td>5.04072</td><td>5.289097</td><td>4.98467</td><td>5.454715</td><td>5.434121</td><td>5.235433</td><td>5.237192</td><td>5.57451</td><td>5.484426</td><td>5.123279</td></tr><tr><td>&quot;FBXO41&quot;</td><td>4.952962</td><td>5.326603</td><td>5.124925</td><td>5.098328</td><td>4.98826</td><td>5.282599</td><td>5.155468</td><td>5.009854</td><td>4.905158</td><td>5.190186</td><td>5.22257</td><td>5.131847</td><td>5.226423</td><td>5.12285</td><td>5.102567</td><td>5.041326</td><td>5.802414</td><td>5.052765</td><td>5.089356</td><td>5.136498</td><td>5.554768</td><td>4.98157</td><td>5.057257</td><td>5.04072</td><td>5.289097</td><td>4.98467</td><td>5.454715</td><td>5.434121</td><td>5.235433</td><td>5.237192</td><td>5.57451</td><td>5.484426</td><td>5.123279</td></tr><tr><td>&quot;MROH7-TTC4&quot;</td><td>7.726176</td><td>7.671944</td><td>7.634369</td><td>7.982121</td><td>7.746794</td><td>7.657524</td><td>7.718898</td><td>7.773607</td><td>7.572938</td><td>7.211057</td><td>7.272682</td><td>7.908039</td><td>7.357088</td><td>7.138009</td><td>7.475064</td><td>7.77683</td><td>7.571579</td><td>7.48732</td><td>7.696281</td><td>7.288063</td><td>7.435315</td><td>7.935973</td><td>7.250341</td><td>7.677395</td><td>7.55531</td><td>7.818529</td><td>7.606945</td><td>7.907254</td><td>7.765141</td><td>7.772142</td><td>7.887051</td><td>7.788834</td><td>7.941062</td></tr><tr><td>&quot;LOC102725263&quot;</td><td>6.301013</td><td>5.401413</td><td>5.092605</td><td>5.830522</td><td>4.563014</td><td>5.086999</td><td>4.386156</td><td>6.074572</td><td>5.00023</td><td>5.493588</td><td>4.788957</td><td>5.683297</td><td>5.353028</td><td>4.842621</td><td>5.25705</td><td>5.768836</td><td>5.611613</td><td>5.38178</td><td>5.09806</td><td>5.514211</td><td>4.679264</td><td>5.050886</td><td>4.507513</td><td>5.119285</td><td>3.996794</td><td>5.043704</td><td>4.973674</td><td>5.678203</td><td>5.30323</td><td>5.549528</td><td>5.161938</td><td>4.506787</td><td>4.886157</td></tr><tr><td>&quot;LOC100129924&quot;</td><td>6.838668</td><td>6.731297</td><td>6.798946</td><td>6.836947</td><td>6.854778</td><td>6.919736</td><td>6.756245</td><td>7.032046</td><td>6.898195</td><td>6.638197</td><td>6.546414</td><td>6.813177</td><td>6.808328</td><td>6.623879</td><td>6.647074</td><td>7.000281</td><td>6.470093</td><td>6.819038</td><td>7.056828</td><td>6.419013</td><td>6.333694</td><td>6.983847</td><td>6.579127</td><td>6.663042</td><td>6.328387</td><td>6.727435</td><td>6.70843</td><td>7.130039</td><td>6.718834</td><td>6.789332</td><td>6.667579</td><td>6.967174</td><td>6.997575</td></tr><tr><td>&quot;FAM86DP&quot;</td><td>5.615606</td><td>5.311966</td><td>5.0533</td><td>5.517795</td><td>5.300877</td><td>5.475761</td><td>4.68578</td><td>5.243695</td><td>5.131612</td><td>5.599755</td><td>5.497134</td><td>5.337337</td><td>5.597058</td><td>5.590693</td><td>5.199509</td><td>5.09631</td><td>5.914096</td><td>5.807895</td><td>5.285111</td><td>5.314018</td><td>5.27029</td><td>5.150195</td><td>5.62589</td><td>4.988035</td><td>5.602989</td><td>4.99588</td><td>5.068192</td><td>5.601099</td><td>5.05111</td><td>5.146797</td><td>5.129829</td><td>5.213772</td><td>5.857212</td></tr><tr><td>&quot;FAM86B2&quot;</td><td>5.615606</td><td>5.311966</td><td>5.0533</td><td>5.517795</td><td>5.300877</td><td>5.475761</td><td>4.68578</td><td>5.243695</td><td>5.131612</td><td>5.599755</td><td>5.497134</td><td>5.337337</td><td>5.597058</td><td>5.590693</td><td>5.199509</td><td>5.09631</td><td>5.914096</td><td>5.807895</td><td>5.285111</td><td>5.314018</td><td>5.27029</td><td>5.150195</td><td>5.62589</td><td>4.988035</td><td>5.602989</td><td>4.99588</td><td>5.068192</td><td>5.601099</td><td>5.05111</td><td>5.146797</td><td>5.129829</td><td>5.213772</td><td>5.857212</td></tr><tr><td>&quot;FAM86FP&quot;</td><td>5.615606</td><td>5.311966</td><td>5.0533</td><td>5.517795</td><td>5.300877</td><td>5.475761</td><td>4.68578</td><td>5.243695</td><td>5.131612</td><td>5.599755</td><td>5.497134</td><td>5.337337</td><td>5.597058</td><td>5.590693</td><td>5.199509</td><td>5.09631</td><td>5.914096</td><td>5.807895</td><td>5.285111</td><td>5.314018</td><td>5.27029</td><td>5.150195</td><td>5.62589</td><td>4.988035</td><td>5.602989</td><td>4.99588</td><td>5.068192</td><td>5.601099</td><td>5.05111</td><td>5.146797</td><td>5.129829</td><td>5.213772</td><td>5.857212</td></tr><tr><td>&quot;FAM86B1&quot;</td><td>5.615606</td><td>5.311966</td><td>5.0533</td><td>5.517795</td><td>5.300877</td><td>5.475761</td><td>4.68578</td><td>5.243695</td><td>5.131612</td><td>5.599755</td><td>5.497134</td><td>5.337337</td><td>5.597058</td><td>5.590693</td><td>5.199509</td><td>5.09631</td><td>5.914096</td><td>5.807895</td><td>5.285111</td><td>5.314018</td><td>5.27029</td><td>5.150195</td><td>5.62589</td><td>4.988035</td><td>5.602989</td><td>4.99588</td><td>5.068192</td><td>5.601099</td><td>5.05111</td><td>5.146797</td><td>5.129829</td><td>5.213772</td><td>5.857212</td></tr><tr><td>&quot;FAM86C1&quot;</td><td>5.615606</td><td>5.311966</td><td>5.0533</td><td>5.517795</td><td>5.300877</td><td>5.475761</td><td>4.68578</td><td>5.243695</td><td>5.131612</td><td>5.599755</td><td>5.497134</td><td>5.337337</td><td>5.597058</td><td>5.590693</td><td>5.199509</td><td>5.09631</td><td>5.914096</td><td>5.807895</td><td>5.285111</td><td>5.314018</td><td>5.27029</td><td>5.150195</td><td>5.62589</td><td>4.988035</td><td>5.602989</td><td>4.99588</td><td>5.068192</td><td>5.601099</td><td>5.05111</td><td>5.146797</td><td>5.129829</td><td>5.213772</td><td>5.857212</td></tr></tbody></table></div>"
     },
     "execution_count": 7,
     "metadata": {},
     "output_type": "execute_result"
    }
   ],
   "source": [
    "GSE95065_large = pl.read_parquet(\"../data/adex-database/samples/archived_not_used/GSE95065.tsv.parquet\")\n",
    "GSE95065_large"
   ],
   "metadata": {
    "collapsed": false,
    "ExecuteTime": {
     "end_time": "2023-12-19T12:46:26.753712Z",
     "start_time": "2023-12-19T12:46:26.736754Z"
    }
   },
   "id": "90b852bee2c9c6bb"
  },
  {
   "cell_type": "code",
   "execution_count": 10,
   "outputs": [
    {
     "data": {
      "text/plain": "shape: (39, 34)\n┌───────────┬───────────┬───────────┬───────────┬───┬───────────┬───────────┬───────────┬──────────┐\n│ gene      ┆ GSM249559 ┆ GSM249559 ┆ GSM249559 ┆ … ┆ GSM249562 ┆ GSM249562 ┆ GSM249562 ┆ GSM24956 │\n│ ---       ┆ 4         ┆ 5         ┆ 6         ┆   ┆ 3         ┆ 4         ┆ 5         ┆ 26       │\n│ str       ┆ ---       ┆ ---       ┆ ---       ┆   ┆ ---       ┆ ---       ┆ ---       ┆ ---      │\n│           ┆ f64       ┆ f64       ┆ f64       ┆   ┆ f64       ┆ f64       ┆ f64       ┆ f64      │\n╞═══════════╪═══════════╪═══════════╪═══════════╪═══╪═══════════╪═══════════╪═══════════╪══════════╡\n│ CEBPE     ┆ 7.430844  ┆ 7.424512  ┆ 7.380993  ┆ … ┆ 7.365737  ┆ 7.076975  ┆ 7.140006  ┆ 7.11732  │\n│ ADCYAP1R1 ┆ 5.94925   ┆ 5.912904  ┆ 5.952583  ┆ … ┆ 5.5735    ┆ 6.109171  ┆ 5.765169  ┆ 5.834804 │\n│ COL7A1    ┆ 6.533028  ┆ 6.441243  ┆ 6.26865   ┆ … ┆ 6.277183  ┆ 6.302032  ┆ 6.382896  ┆ 6.893414 │\n│ KLF6      ┆ 6.90694   ┆ 6.48762   ┆ 6.229516  ┆ … ┆ 5.903811  ┆ 6.093964  ┆ 5.95448   ┆ 6.172006 │\n│ …         ┆ …         ┆ …         ┆ …         ┆ … ┆ …         ┆ …         ┆ …         ┆ …        │\n│ SEMA4G    ┆ 6.940605  ┆ 6.929228  ┆ 6.982693  ┆ … ┆ 6.655612  ┆ 6.445045  ┆ 6.463942  ┆ 6.871585 │\n│ ELAC2     ┆ 6.794238  ┆ 6.901478  ┆ 6.877149  ┆ … ┆ 7.007394  ┆ 7.212608  ┆ 6.876413  ┆ 7.353629 │\n│ TMEM168   ┆ 8.103874  ┆ 7.777616  ┆ 7.954945  ┆ … ┆ 8.053123  ┆ 8.217889  ┆ 8.097572  ┆ 8.335969 │\n│ CAPN1     ┆ 7.074772  ┆ 7.222501  ┆ 7.121602  ┆ … ┆ 7.052602  ┆ 6.754836  ┆ 7.132416  ┆ 6.856021 │\n└───────────┴───────────┴───────────┴───────────┴───┴───────────┴───────────┴───────────┴──────────┘",
      "text/html": "<div><style>\n.dataframe > thead > tr,\n.dataframe > tbody > tr {\n  text-align: right;\n  white-space: pre-wrap;\n}\n</style>\n<small>shape: (39, 34)</small><table border=\"1\" class=\"dataframe\"><thead><tr><th>gene</th><th>GSM2495594</th><th>GSM2495595</th><th>GSM2495596</th><th>GSM2495597</th><th>GSM2495598</th><th>GSM2495599</th><th>GSM2495600</th><th>GSM2495601</th><th>GSM2495602</th><th>GSM2495603</th><th>GSM2495604</th><th>GSM2495605</th><th>GSM2495606</th><th>GSM2495607</th><th>GSM2495608</th><th>GSM2495609</th><th>GSM2495610</th><th>GSM2495611</th><th>GSM2495612</th><th>GSM2495613</th><th>GSM2495614</th><th>GSM2495615</th><th>GSM2495616</th><th>GSM2495617</th><th>GSM2495618</th><th>GSM2495619</th><th>GSM2495620</th><th>GSM2495621</th><th>GSM2495622</th><th>GSM2495623</th><th>GSM2495624</th><th>GSM2495625</th><th>GSM2495626</th></tr><tr><td>str</td><td>f64</td><td>f64</td><td>f64</td><td>f64</td><td>f64</td><td>f64</td><td>f64</td><td>f64</td><td>f64</td><td>f64</td><td>f64</td><td>f64</td><td>f64</td><td>f64</td><td>f64</td><td>f64</td><td>f64</td><td>f64</td><td>f64</td><td>f64</td><td>f64</td><td>f64</td><td>f64</td><td>f64</td><td>f64</td><td>f64</td><td>f64</td><td>f64</td><td>f64</td><td>f64</td><td>f64</td><td>f64</td><td>f64</td></tr></thead><tbody><tr><td>&quot;CEBPE&quot;</td><td>7.430844</td><td>7.424512</td><td>7.380993</td><td>7.495515</td><td>7.424263</td><td>7.24761</td><td>7.358499</td><td>7.352183</td><td>7.373819</td><td>7.574839</td><td>7.341107</td><td>7.483675</td><td>7.384654</td><td>7.317921</td><td>7.326927</td><td>7.497311</td><td>7.343509</td><td>7.384384</td><td>7.439529</td><td>7.171636</td><td>7.541954</td><td>7.175672</td><td>7.52662</td><td>7.103011</td><td>7.094538</td><td>7.276562</td><td>7.277203</td><td>7.154872</td><td>7.350882</td><td>7.365737</td><td>7.076975</td><td>7.140006</td><td>7.11732</td></tr><tr><td>&quot;ADCYAP1R1&quot;</td><td>5.94925</td><td>5.912904</td><td>5.952583</td><td>6.136321</td><td>5.660838</td><td>4.507445</td><td>5.995402</td><td>5.392767</td><td>6.156154</td><td>5.868257</td><td>5.963205</td><td>6.043992</td><td>5.441751</td><td>5.91522</td><td>5.651909</td><td>5.814725</td><td>6.128093</td><td>5.859722</td><td>5.756369</td><td>5.602133</td><td>5.668191</td><td>6.470656</td><td>5.523302</td><td>5.818856</td><td>5.381958</td><td>5.952577</td><td>6.267259</td><td>5.528522</td><td>6.896724</td><td>5.5735</td><td>6.109171</td><td>5.765169</td><td>5.834804</td></tr><tr><td>&quot;COL7A1&quot;</td><td>6.533028</td><td>6.441243</td><td>6.26865</td><td>6.402277</td><td>6.406926</td><td>6.124735</td><td>6.913235</td><td>6.183706</td><td>6.143744</td><td>6.092093</td><td>6.323905</td><td>6.448042</td><td>6.687022</td><td>6.449526</td><td>6.58893</td><td>6.058564</td><td>6.496673</td><td>6.376913</td><td>6.206048</td><td>6.574422</td><td>6.464814</td><td>6.64254</td><td>6.144032</td><td>6.473642</td><td>6.567916</td><td>6.610596</td><td>6.442491</td><td>6.794229</td><td>6.435983</td><td>6.277183</td><td>6.302032</td><td>6.382896</td><td>6.893414</td></tr><tr><td>&quot;KLF6&quot;</td><td>6.90694</td><td>6.48762</td><td>6.229516</td><td>6.134647</td><td>6.217019</td><td>6.197873</td><td>5.779039</td><td>6.464217</td><td>6.489212</td><td>6.001884</td><td>6.226221</td><td>6.309929</td><td>5.870903</td><td>5.843094</td><td>5.924252</td><td>6.168541</td><td>6.366553</td><td>6.147186</td><td>5.792084</td><td>6.085894</td><td>5.959874</td><td>5.963343</td><td>6.404039</td><td>6.674311</td><td>6.161022</td><td>6.13027</td><td>6.000803</td><td>5.985383</td><td>5.773169</td><td>5.903811</td><td>6.093964</td><td>5.95448</td><td>6.172006</td></tr><tr><td>&quot;CSF2RA&quot;</td><td>5.482237</td><td>5.547813</td><td>6.167729</td><td>5.801479</td><td>5.7241</td><td>6.074025</td><td>5.030489</td><td>5.985279</td><td>5.512681</td><td>7.077504</td><td>6.963825</td><td>5.931991</td><td>7.247194</td><td>7.027666</td><td>7.610069</td><td>6.462201</td><td>7.18134</td><td>7.206354</td><td>6.125501</td><td>7.399473</td><td>7.054716</td><td>6.050846</td><td>7.134491</td><td>6.054555</td><td>7.198266</td><td>6.117478</td><td>5.848947</td><td>5.850248</td><td>5.67489</td><td>5.840013</td><td>6.061546</td><td>6.261048</td><td>6.09999</td></tr><tr><td>&quot;CTBP1&quot;</td><td>7.096109</td><td>7.070467</td><td>7.344943</td><td>7.401909</td><td>7.352289</td><td>7.293874</td><td>6.940814</td><td>7.268688</td><td>7.075635</td><td>7.617213</td><td>7.378066</td><td>7.332296</td><td>7.393262</td><td>7.464938</td><td>7.756849</td><td>7.379056</td><td>7.383231</td><td>7.848183</td><td>7.146071</td><td>7.513861</td><td>7.4345</td><td>7.320879</td><td>7.648898</td><td>7.124524</td><td>7.703255</td><td>7.059668</td><td>6.957033</td><td>7.352952</td><td>7.183082</td><td>7.296272</td><td>7.286571</td><td>7.572689</td><td>7.418754</td></tr><tr><td>&quot;DIAPH1&quot;</td><td>8.14523</td><td>8.312656</td><td>7.992397</td><td>8.272858</td><td>8.040403</td><td>7.828828</td><td>8.157008</td><td>8.061688</td><td>8.004696</td><td>7.385955</td><td>7.887343</td><td>8.037436</td><td>8.048556</td><td>7.902219</td><td>7.907266</td><td>8.116818</td><td>7.760369</td><td>7.803573</td><td>8.014856</td><td>7.750942</td><td>7.780054</td><td>8.198553</td><td>8.027947</td><td>7.939627</td><td>7.718404</td><td>8.141551</td><td>8.181171</td><td>8.108116</td><td>8.095633</td><td>7.884621</td><td>7.977461</td><td>7.938129</td><td>8.151805</td></tr><tr><td>&quot;AGER&quot;</td><td>6.496517</td><td>6.508898</td><td>6.538657</td><td>6.435531</td><td>6.282903</td><td>5.896218</td><td>6.146781</td><td>6.536278</td><td>6.593639</td><td>6.228704</td><td>6.463922</td><td>6.752157</td><td>6.412501</td><td>6.361711</td><td>6.306303</td><td>6.793278</td><td>6.331338</td><td>6.189678</td><td>6.208045</td><td>6.186679</td><td>6.070997</td><td>6.663842</td><td>6.381444</td><td>6.595394</td><td>5.902664</td><td>6.686002</td><td>6.480337</td><td>5.997034</td><td>6.535427</td><td>6.661929</td><td>6.405839</td><td>6.227995</td><td>6.342333</td></tr><tr><td>&quot;DNASE1&quot;</td><td>4.872944</td><td>4.847915</td><td>5.046468</td><td>5.162639</td><td>5.052784</td><td>4.968124</td><td>4.846196</td><td>4.997902</td><td>4.970702</td><td>6.169151</td><td>6.330242</td><td>4.943527</td><td>6.44802</td><td>6.408799</td><td>6.298719</td><td>5.029668</td><td>6.074697</td><td>6.764309</td><td>4.955496</td><td>6.080928</td><td>6.642391</td><td>4.991812</td><td>6.655077</td><td>4.973225</td><td>6.002208</td><td>4.765483</td><td>4.947005</td><td>4.872625</td><td>5.144602</td><td>5.031794</td><td>5.089739</td><td>4.942311</td><td>5.133462</td></tr><tr><td>&quot;TOR1A&quot;</td><td>6.121443</td><td>6.058982</td><td>6.344896</td><td>6.602623</td><td>6.311452</td><td>5.929669</td><td>5.899855</td><td>6.332064</td><td>5.975099</td><td>6.775418</td><td>7.148073</td><td>6.148816</td><td>7.113099</td><td>6.806075</td><td>6.828931</td><td>6.210185</td><td>6.552282</td><td>7.2246</td><td>6.190214</td><td>6.813814</td><td>6.719083</td><td>6.139074</td><td>6.79052</td><td>5.978004</td><td>6.786083</td><td>6.091691</td><td>6.073293</td><td>6.067115</td><td>6.010002</td><td>6.16686</td><td>6.022811</td><td>6.093656</td><td>6.122676</td></tr><tr><td>&quot;SAMD14&quot;</td><td>8.136389</td><td>8.273365</td><td>8.539627</td><td>8.577659</td><td>8.195816</td><td>7.925134</td><td>8.422322</td><td>8.493331</td><td>8.435775</td><td>8.120912</td><td>8.11262</td><td>8.534338</td><td>8.323504</td><td>8.095882</td><td>8.053128</td><td>8.125697</td><td>8.432989</td><td>8.31509</td><td>7.929552</td><td>8.123236</td><td>8.042514</td><td>8.311145</td><td>8.081548</td><td>8.295114</td><td>8.10625</td><td>8.192616</td><td>7.998927</td><td>8.042192</td><td>8.30744</td><td>8.208108</td><td>8.028272</td><td>7.770008</td><td>8.206962</td></tr><tr><td>&quot;TUBB&quot;</td><td>6.933795</td><td>7.394555</td><td>7.411831</td><td>7.341694</td><td>7.456247</td><td>7.229075</td><td>6.981093</td><td>7.128309</td><td>7.435706</td><td>7.400067</td><td>6.994775</td><td>7.486144</td><td>6.996033</td><td>7.216978</td><td>7.167172</td><td>7.544527</td><td>7.42346</td><td>7.127586</td><td>7.114294</td><td>7.273301</td><td>7.210499</td><td>7.048649</td><td>7.230126</td><td>7.502467</td><td>7.630579</td><td>7.694537</td><td>7.269743</td><td>6.995017</td><td>7.197998</td><td>7.500669</td><td>7.377639</td><td>7.300052</td><td>7.577313</td></tr><tr><td>&hellip;</td><td>&hellip;</td><td>&hellip;</td><td>&hellip;</td><td>&hellip;</td><td>&hellip;</td><td>&hellip;</td><td>&hellip;</td><td>&hellip;</td><td>&hellip;</td><td>&hellip;</td><td>&hellip;</td><td>&hellip;</td><td>&hellip;</td><td>&hellip;</td><td>&hellip;</td><td>&hellip;</td><td>&hellip;</td><td>&hellip;</td><td>&hellip;</td><td>&hellip;</td><td>&hellip;</td><td>&hellip;</td><td>&hellip;</td><td>&hellip;</td><td>&hellip;</td><td>&hellip;</td><td>&hellip;</td><td>&hellip;</td><td>&hellip;</td><td>&hellip;</td><td>&hellip;</td><td>&hellip;</td><td>&hellip;</td></tr><tr><td>&quot;IFT57&quot;</td><td>9.268764</td><td>9.108845</td><td>9.32906</td><td>9.360375</td><td>9.46916</td><td>9.297435</td><td>8.883274</td><td>9.485224</td><td>8.769041</td><td>9.159203</td><td>9.282273</td><td>9.382584</td><td>9.360366</td><td>9.226383</td><td>8.969174</td><td>9.525748</td><td>9.224952</td><td>8.877606</td><td>9.430723</td><td>9.281349</td><td>9.06718</td><td>9.51552</td><td>9.259789</td><td>8.87272</td><td>9.374518</td><td>8.879982</td><td>9.228845</td><td>9.494019</td><td>9.69545</td><td>9.36902</td><td>9.813659</td><td>9.377347</td><td>9.361505</td></tr><tr><td>&quot;WDYHV1&quot;</td><td>7.632099</td><td>7.640632</td><td>7.385768</td><td>7.633803</td><td>7.432418</td><td>7.353028</td><td>7.698251</td><td>7.311529</td><td>7.580275</td><td>7.018699</td><td>7.039795</td><td>7.384321</td><td>7.058537</td><td>6.922415</td><td>7.085799</td><td>7.20357</td><td>7.079276</td><td>6.972686</td><td>7.47734</td><td>7.125241</td><td>6.870909</td><td>7.624907</td><td>7.047381</td><td>7.559348</td><td>7.212841</td><td>7.540367</td><td>7.430635</td><td>7.759992</td><td>7.513271</td><td>7.223561</td><td>7.37754</td><td>7.238211</td><td>7.375094</td></tr><tr><td>&quot;ASAP3&quot;</td><td>8.345232</td><td>8.51566</td><td>8.400756</td><td>8.271659</td><td>8.409085</td><td>8.197979</td><td>8.217659</td><td>8.414695</td><td>8.39588</td><td>7.896199</td><td>7.936538</td><td>8.5752</td><td>7.676537</td><td>7.596485</td><td>8.015755</td><td>8.642666</td><td>8.064911</td><td>7.90112</td><td>8.336472</td><td>8.035206</td><td>7.975806</td><td>8.458509</td><td>7.884492</td><td>8.328872</td><td>8.075405</td><td>8.429919</td><td>8.344927</td><td>8.420389</td><td>8.06033</td><td>8.588841</td><td>8.439787</td><td>8.328207</td><td>8.553072</td></tr><tr><td>&quot;HIF1AN&quot;</td><td>6.148353</td><td>6.397317</td><td>6.219454</td><td>6.372253</td><td>6.296132</td><td>5.852259</td><td>6.270174</td><td>6.318348</td><td>6.218548</td><td>6.307862</td><td>6.139612</td><td>6.359695</td><td>6.364637</td><td>6.347827</td><td>6.258004</td><td>6.483328</td><td>6.304505</td><td>6.214972</td><td>6.407503</td><td>6.024173</td><td>5.834705</td><td>5.97963</td><td>6.217583</td><td>6.182131</td><td>6.305846</td><td>6.418407</td><td>6.370641</td><td>6.378433</td><td>6.286535</td><td>6.328878</td><td>6.296575</td><td>6.378679</td><td>6.287461</td></tr><tr><td>&quot;LUC7L&quot;</td><td>7.681705</td><td>7.634446</td><td>7.632121</td><td>7.748966</td><td>7.613379</td><td>7.647393</td><td>7.783821</td><td>7.77888</td><td>7.45715</td><td>7.546691</td><td>7.867071</td><td>7.949362</td><td>7.922487</td><td>7.656606</td><td>7.646275</td><td>8.038273</td><td>7.784196</td><td>7.883283</td><td>7.944889</td><td>7.856422</td><td>7.450638</td><td>8.015179</td><td>7.766709</td><td>7.673341</td><td>7.854263</td><td>7.852141</td><td>7.970629</td><td>7.928441</td><td>7.682666</td><td>7.838354</td><td>7.743358</td><td>7.820361</td><td>7.95401</td></tr><tr><td>&quot;IPO9&quot;</td><td>8.551345</td><td>8.51684</td><td>8.578604</td><td>8.892501</td><td>8.379668</td><td>8.505796</td><td>8.60364</td><td>8.480225</td><td>8.57339</td><td>8.518799</td><td>8.589754</td><td>8.57172</td><td>8.716377</td><td>8.561055</td><td>8.584155</td><td>8.46031</td><td>8.525991</td><td>8.702903</td><td>8.434074</td><td>8.565753</td><td>8.406295</td><td>8.618046</td><td>8.525498</td><td>8.483023</td><td>8.594108</td><td>8.380821</td><td>8.478998</td><td>8.731926</td><td>8.884077</td><td>8.476229</td><td>8.449616</td><td>8.468298</td><td>8.376004</td></tr><tr><td>&quot;PBK&quot;</td><td>7.664646</td><td>7.830908</td><td>7.65189</td><td>7.541878</td><td>7.798213</td><td>7.35894</td><td>7.43858</td><td>7.629854</td><td>7.577873</td><td>7.956492</td><td>8.118504</td><td>7.734707</td><td>8.199564</td><td>8.075611</td><td>8.069144</td><td>7.828098</td><td>8.442951</td><td>7.863494</td><td>7.238107</td><td>8.303502</td><td>7.819222</td><td>7.666936</td><td>8.157534</td><td>7.863623</td><td>8.134713</td><td>7.911733</td><td>7.659927</td><td>7.592014</td><td>7.66602</td><td>7.463856</td><td>7.683006</td><td>7.61662</td><td>8.00908</td></tr><tr><td>&quot;ZC3HAV1&quot;</td><td>6.547883</td><td>6.922901</td><td>6.820734</td><td>6.735528</td><td>6.715344</td><td>6.651844</td><td>6.965281</td><td>6.768855</td><td>6.977267</td><td>6.441688</td><td>6.396303</td><td>6.836584</td><td>6.865153</td><td>6.717218</td><td>6.893264</td><td>6.70697</td><td>6.661371</td><td>6.81842</td><td>6.432143</td><td>6.634982</td><td>6.70903</td><td>6.749674</td><td>6.810789</td><td>6.761767</td><td>6.568793</td><td>7.002503</td><td>6.821832</td><td>6.789738</td><td>6.799145</td><td>7.081292</td><td>6.788734</td><td>6.869243</td><td>6.731867</td></tr><tr><td>&quot;SEMA4G&quot;</td><td>6.940605</td><td>6.929228</td><td>6.982693</td><td>6.950136</td><td>6.916129</td><td>7.025437</td><td>6.881375</td><td>6.632864</td><td>6.828746</td><td>7.139611</td><td>7.291115</td><td>6.88327</td><td>7.558734</td><td>7.444981</td><td>7.619675</td><td>6.364754</td><td>7.021655</td><td>7.558562</td><td>6.918331</td><td>7.571068</td><td>7.496977</td><td>7.049713</td><td>7.027783</td><td>6.894086</td><td>7.039831</td><td>6.452706</td><td>6.96016</td><td>7.314524</td><td>6.655238</td><td>6.655612</td><td>6.445045</td><td>6.463942</td><td>6.871585</td></tr><tr><td>&quot;ELAC2&quot;</td><td>6.794238</td><td>6.901478</td><td>6.877149</td><td>6.751005</td><td>6.909234</td><td>6.95474</td><td>6.871848</td><td>7.051531</td><td>6.761</td><td>7.090917</td><td>7.44812</td><td>7.108819</td><td>7.763878</td><td>7.468789</td><td>7.564535</td><td>6.771316</td><td>7.795754</td><td>7.087688</td><td>6.889234</td><td>7.602719</td><td>7.757407</td><td>7.277987</td><td>7.677693</td><td>6.947262</td><td>7.35469</td><td>6.957551</td><td>6.928978</td><td>7.030969</td><td>7.250085</td><td>7.007394</td><td>7.212608</td><td>6.876413</td><td>7.353629</td></tr><tr><td>&quot;TMEM168&quot;</td><td>8.103874</td><td>7.777616</td><td>7.954945</td><td>7.697834</td><td>8.074388</td><td>8.127221</td><td>8.613568</td><td>8.040588</td><td>8.117715</td><td>7.705793</td><td>8.006507</td><td>8.010693</td><td>7.932783</td><td>7.896707</td><td>7.935904</td><td>8.070703</td><td>8.046169</td><td>7.840356</td><td>8.176554</td><td>7.890949</td><td>7.943366</td><td>8.012142</td><td>7.708806</td><td>8.353399</td><td>7.73417</td><td>8.256968</td><td>8.049819</td><td>8.310373</td><td>7.983997</td><td>8.053123</td><td>8.217889</td><td>8.097572</td><td>8.335969</td></tr><tr><td>&quot;CAPN1&quot;</td><td>7.074772</td><td>7.222501</td><td>7.121602</td><td>6.715867</td><td>7.009683</td><td>6.9115</td><td>7.194635</td><td>7.232464</td><td>7.009593</td><td>6.367834</td><td>6.460854</td><td>7.088696</td><td>6.41918</td><td>6.174142</td><td>6.657951</td><td>7.017501</td><td>6.762371</td><td>6.683772</td><td>6.825295</td><td>6.501101</td><td>6.040816</td><td>7.221873</td><td>6.447232</td><td>7.173359</td><td>6.378963</td><td>7.142778</td><td>6.926048</td><td>6.990885</td><td>5.871669</td><td>7.052602</td><td>6.754836</td><td>7.132416</td><td>6.856021</td></tr></tbody></table></div>"
     },
     "execution_count": 10,
     "metadata": {},
     "output_type": "execute_result"
    }
   ],
   "source": [
    "GSE95065_small = pl.read_parquet(\"../data/adex-database/samples/archived_not_used/GSE95065_2.tsv.parquet\")\n",
    "GSE95065_small"
   ],
   "metadata": {
    "collapsed": false,
    "ExecuteTime": {
     "end_time": "2023-12-19T12:46:55.687956Z",
     "start_time": "2023-12-19T12:46:55.670119Z"
    }
   },
   "id": "9e25015291658fea"
  },
  {
   "cell_type": "code",
   "execution_count": 20,
   "outputs": [
    {
     "data": {
      "text/plain": "True"
     },
     "execution_count": 20,
     "metadata": {},
     "output_type": "execute_result"
    }
   ],
   "source": [
    "# Make certain that we have the same samples in the two files \n",
    "large_set_samples = set(GSE95065_large.columns)\n",
    "small_set_samples = set(GSE95065_small.columns)\n",
    "large_set_samples == small_set_samples"
   ],
   "metadata": {
    "collapsed": false,
    "ExecuteTime": {
     "end_time": "2023-12-19T12:54:08.189995Z",
     "start_time": "2023-12-19T12:54:08.184583Z"
    }
   },
   "id": "1016e9c4436f8bfd"
  },
  {
   "cell_type": "code",
   "execution_count": 23,
   "outputs": [
    {
     "data": {
      "text/plain": "{'ASAP3',\n 'CAPN1',\n 'CKLF',\n 'COL7A1',\n 'CPA4',\n 'CSF2RA',\n 'CTBP1',\n 'DIAPH1',\n 'ELAC2',\n 'FAM171A1',\n 'GLTP',\n 'HIF1AN',\n 'IFT57',\n 'IPO9',\n 'KLF6',\n 'LEF1',\n 'LUC7L',\n 'PBK',\n 'PXDC1',\n 'SEMA4G',\n 'SLC52A1',\n 'TMEM168',\n 'TOR1A',\n 'TTC12',\n 'TUBB',\n 'UNC5B',\n 'WDYHV1',\n 'ZC3HAV1',\n 'ZCCHC24'}"
     },
     "execution_count": 23,
     "metadata": {},
     "output_type": "execute_result"
    }
   ],
   "source": [
    "# Make certain that there are no duplicated genes between the two files \n",
    "large_set_genes = set(GSE95065_large.select(\"gene\").to_series().to_list())\n",
    "small_set_genes = set(GSE95065_small.select(\"gene\").to_series().to_list())\n",
    "large_set_genes.intersection(small_set_genes)"
   ],
   "metadata": {
    "collapsed": false,
    "ExecuteTime": {
     "end_time": "2023-12-19T12:55:14.128395Z",
     "start_time": "2023-12-19T12:55:14.112857Z"
    }
   },
   "id": "143e819f18d91f07"
  },
  {
   "cell_type": "markdown",
   "source": [
    "There seem to be common genes between the two files which does not make much sense since it would be different readings for the same sample and gene. \n",
    "Will discard the small file instead of the old decision that was keeping it.\n",
    "Commenting the lines below that were creating the merged dataset.  "
   ],
   "metadata": {
    "collapsed": false
   },
   "id": "a4638227d9451d08"
  },
  {
   "cell_type": "code",
   "execution_count": 13,
   "outputs": [
    {
     "data": {
      "text/plain": "shape: (10_516, 34)\n┌───────────┬───────────┬───────────┬───────────┬───┬───────────┬───────────┬───────────┬──────────┐\n│ gene      ┆ GSM249559 ┆ GSM249559 ┆ GSM249559 ┆ … ┆ GSM249562 ┆ GSM249562 ┆ GSM249562 ┆ GSM24956 │\n│ ---       ┆ 4         ┆ 5         ┆ 6         ┆   ┆ 3         ┆ 4         ┆ 5         ┆ 26       │\n│ str       ┆ ---       ┆ ---       ┆ ---       ┆   ┆ ---       ┆ ---       ┆ ---       ┆ ---      │\n│           ┆ f64       ┆ f64       ┆ f64       ┆   ┆ f64       ┆ f64       ┆ f64       ┆ f64      │\n╞═══════════╪═══════════╪═══════════╪═══════════╪═══╪═══════════╪═══════════╪═══════════╪══════════╡\n│ CEBPE     ┆ 7.430844  ┆ 7.424512  ┆ 7.380993  ┆ … ┆ 7.365737  ┆ 7.076975  ┆ 7.140006  ┆ 7.11732  │\n│ ADCYAP1R1 ┆ 5.94925   ┆ 5.912904  ┆ 5.952583  ┆ … ┆ 5.5735    ┆ 6.109171  ┆ 5.765169  ┆ 5.834804 │\n│ COL7A1    ┆ 6.533028  ┆ 6.441243  ┆ 6.26865   ┆ … ┆ 6.277183  ┆ 6.302032  ┆ 6.382896  ┆ 6.893414 │\n│ KLF6      ┆ 6.90694   ┆ 6.48762   ┆ 6.229516  ┆ … ┆ 5.903811  ┆ 6.093964  ┆ 5.95448   ┆ 6.172006 │\n│ …         ┆ …         ┆ …         ┆ …         ┆ … ┆ …         ┆ …         ┆ …         ┆ …        │\n│ FAM86B2   ┆ 5.615606  ┆ 5.311966  ┆ 5.0533    ┆ … ┆ 5.146797  ┆ 5.129829  ┆ 5.213772  ┆ 5.857212 │\n│ FAM86FP   ┆ 5.615606  ┆ 5.311966  ┆ 5.0533    ┆ … ┆ 5.146797  ┆ 5.129829  ┆ 5.213772  ┆ 5.857212 │\n│ FAM86B1   ┆ 5.615606  ┆ 5.311966  ┆ 5.0533    ┆ … ┆ 5.146797  ┆ 5.129829  ┆ 5.213772  ┆ 5.857212 │\n│ FAM86C1   ┆ 5.615606  ┆ 5.311966  ┆ 5.0533    ┆ … ┆ 5.146797  ┆ 5.129829  ┆ 5.213772  ┆ 5.857212 │\n└───────────┴───────────┴───────────┴───────────┴───┴───────────┴───────────┴───────────┴──────────┘",
      "text/html": "<div><style>\n.dataframe > thead > tr,\n.dataframe > tbody > tr {\n  text-align: right;\n  white-space: pre-wrap;\n}\n</style>\n<small>shape: (10_516, 34)</small><table border=\"1\" class=\"dataframe\"><thead><tr><th>gene</th><th>GSM2495594</th><th>GSM2495595</th><th>GSM2495596</th><th>GSM2495597</th><th>GSM2495598</th><th>GSM2495599</th><th>GSM2495600</th><th>GSM2495601</th><th>GSM2495602</th><th>GSM2495603</th><th>GSM2495604</th><th>GSM2495605</th><th>GSM2495606</th><th>GSM2495607</th><th>GSM2495608</th><th>GSM2495609</th><th>GSM2495610</th><th>GSM2495611</th><th>GSM2495612</th><th>GSM2495613</th><th>GSM2495614</th><th>GSM2495615</th><th>GSM2495616</th><th>GSM2495617</th><th>GSM2495618</th><th>GSM2495619</th><th>GSM2495620</th><th>GSM2495621</th><th>GSM2495622</th><th>GSM2495623</th><th>GSM2495624</th><th>GSM2495625</th><th>GSM2495626</th></tr><tr><td>str</td><td>f64</td><td>f64</td><td>f64</td><td>f64</td><td>f64</td><td>f64</td><td>f64</td><td>f64</td><td>f64</td><td>f64</td><td>f64</td><td>f64</td><td>f64</td><td>f64</td><td>f64</td><td>f64</td><td>f64</td><td>f64</td><td>f64</td><td>f64</td><td>f64</td><td>f64</td><td>f64</td><td>f64</td><td>f64</td><td>f64</td><td>f64</td><td>f64</td><td>f64</td><td>f64</td><td>f64</td><td>f64</td><td>f64</td></tr></thead><tbody><tr><td>&quot;CEBPE&quot;</td><td>7.430844</td><td>7.424512</td><td>7.380993</td><td>7.495515</td><td>7.424263</td><td>7.24761</td><td>7.358499</td><td>7.352183</td><td>7.373819</td><td>7.574839</td><td>7.341107</td><td>7.483675</td><td>7.384654</td><td>7.317921</td><td>7.326927</td><td>7.497311</td><td>7.343509</td><td>7.384384</td><td>7.439529</td><td>7.171636</td><td>7.541954</td><td>7.175672</td><td>7.52662</td><td>7.103011</td><td>7.094538</td><td>7.276562</td><td>7.277203</td><td>7.154872</td><td>7.350882</td><td>7.365737</td><td>7.076975</td><td>7.140006</td><td>7.11732</td></tr><tr><td>&quot;ADCYAP1R1&quot;</td><td>5.94925</td><td>5.912904</td><td>5.952583</td><td>6.136321</td><td>5.660838</td><td>4.507445</td><td>5.995402</td><td>5.392767</td><td>6.156154</td><td>5.868257</td><td>5.963205</td><td>6.043992</td><td>5.441751</td><td>5.91522</td><td>5.651909</td><td>5.814725</td><td>6.128093</td><td>5.859722</td><td>5.756369</td><td>5.602133</td><td>5.668191</td><td>6.470656</td><td>5.523302</td><td>5.818856</td><td>5.381958</td><td>5.952577</td><td>6.267259</td><td>5.528522</td><td>6.896724</td><td>5.5735</td><td>6.109171</td><td>5.765169</td><td>5.834804</td></tr><tr><td>&quot;COL7A1&quot;</td><td>6.533028</td><td>6.441243</td><td>6.26865</td><td>6.402277</td><td>6.406926</td><td>6.124735</td><td>6.913235</td><td>6.183706</td><td>6.143744</td><td>6.092093</td><td>6.323905</td><td>6.448042</td><td>6.687022</td><td>6.449526</td><td>6.58893</td><td>6.058564</td><td>6.496673</td><td>6.376913</td><td>6.206048</td><td>6.574422</td><td>6.464814</td><td>6.64254</td><td>6.144032</td><td>6.473642</td><td>6.567916</td><td>6.610596</td><td>6.442491</td><td>6.794229</td><td>6.435983</td><td>6.277183</td><td>6.302032</td><td>6.382896</td><td>6.893414</td></tr><tr><td>&quot;KLF6&quot;</td><td>6.90694</td><td>6.48762</td><td>6.229516</td><td>6.134647</td><td>6.217019</td><td>6.197873</td><td>5.779039</td><td>6.464217</td><td>6.489212</td><td>6.001884</td><td>6.226221</td><td>6.309929</td><td>5.870903</td><td>5.843094</td><td>5.924252</td><td>6.168541</td><td>6.366553</td><td>6.147186</td><td>5.792084</td><td>6.085894</td><td>5.959874</td><td>5.963343</td><td>6.404039</td><td>6.674311</td><td>6.161022</td><td>6.13027</td><td>6.000803</td><td>5.985383</td><td>5.773169</td><td>5.903811</td><td>6.093964</td><td>5.95448</td><td>6.172006</td></tr><tr><td>&quot;CSF2RA&quot;</td><td>5.482237</td><td>5.547813</td><td>6.167729</td><td>5.801479</td><td>5.7241</td><td>6.074025</td><td>5.030489</td><td>5.985279</td><td>5.512681</td><td>7.077504</td><td>6.963825</td><td>5.931991</td><td>7.247194</td><td>7.027666</td><td>7.610069</td><td>6.462201</td><td>7.18134</td><td>7.206354</td><td>6.125501</td><td>7.399473</td><td>7.054716</td><td>6.050846</td><td>7.134491</td><td>6.054555</td><td>7.198266</td><td>6.117478</td><td>5.848947</td><td>5.850248</td><td>5.67489</td><td>5.840013</td><td>6.061546</td><td>6.261048</td><td>6.09999</td></tr><tr><td>&quot;CTBP1&quot;</td><td>7.096109</td><td>7.070467</td><td>7.344943</td><td>7.401909</td><td>7.352289</td><td>7.293874</td><td>6.940814</td><td>7.268688</td><td>7.075635</td><td>7.617213</td><td>7.378066</td><td>7.332296</td><td>7.393262</td><td>7.464938</td><td>7.756849</td><td>7.379056</td><td>7.383231</td><td>7.848183</td><td>7.146071</td><td>7.513861</td><td>7.4345</td><td>7.320879</td><td>7.648898</td><td>7.124524</td><td>7.703255</td><td>7.059668</td><td>6.957033</td><td>7.352952</td><td>7.183082</td><td>7.296272</td><td>7.286571</td><td>7.572689</td><td>7.418754</td></tr><tr><td>&quot;DIAPH1&quot;</td><td>8.14523</td><td>8.312656</td><td>7.992397</td><td>8.272858</td><td>8.040403</td><td>7.828828</td><td>8.157008</td><td>8.061688</td><td>8.004696</td><td>7.385955</td><td>7.887343</td><td>8.037436</td><td>8.048556</td><td>7.902219</td><td>7.907266</td><td>8.116818</td><td>7.760369</td><td>7.803573</td><td>8.014856</td><td>7.750942</td><td>7.780054</td><td>8.198553</td><td>8.027947</td><td>7.939627</td><td>7.718404</td><td>8.141551</td><td>8.181171</td><td>8.108116</td><td>8.095633</td><td>7.884621</td><td>7.977461</td><td>7.938129</td><td>8.151805</td></tr><tr><td>&quot;AGER&quot;</td><td>6.496517</td><td>6.508898</td><td>6.538657</td><td>6.435531</td><td>6.282903</td><td>5.896218</td><td>6.146781</td><td>6.536278</td><td>6.593639</td><td>6.228704</td><td>6.463922</td><td>6.752157</td><td>6.412501</td><td>6.361711</td><td>6.306303</td><td>6.793278</td><td>6.331338</td><td>6.189678</td><td>6.208045</td><td>6.186679</td><td>6.070997</td><td>6.663842</td><td>6.381444</td><td>6.595394</td><td>5.902664</td><td>6.686002</td><td>6.480337</td><td>5.997034</td><td>6.535427</td><td>6.661929</td><td>6.405839</td><td>6.227995</td><td>6.342333</td></tr><tr><td>&quot;DNASE1&quot;</td><td>4.872944</td><td>4.847915</td><td>5.046468</td><td>5.162639</td><td>5.052784</td><td>4.968124</td><td>4.846196</td><td>4.997902</td><td>4.970702</td><td>6.169151</td><td>6.330242</td><td>4.943527</td><td>6.44802</td><td>6.408799</td><td>6.298719</td><td>5.029668</td><td>6.074697</td><td>6.764309</td><td>4.955496</td><td>6.080928</td><td>6.642391</td><td>4.991812</td><td>6.655077</td><td>4.973225</td><td>6.002208</td><td>4.765483</td><td>4.947005</td><td>4.872625</td><td>5.144602</td><td>5.031794</td><td>5.089739</td><td>4.942311</td><td>5.133462</td></tr><tr><td>&quot;TOR1A&quot;</td><td>6.121443</td><td>6.058982</td><td>6.344896</td><td>6.602623</td><td>6.311452</td><td>5.929669</td><td>5.899855</td><td>6.332064</td><td>5.975099</td><td>6.775418</td><td>7.148073</td><td>6.148816</td><td>7.113099</td><td>6.806075</td><td>6.828931</td><td>6.210185</td><td>6.552282</td><td>7.2246</td><td>6.190214</td><td>6.813814</td><td>6.719083</td><td>6.139074</td><td>6.79052</td><td>5.978004</td><td>6.786083</td><td>6.091691</td><td>6.073293</td><td>6.067115</td><td>6.010002</td><td>6.16686</td><td>6.022811</td><td>6.093656</td><td>6.122676</td></tr><tr><td>&quot;SAMD14&quot;</td><td>8.136389</td><td>8.273365</td><td>8.539627</td><td>8.577659</td><td>8.195816</td><td>7.925134</td><td>8.422322</td><td>8.493331</td><td>8.435775</td><td>8.120912</td><td>8.11262</td><td>8.534338</td><td>8.323504</td><td>8.095882</td><td>8.053128</td><td>8.125697</td><td>8.432989</td><td>8.31509</td><td>7.929552</td><td>8.123236</td><td>8.042514</td><td>8.311145</td><td>8.081548</td><td>8.295114</td><td>8.10625</td><td>8.192616</td><td>7.998927</td><td>8.042192</td><td>8.30744</td><td>8.208108</td><td>8.028272</td><td>7.770008</td><td>8.206962</td></tr><tr><td>&quot;TUBB&quot;</td><td>6.933795</td><td>7.394555</td><td>7.411831</td><td>7.341694</td><td>7.456247</td><td>7.229075</td><td>6.981093</td><td>7.128309</td><td>7.435706</td><td>7.400067</td><td>6.994775</td><td>7.486144</td><td>6.996033</td><td>7.216978</td><td>7.167172</td><td>7.544527</td><td>7.42346</td><td>7.127586</td><td>7.114294</td><td>7.273301</td><td>7.210499</td><td>7.048649</td><td>7.230126</td><td>7.502467</td><td>7.630579</td><td>7.694537</td><td>7.269743</td><td>6.995017</td><td>7.197998</td><td>7.500669</td><td>7.377639</td><td>7.300052</td><td>7.577313</td></tr><tr><td>&hellip;</td><td>&hellip;</td><td>&hellip;</td><td>&hellip;</td><td>&hellip;</td><td>&hellip;</td><td>&hellip;</td><td>&hellip;</td><td>&hellip;</td><td>&hellip;</td><td>&hellip;</td><td>&hellip;</td><td>&hellip;</td><td>&hellip;</td><td>&hellip;</td><td>&hellip;</td><td>&hellip;</td><td>&hellip;</td><td>&hellip;</td><td>&hellip;</td><td>&hellip;</td><td>&hellip;</td><td>&hellip;</td><td>&hellip;</td><td>&hellip;</td><td>&hellip;</td><td>&hellip;</td><td>&hellip;</td><td>&hellip;</td><td>&hellip;</td><td>&hellip;</td><td>&hellip;</td><td>&hellip;</td><td>&hellip;</td></tr><tr><td>&quot;OR2A20P&quot;</td><td>5.778814</td><td>5.791296</td><td>5.463386</td><td>5.945621</td><td>5.583762</td><td>5.936077</td><td>5.57345</td><td>5.357116</td><td>5.581411</td><td>6.366555</td><td>5.951798</td><td>5.796811</td><td>6.255392</td><td>6.251308</td><td>5.943678</td><td>5.37813</td><td>6.652685</td><td>6.168945</td><td>5.825986</td><td>6.060001</td><td>5.601285</td><td>5.37878</td><td>6.017911</td><td>6.288248</td><td>5.709947</td><td>6.842944</td><td>6.104551</td><td>6.092505</td><td>5.474005</td><td>6.33356</td><td>6.057608</td><td>6.060001</td><td>6.449684</td></tr><tr><td>&quot;MICOS10-NBL1&quot;</td><td>9.702582</td><td>10.081371</td><td>9.939637</td><td>10.09617</td><td>9.705303</td><td>9.701938</td><td>10.04455</td><td>9.705173</td><td>9.90844</td><td>9.80729</td><td>9.7025</td><td>9.827032</td><td>10.08562</td><td>9.841804</td><td>10.076738</td><td>9.578483</td><td>9.90219</td><td>10.104731</td><td>9.406269</td><td>10.097943</td><td>9.422341</td><td>9.933771</td><td>9.81475</td><td>9.901239</td><td>9.932126</td><td>9.992739</td><td>9.70289</td><td>10.063029</td><td>9.743193</td><td>9.777758</td><td>9.553528</td><td>9.651734</td><td>9.939343</td></tr><tr><td>&quot;LOC101927826&quot;</td><td>4.952962</td><td>5.326603</td><td>5.124925</td><td>5.098328</td><td>4.98826</td><td>5.282599</td><td>5.155468</td><td>5.009854</td><td>4.905158</td><td>5.190186</td><td>5.22257</td><td>5.131847</td><td>5.226423</td><td>5.12285</td><td>5.102567</td><td>5.041326</td><td>5.802414</td><td>5.052765</td><td>5.089356</td><td>5.136498</td><td>5.554768</td><td>4.98157</td><td>5.057257</td><td>5.04072</td><td>5.289097</td><td>4.98467</td><td>5.454715</td><td>5.434121</td><td>5.235433</td><td>5.237192</td><td>5.57451</td><td>5.484426</td><td>5.123279</td></tr><tr><td>&quot;FBXO41&quot;</td><td>4.952962</td><td>5.326603</td><td>5.124925</td><td>5.098328</td><td>4.98826</td><td>5.282599</td><td>5.155468</td><td>5.009854</td><td>4.905158</td><td>5.190186</td><td>5.22257</td><td>5.131847</td><td>5.226423</td><td>5.12285</td><td>5.102567</td><td>5.041326</td><td>5.802414</td><td>5.052765</td><td>5.089356</td><td>5.136498</td><td>5.554768</td><td>4.98157</td><td>5.057257</td><td>5.04072</td><td>5.289097</td><td>4.98467</td><td>5.454715</td><td>5.434121</td><td>5.235433</td><td>5.237192</td><td>5.57451</td><td>5.484426</td><td>5.123279</td></tr><tr><td>&quot;MROH7-TTC4&quot;</td><td>7.726176</td><td>7.671944</td><td>7.634369</td><td>7.982121</td><td>7.746794</td><td>7.657524</td><td>7.718898</td><td>7.773607</td><td>7.572938</td><td>7.211057</td><td>7.272682</td><td>7.908039</td><td>7.357088</td><td>7.138009</td><td>7.475064</td><td>7.77683</td><td>7.571579</td><td>7.48732</td><td>7.696281</td><td>7.288063</td><td>7.435315</td><td>7.935973</td><td>7.250341</td><td>7.677395</td><td>7.55531</td><td>7.818529</td><td>7.606945</td><td>7.907254</td><td>7.765141</td><td>7.772142</td><td>7.887051</td><td>7.788834</td><td>7.941062</td></tr><tr><td>&quot;LOC102725263&quot;</td><td>6.301013</td><td>5.401413</td><td>5.092605</td><td>5.830522</td><td>4.563014</td><td>5.086999</td><td>4.386156</td><td>6.074572</td><td>5.00023</td><td>5.493588</td><td>4.788957</td><td>5.683297</td><td>5.353028</td><td>4.842621</td><td>5.25705</td><td>5.768836</td><td>5.611613</td><td>5.38178</td><td>5.09806</td><td>5.514211</td><td>4.679264</td><td>5.050886</td><td>4.507513</td><td>5.119285</td><td>3.996794</td><td>5.043704</td><td>4.973674</td><td>5.678203</td><td>5.30323</td><td>5.549528</td><td>5.161938</td><td>4.506787</td><td>4.886157</td></tr><tr><td>&quot;LOC100129924&quot;</td><td>6.838668</td><td>6.731297</td><td>6.798946</td><td>6.836947</td><td>6.854778</td><td>6.919736</td><td>6.756245</td><td>7.032046</td><td>6.898195</td><td>6.638197</td><td>6.546414</td><td>6.813177</td><td>6.808328</td><td>6.623879</td><td>6.647074</td><td>7.000281</td><td>6.470093</td><td>6.819038</td><td>7.056828</td><td>6.419013</td><td>6.333694</td><td>6.983847</td><td>6.579127</td><td>6.663042</td><td>6.328387</td><td>6.727435</td><td>6.70843</td><td>7.130039</td><td>6.718834</td><td>6.789332</td><td>6.667579</td><td>6.967174</td><td>6.997575</td></tr><tr><td>&quot;FAM86DP&quot;</td><td>5.615606</td><td>5.311966</td><td>5.0533</td><td>5.517795</td><td>5.300877</td><td>5.475761</td><td>4.68578</td><td>5.243695</td><td>5.131612</td><td>5.599755</td><td>5.497134</td><td>5.337337</td><td>5.597058</td><td>5.590693</td><td>5.199509</td><td>5.09631</td><td>5.914096</td><td>5.807895</td><td>5.285111</td><td>5.314018</td><td>5.27029</td><td>5.150195</td><td>5.62589</td><td>4.988035</td><td>5.602989</td><td>4.99588</td><td>5.068192</td><td>5.601099</td><td>5.05111</td><td>5.146797</td><td>5.129829</td><td>5.213772</td><td>5.857212</td></tr><tr><td>&quot;FAM86B2&quot;</td><td>5.615606</td><td>5.311966</td><td>5.0533</td><td>5.517795</td><td>5.300877</td><td>5.475761</td><td>4.68578</td><td>5.243695</td><td>5.131612</td><td>5.599755</td><td>5.497134</td><td>5.337337</td><td>5.597058</td><td>5.590693</td><td>5.199509</td><td>5.09631</td><td>5.914096</td><td>5.807895</td><td>5.285111</td><td>5.314018</td><td>5.27029</td><td>5.150195</td><td>5.62589</td><td>4.988035</td><td>5.602989</td><td>4.99588</td><td>5.068192</td><td>5.601099</td><td>5.05111</td><td>5.146797</td><td>5.129829</td><td>5.213772</td><td>5.857212</td></tr><tr><td>&quot;FAM86FP&quot;</td><td>5.615606</td><td>5.311966</td><td>5.0533</td><td>5.517795</td><td>5.300877</td><td>5.475761</td><td>4.68578</td><td>5.243695</td><td>5.131612</td><td>5.599755</td><td>5.497134</td><td>5.337337</td><td>5.597058</td><td>5.590693</td><td>5.199509</td><td>5.09631</td><td>5.914096</td><td>5.807895</td><td>5.285111</td><td>5.314018</td><td>5.27029</td><td>5.150195</td><td>5.62589</td><td>4.988035</td><td>5.602989</td><td>4.99588</td><td>5.068192</td><td>5.601099</td><td>5.05111</td><td>5.146797</td><td>5.129829</td><td>5.213772</td><td>5.857212</td></tr><tr><td>&quot;FAM86B1&quot;</td><td>5.615606</td><td>5.311966</td><td>5.0533</td><td>5.517795</td><td>5.300877</td><td>5.475761</td><td>4.68578</td><td>5.243695</td><td>5.131612</td><td>5.599755</td><td>5.497134</td><td>5.337337</td><td>5.597058</td><td>5.590693</td><td>5.199509</td><td>5.09631</td><td>5.914096</td><td>5.807895</td><td>5.285111</td><td>5.314018</td><td>5.27029</td><td>5.150195</td><td>5.62589</td><td>4.988035</td><td>5.602989</td><td>4.99588</td><td>5.068192</td><td>5.601099</td><td>5.05111</td><td>5.146797</td><td>5.129829</td><td>5.213772</td><td>5.857212</td></tr><tr><td>&quot;FAM86C1&quot;</td><td>5.615606</td><td>5.311966</td><td>5.0533</td><td>5.517795</td><td>5.300877</td><td>5.475761</td><td>4.68578</td><td>5.243695</td><td>5.131612</td><td>5.599755</td><td>5.497134</td><td>5.337337</td><td>5.597058</td><td>5.590693</td><td>5.199509</td><td>5.09631</td><td>5.914096</td><td>5.807895</td><td>5.285111</td><td>5.314018</td><td>5.27029</td><td>5.150195</td><td>5.62589</td><td>4.988035</td><td>5.602989</td><td>4.99588</td><td>5.068192</td><td>5.601099</td><td>5.05111</td><td>5.146797</td><td>5.129829</td><td>5.213772</td><td>5.857212</td></tr></tbody></table></div>"
     },
     "execution_count": 13,
     "metadata": {},
     "output_type": "execute_result"
    }
   ],
   "source": [
    "# GSE95065_merged = pl.concat([GSE95065_small, GSE95065_large], rechunk=True)\n",
    "# GSE95065_merged"
   ],
   "metadata": {
    "collapsed": false,
    "ExecuteTime": {
     "end_time": "2023-12-03T10:04:51.023082Z",
     "start_time": "2023-12-03T10:04:51.008188Z"
    }
   },
   "id": "e2f2b06f4a9d41f0"
  },
  {
   "cell_type": "code",
   "execution_count": 15,
   "outputs": [],
   "source": [
    "# GSE95065_merged.write_parquet(file=\"../data/adex-database/samples/SSc/GSE95065_merged.tsv.parquet\", use_pyarrow=True)"
   ],
   "metadata": {
    "collapsed": false,
    "ExecuteTime": {
     "end_time": "2023-12-03T10:06:41.025018Z",
     "start_time": "2023-12-03T10:06:40.988763Z"
    }
   },
   "id": "4a6227865a3e0b2c"
  },
  {
   "cell_type": "code",
   "execution_count": 4,
   "outputs": [
    {
     "data": {
      "text/plain": "shape: (10_516, 34)\n┌───────────┬───────────┬───────────┬───────────┬───┬───────────┬───────────┬───────────┬──────────┐\n│ gene      ┆ GSM249559 ┆ GSM249559 ┆ GSM249559 ┆ … ┆ GSM249562 ┆ GSM249562 ┆ GSM249562 ┆ GSM24956 │\n│ ---       ┆ 4         ┆ 5         ┆ 6         ┆   ┆ 3         ┆ 4         ┆ 5         ┆ 26       │\n│ str       ┆ ---       ┆ ---       ┆ ---       ┆   ┆ ---       ┆ ---       ┆ ---       ┆ ---      │\n│           ┆ f64       ┆ f64       ┆ f64       ┆   ┆ f64       ┆ f64       ┆ f64       ┆ f64      │\n╞═══════════╪═══════════╪═══════════╪═══════════╪═══╪═══════════╪═══════════╪═══════════╪══════════╡\n│ CEBPE     ┆ 7.430844  ┆ 7.424512  ┆ 7.380993  ┆ … ┆ 7.365737  ┆ 7.076975  ┆ 7.140006  ┆ 7.11732  │\n│ ADCYAP1R1 ┆ 5.94925   ┆ 5.912904  ┆ 5.952583  ┆ … ┆ 5.5735    ┆ 6.109171  ┆ 5.765169  ┆ 5.834804 │\n│ COL7A1    ┆ 6.533028  ┆ 6.441243  ┆ 6.26865   ┆ … ┆ 6.277183  ┆ 6.302032  ┆ 6.382896  ┆ 6.893414 │\n│ KLF6      ┆ 6.90694   ┆ 6.48762   ┆ 6.229516  ┆ … ┆ 5.903811  ┆ 6.093964  ┆ 5.95448   ┆ 6.172006 │\n│ …         ┆ …         ┆ …         ┆ …         ┆ … ┆ …         ┆ …         ┆ …         ┆ …        │\n│ FAM86B2   ┆ 5.615606  ┆ 5.311966  ┆ 5.0533    ┆ … ┆ 5.146797  ┆ 5.129829  ┆ 5.213772  ┆ 5.857212 │\n│ FAM86FP   ┆ 5.615606  ┆ 5.311966  ┆ 5.0533    ┆ … ┆ 5.146797  ┆ 5.129829  ┆ 5.213772  ┆ 5.857212 │\n│ FAM86B1   ┆ 5.615606  ┆ 5.311966  ┆ 5.0533    ┆ … ┆ 5.146797  ┆ 5.129829  ┆ 5.213772  ┆ 5.857212 │\n│ FAM86C1   ┆ 5.615606  ┆ 5.311966  ┆ 5.0533    ┆ … ┆ 5.146797  ┆ 5.129829  ┆ 5.213772  ┆ 5.857212 │\n└───────────┴───────────┴───────────┴───────────┴───┴───────────┴───────────┴───────────┴──────────┘",
      "text/html": "<div><style>\n.dataframe > thead > tr,\n.dataframe > tbody > tr {\n  text-align: right;\n  white-space: pre-wrap;\n}\n</style>\n<small>shape: (10_516, 34)</small><table border=\"1\" class=\"dataframe\"><thead><tr><th>gene</th><th>GSM2495594</th><th>GSM2495595</th><th>GSM2495596</th><th>GSM2495597</th><th>GSM2495598</th><th>GSM2495599</th><th>GSM2495600</th><th>GSM2495601</th><th>GSM2495602</th><th>GSM2495603</th><th>GSM2495604</th><th>GSM2495605</th><th>GSM2495606</th><th>GSM2495607</th><th>GSM2495608</th><th>GSM2495609</th><th>GSM2495610</th><th>GSM2495611</th><th>GSM2495612</th><th>GSM2495613</th><th>GSM2495614</th><th>GSM2495615</th><th>GSM2495616</th><th>GSM2495617</th><th>GSM2495618</th><th>GSM2495619</th><th>GSM2495620</th><th>GSM2495621</th><th>GSM2495622</th><th>GSM2495623</th><th>GSM2495624</th><th>GSM2495625</th><th>GSM2495626</th></tr><tr><td>str</td><td>f64</td><td>f64</td><td>f64</td><td>f64</td><td>f64</td><td>f64</td><td>f64</td><td>f64</td><td>f64</td><td>f64</td><td>f64</td><td>f64</td><td>f64</td><td>f64</td><td>f64</td><td>f64</td><td>f64</td><td>f64</td><td>f64</td><td>f64</td><td>f64</td><td>f64</td><td>f64</td><td>f64</td><td>f64</td><td>f64</td><td>f64</td><td>f64</td><td>f64</td><td>f64</td><td>f64</td><td>f64</td><td>f64</td></tr></thead><tbody><tr><td>&quot;CEBPE&quot;</td><td>7.430844</td><td>7.424512</td><td>7.380993</td><td>7.495515</td><td>7.424263</td><td>7.24761</td><td>7.358499</td><td>7.352183</td><td>7.373819</td><td>7.574839</td><td>7.341107</td><td>7.483675</td><td>7.384654</td><td>7.317921</td><td>7.326927</td><td>7.497311</td><td>7.343509</td><td>7.384384</td><td>7.439529</td><td>7.171636</td><td>7.541954</td><td>7.175672</td><td>7.52662</td><td>7.103011</td><td>7.094538</td><td>7.276562</td><td>7.277203</td><td>7.154872</td><td>7.350882</td><td>7.365737</td><td>7.076975</td><td>7.140006</td><td>7.11732</td></tr><tr><td>&quot;ADCYAP1R1&quot;</td><td>5.94925</td><td>5.912904</td><td>5.952583</td><td>6.136321</td><td>5.660838</td><td>4.507445</td><td>5.995402</td><td>5.392767</td><td>6.156154</td><td>5.868257</td><td>5.963205</td><td>6.043992</td><td>5.441751</td><td>5.91522</td><td>5.651909</td><td>5.814725</td><td>6.128093</td><td>5.859722</td><td>5.756369</td><td>5.602133</td><td>5.668191</td><td>6.470656</td><td>5.523302</td><td>5.818856</td><td>5.381958</td><td>5.952577</td><td>6.267259</td><td>5.528522</td><td>6.896724</td><td>5.5735</td><td>6.109171</td><td>5.765169</td><td>5.834804</td></tr><tr><td>&quot;COL7A1&quot;</td><td>6.533028</td><td>6.441243</td><td>6.26865</td><td>6.402277</td><td>6.406926</td><td>6.124735</td><td>6.913235</td><td>6.183706</td><td>6.143744</td><td>6.092093</td><td>6.323905</td><td>6.448042</td><td>6.687022</td><td>6.449526</td><td>6.58893</td><td>6.058564</td><td>6.496673</td><td>6.376913</td><td>6.206048</td><td>6.574422</td><td>6.464814</td><td>6.64254</td><td>6.144032</td><td>6.473642</td><td>6.567916</td><td>6.610596</td><td>6.442491</td><td>6.794229</td><td>6.435983</td><td>6.277183</td><td>6.302032</td><td>6.382896</td><td>6.893414</td></tr><tr><td>&quot;KLF6&quot;</td><td>6.90694</td><td>6.48762</td><td>6.229516</td><td>6.134647</td><td>6.217019</td><td>6.197873</td><td>5.779039</td><td>6.464217</td><td>6.489212</td><td>6.001884</td><td>6.226221</td><td>6.309929</td><td>5.870903</td><td>5.843094</td><td>5.924252</td><td>6.168541</td><td>6.366553</td><td>6.147186</td><td>5.792084</td><td>6.085894</td><td>5.959874</td><td>5.963343</td><td>6.404039</td><td>6.674311</td><td>6.161022</td><td>6.13027</td><td>6.000803</td><td>5.985383</td><td>5.773169</td><td>5.903811</td><td>6.093964</td><td>5.95448</td><td>6.172006</td></tr><tr><td>&quot;CSF2RA&quot;</td><td>5.482237</td><td>5.547813</td><td>6.167729</td><td>5.801479</td><td>5.7241</td><td>6.074025</td><td>5.030489</td><td>5.985279</td><td>5.512681</td><td>7.077504</td><td>6.963825</td><td>5.931991</td><td>7.247194</td><td>7.027666</td><td>7.610069</td><td>6.462201</td><td>7.18134</td><td>7.206354</td><td>6.125501</td><td>7.399473</td><td>7.054716</td><td>6.050846</td><td>7.134491</td><td>6.054555</td><td>7.198266</td><td>6.117478</td><td>5.848947</td><td>5.850248</td><td>5.67489</td><td>5.840013</td><td>6.061546</td><td>6.261048</td><td>6.09999</td></tr><tr><td>&quot;CTBP1&quot;</td><td>7.096109</td><td>7.070467</td><td>7.344943</td><td>7.401909</td><td>7.352289</td><td>7.293874</td><td>6.940814</td><td>7.268688</td><td>7.075635</td><td>7.617213</td><td>7.378066</td><td>7.332296</td><td>7.393262</td><td>7.464938</td><td>7.756849</td><td>7.379056</td><td>7.383231</td><td>7.848183</td><td>7.146071</td><td>7.513861</td><td>7.4345</td><td>7.320879</td><td>7.648898</td><td>7.124524</td><td>7.703255</td><td>7.059668</td><td>6.957033</td><td>7.352952</td><td>7.183082</td><td>7.296272</td><td>7.286571</td><td>7.572689</td><td>7.418754</td></tr><tr><td>&quot;DIAPH1&quot;</td><td>8.14523</td><td>8.312656</td><td>7.992397</td><td>8.272858</td><td>8.040403</td><td>7.828828</td><td>8.157008</td><td>8.061688</td><td>8.004696</td><td>7.385955</td><td>7.887343</td><td>8.037436</td><td>8.048556</td><td>7.902219</td><td>7.907266</td><td>8.116818</td><td>7.760369</td><td>7.803573</td><td>8.014856</td><td>7.750942</td><td>7.780054</td><td>8.198553</td><td>8.027947</td><td>7.939627</td><td>7.718404</td><td>8.141551</td><td>8.181171</td><td>8.108116</td><td>8.095633</td><td>7.884621</td><td>7.977461</td><td>7.938129</td><td>8.151805</td></tr><tr><td>&quot;AGER&quot;</td><td>6.496517</td><td>6.508898</td><td>6.538657</td><td>6.435531</td><td>6.282903</td><td>5.896218</td><td>6.146781</td><td>6.536278</td><td>6.593639</td><td>6.228704</td><td>6.463922</td><td>6.752157</td><td>6.412501</td><td>6.361711</td><td>6.306303</td><td>6.793278</td><td>6.331338</td><td>6.189678</td><td>6.208045</td><td>6.186679</td><td>6.070997</td><td>6.663842</td><td>6.381444</td><td>6.595394</td><td>5.902664</td><td>6.686002</td><td>6.480337</td><td>5.997034</td><td>6.535427</td><td>6.661929</td><td>6.405839</td><td>6.227995</td><td>6.342333</td></tr><tr><td>&quot;DNASE1&quot;</td><td>4.872944</td><td>4.847915</td><td>5.046468</td><td>5.162639</td><td>5.052784</td><td>4.968124</td><td>4.846196</td><td>4.997902</td><td>4.970702</td><td>6.169151</td><td>6.330242</td><td>4.943527</td><td>6.44802</td><td>6.408799</td><td>6.298719</td><td>5.029668</td><td>6.074697</td><td>6.764309</td><td>4.955496</td><td>6.080928</td><td>6.642391</td><td>4.991812</td><td>6.655077</td><td>4.973225</td><td>6.002208</td><td>4.765483</td><td>4.947005</td><td>4.872625</td><td>5.144602</td><td>5.031794</td><td>5.089739</td><td>4.942311</td><td>5.133462</td></tr><tr><td>&quot;TOR1A&quot;</td><td>6.121443</td><td>6.058982</td><td>6.344896</td><td>6.602623</td><td>6.311452</td><td>5.929669</td><td>5.899855</td><td>6.332064</td><td>5.975099</td><td>6.775418</td><td>7.148073</td><td>6.148816</td><td>7.113099</td><td>6.806075</td><td>6.828931</td><td>6.210185</td><td>6.552282</td><td>7.2246</td><td>6.190214</td><td>6.813814</td><td>6.719083</td><td>6.139074</td><td>6.79052</td><td>5.978004</td><td>6.786083</td><td>6.091691</td><td>6.073293</td><td>6.067115</td><td>6.010002</td><td>6.16686</td><td>6.022811</td><td>6.093656</td><td>6.122676</td></tr><tr><td>&quot;SAMD14&quot;</td><td>8.136389</td><td>8.273365</td><td>8.539627</td><td>8.577659</td><td>8.195816</td><td>7.925134</td><td>8.422322</td><td>8.493331</td><td>8.435775</td><td>8.120912</td><td>8.11262</td><td>8.534338</td><td>8.323504</td><td>8.095882</td><td>8.053128</td><td>8.125697</td><td>8.432989</td><td>8.31509</td><td>7.929552</td><td>8.123236</td><td>8.042514</td><td>8.311145</td><td>8.081548</td><td>8.295114</td><td>8.10625</td><td>8.192616</td><td>7.998927</td><td>8.042192</td><td>8.30744</td><td>8.208108</td><td>8.028272</td><td>7.770008</td><td>8.206962</td></tr><tr><td>&quot;TUBB&quot;</td><td>6.933795</td><td>7.394555</td><td>7.411831</td><td>7.341694</td><td>7.456247</td><td>7.229075</td><td>6.981093</td><td>7.128309</td><td>7.435706</td><td>7.400067</td><td>6.994775</td><td>7.486144</td><td>6.996033</td><td>7.216978</td><td>7.167172</td><td>7.544527</td><td>7.42346</td><td>7.127586</td><td>7.114294</td><td>7.273301</td><td>7.210499</td><td>7.048649</td><td>7.230126</td><td>7.502467</td><td>7.630579</td><td>7.694537</td><td>7.269743</td><td>6.995017</td><td>7.197998</td><td>7.500669</td><td>7.377639</td><td>7.300052</td><td>7.577313</td></tr><tr><td>&hellip;</td><td>&hellip;</td><td>&hellip;</td><td>&hellip;</td><td>&hellip;</td><td>&hellip;</td><td>&hellip;</td><td>&hellip;</td><td>&hellip;</td><td>&hellip;</td><td>&hellip;</td><td>&hellip;</td><td>&hellip;</td><td>&hellip;</td><td>&hellip;</td><td>&hellip;</td><td>&hellip;</td><td>&hellip;</td><td>&hellip;</td><td>&hellip;</td><td>&hellip;</td><td>&hellip;</td><td>&hellip;</td><td>&hellip;</td><td>&hellip;</td><td>&hellip;</td><td>&hellip;</td><td>&hellip;</td><td>&hellip;</td><td>&hellip;</td><td>&hellip;</td><td>&hellip;</td><td>&hellip;</td><td>&hellip;</td></tr><tr><td>&quot;OR2A20P&quot;</td><td>5.778814</td><td>5.791296</td><td>5.463386</td><td>5.945621</td><td>5.583762</td><td>5.936077</td><td>5.57345</td><td>5.357116</td><td>5.581411</td><td>6.366555</td><td>5.951798</td><td>5.796811</td><td>6.255392</td><td>6.251308</td><td>5.943678</td><td>5.37813</td><td>6.652685</td><td>6.168945</td><td>5.825986</td><td>6.060001</td><td>5.601285</td><td>5.37878</td><td>6.017911</td><td>6.288248</td><td>5.709947</td><td>6.842944</td><td>6.104551</td><td>6.092505</td><td>5.474005</td><td>6.33356</td><td>6.057608</td><td>6.060001</td><td>6.449684</td></tr><tr><td>&quot;MICOS10-NBL1&quot;</td><td>9.702582</td><td>10.081371</td><td>9.939637</td><td>10.09617</td><td>9.705303</td><td>9.701938</td><td>10.04455</td><td>9.705173</td><td>9.90844</td><td>9.80729</td><td>9.7025</td><td>9.827032</td><td>10.08562</td><td>9.841804</td><td>10.076738</td><td>9.578483</td><td>9.90219</td><td>10.104731</td><td>9.406269</td><td>10.097943</td><td>9.422341</td><td>9.933771</td><td>9.81475</td><td>9.901239</td><td>9.932126</td><td>9.992739</td><td>9.70289</td><td>10.063029</td><td>9.743193</td><td>9.777758</td><td>9.553528</td><td>9.651734</td><td>9.939343</td></tr><tr><td>&quot;LOC101927826&quot;</td><td>4.952962</td><td>5.326603</td><td>5.124925</td><td>5.098328</td><td>4.98826</td><td>5.282599</td><td>5.155468</td><td>5.009854</td><td>4.905158</td><td>5.190186</td><td>5.22257</td><td>5.131847</td><td>5.226423</td><td>5.12285</td><td>5.102567</td><td>5.041326</td><td>5.802414</td><td>5.052765</td><td>5.089356</td><td>5.136498</td><td>5.554768</td><td>4.98157</td><td>5.057257</td><td>5.04072</td><td>5.289097</td><td>4.98467</td><td>5.454715</td><td>5.434121</td><td>5.235433</td><td>5.237192</td><td>5.57451</td><td>5.484426</td><td>5.123279</td></tr><tr><td>&quot;FBXO41&quot;</td><td>4.952962</td><td>5.326603</td><td>5.124925</td><td>5.098328</td><td>4.98826</td><td>5.282599</td><td>5.155468</td><td>5.009854</td><td>4.905158</td><td>5.190186</td><td>5.22257</td><td>5.131847</td><td>5.226423</td><td>5.12285</td><td>5.102567</td><td>5.041326</td><td>5.802414</td><td>5.052765</td><td>5.089356</td><td>5.136498</td><td>5.554768</td><td>4.98157</td><td>5.057257</td><td>5.04072</td><td>5.289097</td><td>4.98467</td><td>5.454715</td><td>5.434121</td><td>5.235433</td><td>5.237192</td><td>5.57451</td><td>5.484426</td><td>5.123279</td></tr><tr><td>&quot;MROH7-TTC4&quot;</td><td>7.726176</td><td>7.671944</td><td>7.634369</td><td>7.982121</td><td>7.746794</td><td>7.657524</td><td>7.718898</td><td>7.773607</td><td>7.572938</td><td>7.211057</td><td>7.272682</td><td>7.908039</td><td>7.357088</td><td>7.138009</td><td>7.475064</td><td>7.77683</td><td>7.571579</td><td>7.48732</td><td>7.696281</td><td>7.288063</td><td>7.435315</td><td>7.935973</td><td>7.250341</td><td>7.677395</td><td>7.55531</td><td>7.818529</td><td>7.606945</td><td>7.907254</td><td>7.765141</td><td>7.772142</td><td>7.887051</td><td>7.788834</td><td>7.941062</td></tr><tr><td>&quot;LOC102725263&quot;</td><td>6.301013</td><td>5.401413</td><td>5.092605</td><td>5.830522</td><td>4.563014</td><td>5.086999</td><td>4.386156</td><td>6.074572</td><td>5.00023</td><td>5.493588</td><td>4.788957</td><td>5.683297</td><td>5.353028</td><td>4.842621</td><td>5.25705</td><td>5.768836</td><td>5.611613</td><td>5.38178</td><td>5.09806</td><td>5.514211</td><td>4.679264</td><td>5.050886</td><td>4.507513</td><td>5.119285</td><td>3.996794</td><td>5.043704</td><td>4.973674</td><td>5.678203</td><td>5.30323</td><td>5.549528</td><td>5.161938</td><td>4.506787</td><td>4.886157</td></tr><tr><td>&quot;LOC100129924&quot;</td><td>6.838668</td><td>6.731297</td><td>6.798946</td><td>6.836947</td><td>6.854778</td><td>6.919736</td><td>6.756245</td><td>7.032046</td><td>6.898195</td><td>6.638197</td><td>6.546414</td><td>6.813177</td><td>6.808328</td><td>6.623879</td><td>6.647074</td><td>7.000281</td><td>6.470093</td><td>6.819038</td><td>7.056828</td><td>6.419013</td><td>6.333694</td><td>6.983847</td><td>6.579127</td><td>6.663042</td><td>6.328387</td><td>6.727435</td><td>6.70843</td><td>7.130039</td><td>6.718834</td><td>6.789332</td><td>6.667579</td><td>6.967174</td><td>6.997575</td></tr><tr><td>&quot;FAM86DP&quot;</td><td>5.615606</td><td>5.311966</td><td>5.0533</td><td>5.517795</td><td>5.300877</td><td>5.475761</td><td>4.68578</td><td>5.243695</td><td>5.131612</td><td>5.599755</td><td>5.497134</td><td>5.337337</td><td>5.597058</td><td>5.590693</td><td>5.199509</td><td>5.09631</td><td>5.914096</td><td>5.807895</td><td>5.285111</td><td>5.314018</td><td>5.27029</td><td>5.150195</td><td>5.62589</td><td>4.988035</td><td>5.602989</td><td>4.99588</td><td>5.068192</td><td>5.601099</td><td>5.05111</td><td>5.146797</td><td>5.129829</td><td>5.213772</td><td>5.857212</td></tr><tr><td>&quot;FAM86B2&quot;</td><td>5.615606</td><td>5.311966</td><td>5.0533</td><td>5.517795</td><td>5.300877</td><td>5.475761</td><td>4.68578</td><td>5.243695</td><td>5.131612</td><td>5.599755</td><td>5.497134</td><td>5.337337</td><td>5.597058</td><td>5.590693</td><td>5.199509</td><td>5.09631</td><td>5.914096</td><td>5.807895</td><td>5.285111</td><td>5.314018</td><td>5.27029</td><td>5.150195</td><td>5.62589</td><td>4.988035</td><td>5.602989</td><td>4.99588</td><td>5.068192</td><td>5.601099</td><td>5.05111</td><td>5.146797</td><td>5.129829</td><td>5.213772</td><td>5.857212</td></tr><tr><td>&quot;FAM86FP&quot;</td><td>5.615606</td><td>5.311966</td><td>5.0533</td><td>5.517795</td><td>5.300877</td><td>5.475761</td><td>4.68578</td><td>5.243695</td><td>5.131612</td><td>5.599755</td><td>5.497134</td><td>5.337337</td><td>5.597058</td><td>5.590693</td><td>5.199509</td><td>5.09631</td><td>5.914096</td><td>5.807895</td><td>5.285111</td><td>5.314018</td><td>5.27029</td><td>5.150195</td><td>5.62589</td><td>4.988035</td><td>5.602989</td><td>4.99588</td><td>5.068192</td><td>5.601099</td><td>5.05111</td><td>5.146797</td><td>5.129829</td><td>5.213772</td><td>5.857212</td></tr><tr><td>&quot;FAM86B1&quot;</td><td>5.615606</td><td>5.311966</td><td>5.0533</td><td>5.517795</td><td>5.300877</td><td>5.475761</td><td>4.68578</td><td>5.243695</td><td>5.131612</td><td>5.599755</td><td>5.497134</td><td>5.337337</td><td>5.597058</td><td>5.590693</td><td>5.199509</td><td>5.09631</td><td>5.914096</td><td>5.807895</td><td>5.285111</td><td>5.314018</td><td>5.27029</td><td>5.150195</td><td>5.62589</td><td>4.988035</td><td>5.602989</td><td>4.99588</td><td>5.068192</td><td>5.601099</td><td>5.05111</td><td>5.146797</td><td>5.129829</td><td>5.213772</td><td>5.857212</td></tr><tr><td>&quot;FAM86C1&quot;</td><td>5.615606</td><td>5.311966</td><td>5.0533</td><td>5.517795</td><td>5.300877</td><td>5.475761</td><td>4.68578</td><td>5.243695</td><td>5.131612</td><td>5.599755</td><td>5.497134</td><td>5.337337</td><td>5.597058</td><td>5.590693</td><td>5.199509</td><td>5.09631</td><td>5.914096</td><td>5.807895</td><td>5.285111</td><td>5.314018</td><td>5.27029</td><td>5.150195</td><td>5.62589</td><td>4.988035</td><td>5.602989</td><td>4.99588</td><td>5.068192</td><td>5.601099</td><td>5.05111</td><td>5.146797</td><td>5.129829</td><td>5.213772</td><td>5.857212</td></tr></tbody></table></div>"
     },
     "execution_count": 4,
     "metadata": {},
     "output_type": "execute_result"
    }
   ],
   "source": [
    "# validate \n",
    "# pl.read_parquet(\"../data/adex-database/samples/SSc/GSE95065_merged.tsv.parquet\")"
   ],
   "metadata": {
    "collapsed": false,
    "ExecuteTime": {
     "end_time": "2023-12-03T10:11:20.675601Z",
     "start_time": "2023-12-03T10:11:20.665197Z"
    }
   },
   "id": "ea96ee616872075c"
  },
  {
   "cell_type": "markdown",
   "source": [
    "### GSE55098\n",
    "\n",
    "The second file seems to only have 5 samples. Easier to just discard it. This whole dataset is too small anyway. "
   ],
   "metadata": {
    "collapsed": false
   },
   "id": "1b6b485fa566548a"
  },
  {
   "cell_type": "code",
   "execution_count": 3,
   "outputs": [],
   "source": [
    "GSE55098_one = pl.read_parquet(\"../data/adex-database/samples/GSE55098.tsv.parquet\")\n",
    "GSE55098_two = pl.read_parquet(\"../data/adex-database/samples/GSE55098_2.tsv.parquet\")"
   ],
   "metadata": {
    "collapsed": false,
    "ExecuteTime": {
     "end_time": "2023-12-03T10:23:32.533041Z",
     "start_time": "2023-12-03T10:23:32.522139Z"
    }
   },
   "id": "b26d5f04de3d894a"
  },
  {
   "cell_type": "code",
   "execution_count": 4,
   "outputs": [
    {
     "data": {
      "text/plain": "shape: (22_803, 23)\n┌─────────┬────────────┬───────────┬───────────┬───┬───────────┬───────────┬───────────┬───────────┐\n│ gene    ┆ GSM1329616 ┆ GSM132961 ┆ GSM132961 ┆ … ┆ GSM132963 ┆ GSM132963 ┆ GSM132963 ┆ GSM132963 │\n│ ---     ┆ ---        ┆ 7         ┆ 8         ┆   ┆ 4         ┆ 5         ┆ 6         ┆ 7         │\n│ str     ┆ f64        ┆ ---       ┆ ---       ┆   ┆ ---       ┆ ---       ┆ ---       ┆ ---       │\n│         ┆            ┆ f64       ┆ f64       ┆   ┆ f64       ┆ f64       ┆ f64       ┆ f64       │\n╞═════════╪════════════╪═══════════╪═══════════╪═══╪═══════════╪═══════════╪═══════════╪═══════════╡\n│ RFC2    ┆ 7.29312    ┆ 7.478815  ┆ 7.163901  ┆ … ┆ 7.331175  ┆ 7.392728  ┆ 7.518944  ┆ 7.957457  │\n│ HSPA6   ┆ 8.646147   ┆ 9.134429  ┆ 7.398783  ┆ … ┆ 8.566601  ┆ 10.476805 ┆ 8.968847  ┆ 9.544259  │\n│ PAX8    ┆ 4.955674   ┆ 4.633809  ┆ 4.779538  ┆ … ┆ 4.845228  ┆ 4.768793  ┆ 4.982103  ┆ 5.013744  │\n│ GUCA1A  ┆ 4.566657   ┆ 4.454742  ┆ 4.474081  ┆ … ┆ 4.466288  ┆ 4.467433  ┆ 4.790837  ┆ 4.408654  │\n│ …       ┆ …          ┆ …         ┆ …         ┆ … ┆ …         ┆ …         ┆ …         ┆ …         │\n│ FAM86DP ┆ 4.879327   ┆ 4.798487  ┆ 5.032185  ┆ … ┆ 4.911538  ┆ 4.787081  ┆ 5.107459  ┆ 5.008376  │\n│ FAM86B2 ┆ 4.879327   ┆ 4.798487  ┆ 5.032185  ┆ … ┆ 4.911538  ┆ 4.787081  ┆ 5.107459  ┆ 5.008376  │\n│ FAM86FP ┆ 4.879327   ┆ 4.798487  ┆ 5.032185  ┆ … ┆ 4.911538  ┆ 4.787081  ┆ 5.107459  ┆ 5.008376  │\n│ FAM86B1 ┆ 4.879327   ┆ 4.798487  ┆ 5.032185  ┆ … ┆ 4.911538  ┆ 4.787081  ┆ 5.107459  ┆ 5.008376  │\n└─────────┴────────────┴───────────┴───────────┴───┴───────────┴───────────┴───────────┴───────────┘",
      "text/html": "<div><style>\n.dataframe > thead > tr,\n.dataframe > tbody > tr {\n  text-align: right;\n  white-space: pre-wrap;\n}\n</style>\n<small>shape: (22_803, 23)</small><table border=\"1\" class=\"dataframe\"><thead><tr><th>gene</th><th>GSM1329616</th><th>GSM1329617</th><th>GSM1329618</th><th>GSM1329619</th><th>GSM1329620</th><th>GSM1329621</th><th>GSM1329622</th><th>GSM1329623</th><th>GSM1329624</th><th>GSM1329625</th><th>GSM1329626</th><th>GSM1329627</th><th>GSM1329628</th><th>GSM1329629</th><th>GSM1329630</th><th>GSM1329631</th><th>GSM1329632</th><th>GSM1329633</th><th>GSM1329634</th><th>GSM1329635</th><th>GSM1329636</th><th>GSM1329637</th></tr><tr><td>str</td><td>f64</td><td>f64</td><td>f64</td><td>f64</td><td>f64</td><td>f64</td><td>f64</td><td>f64</td><td>f64</td><td>f64</td><td>f64</td><td>f64</td><td>f64</td><td>f64</td><td>f64</td><td>f64</td><td>f64</td><td>f64</td><td>f64</td><td>f64</td><td>f64</td><td>f64</td></tr></thead><tbody><tr><td>&quot;RFC2&quot;</td><td>7.29312</td><td>7.478815</td><td>7.163901</td><td>7.19965</td><td>7.201116</td><td>7.000996</td><td>7.605478</td><td>7.084733</td><td>7.274616</td><td>7.623437</td><td>7.695536</td><td>7.628405</td><td>7.628396</td><td>7.376713</td><td>7.502768</td><td>7.783859</td><td>7.16911</td><td>7.128845</td><td>7.331175</td><td>7.392728</td><td>7.518944</td><td>7.957457</td></tr><tr><td>&quot;HSPA6&quot;</td><td>8.646147</td><td>9.134429</td><td>7.398783</td><td>7.617116</td><td>8.546272</td><td>8.837147</td><td>7.904668</td><td>9.397619</td><td>8.595635</td><td>9.133088</td><td>9.955381</td><td>8.704306</td><td>9.249976</td><td>8.592631</td><td>8.990663</td><td>9.506727</td><td>8.826066</td><td>10.290093</td><td>8.566601</td><td>10.476805</td><td>8.968847</td><td>9.544259</td></tr><tr><td>&quot;PAX8&quot;</td><td>4.955674</td><td>4.633809</td><td>4.779538</td><td>4.769782</td><td>5.189039</td><td>4.969808</td><td>5.008537</td><td>5.134186</td><td>5.157049</td><td>4.728086</td><td>5.346386</td><td>4.71582</td><td>4.804079</td><td>5.088407</td><td>5.040982</td><td>4.851637</td><td>4.964125</td><td>5.303836</td><td>4.845228</td><td>4.768793</td><td>4.982103</td><td>5.013744</td></tr><tr><td>&quot;GUCA1A&quot;</td><td>4.566657</td><td>4.454742</td><td>4.474081</td><td>4.542757</td><td>4.448803</td><td>4.056051</td><td>4.630339</td><td>4.546007</td><td>4.39032</td><td>4.147015</td><td>4.410766</td><td>4.453085</td><td>4.434004</td><td>4.438081</td><td>4.488301</td><td>4.478591</td><td>4.473089</td><td>4.383461</td><td>4.466288</td><td>4.467433</td><td>4.790837</td><td>4.408654</td></tr><tr><td>&quot;THRA&quot;</td><td>5.744708</td><td>5.691902</td><td>5.289194</td><td>5.564487</td><td>5.790481</td><td>5.947639</td><td>5.609385</td><td>5.785431</td><td>5.950154</td><td>5.576511</td><td>5.39011</td><td>6.25262</td><td>5.490247</td><td>5.58748</td><td>5.606161</td><td>5.543975</td><td>5.974371</td><td>5.8293</td><td>6.018458</td><td>5.316998</td><td>5.420747</td><td>5.404102</td></tr><tr><td>&quot;PTPN21&quot;</td><td>3.814043</td><td>3.634538</td><td>3.75437</td><td>4.113093</td><td>3.846746</td><td>3.789836</td><td>3.69543</td><td>3.964155</td><td>3.947626</td><td>3.931912</td><td>4.303271</td><td>4.125382</td><td>4.002965</td><td>4.243301</td><td>4.006246</td><td>4.026725</td><td>3.859124</td><td>4.029854</td><td>3.833951</td><td>3.973107</td><td>3.881679</td><td>3.737949</td></tr><tr><td>&quot;CCL5&quot;</td><td>13.212147</td><td>13.164316</td><td>12.342226</td><td>12.964645</td><td>13.270208</td><td>13.030897</td><td>13.628946</td><td>13.347582</td><td>12.718301</td><td>13.200598</td><td>11.686295</td><td>12.914284</td><td>12.833934</td><td>12.759561</td><td>12.773942</td><td>12.006663</td><td>12.629261</td><td>12.564126</td><td>12.049704</td><td>12.413792</td><td>12.310641</td><td>12.695485</td></tr><tr><td>&quot;CYP2E1&quot;</td><td>4.264835</td><td>4.350058</td><td>4.279817</td><td>4.497782</td><td>4.224286</td><td>4.247999</td><td>4.378694</td><td>4.466011</td><td>4.180108</td><td>4.334538</td><td>4.267884</td><td>4.295343</td><td>4.096116</td><td>4.578787</td><td>4.088221</td><td>4.24095</td><td>4.37154</td><td>4.109611</td><td>4.11845</td><td>4.183501</td><td>4.150002</td><td>4.532212</td></tr><tr><td>&quot;EPHB3&quot;</td><td>5.521879</td><td>5.418001</td><td>5.315546</td><td>5.550489</td><td>5.666342</td><td>5.401517</td><td>5.435024</td><td>5.579085</td><td>5.631932</td><td>5.334814</td><td>6.090561</td><td>5.428605</td><td>5.513184</td><td>5.924601</td><td>5.569855</td><td>5.799532</td><td>5.658137</td><td>6.12622</td><td>5.126061</td><td>5.530971</td><td>5.530454</td><td>5.541074</td></tr><tr><td>&quot;ESRRA&quot;</td><td>8.094513</td><td>7.87557</td><td>7.825837</td><td>7.932706</td><td>8.143573</td><td>7.908348</td><td>7.910776</td><td>8.310848</td><td>8.157666</td><td>7.79066</td><td>8.156676</td><td>7.763692</td><td>7.916473</td><td>8.305422</td><td>7.957523</td><td>8.055218</td><td>8.141473</td><td>8.212826</td><td>7.820936</td><td>7.888282</td><td>7.955044</td><td>8.058493</td></tr><tr><td>&quot;CYP2A6&quot;</td><td>4.955717</td><td>4.570149</td><td>4.692307</td><td>4.811</td><td>5.122754</td><td>4.943195</td><td>5.068998</td><td>5.249745</td><td>5.266482</td><td>4.666729</td><td>5.621985</td><td>4.768766</td><td>4.771701</td><td>5.027427</td><td>4.878748</td><td>4.885317</td><td>4.843202</td><td>5.034019</td><td>4.547342</td><td>4.955641</td><td>4.984795</td><td>4.881996</td></tr><tr><td>&quot;SCARB1&quot;</td><td>4.251738</td><td>4.308186</td><td>4.622099</td><td>4.172887</td><td>4.396614</td><td>4.343341</td><td>4.422817</td><td>4.856498</td><td>4.671521</td><td>4.152416</td><td>4.66777</td><td>4.194561</td><td>4.146034</td><td>4.486522</td><td>4.210041</td><td>4.493526</td><td>4.256272</td><td>4.494345</td><td>4.13873</td><td>4.311844</td><td>4.512141</td><td>4.165953</td></tr><tr><td>&hellip;</td><td>&hellip;</td><td>&hellip;</td><td>&hellip;</td><td>&hellip;</td><td>&hellip;</td><td>&hellip;</td><td>&hellip;</td><td>&hellip;</td><td>&hellip;</td><td>&hellip;</td><td>&hellip;</td><td>&hellip;</td><td>&hellip;</td><td>&hellip;</td><td>&hellip;</td><td>&hellip;</td><td>&hellip;</td><td>&hellip;</td><td>&hellip;</td><td>&hellip;</td><td>&hellip;</td><td>&hellip;</td></tr><tr><td>&quot;LOC101060596&quot;</td><td>7.078584</td><td>7.428444</td><td>7.035467</td><td>6.566819</td><td>6.955043</td><td>7.337585</td><td>6.777859</td><td>6.756605</td><td>6.733812</td><td>7.096457</td><td>5.760727</td><td>6.377313</td><td>6.938391</td><td>6.560152</td><td>7.135958</td><td>6.902157</td><td>7.041258</td><td>6.643152</td><td>7.108918</td><td>7.165014</td><td>5.795847</td><td>7.407207</td></tr><tr><td>&quot;SMG1P7&quot;</td><td>7.078584</td><td>7.428444</td><td>7.035467</td><td>6.566819</td><td>6.955043</td><td>7.337585</td><td>6.777859</td><td>6.756605</td><td>6.733812</td><td>7.096457</td><td>5.760727</td><td>6.377313</td><td>6.938391</td><td>6.560152</td><td>7.135958</td><td>6.902157</td><td>7.041258</td><td>6.643152</td><td>7.108918</td><td>7.165014</td><td>5.795847</td><td>7.407207</td></tr><tr><td>&quot;LOC400499&quot;</td><td>7.184774</td><td>6.487663</td><td>6.598195</td><td>7.071897</td><td>6.961068</td><td>6.93277</td><td>6.707683</td><td>7.291238</td><td>6.910644</td><td>6.427538</td><td>7.456952</td><td>6.720321</td><td>6.67606</td><td>7.35784</td><td>6.302616</td><td>6.58182</td><td>6.526352</td><td>7.32878</td><td>6.547975</td><td>7.699108</td><td>6.760824</td><td>6.053515</td></tr><tr><td>&quot;LOC388210&quot;</td><td>7.184774</td><td>6.487663</td><td>6.598195</td><td>7.071897</td><td>6.961068</td><td>6.93277</td><td>6.707683</td><td>7.291238</td><td>6.910644</td><td>6.427538</td><td>7.456952</td><td>6.720321</td><td>6.67606</td><td>7.35784</td><td>6.302616</td><td>6.58182</td><td>6.526352</td><td>7.32878</td><td>6.547975</td><td>7.699108</td><td>6.760824</td><td>6.053515</td></tr><tr><td>&quot;MICOS10-NBL1&quot;</td><td>6.531381</td><td>7.026055</td><td>7.396863</td><td>6.437829</td><td>6.862368</td><td>7.106146</td><td>6.663754</td><td>6.832545</td><td>7.001955</td><td>6.628252</td><td>7.625141</td><td>7.191865</td><td>6.897653</td><td>7.421518</td><td>6.88785</td><td>6.807302</td><td>6.933287</td><td>7.189519</td><td>6.432909</td><td>6.770884</td><td>6.853465</td><td>6.985542</td></tr><tr><td>&quot;MROH7-TTC4&quot;</td><td>8.521859</td><td>8.895449</td><td>8.627517</td><td>8.087506</td><td>8.335408</td><td>8.76457</td><td>8.567791</td><td>8.309152</td><td>8.490614</td><td>8.797195</td><td>7.950486</td><td>8.456249</td><td>8.561307</td><td>8.086278</td><td>8.539475</td><td>8.698149</td><td>8.662055</td><td>8.207261</td><td>8.62565</td><td>8.367975</td><td>8.553049</td><td>8.348403</td></tr><tr><td>&quot;LOC102725263&quot;</td><td>5.859404</td><td>4.893399</td><td>5.086273</td><td>4.975402</td><td>5.000482</td><td>5.123296</td><td>5.025448</td><td>4.755253</td><td>5.208711</td><td>5.031099</td><td>5.393486</td><td>5.533374</td><td>5.034606</td><td>4.446561</td><td>4.873622</td><td>4.984746</td><td>4.816071</td><td>5.043967</td><td>5.058013</td><td>4.88547</td><td>5.215389</td><td>4.647871</td></tr><tr><td>&quot;LOC100129924&quot;</td><td>7.574356</td><td>7.70301</td><td>7.600617</td><td>7.462292</td><td>7.539239</td><td>7.832778</td><td>7.874292</td><td>7.586711</td><td>7.724182</td><td>7.82043</td><td>7.302834</td><td>7.568392</td><td>7.718462</td><td>7.397994</td><td>7.759391</td><td>7.558943</td><td>7.718342</td><td>7.462611</td><td>7.841471</td><td>7.615514</td><td>7.745439</td><td>7.718219</td></tr><tr><td>&quot;FAM86DP&quot;</td><td>4.879327</td><td>4.798487</td><td>5.032185</td><td>4.756636</td><td>4.541533</td><td>4.944704</td><td>4.792815</td><td>5.117774</td><td>5.053959</td><td>5.170546</td><td>4.778602</td><td>4.766319</td><td>4.787621</td><td>5.016983</td><td>5.024554</td><td>5.185156</td><td>5.377481</td><td>4.833021</td><td>4.911538</td><td>4.787081</td><td>5.107459</td><td>5.008376</td></tr><tr><td>&quot;FAM86B2&quot;</td><td>4.879327</td><td>4.798487</td><td>5.032185</td><td>4.756636</td><td>4.541533</td><td>4.944704</td><td>4.792815</td><td>5.117774</td><td>5.053959</td><td>5.170546</td><td>4.778602</td><td>4.766319</td><td>4.787621</td><td>5.016983</td><td>5.024554</td><td>5.185156</td><td>5.377481</td><td>4.833021</td><td>4.911538</td><td>4.787081</td><td>5.107459</td><td>5.008376</td></tr><tr><td>&quot;FAM86FP&quot;</td><td>4.879327</td><td>4.798487</td><td>5.032185</td><td>4.756636</td><td>4.541533</td><td>4.944704</td><td>4.792815</td><td>5.117774</td><td>5.053959</td><td>5.170546</td><td>4.778602</td><td>4.766319</td><td>4.787621</td><td>5.016983</td><td>5.024554</td><td>5.185156</td><td>5.377481</td><td>4.833021</td><td>4.911538</td><td>4.787081</td><td>5.107459</td><td>5.008376</td></tr><tr><td>&quot;FAM86B1&quot;</td><td>4.879327</td><td>4.798487</td><td>5.032185</td><td>4.756636</td><td>4.541533</td><td>4.944704</td><td>4.792815</td><td>5.117774</td><td>5.053959</td><td>5.170546</td><td>4.778602</td><td>4.766319</td><td>4.787621</td><td>5.016983</td><td>5.024554</td><td>5.185156</td><td>5.377481</td><td>4.833021</td><td>4.911538</td><td>4.787081</td><td>5.107459</td><td>5.008376</td></tr></tbody></table></div>"
     },
     "execution_count": 4,
     "metadata": {},
     "output_type": "execute_result"
    }
   ],
   "source": [
    "GSE55098_one"
   ],
   "metadata": {
    "collapsed": false,
    "ExecuteTime": {
     "end_time": "2023-12-03T10:23:33.754651Z",
     "start_time": "2023-12-03T10:23:33.743495Z"
    }
   },
   "id": "e3be0be79f09f347"
  },
  {
   "cell_type": "code",
   "execution_count": 5,
   "outputs": [
    {
     "data": {
      "text/plain": "shape: (22_803, 6)\n┌─────────┬────────────┬────────────┬────────────┬────────────┬────────────┐\n│ gene    ┆ GSM1329617 ┆ GSM1329622 ┆ GSM1329627 ┆ GSM1329632 ┆ GSM1329637 │\n│ ---     ┆ ---        ┆ ---        ┆ ---        ┆ ---        ┆ ---        │\n│ str     ┆ f64        ┆ f64        ┆ f64        ┆ f64        ┆ f64        │\n╞═════════╪════════════╪════════════╪════════════╪════════════╪════════════╡\n│ RFC2    ┆ 7.737012   ┆ 7.836727   ┆ 7.794087   ┆ 7.432892   ┆ 8.124732   │\n│ HSPA6   ┆ 9.286261   ┆ 8.037874   ┆ 8.922395   ┆ 8.983894   ┆ 9.658149   │\n│ PAX8    ┆ 4.728237   ┆ 5.001011   ┆ 4.880428   ┆ 4.856147   ┆ 4.956531   │\n│ GUCA1A  ┆ 4.445629   ┆ 4.519743   ┆ 4.519743   ┆ 4.524788   ┆ 4.519743   │\n│ …       ┆ …          ┆ …          ┆ …          ┆ …          ┆ …          │\n│ FAM86DP ┆ 5.276182   ┆ 5.248915   ┆ 5.081886   ┆ 5.771317   ┆ 5.43288    │\n│ FAM86B2 ┆ 5.276182   ┆ 5.248915   ┆ 5.081886   ┆ 5.771317   ┆ 5.43288    │\n│ FAM86FP ┆ 5.276182   ┆ 5.248915   ┆ 5.081886   ┆ 5.771317   ┆ 5.43288    │\n│ FAM86B1 ┆ 5.276182   ┆ 5.248915   ┆ 5.081886   ┆ 5.771317   ┆ 5.43288    │\n└─────────┴────────────┴────────────┴────────────┴────────────┴────────────┘",
      "text/html": "<div><style>\n.dataframe > thead > tr,\n.dataframe > tbody > tr {\n  text-align: right;\n  white-space: pre-wrap;\n}\n</style>\n<small>shape: (22_803, 6)</small><table border=\"1\" class=\"dataframe\"><thead><tr><th>gene</th><th>GSM1329617</th><th>GSM1329622</th><th>GSM1329627</th><th>GSM1329632</th><th>GSM1329637</th></tr><tr><td>str</td><td>f64</td><td>f64</td><td>f64</td><td>f64</td><td>f64</td></tr></thead><tbody><tr><td>&quot;RFC2&quot;</td><td>7.737012</td><td>7.836727</td><td>7.794087</td><td>7.432892</td><td>8.124732</td></tr><tr><td>&quot;HSPA6&quot;</td><td>9.286261</td><td>8.037874</td><td>8.922395</td><td>8.983894</td><td>9.658149</td></tr><tr><td>&quot;PAX8&quot;</td><td>4.728237</td><td>5.001011</td><td>4.880428</td><td>4.856147</td><td>4.956531</td></tr><tr><td>&quot;GUCA1A&quot;</td><td>4.445629</td><td>4.519743</td><td>4.519743</td><td>4.524788</td><td>4.519743</td></tr><tr><td>&quot;THRA&quot;</td><td>5.96914</td><td>5.784274</td><td>6.317857</td><td>6.025319</td><td>5.573626</td></tr><tr><td>&quot;PTPN21&quot;</td><td>3.674374</td><td>3.846698</td><td>3.886408</td><td>3.886408</td><td>3.886408</td></tr><tr><td>&quot;CCL5&quot;</td><td>13.148091</td><td>13.637502</td><td>12.916867</td><td>12.593212</td><td>12.699659</td></tr><tr><td>&quot;CYP2E1&quot;</td><td>4.549542</td><td>4.557339</td><td>4.464209</td><td>4.559979</td><td>4.650939</td></tr><tr><td>&quot;EPHB3&quot;</td><td>5.426595</td><td>5.335683</td><td>5.426595</td><td>5.499359</td><td>5.465223</td></tr><tr><td>&quot;ESRRA&quot;</td><td>8.117016</td><td>8.069888</td><td>7.824364</td><td>8.130327</td><td>8.145904</td></tr><tr><td>&quot;CYP2A6&quot;</td><td>4.958234</td><td>5.243572</td><td>5.165301</td><td>5.227144</td><td>5.183209</td></tr><tr><td>&quot;SCARB1&quot;</td><td>4.206732</td><td>4.325131</td><td>4.325131</td><td>4.424434</td><td>4.325131</td></tr><tr><td>&hellip;</td><td>&hellip;</td><td>&hellip;</td><td>&hellip;</td><td>&hellip;</td><td>&hellip;</td></tr><tr><td>&quot;LOC101060596&quot;</td><td>7.581386</td><td>6.810693</td><td>6.481323</td><td>7.095899</td><td>7.374905</td></tr><tr><td>&quot;SMG1P7&quot;</td><td>7.581386</td><td>6.810693</td><td>6.481323</td><td>7.095899</td><td>7.374905</td></tr><tr><td>&quot;LOC400499&quot;</td><td>6.760409</td><td>6.774472</td><td>6.911509</td><td>6.760409</td><td>6.353861</td></tr><tr><td>&quot;LOC388210&quot;</td><td>6.760409</td><td>6.774472</td><td>6.911509</td><td>6.760409</td><td>6.353861</td></tr><tr><td>&quot;MICOS10-NBL1&quot;</td><td>6.97312</td><td>6.654515</td><td>7.176321</td><td>6.97312</td><td>6.97312</td></tr><tr><td>&quot;MROH7-TTC4&quot;</td><td>8.945674</td><td>8.7061</td><td>8.643325</td><td>8.782319</td><td>8.43956</td></tr><tr><td>&quot;LOC102725263&quot;</td><td>4.555498</td><td>4.555498</td><td>4.945119</td><td>4.527447</td><td>4.399132</td></tr><tr><td>&quot;LOC100129924&quot;</td><td>7.782767</td><td>7.803415</td><td>7.682636</td><td>7.787672</td><td>7.782767</td></tr><tr><td>&quot;FAM86DP&quot;</td><td>5.276182</td><td>5.248915</td><td>5.081886</td><td>5.771317</td><td>5.43288</td></tr><tr><td>&quot;FAM86B2&quot;</td><td>5.276182</td><td>5.248915</td><td>5.081886</td><td>5.771317</td><td>5.43288</td></tr><tr><td>&quot;FAM86FP&quot;</td><td>5.276182</td><td>5.248915</td><td>5.081886</td><td>5.771317</td><td>5.43288</td></tr><tr><td>&quot;FAM86B1&quot;</td><td>5.276182</td><td>5.248915</td><td>5.081886</td><td>5.771317</td><td>5.43288</td></tr></tbody></table></div>"
     },
     "execution_count": 5,
     "metadata": {},
     "output_type": "execute_result"
    }
   ],
   "source": [
    "GSE55098_two"
   ],
   "metadata": {
    "collapsed": false,
    "ExecuteTime": {
     "end_time": "2023-12-03T10:23:35.724814Z",
     "start_time": "2023-12-03T10:23:35.721705Z"
    }
   },
   "id": "3b870a1f776e262f"
  },
  {
   "cell_type": "markdown",
   "source": [
    "# Determine common genes per condition\n",
    "\n",
    "The datasets for each condition come from different sources. \n",
    "To use all the samples of a condition together, we have to see which are the common genes."
   ],
   "metadata": {
    "collapsed": false
   },
   "id": "24a90ea4cb4ca882"
  },
  {
   "cell_type": "code",
   "execution_count": 10,
   "outputs": [
    {
     "name": "stdout",
     "output_type": "stream",
     "text": [
      "\n",
      "    Common Genes:  \n",
      "    \n",
      "    RA: 2602\n",
      "    T1D: 2504\n",
      "    SSc: 6582\n",
      "    SLE: 2050\n",
      "    SjS: 7683\n"
     ]
    }
   ],
   "source": [
    "ra_common_genes = gene_intersection(ra_data)\n",
    "t1d_common_genes = gene_intersection(t1d_data)\n",
    "ssc_common_genes = gene_intersection(ssc_data)\n",
    "sle_common_genes = gene_intersection(sle_data)\n",
    "sjs_common_genes = gene_intersection(sjs_data)\n",
    "\n",
    "print(f\"\"\"\n",
    "    Common Genes:  \n",
    "    \n",
    "    RA: {len(ra_common_genes)}\n",
    "    T1D: {len(t1d_common_genes)}\n",
    "    SSc: {len(ssc_common_genes)}\n",
    "    SLE: {len(sle_common_genes)}\n",
    "    SjS: {len(sjs_common_genes)}\n",
    "\"\"\")"
   ],
   "metadata": {
    "collapsed": false,
    "ExecuteTime": {
     "end_time": "2024-02-25T20:50:10.503473Z",
     "start_time": "2024-02-25T20:50:10.389742Z"
    }
   },
   "id": "9c6af9fc99d77506"
  },
  {
   "cell_type": "code",
   "execution_count": 11,
   "outputs": [
    {
     "name": "stdout",
     "output_type": "stream",
     "text": [
      "\n",
      "    Shape (including only common genes): \n",
      "    \n",
      "    RA: (2602, 1123)\n",
      "    T1D: (2504, 177)\n",
      "    SSc: (6582, 230)\n",
      "    SLE: (2050, 2054)\n",
      "    SjS: (7683, 401)\n"
     ]
    }
   ],
   "source": [
    "ra_cleaned_df = common_genes_dataframe(ra_data)\n",
    "t1d_cleaned_df = common_genes_dataframe(t1d_data)\n",
    "ssc_cleaned_df = common_genes_dataframe(ssc_data)\n",
    "sle_cleaned_df = common_genes_dataframe(sle_data)\n",
    "sjs_cleaned_df = common_genes_dataframe(sjs_data)\n",
    "\n",
    "print(f\"\"\"\n",
    "    Shape (including only common genes): \n",
    "    \n",
    "    RA: {ra_cleaned_df.shape}\n",
    "    T1D: {t1d_cleaned_df.shape}\n",
    "    SSc: {ssc_cleaned_df.shape}\n",
    "    SLE: {sle_cleaned_df.shape}\n",
    "    SjS: {sjs_cleaned_df.shape}\n",
    "\"\"\")\n"
   ],
   "metadata": {
    "collapsed": false,
    "ExecuteTime": {
     "end_time": "2024-02-25T20:50:17.168047Z",
     "start_time": "2024-02-25T20:50:16.983697Z"
    }
   },
   "id": "60b7aafc8b53222e"
  },
  {
   "cell_type": "code",
   "execution_count": 12,
   "outputs": [
    {
     "data": {
      "text/plain": "shape: (2_602, 1_123)\n┌───────────┬───────────┬───────────┬───────────┬───┬───────────┬───────────┬───────────┬──────────┐\n│ gene      ┆ GSM239736 ┆ GSM239736 ┆ GSM239737 ┆ … ┆ GSM133732 ┆ GSM133732 ┆ GSM133732 ┆ GSM13373 │\n│ ---       ┆ 8         ┆ 9         ┆ 0         ┆   ┆ 3         ┆ 4         ┆ 5         ┆ 26       │\n│ str       ┆ ---       ┆ ---       ┆ ---       ┆   ┆ ---       ┆ ---       ┆ ---       ┆ ---      │\n│           ┆ f64       ┆ f64       ┆ f64       ┆   ┆ f64       ┆ f64       ┆ f64       ┆ f64      │\n╞═══════════╪═══════════╪═══════════╪═══════════╪═══╪═══════════╪═══════════╪═══════════╪══════════╡\n│ PRPF8     ┆ 10.300174 ┆ 10.035596 ┆ 9.946043  ┆ … ┆ 10.431685 ┆ 10.290099 ┆ 10.265424 ┆ 10.20004 │\n│ CAPNS1    ┆ 10.798511 ┆ 10.615747 ┆ 10.336886 ┆ … ┆ 12.097445 ┆ 12.521696 ┆ 12.38552  ┆ 12.34751 │\n│           ┆           ┆           ┆           ┆   ┆           ┆           ┆           ┆ 7        │\n│ RPL35     ┆ 9.626852  ┆ 9.906102  ┆ 9.301532  ┆ … ┆ 12.842306 ┆ 12.761665 ┆ 12.597323 ┆ 12.03921 │\n│           ┆           ┆           ┆           ┆   ┆           ┆           ┆           ┆ 1        │\n│ EIF4G2    ┆ 10.906887 ┆ 11.034909 ┆ 11.479914 ┆ … ┆ 8.729406  ┆ 8.821131  ┆ 8.823763  ┆ 8.914625 │\n│ EIF3D     ┆ 10.012536 ┆ 10.060014 ┆ 9.672631  ┆ … ┆ 11.175461 ┆ 11.318008 ┆ 11.130285 ┆ 11.04941 │\n│           ┆           ┆           ┆           ┆   ┆           ┆           ┆           ┆ 5        │\n│ …         ┆ …         ┆ …         ┆ …         ┆ … ┆ …         ┆ …         ┆ …         ┆ …        │\n│ AGAP6     ┆ 6.531409  ┆ 6.875907  ┆ 6.816773  ┆ … ┆ 9.720059  ┆ 10.091315 ┆ 9.854061  ┆ 9.590049 │\n│ FBXO41    ┆ 7.010478  ┆ 7.157273  ┆ 7.0324    ┆ … ┆ 7.361597  ┆ 7.150914  ┆ 7.276689  ┆ 7.565414 │\n│ LINC00869 ┆ 7.262123  ┆ 7.219805  ┆ 7.326638  ┆ … ┆ 9.875226  ┆ 9.298062  ┆ 9.574527  ┆ 9.206733 │\n│ PFDN6     ┆ 6.774082  ┆ 6.761453  ┆ 6.662362  ┆ … ┆ 7.469991  ┆ 7.314559  ┆ 7.233719  ┆ 7.243504 │\n│ SDHAP1    ┆ 5.934374  ┆ 5.932378  ┆ 6.341597  ┆ … ┆ 10.71353  ┆ 10.613987 ┆ 10.680925 ┆ 10.50665 │\n│           ┆           ┆           ┆           ┆   ┆           ┆           ┆           ┆ 6        │\n└───────────┴───────────┴───────────┴───────────┴───┴───────────┴───────────┴───────────┴──────────┘",
      "text/html": "<div><style>\n.dataframe > thead > tr,\n.dataframe > tbody > tr {\n  text-align: right;\n  white-space: pre-wrap;\n}\n</style>\n<small>shape: (2_602, 1_123)</small><table border=\"1\" class=\"dataframe\"><thead><tr><th>gene</th><th>GSM2397368</th><th>GSM2397369</th><th>GSM2397370</th><th>GSM2397371</th><th>GSM2397372</th><th>GSM2397373</th><th>GSM2397374</th><th>GSM2397375</th><th>GSM2397376</th><th>GSM2397377</th><th>GSM2397378</th><th>GSM2397379</th><th>GSM2397380</th><th>GSM2397381</th><th>GSM2397382</th><th>GSM2397383</th><th>GSM2397384</th><th>GSM2397385</th><th>GSM2397386</th><th>GSM2397387</th><th>GSM2397388</th><th>GSM2397389</th><th>GSM2397390</th><th>GSM2397391</th><th>GSM940464</th><th>GSM940465</th><th>GSM940466</th><th>GSM940467</th><th>GSM940468</th><th>GSM940469</th><th>GSM940470</th><th>GSM940471</th><th>GSM940472</th><th>GSM940473</th><th>GSM940474</th><th>GSM940475</th><th>&hellip;</th><th>GSM2981270</th><th>GSM2981271</th><th>GSM2981273</th><th>GSM2981274</th><th>GSM2981275</th><th>GSM2981277</th><th>GSM2981278</th><th>GSM2981282</th><th>GSM2981284</th><th>GSM2981285</th><th>GSM2981287</th><th>GSM2981288</th><th>GSM2981292</th><th>GSM2981299</th><th>GSM1337304</th><th>GSM1337305</th><th>GSM1337306</th><th>GSM1337307</th><th>GSM1337308</th><th>GSM1337309</th><th>GSM1337310</th><th>GSM1337311</th><th>GSM1337312</th><th>GSM1337313</th><th>GSM1337314</th><th>GSM1337315</th><th>GSM1337316</th><th>GSM1337317</th><th>GSM1337318</th><th>GSM1337319</th><th>GSM1337320</th><th>GSM1337321</th><th>GSM1337322</th><th>GSM1337323</th><th>GSM1337324</th><th>GSM1337325</th><th>GSM1337326</th></tr><tr><td>str</td><td>f64</td><td>f64</td><td>f64</td><td>f64</td><td>f64</td><td>f64</td><td>f64</td><td>f64</td><td>f64</td><td>f64</td><td>f64</td><td>f64</td><td>f64</td><td>f64</td><td>f64</td><td>f64</td><td>f64</td><td>f64</td><td>f64</td><td>f64</td><td>f64</td><td>f64</td><td>f64</td><td>f64</td><td>f64</td><td>f64</td><td>f64</td><td>f64</td><td>f64</td><td>f64</td><td>f64</td><td>f64</td><td>f64</td><td>f64</td><td>f64</td><td>f64</td><td>&hellip;</td><td>f64</td><td>f64</td><td>f64</td><td>f64</td><td>f64</td><td>f64</td><td>f64</td><td>f64</td><td>f64</td><td>f64</td><td>f64</td><td>f64</td><td>f64</td><td>f64</td><td>f64</td><td>f64</td><td>f64</td><td>f64</td><td>f64</td><td>f64</td><td>f64</td><td>f64</td><td>f64</td><td>f64</td><td>f64</td><td>f64</td><td>f64</td><td>f64</td><td>f64</td><td>f64</td><td>f64</td><td>f64</td><td>f64</td><td>f64</td><td>f64</td><td>f64</td><td>f64</td></tr></thead><tbody><tr><td>&quot;PRPF8&quot;</td><td>10.300174</td><td>10.035596</td><td>9.946043</td><td>9.754634</td><td>9.548489</td><td>10.454243</td><td>10.422701</td><td>10.466462</td><td>10.416991</td><td>10.269101</td><td>10.612026</td><td>10.432169</td><td>9.842217</td><td>10.598199</td><td>10.527711</td><td>10.446505</td><td>10.275231</td><td>10.303516</td><td>10.38749</td><td>9.981355</td><td>10.248172</td><td>10.222183</td><td>10.127072</td><td>10.109676</td><td>10.526841</td><td>10.42496</td><td>10.264395</td><td>10.059819</td><td>10.117711</td><td>10.260505</td><td>10.054314</td><td>10.008526</td><td>10.546508</td><td>10.054489</td><td>9.877455</td><td>10.23425</td><td>&hellip;</td><td>7.119925</td><td>7.882404</td><td>7.301386</td><td>7.44894</td><td>7.511872</td><td>6.967906</td><td>7.246508</td><td>7.3634</td><td>7.217893</td><td>6.834777</td><td>7.061777</td><td>7.446133</td><td>7.080927</td><td>6.934464</td><td>10.160033</td><td>10.176519</td><td>10.342486</td><td>10.043809</td><td>10.224774</td><td>10.281766</td><td>10.439942</td><td>10.568807</td><td>10.433375</td><td>10.323734</td><td>10.307302</td><td>10.5377</td><td>10.414889</td><td>10.362321</td><td>10.83282</td><td>10.207693</td><td>10.780509</td><td>10.533173</td><td>10.453166</td><td>10.431685</td><td>10.290099</td><td>10.265424</td><td>10.20004</td></tr><tr><td>&quot;CAPNS1&quot;</td><td>10.798511</td><td>10.615747</td><td>10.336886</td><td>10.826442</td><td>10.006123</td><td>10.589632</td><td>11.054638</td><td>11.031265</td><td>11.001215</td><td>11.037475</td><td>11.048611</td><td>11.171153</td><td>10.602799</td><td>11.299048</td><td>11.129337</td><td>10.60026</td><td>10.783247</td><td>10.942931</td><td>10.374393</td><td>10.97013</td><td>10.516086</td><td>11.131564</td><td>11.341242</td><td>10.356657</td><td>12.520915</td><td>12.526763</td><td>12.514427</td><td>12.46295</td><td>12.598133</td><td>12.619007</td><td>12.417359</td><td>12.270408</td><td>12.392827</td><td>12.552039</td><td>12.661467</td><td>12.532013</td><td>&hellip;</td><td>9.598248</td><td>10.306487</td><td>9.81535</td><td>9.87711</td><td>10.033491</td><td>9.606278</td><td>9.306791</td><td>10.156029</td><td>9.738847</td><td>9.302198</td><td>9.392385</td><td>9.941688</td><td>10.051251</td><td>9.177352</td><td>12.181145</td><td>12.523872</td><td>12.090685</td><td>12.01898</td><td>12.264899</td><td>12.510742</td><td>12.640521</td><td>12.670836</td><td>12.542486</td><td>12.337569</td><td>12.349254</td><td>12.443957</td><td>12.136351</td><td>12.23419</td><td>12.518501</td><td>12.498801</td><td>12.293609</td><td>12.442576</td><td>12.344191</td><td>12.097445</td><td>12.521696</td><td>12.38552</td><td>12.347517</td></tr><tr><td>&quot;RPL35&quot;</td><td>9.626852</td><td>9.906102</td><td>9.301532</td><td>9.480503</td><td>9.220034</td><td>9.430944</td><td>9.658827</td><td>9.151758</td><td>9.545525</td><td>8.675993</td><td>8.941811</td><td>9.16816</td><td>9.998175</td><td>9.165326</td><td>9.39243</td><td>9.398868</td><td>8.567068</td><td>9.719124</td><td>7.98824</td><td>9.128049</td><td>9.692231</td><td>10.226649</td><td>10.243644</td><td>8.760298</td><td>12.291249</td><td>12.603199</td><td>12.487063</td><td>12.708696</td><td>12.332445</td><td>12.546499</td><td>12.245904</td><td>12.309157</td><td>12.778988</td><td>12.545242</td><td>12.512011</td><td>12.398779</td><td>&hellip;</td><td>10.159542</td><td>10.425637</td><td>10.358654</td><td>9.926475</td><td>10.391847</td><td>9.641357</td><td>10.863536</td><td>9.9132</td><td>9.654068</td><td>10.248569</td><td>10.609523</td><td>10.430188</td><td>9.670378</td><td>10.386452</td><td>12.872269</td><td>12.784121</td><td>13.475936</td><td>12.596575</td><td>12.725428</td><td>12.964772</td><td>12.439125</td><td>12.365391</td><td>12.16772</td><td>12.452918</td><td>12.541509</td><td>13.012694</td><td>12.903703</td><td>12.760299</td><td>12.835132</td><td>12.714942</td><td>13.017329</td><td>12.83234</td><td>12.645567</td><td>12.842306</td><td>12.761665</td><td>12.597323</td><td>12.039211</td></tr><tr><td>&quot;EIF4G2&quot;</td><td>10.906887</td><td>11.034909</td><td>11.479914</td><td>10.822965</td><td>11.240902</td><td>11.124181</td><td>10.867936</td><td>10.813486</td><td>10.870958</td><td>10.997624</td><td>10.778594</td><td>10.618579</td><td>11.078633</td><td>10.451386</td><td>10.761373</td><td>11.121743</td><td>10.993374</td><td>10.995757</td><td>11.7326</td><td>11.416099</td><td>10.938314</td><td>10.927226</td><td>10.939713</td><td>11.756742</td><td>8.856647</td><td>8.978837</td><td>8.974795</td><td>8.97402</td><td>8.828827</td><td>8.895059</td><td>8.846426</td><td>8.926981</td><td>8.980289</td><td>8.92339</td><td>8.815299</td><td>9.033444</td><td>&hellip;</td><td>10.27754</td><td>10.487264</td><td>10.434842</td><td>10.411115</td><td>10.49043</td><td>10.362595</td><td>10.400059</td><td>10.519746</td><td>10.417034</td><td>10.354741</td><td>10.187258</td><td>10.323499</td><td>10.423264</td><td>10.367952</td><td>8.891035</td><td>8.731318</td><td>8.803197</td><td>9.004742</td><td>8.977229</td><td>8.796911</td><td>8.945796</td><td>8.784818</td><td>8.957387</td><td>8.834992</td><td>8.651417</td><td>8.749622</td><td>8.820685</td><td>8.797222</td><td>8.662574</td><td>8.697811</td><td>8.694772</td><td>8.734672</td><td>8.878856</td><td>8.729406</td><td>8.821131</td><td>8.823763</td><td>8.914625</td></tr><tr><td>&quot;EIF3D&quot;</td><td>10.012536</td><td>10.060014</td><td>9.672631</td><td>9.932947</td><td>9.755336</td><td>9.988787</td><td>9.898523</td><td>9.872938</td><td>10.117764</td><td>9.904473</td><td>9.950294</td><td>9.997951</td><td>9.924814</td><td>10.279242</td><td>10.026822</td><td>9.985138</td><td>9.712185</td><td>10.047398</td><td>9.44174</td><td>9.846407</td><td>10.033734</td><td>10.034972</td><td>10.256607</td><td>9.566959</td><td>10.791821</td><td>11.08345</td><td>10.846693</td><td>11.377584</td><td>11.0261</td><td>11.105787</td><td>10.978005</td><td>11.039116</td><td>11.174745</td><td>10.975038</td><td>11.218587</td><td>11.078547</td><td>&hellip;</td><td>8.55959</td><td>9.685738</td><td>9.453625</td><td>9.302068</td><td>9.167857</td><td>9.040265</td><td>8.834986</td><td>9.386986</td><td>9.194231</td><td>8.834719</td><td>8.813779</td><td>9.462258</td><td>9.232393</td><td>8.849218</td><td>11.399661</td><td>11.55592</td><td>11.576193</td><td>11.435128</td><td>11.095736</td><td>11.582461</td><td>11.505535</td><td>11.358083</td><td>11.319633</td><td>11.370875</td><td>11.118983</td><td>11.506252</td><td>11.378489</td><td>11.36639</td><td>11.51997</td><td>11.490385</td><td>11.798981</td><td>11.69424</td><td>11.544409</td><td>11.175461</td><td>11.318008</td><td>11.130285</td><td>11.049415</td></tr><tr><td>&quot;PARK7&quot;</td><td>8.85143</td><td>8.786299</td><td>8.57732</td><td>9.003627</td><td>8.297613</td><td>8.464054</td><td>8.745617</td><td>8.811398</td><td>8.981532</td><td>8.343865</td><td>8.802272</td><td>8.752875</td><td>8.876582</td><td>8.981856</td><td>8.865111</td><td>8.481434</td><td>8.555783</td><td>8.867129</td><td>8.11962</td><td>8.993999</td><td>8.765954</td><td>9.064063</td><td>9.297216</td><td>8.151186</td><td>12.046291</td><td>11.864447</td><td>11.945154</td><td>12.095167</td><td>11.745806</td><td>11.874272</td><td>11.859361</td><td>11.74176</td><td>11.963679</td><td>11.719312</td><td>12.073048</td><td>11.934192</td><td>&hellip;</td><td>9.096651</td><td>9.32621</td><td>9.36752</td><td>9.429297</td><td>9.383394</td><td>9.487606</td><td>9.16719</td><td>9.507132</td><td>8.906874</td><td>9.211261</td><td>9.385746</td><td>9.657476</td><td>9.625323</td><td>8.990624</td><td>12.229251</td><td>12.179475</td><td>12.649769</td><td>12.091069</td><td>12.183379</td><td>12.269187</td><td>12.122227</td><td>11.931608</td><td>12.011842</td><td>11.919578</td><td>12.232339</td><td>12.301144</td><td>12.480563</td><td>12.437889</td><td>12.352416</td><td>12.293238</td><td>12.524465</td><td>12.332405</td><td>12.214804</td><td>12.272112</td><td>12.384915</td><td>12.232339</td><td>11.855027</td></tr><tr><td>&quot;SRP14&quot;</td><td>8.69211</td><td>8.60685</td><td>9.048156</td><td>8.695237</td><td>8.567081</td><td>8.208721</td><td>8.511745</td><td>8.389417</td><td>8.599481</td><td>7.994985</td><td>8.19122</td><td>8.291987</td><td>9.143423</td><td>8.08203</td><td>8.42594</td><td>8.426995</td><td>8.092118</td><td>8.876174</td><td>8.406378</td><td>8.928691</td><td>8.396433</td><td>9.113133</td><td>9.176903</td><td>8.755166</td><td>12.240869</td><td>12.351838</td><td>12.174052</td><td>12.300465</td><td>12.277837</td><td>12.223097</td><td>12.042883</td><td>12.063994</td><td>12.224776</td><td>12.143667</td><td>12.229909</td><td>12.221393</td><td>&hellip;</td><td>9.956946</td><td>9.707894</td><td>9.889438</td><td>9.835597</td><td>9.695191</td><td>9.267774</td><td>10.245553</td><td>9.546475</td><td>9.233547</td><td>10.013431</td><td>9.964908</td><td>9.822841</td><td>9.689907</td><td>10.096109</td><td>12.044708</td><td>12.365502</td><td>12.080553</td><td>11.945214</td><td>12.044708</td><td>11.980851</td><td>12.086691</td><td>11.946552</td><td>11.94325</td><td>11.945004</td><td>11.79429</td><td>12.239176</td><td>12.044708</td><td>11.98261</td><td>12.004288</td><td>12.097725</td><td>11.998379</td><td>12.060758</td><td>12.075946</td><td>11.860915</td><td>12.240921</td><td>11.95315</td><td>12.00175</td></tr><tr><td>&quot;GDI2&quot;</td><td>9.719654</td><td>9.97872</td><td>10.248648</td><td>9.79068</td><td>9.957437</td><td>9.737455</td><td>9.654324</td><td>9.715187</td><td>9.675309</td><td>9.893657</td><td>9.913467</td><td>9.576051</td><td>9.961961</td><td>9.38235</td><td>9.584085</td><td>9.728028</td><td>9.694285</td><td>9.984663</td><td>10.071992</td><td>10.179648</td><td>9.877713</td><td>9.969862</td><td>10.13692</td><td>10.292576</td><td>11.553411</td><td>11.670403</td><td>11.593286</td><td>12.002958</td><td>11.750887</td><td>11.656724</td><td>11.036002</td><td>11.206752</td><td>11.709237</td><td>11.476786</td><td>11.556055</td><td>11.736227</td><td>&hellip;</td><td>9.486755</td><td>9.628617</td><td>9.834869</td><td>9.806216</td><td>9.904071</td><td>9.749044</td><td>9.639119</td><td>9.958226</td><td>9.701109</td><td>9.811951</td><td>9.70284</td><td>9.653827</td><td>9.736155</td><td>9.600132</td><td>11.5803</td><td>11.555362</td><td>11.643939</td><td>11.454903</td><td>11.526532</td><td>11.74651</td><td>11.51739</td><td>11.396804</td><td>11.218069</td><td>11.545416</td><td>11.551904</td><td>11.629795</td><td>11.468176</td><td>11.485629</td><td>11.824352</td><td>11.765904</td><td>11.84613</td><td>12.014944</td><td>11.731434</td><td>11.693267</td><td>11.735996</td><td>11.693198</td><td>11.652111</td></tr><tr><td>&quot;RPL11&quot;</td><td>10.401248</td><td>10.504498</td><td>10.397176</td><td>10.370343</td><td>10.056174</td><td>10.800289</td><td>10.637548</td><td>10.179824</td><td>10.536041</td><td>10.000852</td><td>10.187513</td><td>9.983243</td><td>11.173004</td><td>9.90344</td><td>10.49582</td><td>10.271078</td><td>9.493041</td><td>10.787019</td><td>9.200629</td><td>10.286474</td><td>10.350378</td><td>11.376818</td><td>11.203428</td><td>9.42554</td><td>13.273766</td><td>13.166214</td><td>13.19703</td><td>13.209769</td><td>12.973446</td><td>13.040458</td><td>13.117403</td><td>13.016013</td><td>13.324036</td><td>13.058688</td><td>13.255725</td><td>13.278277</td><td>&hellip;</td><td>10.812888</td><td>11.219187</td><td>11.20299</td><td>10.727971</td><td>11.092273</td><td>10.50693</td><td>11.281495</td><td>10.65244</td><td>10.602707</td><td>11.305551</td><td>11.526104</td><td>11.039519</td><td>10.97389</td><td>11.036077</td><td>13.062139</td><td>13.275264</td><td>13.625257</td><td>12.883479</td><td>12.935967</td><td>13.14794</td><td>12.795815</td><td>13.028481</td><td>12.851096</td><td>12.890598</td><td>12.591412</td><td>13.150466</td><td>12.832518</td><td>12.865604</td><td>13.113446</td><td>12.737766</td><td>13.015187</td><td>12.77205</td><td>12.766829</td><td>12.936842</td><td>13.085008</td><td>12.832331</td><td>12.599019</td></tr><tr><td>&quot;ARF3&quot;</td><td>10.626713</td><td>10.124766</td><td>10.073174</td><td>10.3627</td><td>10.102642</td><td>10.285412</td><td>10.664667</td><td>10.572896</td><td>10.583315</td><td>10.618567</td><td>10.545751</td><td>10.683704</td><td>10.430637</td><td>10.506613</td><td>10.678565</td><td>10.446505</td><td>10.935773</td><td>10.506458</td><td>11.04198</td><td>10.868442</td><td>10.28888</td><td>10.437837</td><td>10.815563</td><td>10.348162</td><td>10.666029</td><td>10.306862</td><td>10.607278</td><td>10.490324</td><td>10.780977</td><td>10.543412</td><td>10.502342</td><td>10.542252</td><td>10.513902</td><td>10.427317</td><td>10.414394</td><td>10.295966</td><td>&hellip;</td><td>9.75628</td><td>10.160415</td><td>9.848731</td><td>10.055628</td><td>9.898772</td><td>10.264194</td><td>9.405399</td><td>9.973769</td><td>10.058273</td><td>9.611752</td><td>9.531126</td><td>9.827528</td><td>10.164994</td><td>9.540439</td><td>10.539795</td><td>10.812486</td><td>10.264111</td><td>10.35838</td><td>10.296497</td><td>10.503848</td><td>10.772021</td><td>10.67565</td><td>10.589931</td><td>10.664448</td><td>10.982541</td><td>10.115003</td><td>10.510399</td><td>10.933369</td><td>10.159218</td><td>10.309276</td><td>10.368843</td><td>10.70756</td><td>10.279289</td><td>9.833679</td><td>10.118108</td><td>9.958111</td><td>10.683074</td></tr><tr><td>&quot;RPL24&quot;</td><td>9.687403</td><td>9.976458</td><td>9.677383</td><td>9.872339</td><td>9.511654</td><td>9.599327</td><td>9.865789</td><td>9.475073</td><td>10.48163</td><td>9.037077</td><td>9.456502</td><td>9.526192</td><td>10.022995</td><td>9.757509</td><td>9.556008</td><td>9.6143</td><td>8.726541</td><td>9.830339</td><td>8.367946</td><td>9.287629</td><td>9.784241</td><td>10.375853</td><td>10.277109</td><td>8.960829</td><td>12.848007</td><td>12.938336</td><td>12.89639</td><td>12.984526</td><td>12.640683</td><td>12.661676</td><td>12.835108</td><td>12.872888</td><td>13.056154</td><td>12.814795</td><td>12.927339</td><td>12.78309</td><td>&hellip;</td><td>12.281065</td><td>12.14156</td><td>12.219691</td><td>11.925231</td><td>12.167226</td><td>11.970664</td><td>12.388512</td><td>12.033957</td><td>11.940949</td><td>12.284301</td><td>12.292923</td><td>12.205137</td><td>12.011652</td><td>12.15183</td><td>13.192972</td><td>13.161619</td><td>13.624856</td><td>13.225055</td><td>13.123122</td><td>13.131727</td><td>12.923458</td><td>12.798635</td><td>12.670304</td><td>12.7882</td><td>12.829874</td><td>13.345156</td><td>13.244174</td><td>13.097387</td><td>13.186104</td><td>12.971825</td><td>13.211603</td><td>13.015344</td><td>12.940196</td><td>13.040281</td><td>13.091405</td><td>12.848898</td><td>12.49694</td></tr><tr><td>&quot;HNRNPC&quot;</td><td>11.546775</td><td>11.223476</td><td>11.527071</td><td>11.360235</td><td>11.581289</td><td>10.995395</td><td>11.177405</td><td>11.025459</td><td>11.277736</td><td>11.085788</td><td>10.922861</td><td>11.195281</td><td>11.430556</td><td>10.944854</td><td>11.09693</td><td>11.115609</td><td>11.069742</td><td>11.189005</td><td>11.501066</td><td>11.458363</td><td>11.234952</td><td>11.311045</td><td>11.477034</td><td>11.444035</td><td>10.622006</td><td>10.617453</td><td>10.614824</td><td>10.772731</td><td>10.447487</td><td>10.538329</td><td>10.413768</td><td>10.544931</td><td>10.631665</td><td>10.417669</td><td>10.634841</td><td>10.587894</td><td>&hellip;</td><td>10.629576</td><td>10.784495</td><td>10.753173</td><td>10.862189</td><td>10.802689</td><td>10.814627</td><td>10.817387</td><td>10.890933</td><td>10.882309</td><td>10.928414</td><td>10.617281</td><td>10.936524</td><td>10.901453</td><td>10.769936</td><td>10.79944</td><td>10.734477</td><td>10.895265</td><td>11.049529</td><td>10.90697</td><td>10.41412</td><td>10.541293</td><td>10.405406</td><td>10.451017</td><td>10.484532</td><td>10.669929</td><td>10.643398</td><td>10.843563</td><td>10.92581</td><td>10.689706</td><td>10.73908</td><td>11.027247</td><td>10.766682</td><td>10.804049</td><td>10.725134</td><td>10.711097</td><td>10.675005</td><td>10.46306</td></tr><tr><td>&hellip;</td><td>&hellip;</td><td>&hellip;</td><td>&hellip;</td><td>&hellip;</td><td>&hellip;</td><td>&hellip;</td><td>&hellip;</td><td>&hellip;</td><td>&hellip;</td><td>&hellip;</td><td>&hellip;</td><td>&hellip;</td><td>&hellip;</td><td>&hellip;</td><td>&hellip;</td><td>&hellip;</td><td>&hellip;</td><td>&hellip;</td><td>&hellip;</td><td>&hellip;</td><td>&hellip;</td><td>&hellip;</td><td>&hellip;</td><td>&hellip;</td><td>&hellip;</td><td>&hellip;</td><td>&hellip;</td><td>&hellip;</td><td>&hellip;</td><td>&hellip;</td><td>&hellip;</td><td>&hellip;</td><td>&hellip;</td><td>&hellip;</td><td>&hellip;</td><td>&hellip;</td><td>&hellip;</td><td>&hellip;</td><td>&hellip;</td><td>&hellip;</td><td>&hellip;</td><td>&hellip;</td><td>&hellip;</td><td>&hellip;</td><td>&hellip;</td><td>&hellip;</td><td>&hellip;</td><td>&hellip;</td><td>&hellip;</td><td>&hellip;</td><td>&hellip;</td><td>&hellip;</td><td>&hellip;</td><td>&hellip;</td><td>&hellip;</td><td>&hellip;</td><td>&hellip;</td><td>&hellip;</td><td>&hellip;</td><td>&hellip;</td><td>&hellip;</td><td>&hellip;</td><td>&hellip;</td><td>&hellip;</td><td>&hellip;</td><td>&hellip;</td><td>&hellip;</td><td>&hellip;</td><td>&hellip;</td><td>&hellip;</td><td>&hellip;</td><td>&hellip;</td><td>&hellip;</td><td>&hellip;</td></tr><tr><td>&quot;TRIM34&quot;</td><td>7.102295</td><td>6.926779</td><td>7.160101</td><td>7.330746</td><td>6.984201</td><td>6.41804</td><td>6.853188</td><td>6.821</td><td>6.955352</td><td>6.806713</td><td>7.09811</td><td>6.925563</td><td>7.168111</td><td>6.455796</td><td>6.444052</td><td>6.504802</td><td>7.158357</td><td>6.814979</td><td>8.112995</td><td>7.249783</td><td>6.720004</td><td>7.315874</td><td>7.129042</td><td>7.641014</td><td>8.861983</td><td>9.489592</td><td>9.093379</td><td>9.402665</td><td>9.499177</td><td>9.282618</td><td>9.09326</td><td>9.26812</td><td>9.193812</td><td>9.34577</td><td>9.306338</td><td>9.023152</td><td>&hellip;</td><td>6.006075</td><td>6.178409</td><td>5.805586</td><td>6.367544</td><td>6.3459</td><td>7.072879</td><td>6.010467</td><td>6.477516</td><td>7.254468</td><td>6.899612</td><td>6.333824</td><td>6.051702</td><td>6.859545</td><td>6.446822</td><td>8.655283</td><td>8.916565</td><td>8.530396</td><td>7.936509</td><td>7.626997</td><td>8.085668</td><td>8.607037</td><td>8.622514</td><td>8.682309</td><td>8.535803</td><td>9.023899</td><td>9.186066</td><td>8.965504</td><td>8.910101</td><td>8.764931</td><td>9.066525</td><td>9.079914</td><td>9.26086</td><td>9.170541</td><td>9.023553</td><td>9.082715</td><td>8.991079</td><td>8.711045</td></tr><tr><td>&quot;METTL2A&quot;</td><td>5.258462</td><td>5.283128</td><td>4.695129</td><td>5.021109</td><td>4.837426</td><td>5.159607</td><td>5.572945</td><td>4.85878</td><td>4.939027</td><td>5.33519</td><td>4.758521</td><td>5.117107</td><td>4.719868</td><td>5.523445</td><td>5.168508</td><td>5.130676</td><td>4.533816</td><td>4.924418</td><td>4.28358</td><td>5.026495</td><td>5.438735</td><td>5.101508</td><td>4.932922</td><td>4.843608</td><td>5.181318</td><td>5.275112</td><td>5.40819</td><td>5.431045</td><td>5.291887</td><td>5.225225</td><td>5.193197</td><td>5.199607</td><td>5.53027</td><td>5.277937</td><td>5.42142</td><td>5.331819</td><td>&hellip;</td><td>5.839</td><td>6.354604</td><td>5.93544</td><td>5.770172</td><td>5.742963</td><td>5.611872</td><td>5.722953</td><td>5.953796</td><td>6.030901</td><td>4.782667</td><td>5.166815</td><td>6.034743</td><td>5.728171</td><td>5.468149</td><td>4.773424</td><td>4.563602</td><td>4.757967</td><td>4.895781</td><td>5.320502</td><td>4.718154</td><td>4.875888</td><td>4.685555</td><td>4.750571</td><td>4.759968</td><td>4.831722</td><td>4.832523</td><td>4.848312</td><td>4.888336</td><td>4.954829</td><td>4.775452</td><td>4.895879</td><td>4.827443</td><td>4.785309</td><td>4.690381</td><td>4.686774</td><td>4.774673</td><td>4.790611</td></tr><tr><td>&quot;ZNF280D&quot;</td><td>3.777007</td><td>5.395752</td><td>5.75954</td><td>4.812529</td><td>5.884688</td><td>4.719913</td><td>3.469374</td><td>3.994752</td><td>4.522435</td><td>4.096402</td><td>4.341112</td><td>3.663049</td><td>5.377263</td><td>3.258627</td><td>3.711842</td><td>5.313272</td><td>4.533816</td><td>4.363016</td><td>5.009752</td><td>5.256812</td><td>5.438735</td><td>4.593811</td><td>3.820858</td><td>5.512478</td><td>5.996928</td><td>6.543455</td><td>6.026467</td><td>6.355398</td><td>6.224155</td><td>6.032738</td><td>5.946374</td><td>6.233228</td><td>6.523453</td><td>6.105077</td><td>6.066236</td><td>6.173522</td><td>&hellip;</td><td>6.045703</td><td>4.952757</td><td>5.209088</td><td>5.378329</td><td>4.98622</td><td>5.255957</td><td>6.140817</td><td>5.449668</td><td>4.997913</td><td>6.248854</td><td>6.21322</td><td>5.301972</td><td>5.056944</td><td>6.181111</td><td>6.405961</td><td>6.397123</td><td>7.555474</td><td>5.33192</td><td>5.619647</td><td>6.379557</td><td>6.087874</td><td>6.308141</td><td>6.534234</td><td>5.949571</td><td>6.156301</td><td>7.340125</td><td>6.594397</td><td>6.902802</td><td>7.037061</td><td>5.914448</td><td>6.013191</td><td>6.078992</td><td>6.694803</td><td>6.240427</td><td>7.799897</td><td>6.430951</td><td>5.955424</td></tr><tr><td>&quot;GTF2H2C&quot;</td><td>5.052897</td><td>6.074516</td><td>6.341597</td><td>6.31613</td><td>6.298052</td><td>5.817667</td><td>5.999446</td><td>5.785666</td><td>6.178747</td><td>5.908191</td><td>5.821107</td><td>5.922041</td><td>5.761292</td><td>5.454623</td><td>5.703272</td><td>5.986304</td><td>6.387945</td><td>5.900465</td><td>7.033035</td><td>6.216089</td><td>6.078666</td><td>6.333208</td><td>5.742184</td><td>5.894919</td><td>7.706796</td><td>7.875071</td><td>8.098173</td><td>7.844657</td><td>8.370314</td><td>7.998293</td><td>7.789017</td><td>7.679822</td><td>8.458494</td><td>7.917532</td><td>7.887595</td><td>7.941829</td><td>&hellip;</td><td>7.098266</td><td>6.630222</td><td>6.389325</td><td>7.158359</td><td>7.074091</td><td>7.868069</td><td>7.314823</td><td>7.09699</td><td>7.418166</td><td>7.113912</td><td>7.598297</td><td>7.675968</td><td>6.470402</td><td>7.53776</td><td>8.871442</td><td>8.272769</td><td>8.726975</td><td>8.98924</td><td>9.093619</td><td>8.305904</td><td>8.135079</td><td>8.043981</td><td>8.272769</td><td>8.243943</td><td>7.893956</td><td>7.577061</td><td>8.49421</td><td>8.286064</td><td>7.715514</td><td>7.938431</td><td>8.283498</td><td>8.213202</td><td>8.688115</td><td>8.143439</td><td>8.448739</td><td>8.117106</td><td>8.215947</td></tr><tr><td>&quot;GTF2H2&quot;</td><td>6.156251</td><td>5.746647</td><td>6.255246</td><td>3.284237</td><td>4.463056</td><td>5.081741</td><td>5.323542</td><td>3.715926</td><td>4.299005</td><td>3.314347</td><td>5.731623</td><td>3.803618</td><td>5.910633</td><td>4.554474</td><td>5.703272</td><td>4.382186</td><td>5.548613</td><td>6.078193</td><td>6.378228</td><td>5.169047</td><td>4.47162</td><td>3.071634</td><td>5.48453</td><td>6.070435</td><td>7.706796</td><td>7.875071</td><td>8.098173</td><td>7.844657</td><td>8.370314</td><td>7.998293</td><td>7.789017</td><td>7.679822</td><td>8.458494</td><td>7.917532</td><td>7.887595</td><td>7.941829</td><td>&hellip;</td><td>7.098266</td><td>6.630222</td><td>6.389325</td><td>7.158359</td><td>7.074091</td><td>7.868069</td><td>7.314823</td><td>7.09699</td><td>7.418166</td><td>7.113912</td><td>7.598297</td><td>7.675968</td><td>6.470402</td><td>7.53776</td><td>8.871442</td><td>8.272769</td><td>8.726975</td><td>8.98924</td><td>9.093619</td><td>8.305904</td><td>8.135079</td><td>8.043981</td><td>8.272769</td><td>8.243943</td><td>7.893956</td><td>7.577061</td><td>8.49421</td><td>8.286064</td><td>7.715514</td><td>7.938431</td><td>8.283498</td><td>8.213202</td><td>8.688115</td><td>8.143439</td><td>8.448739</td><td>8.117106</td><td>8.215947</td></tr><tr><td>&quot;FAM45A&quot;</td><td>7.951555</td><td>7.602745</td><td>8.522919</td><td>7.671133</td><td>8.817459</td><td>7.352698</td><td>7.790603</td><td>7.790466</td><td>7.561833</td><td>7.776902</td><td>7.65543</td><td>7.112868</td><td>8.339056</td><td>7.153976</td><td>7.468975</td><td>7.801967</td><td>8.092118</td><td>7.554343</td><td>8.61533</td><td>8.338518</td><td>7.57112</td><td>7.683874</td><td>7.910808</td><td>8.637395</td><td>10.928146</td><td>11.080972</td><td>10.993786</td><td>10.939664</td><td>11.06438</td><td>11.12349</td><td>10.975857</td><td>11.224727</td><td>11.159813</td><td>11.344695</td><td>11.310704</td><td>11.250647</td><td>&hellip;</td><td>8.654304</td><td>8.426459</td><td>8.219176</td><td>8.780937</td><td>8.660489</td><td>8.758374</td><td>8.476914</td><td>8.807775</td><td>8.864251</td><td>8.801596</td><td>8.742434</td><td>8.38441</td><td>8.889071</td><td>9.283007</td><td>9.812517</td><td>9.633155</td><td>9.96511</td><td>9.673322</td><td>9.055353</td><td>10.113352</td><td>9.875888</td><td>9.540396</td><td>9.571819</td><td>9.506306</td><td>9.921557</td><td>10.379246</td><td>10.000135</td><td>9.939963</td><td>10.087425</td><td>10.266478</td><td>10.041416</td><td>10.383612</td><td>10.266108</td><td>9.870493</td><td>10.105668</td><td>10.172701</td><td>9.770854</td></tr><tr><td>&quot;LONP2&quot;</td><td>7.838619</td><td>8.092192</td><td>8.28526</td><td>8.194693</td><td>8.658053</td><td>8.16691</td><td>7.982433</td><td>7.715527</td><td>7.78673</td><td>8.044718</td><td>7.974302</td><td>7.957731</td><td>8.184199</td><td>7.893399</td><td>8.239522</td><td>8.138419</td><td>7.969905</td><td>7.737545</td><td>8.96531</td><td>7.880757</td><td>7.774259</td><td>7.889389</td><td>7.367595</td><td>7.959266</td><td>7.92981</td><td>8.134495</td><td>8.160079</td><td>8.368267</td><td>8.048115</td><td>8.756265</td><td>8.444329</td><td>7.743438</td><td>8.239387</td><td>8.253312</td><td>7.99952</td><td>7.781938</td><td>&hellip;</td><td>7.426706</td><td>7.784453</td><td>7.745029</td><td>7.480561</td><td>7.573689</td><td>7.181754</td><td>7.837234</td><td>7.286536</td><td>7.165295</td><td>7.128553</td><td>7.281036</td><td>7.615574</td><td>7.222838</td><td>7.706655</td><td>9.199187</td><td>8.168243</td><td>9.036877</td><td>8.198282</td><td>9.134576</td><td>7.72711</td><td>8.525343</td><td>8.962615</td><td>9.103492</td><td>8.539807</td><td>7.73624</td><td>8.212892</td><td>8.380992</td><td>8.874537</td><td>8.3144</td><td>7.907824</td><td>8.396754</td><td>8.453096</td><td>9.230119</td><td>9.024721</td><td>8.638886</td><td>8.94144</td><td>8.20194</td></tr><tr><td>&quot;AGAP6&quot;</td><td>6.531409</td><td>6.875907</td><td>6.816773</td><td>6.873694</td><td>7.373408</td><td>7.336025</td><td>6.821407</td><td>6.94646</td><td>6.849331</td><td>6.609312</td><td>7.212777</td><td>7.191744</td><td>7.142453</td><td>7.238286</td><td>6.866071</td><td>7.387048</td><td>7.065921</td><td>6.991825</td><td>6.612301</td><td>6.615239</td><td>6.895302</td><td>6.382073</td><td>6.357174</td><td>6.702549</td><td>9.022196</td><td>8.893104</td><td>8.820933</td><td>8.977501</td><td>8.911581</td><td>8.980439</td><td>8.724598</td><td>8.620558</td><td>9.085868</td><td>8.756168</td><td>8.44732</td><td>8.703058</td><td>&hellip;</td><td>7.306781</td><td>7.393476</td><td>7.426802</td><td>7.732953</td><td>7.57108</td><td>6.903582</td><td>7.7782</td><td>7.460751</td><td>7.4915</td><td>7.290676</td><td>7.274492</td><td>7.576471</td><td>6.883283</td><td>7.412332</td><td>9.658042</td><td>9.533164</td><td>9.401756</td><td>9.481684</td><td>9.483497</td><td>9.169752</td><td>9.419045</td><td>9.707161</td><td>9.791335</td><td>9.607863</td><td>8.677323</td><td>8.902065</td><td>8.870031</td><td>8.781792</td><td>8.941471</td><td>8.565629</td><td>9.058901</td><td>8.94476</td><td>10.065463</td><td>9.720059</td><td>10.091315</td><td>9.854061</td><td>9.590049</td></tr><tr><td>&quot;FBXO41&quot;</td><td>7.010478</td><td>7.157273</td><td>7.0324</td><td>7.173636</td><td>6.660985</td><td>7.267339</td><td>6.415946</td><td>7.130792</td><td>6.942518</td><td>7.153521</td><td>7.212777</td><td>6.710259</td><td>6.642048</td><td>7.238286</td><td>6.744683</td><td>7.259336</td><td>7.245225</td><td>6.839849</td><td>6.400159</td><td>6.598539</td><td>6.839203</td><td>6.987812</td><td>6.236736</td><td>6.166331</td><td>7.795145</td><td>7.775534</td><td>7.645835</td><td>7.687566</td><td>7.691609</td><td>7.649277</td><td>7.721962</td><td>7.749754</td><td>7.633672</td><td>7.733237</td><td>7.69721</td><td>7.579574</td><td>&hellip;</td><td>5.130921</td><td>5.278701</td><td>5.544822</td><td>5.279368</td><td>5.256829</td><td>4.715897</td><td>4.905174</td><td>4.898258</td><td>5.102157</td><td>4.554239</td><td>4.912697</td><td>4.938671</td><td>4.227153</td><td>4.414152</td><td>7.398026</td><td>7.45861</td><td>7.303937</td><td>7.31811</td><td>7.311264</td><td>6.928417</td><td>7.037537</td><td>7.307378</td><td>7.244897</td><td>7.34779</td><td>7.361673</td><td>7.073534</td><td>7.238456</td><td>7.032675</td><td>6.978197</td><td>7.139936</td><td>7.342755</td><td>7.295899</td><td>7.544852</td><td>7.361597</td><td>7.150914</td><td>7.276689</td><td>7.565414</td></tr><tr><td>&quot;LINC00869&quot;</td><td>7.262123</td><td>7.219805</td><td>7.326638</td><td>7.555214</td><td>7.170236</td><td>7.089771</td><td>7.449662</td><td>7.214818</td><td>7.586793</td><td>7.402711</td><td>6.638152</td><td>7.58171</td><td>7.266413</td><td>7.683878</td><td>7.355088</td><td>7.51186</td><td>7.231106</td><td>7.344445</td><td>7.217261</td><td>7.09169</td><td>7.361416</td><td>7.069643</td><td>7.486808</td><td>7.202227</td><td>9.610437</td><td>9.596361</td><td>9.550293</td><td>9.275227</td><td>9.318302</td><td>9.876363</td><td>9.458714</td><td>9.403442</td><td>9.227013</td><td>9.155639</td><td>8.921265</td><td>8.97242</td><td>&hellip;</td><td>6.794923</td><td>6.008777</td><td>6.162039</td><td>6.734963</td><td>6.673322</td><td>6.740696</td><td>6.886784</td><td>6.752811</td><td>6.648916</td><td>7.420179</td><td>6.701907</td><td>6.237017</td><td>6.847171</td><td>7.184939</td><td>9.440066</td><td>9.571276</td><td>9.518881</td><td>8.771402</td><td>9.090919</td><td>9.600042</td><td>9.313044</td><td>9.493856</td><td>9.716667</td><td>9.33788</td><td>9.735215</td><td>9.884584</td><td>9.740324</td><td>9.802866</td><td>9.594963</td><td>9.797161</td><td>10.347612</td><td>9.615358</td><td>9.625916</td><td>9.875226</td><td>9.298062</td><td>9.574527</td><td>9.206733</td></tr><tr><td>&quot;PFDN6&quot;</td><td>6.774082</td><td>6.761453</td><td>6.662362</td><td>6.841063</td><td>6.37579</td><td>6.369712</td><td>6.929706</td><td>7.041568</td><td>6.734896</td><td>6.380554</td><td>6.177996</td><td>6.95601</td><td>6.592374</td><td>6.756676</td><td>6.78042</td><td>6.443439</td><td>6.879347</td><td>6.68376</td><td>6.202171</td><td>6.772403</td><td>6.740567</td><td>7.211587</td><td>7.071517</td><td>6.340889</td><td>7.465111</td><td>7.344241</td><td>7.512535</td><td>7.388066</td><td>7.376268</td><td>7.328307</td><td>7.219044</td><td>7.344011</td><td>7.302437</td><td>7.630817</td><td>7.642856</td><td>7.496888</td><td>&hellip;</td><td>7.566406</td><td>8.113678</td><td>8.384892</td><td>8.0132</td><td>8.071095</td><td>7.741538</td><td>7.901088</td><td>8.054367</td><td>7.678554</td><td>7.6559</td><td>8.146199</td><td>7.972127</td><td>7.709992</td><td>7.618056</td><td>7.4036</td><td>7.320962</td><td>7.400732</td><td>7.662405</td><td>7.697834</td><td>7.354032</td><td>7.189638</td><td>7.210054</td><td>7.149137</td><td>7.347992</td><td>7.433772</td><td>7.32613</td><td>7.306272</td><td>7.547678</td><td>7.391331</td><td>7.062097</td><td>7.154021</td><td>7.106997</td><td>7.148903</td><td>7.469991</td><td>7.314559</td><td>7.233719</td><td>7.243504</td></tr><tr><td>&quot;SDHAP1&quot;</td><td>5.934374</td><td>5.932378</td><td>6.341597</td><td>5.809296</td><td>5.754924</td><td>6.33657</td><td>6.134898</td><td>5.518086</td><td>5.688144</td><td>5.45774</td><td>6.084709</td><td>5.364143</td><td>5.950608</td><td>5.682376</td><td>5.974083</td><td>5.675401</td><td>5.502334</td><td>6.119403</td><td>6.112029</td><td>6.237821</td><td>5.334377</td><td>6.230212</td><td>5.336103</td><td>5.12395</td><td>9.850019</td><td>10.031342</td><td>9.922837</td><td>10.05613</td><td>10.021636</td><td>9.984793</td><td>10.12365</td><td>10.12326</td><td>9.994316</td><td>9.905362</td><td>9.916561</td><td>10.007559</td><td>&hellip;</td><td>7.392205</td><td>8.774354</td><td>8.572774</td><td>8.014368</td><td>8.179138</td><td>8.072344</td><td>7.452563</td><td>7.767451</td><td>8.497318</td><td>7.488473</td><td>7.431292</td><td>8.363747</td><td>7.990639</td><td>7.210033</td><td>10.414594</td><td>10.621268</td><td>10.605932</td><td>9.737895</td><td>9.967319</td><td>10.961942</td><td>10.797781</td><td>10.555354</td><td>10.621268</td><td>10.512042</td><td>10.861595</td><td>10.791113</td><td>10.44574</td><td>10.739321</td><td>10.774077</td><td>10.551355</td><td>10.69027</td><td>10.594781</td><td>10.682541</td><td>10.71353</td><td>10.613987</td><td>10.680925</td><td>10.506656</td></tr></tbody></table></div>"
     },
     "execution_count": 12,
     "metadata": {},
     "output_type": "execute_result"
    }
   ],
   "source": [
    "ra_cleaned_df"
   ],
   "metadata": {
    "collapsed": false,
    "ExecuteTime": {
     "end_time": "2024-02-25T20:50:22.411113Z",
     "start_time": "2024-02-25T20:50:22.391667Z"
    }
   },
   "id": "9e6d1f24288b3f6d"
  },
  {
   "cell_type": "code",
   "execution_count": 13,
   "outputs": [
    {
     "data": {
      "text/plain": "3985"
     },
     "execution_count": 13,
     "metadata": {},
     "output_type": "execute_result"
    }
   ],
   "source": [
    "total_samples = ra_cleaned_df.shape[1] + t1d_cleaned_df.shape[1] + ssc_cleaned_df.shape[1] + sle_cleaned_df.shape[1] + sjs_cleaned_df.shape[1]\n",
    "total_samples"
   ],
   "metadata": {
    "collapsed": false,
    "ExecuteTime": {
     "end_time": "2024-02-25T20:50:29.403435Z",
     "start_time": "2024-02-25T20:50:29.398769Z"
    }
   },
   "id": "9b087dd352091994"
  },
  {
   "cell_type": "markdown",
   "source": [
    "Samples seem to be a bit more than the unique ones that appear in the metadata file which is `3854`.\n",
    "Possibly we need to filter out the extras because for these we have no metadata.  "
   ],
   "metadata": {
    "collapsed": false
   },
   "id": "e99c236355414553"
  },
  {
   "cell_type": "markdown",
   "source": [
    "# Determine frequent genes per group of datasets\n",
    "\n",
    "The datasets for each condition come from different sources. \n",
    "Explore using samples of a condition together, but keeping only the genes that appear in 80% of the samples. \n",
    "This is the same logic as the above, but relaxes the constraint and keeping the high-frequency genes instead of just the common ones. \n",
    "So it allows for a certain percent of null values.  "
   ],
   "metadata": {
    "collapsed": false
   },
   "id": "91e53d1cf798409b"
  },
  {
   "cell_type": "code",
   "execution_count": 14,
   "outputs": [
    {
     "data": {
      "text/plain": "shape: (5_300, 2_055)\n┌─────────┬────────────┬───────────┬───────────┬───┬───────────┬───────────┬───────────┬───────────┐\n│ gene    ┆ GSM2159829 ┆ GSM215983 ┆ GSM215983 ┆ … ┆ GSM186374 ┆ GSM186374 ┆ GSM186374 ┆ Null-Perc │\n│ ---     ┆ _GSM218666 ┆ 0_GSM2186 ┆ 1_GSM2186 ┆   ┆ 7         ┆ 8         ┆ 9         ┆ entage    │\n│ str     ┆ 8          ┆ 669       ┆ 670       ┆   ┆ ---       ┆ ---       ┆ ---       ┆ ---       │\n│         ┆ ---        ┆ ---       ┆ ---       ┆   ┆ f64       ┆ f64       ┆ f64       ┆ f64       │\n│         ┆ f64        ┆ f64       ┆ f64       ┆   ┆           ┆           ┆           ┆           │\n╞═════════╪════════════╪═══════════╪═══════════╪═══╪═══════════╪═══════════╪═══════════╪═══════════╡\n│ EEF1A1  ┆ 14.727188  ┆ 14.795797 ┆ 14.817517 ┆ … ┆ 17.825161 ┆ 17.79348  ┆ 18.881821 ┆ 0.0       │\n│ GAPDH   ┆ 11.708472  ┆ 11.65505  ┆ 12.340323 ┆ … ┆ 16.026341 ┆ 16.415398 ┆ 15.953825 ┆ 0.0       │\n│ RPS28   ┆ 12.334125  ┆ 12.684471 ┆ 12.404128 ┆ … ┆ 13.947265 ┆ 13.731703 ┆ 14.274837 ┆ 0.005341  │\n│ LPP     ┆ 10.270518  ┆ 10.157473 ┆ 9.924002  ┆ … ┆ 11.650111 ┆ 11.814043 ┆ 11.186168 ┆ 0.0       │\n│ HNRNPAB ┆ 9.428744   ┆ 9.626779  ┆ 9.24285   ┆ … ┆ 11.662398 ┆ 11.68726  ┆ 11.419868 ┆ 0.005341  │\n│ …       ┆ …          ┆ …         ┆ …         ┆ … ┆ …         ┆ …         ┆ …         ┆ …         │\n│ TAOK3   ┆ 8.228441   ┆ 8.161298  ┆ 8.146965  ┆ … ┆ 12.675293 ┆ 12.634832 ┆ 12.097556 ┆ 0.009191  │\n│ GRK2    ┆ 12.278163  ┆ 12.391146 ┆ 12.598222 ┆ … ┆ 15.689227 ┆ 15.423748 ┆ 15.720508 ┆ 0.009191  │\n│ DHRS9   ┆ null       ┆ null      ┆ null      ┆ … ┆ 10.209494 ┆ 12.137662 ┆ 10.969615 ┆ 0.004745  │\n│ IGF1R   ┆ null       ┆ null      ┆ null      ┆ … ┆ 12.841821 ┆ 12.84864  ┆ 12.388443 ┆ 0.003814  │\n│ TECPR2  ┆ null       ┆ null      ┆ null      ┆ … ┆ 13.479952 ┆ 13.430435 ┆ 12.737796 ┆ 0.009155  │\n└─────────┴────────────┴───────────┴───────────┴───┴───────────┴───────────┴───────────┴───────────┘",
      "text/html": "<div><style>\n.dataframe > thead > tr,\n.dataframe > tbody > tr {\n  text-align: right;\n  white-space: pre-wrap;\n}\n</style>\n<small>shape: (5_300, 2_055)</small><table border=\"1\" class=\"dataframe\"><thead><tr><th>gene</th><th>GSM2159829_GSM2186668</th><th>GSM2159830_GSM2186669</th><th>GSM2159831_GSM2186670</th><th>GSM2159832_GSM2186671</th><th>GSM2159833_GSM2186672</th><th>GSM2159834_GSM2186673</th><th>GSM2159835_GSM2186674</th><th>GSM2159836_GSM2186675</th><th>GSM2159837_GSM2186676</th><th>GSM2159838_GSM2186677</th><th>GSM2159839_GSM2186678</th><th>GSM2159840_GSM2186679</th><th>GSM2159841_GSM2186680</th><th>GSM2159842_GSM2186681</th><th>GSM2159843_GSM2186682</th><th>GSM2159844_GSM2186683</th><th>GSM2159845_GSM2186684</th><th>GSM2159846_GSM2186685</th><th>GSM2159847_GSM2186686</th><th>GSM2159848_GSM2186687</th><th>GSM2159849_GSM2186688</th><th>GSM2159850_GSM2186689</th><th>GSM2159851_GSM2186690</th><th>GSM2159852_GSM2186691</th><th>GSM2159853_GSM2186692</th><th>GSM2159854_GSM2186693</th><th>GSM2159855_GSM2186694</th><th>GSM2159856_GSM2186695</th><th>GSM2159857_GSM2186696</th><th>GSM2159858_GSM2186697</th><th>GSM2159859_GSM2186698</th><th>GSM2159860_GSM2186699</th><th>GSM2159861_GSM2186700</th><th>GSM2159862_GSM2186701</th><th>GSM2159863_GSM2186702</th><th>GSM2159864_GSM2186703</th><th>&hellip;</th><th>GSM1863714</th><th>GSM1863715</th><th>GSM1863716</th><th>GSM1863717</th><th>GSM1863718</th><th>GSM1863719</th><th>GSM1863720</th><th>GSM1863721</th><th>GSM1863722</th><th>GSM1863723</th><th>GSM1863724</th><th>GSM1863725</th><th>GSM1863726</th><th>GSM1863727</th><th>GSM1863728</th><th>GSM1863729</th><th>GSM1863730</th><th>GSM1863731</th><th>GSM1863732</th><th>GSM1863733</th><th>GSM1863734</th><th>GSM1863735</th><th>GSM1863736</th><th>GSM1863737</th><th>GSM1863738</th><th>GSM1863739</th><th>GSM1863740</th><th>GSM1863741</th><th>GSM1863742</th><th>GSM1863743</th><th>GSM1863744</th><th>GSM1863745</th><th>GSM1863746</th><th>GSM1863747</th><th>GSM1863748</th><th>GSM1863749</th><th>Null-Percentage</th></tr><tr><td>str</td><td>f64</td><td>f64</td><td>f64</td><td>f64</td><td>f64</td><td>f64</td><td>f64</td><td>f64</td><td>f64</td><td>f64</td><td>f64</td><td>f64</td><td>f64</td><td>f64</td><td>f64</td><td>f64</td><td>f64</td><td>f64</td><td>f64</td><td>f64</td><td>f64</td><td>f64</td><td>f64</td><td>f64</td><td>f64</td><td>f64</td><td>f64</td><td>f64</td><td>f64</td><td>f64</td><td>f64</td><td>f64</td><td>f64</td><td>f64</td><td>f64</td><td>f64</td><td>&hellip;</td><td>f64</td><td>f64</td><td>f64</td><td>f64</td><td>f64</td><td>f64</td><td>f64</td><td>f64</td><td>f64</td><td>f64</td><td>f64</td><td>f64</td><td>f64</td><td>f64</td><td>f64</td><td>f64</td><td>f64</td><td>f64</td><td>f64</td><td>f64</td><td>f64</td><td>f64</td><td>f64</td><td>f64</td><td>f64</td><td>f64</td><td>f64</td><td>f64</td><td>f64</td><td>f64</td><td>f64</td><td>f64</td><td>f64</td><td>f64</td><td>f64</td><td>f64</td><td>f64</td></tr></thead><tbody><tr><td>&quot;EEF1A1&quot;</td><td>14.727188</td><td>14.795797</td><td>14.817517</td><td>14.761388</td><td>14.747556</td><td>14.802662</td><td>14.772612</td><td>14.817517</td><td>14.57622</td><td>14.206841</td><td>14.825847</td><td>14.752155</td><td>14.825847</td><td>14.825847</td><td>14.763379</td><td>14.740996</td><td>14.825847</td><td>14.719846</td><td>14.775031</td><td>14.729078</td><td>14.802662</td><td>14.731354</td><td>14.769717</td><td>14.780421</td><td>14.817517</td><td>14.745334</td><td>14.706219</td><td>14.825847</td><td>14.621576</td><td>14.780941</td><td>14.73751</td><td>14.698936</td><td>14.718909</td><td>14.785099</td><td>14.786732</td><td>14.825847</td><td>&hellip;</td><td>16.545027</td><td>17.820075</td><td>18.493469</td><td>19.329275</td><td>18.632252</td><td>18.347851</td><td>18.349918</td><td>18.629831</td><td>18.358292</td><td>18.022207</td><td>18.144812</td><td>17.562118</td><td>19.170342</td><td>18.67002</td><td>17.344387</td><td>18.655748</td><td>18.426595</td><td>18.30768</td><td>18.340836</td><td>18.602275</td><td>18.011078</td><td>17.815928</td><td>17.729573</td><td>18.011895</td><td>18.307461</td><td>18.200168</td><td>18.686206</td><td>18.273625</td><td>18.626904</td><td>18.144917</td><td>17.896148</td><td>18.058938</td><td>17.940948</td><td>17.825161</td><td>17.79348</td><td>18.881821</td><td>0.0</td></tr><tr><td>&quot;GAPDH&quot;</td><td>11.708472</td><td>11.65505</td><td>12.340323</td><td>11.941374</td><td>11.870529</td><td>12.131457</td><td>12.000567</td><td>12.299219</td><td>12.514883</td><td>12.106213</td><td>11.916356</td><td>12.748576</td><td>12.146813</td><td>12.20529</td><td>12.11357</td><td>12.038266</td><td>11.873617</td><td>12.499638</td><td>12.203603</td><td>13.301918</td><td>12.27173</td><td>12.332191</td><td>12.352086</td><td>12.142406</td><td>11.986138</td><td>12.923782</td><td>12.838461</td><td>12.760554</td><td>13.111994</td><td>12.82303</td><td>12.662301</td><td>12.556676</td><td>12.627911</td><td>12.466696</td><td>12.263751</td><td>12.532706</td><td>&hellip;</td><td>16.888712</td><td>15.930099</td><td>15.45689</td><td>15.527558</td><td>15.638986</td><td>15.710878</td><td>15.638994</td><td>16.084079</td><td>15.949591</td><td>16.806161</td><td>16.73309</td><td>16.381736</td><td>16.590709</td><td>15.765959</td><td>16.493879</td><td>16.080627</td><td>16.313399</td><td>16.451434</td><td>16.016775</td><td>15.810099</td><td>16.23323</td><td>16.339804</td><td>16.135183</td><td>16.195359</td><td>16.318268</td><td>16.161138</td><td>16.028579</td><td>16.129284</td><td>15.78345</td><td>16.532804</td><td>15.99334</td><td>16.475451</td><td>15.910279</td><td>16.026341</td><td>16.415398</td><td>15.953825</td><td>0.0</td></tr><tr><td>&quot;RPS28&quot;</td><td>12.334125</td><td>12.684471</td><td>12.404128</td><td>12.224485</td><td>12.733298</td><td>12.91151</td><td>12.646244</td><td>12.87063</td><td>13.375317</td><td>13.530421</td><td>13.190688</td><td>13.205547</td><td>13.171742</td><td>13.257166</td><td>13.277356</td><td>13.080459</td><td>13.190688</td><td>12.926514</td><td>13.317718</td><td>12.727908</td><td>13.517933</td><td>13.305823</td><td>13.257166</td><td>12.946158</td><td>13.465968</td><td>12.684471</td><td>12.730683</td><td>13.446004</td><td>13.012509</td><td>12.670374</td><td>13.313472</td><td>13.26406</td><td>13.183479</td><td>13.313472</td><td>13.0869</td><td>13.324486</td><td>&hellip;</td><td>12.683078</td><td>13.490543</td><td>13.4597</td><td>13.131236</td><td>13.639205</td><td>13.771978</td><td>13.663596</td><td>13.498154</td><td>12.943121</td><td>13.525818</td><td>13.341848</td><td>12.876988</td><td>13.591069</td><td>13.002251</td><td>13.073573</td><td>13.402047</td><td>13.245743</td><td>13.884617</td><td>13.423776</td><td>13.703595</td><td>13.545636</td><td>13.785906</td><td>13.457111</td><td>13.955813</td><td>13.916188</td><td>13.757117</td><td>13.563497</td><td>14.160874</td><td>13.89219</td><td>13.431731</td><td>13.988091</td><td>13.998939</td><td>13.9012</td><td>13.947265</td><td>13.731703</td><td>14.274837</td><td>0.005341</td></tr><tr><td>&quot;LPP&quot;</td><td>10.270518</td><td>10.157473</td><td>9.924002</td><td>10.261215</td><td>9.889741</td><td>9.69115</td><td>10.381211</td><td>9.688544</td><td>10.905979</td><td>10.712206</td><td>10.187569</td><td>10.034461</td><td>10.071536</td><td>10.108694</td><td>10.276722</td><td>10.376196</td><td>10.389154</td><td>10.063151</td><td>10.436256</td><td>9.424904</td><td>9.724364</td><td>10.197448</td><td>9.944325</td><td>10.315013</td><td>10.12907</td><td>9.359814</td><td>9.160111</td><td>9.944919</td><td>10.002705</td><td>9.718596</td><td>9.759793</td><td>10.136964</td><td>10.113799</td><td>10.286929</td><td>10.153587</td><td>9.66128</td><td>&hellip;</td><td>12.126212</td><td>12.051303</td><td>11.627417</td><td>11.61385</td><td>11.855932</td><td>11.756698</td><td>11.645619</td><td>11.616652</td><td>12.455816</td><td>11.736708</td><td>11.547894</td><td>12.087966</td><td>11.96243</td><td>11.80319</td><td>11.94949</td><td>11.564793</td><td>11.832042</td><td>11.132743</td><td>11.824847</td><td>11.448698</td><td>11.960393</td><td>11.754716</td><td>11.351935</td><td>11.657794</td><td>11.544498</td><td>11.775555</td><td>11.643457</td><td>11.11855</td><td>11.353353</td><td>11.580846</td><td>11.250777</td><td>11.404802</td><td>11.585813</td><td>11.650111</td><td>11.814043</td><td>11.186168</td><td>0.0</td></tr><tr><td>&quot;HNRNPAB&quot;</td><td>9.428744</td><td>9.626779</td><td>9.24285</td><td>9.433464</td><td>10.176767</td><td>9.773827</td><td>9.520845</td><td>10.020666</td><td>9.121851</td><td>9.188771</td><td>9.310849</td><td>9.297978</td><td>9.326892</td><td>9.666602</td><td>9.645398</td><td>9.665245</td><td>9.62976</td><td>9.892971</td><td>9.739031</td><td>10.036795</td><td>9.591478</td><td>9.130558</td><td>9.471012</td><td>9.356092</td><td>9.185511</td><td>9.800695</td><td>9.93442</td><td>9.292868</td><td>10.117626</td><td>9.879411</td><td>9.555725</td><td>9.868713</td><td>9.632567</td><td>9.932392</td><td>8.987525</td><td>9.740472</td><td>&hellip;</td><td>11.127357</td><td>11.477925</td><td>11.305248</td><td>11.255968</td><td>11.110342</td><td>10.945784</td><td>11.179983</td><td>11.421711</td><td>11.279876</td><td>11.757476</td><td>11.571169</td><td>11.576563</td><td>11.06747</td><td>11.234738</td><td>11.693711</td><td>11.588477</td><td>11.52488</td><td>11.634679</td><td>11.377567</td><td>11.43241</td><td>11.511677</td><td>11.602576</td><td>11.478515</td><td>11.89774</td><td>11.609385</td><td>11.586355</td><td>11.713901</td><td>11.821577</td><td>11.664829</td><td>11.680946</td><td>12.044327</td><td>11.815843</td><td>11.536858</td><td>11.662398</td><td>11.68726</td><td>11.419868</td><td>0.005341</td></tr><tr><td>&quot;SERTAD2&quot;</td><td>10.878395</td><td>10.857395</td><td>10.912532</td><td>10.91132</td><td>10.809722</td><td>10.986331</td><td>10.488425</td><td>10.539112</td><td>10.488425</td><td>11.004702</td><td>10.575976</td><td>10.213475</td><td>10.258917</td><td>10.577801</td><td>10.437753</td><td>10.552431</td><td>10.572944</td><td>10.384419</td><td>10.696193</td><td>10.410467</td><td>10.697694</td><td>10.761469</td><td>10.483742</td><td>10.679585</td><td>10.972121</td><td>11.052792</td><td>10.712454</td><td>10.169482</td><td>10.265448</td><td>10.620629</td><td>10.373682</td><td>10.640492</td><td>10.713255</td><td>10.346277</td><td>10.246524</td><td>10.135808</td><td>&hellip;</td><td>11.429776</td><td>11.204257</td><td>11.116279</td><td>11.544809</td><td>11.205092</td><td>10.86251</td><td>11.238046</td><td>11.320641</td><td>11.490739</td><td>11.152489</td><td>10.376964</td><td>11.518998</td><td>11.191118</td><td>11.438303</td><td>11.183986</td><td>10.654101</td><td>10.957441</td><td>10.947329</td><td>11.721783</td><td>11.638309</td><td>11.870332</td><td>11.831164</td><td>11.924983</td><td>11.490729</td><td>11.305936</td><td>11.604441</td><td>11.811594</td><td>11.559135</td><td>11.507401</td><td>11.45468</td><td>11.59823</td><td>11.529927</td><td>11.6681</td><td>11.643928</td><td>11.685324</td><td>11.191419</td><td>0.005341</td></tr><tr><td>&quot;AUP1&quot;</td><td>6.682339</td><td>6.523731</td><td>6.681478</td><td>6.799754</td><td>6.729421</td><td>6.647916</td><td>6.770136</td><td>6.712803</td><td>6.68624</td><td>6.811994</td><td>6.852654</td><td>6.753911</td><td>6.964732</td><td>6.76706</td><td>6.851436</td><td>6.908582</td><td>6.823081</td><td>6.604561</td><td>6.813653</td><td>7.46521</td><td>6.989322</td><td>7.024059</td><td>6.940406</td><td>7.123805</td><td>7.02377</td><td>6.786023</td><td>6.804855</td><td>6.668906</td><td>6.536248</td><td>6.735259</td><td>7.018288</td><td>7.224904</td><td>7.218323</td><td>7.006858</td><td>7.024333</td><td>6.895222</td><td>&hellip;</td><td>12.720095</td><td>12.544937</td><td>12.889238</td><td>12.853719</td><td>12.802536</td><td>13.05958</td><td>12.97211</td><td>12.745483</td><td>12.718997</td><td>13.032622</td><td>13.155288</td><td>12.573123</td><td>12.981549</td><td>12.630884</td><td>12.981575</td><td>13.091263</td><td>12.763966</td><td>13.047703</td><td>12.922448</td><td>12.840821</td><td>12.847879</td><td>12.978594</td><td>12.822917</td><td>13.015279</td><td>12.860932</td><td>13.035074</td><td>12.936268</td><td>12.847449</td><td>12.97288</td><td>12.996055</td><td>13.040369</td><td>13.121185</td><td>12.814101</td><td>12.707347</td><td>12.887257</td><td>13.144932</td><td>0.005341</td></tr><tr><td>&quot;MFN2&quot;</td><td>8.3612</td><td>9.2768</td><td>8.55826</td><td>8.436035</td><td>8.389405</td><td>8.495487</td><td>8.232539</td><td>8.275898</td><td>8.436035</td><td>8.627318</td><td>8.125586</td><td>8.856823</td><td>8.210976</td><td>8.66317</td><td>8.391306</td><td>8.381474</td><td>8.453367</td><td>9.192616</td><td>8.562998</td><td>8.763644</td><td>8.317722</td><td>8.511268</td><td>8.236602</td><td>8.054847</td><td>7.831402</td><td>8.697788</td><td>8.870129</td><td>9.04143</td><td>8.719067</td><td>8.770902</td><td>8.121642</td><td>8.226159</td><td>8.690885</td><td>8.268908</td><td>8.333067</td><td>8.434697</td><td>&hellip;</td><td>13.47017</td><td>12.980965</td><td>11.698055</td><td>11.607766</td><td>12.787303</td><td>11.753656</td><td>12.441578</td><td>12.020068</td><td>12.55211</td><td>12.199759</td><td>12.690182</td><td>12.601419</td><td>12.968764</td><td>12.868905</td><td>13.318573</td><td>11.873715</td><td>12.825695</td><td>12.13447</td><td>12.98986</td><td>12.560735</td><td>13.348827</td><td>13.584113</td><td>13.185934</td><td>13.042194</td><td>12.294371</td><td>12.693686</td><td>12.11024</td><td>12.661628</td><td>12.481293</td><td>13.005253</td><td>12.602113</td><td>12.753935</td><td>12.896002</td><td>13.162255</td><td>12.920142</td><td>12.895012</td><td>0.005341</td></tr><tr><td>&quot;BRD9&quot;</td><td>11.123672</td><td>11.248276</td><td>11.205528</td><td>11.194139</td><td>10.881058</td><td>10.815154</td><td>11.077084</td><td>10.66156</td><td>10.123497</td><td>10.723772</td><td>10.429994</td><td>10.452714</td><td>10.294966</td><td>10.342431</td><td>10.601959</td><td>10.535865</td><td>10.587269</td><td>10.680437</td><td>10.492315</td><td>10.734742</td><td>10.599683</td><td>10.579981</td><td>10.307659</td><td>10.470758</td><td>10.347372</td><td>10.874624</td><td>10.940121</td><td>9.945358</td><td>10.305112</td><td>10.588596</td><td>10.670696</td><td>10.605209</td><td>10.474997</td><td>10.802198</td><td>10.501856</td><td>10.408323</td><td>&hellip;</td><td>11.088167</td><td>11.116641</td><td>11.563862</td><td>11.39446</td><td>11.332326</td><td>11.490871</td><td>11.556275</td><td>11.337509</td><td>11.104349</td><td>11.209293</td><td>11.329327</td><td>10.959484</td><td>11.062725</td><td>11.245509</td><td>11.122778</td><td>11.381965</td><td>11.204298</td><td>11.558059</td><td>11.233425</td><td>11.349307</td><td>11.129729</td><td>11.193376</td><td>11.234239</td><td>11.245336</td><td>11.270786</td><td>11.188424</td><td>11.302253</td><td>11.37671</td><td>11.507401</td><td>11.224893</td><td>11.577473</td><td>11.27572</td><td>11.376071</td><td>11.213389</td><td>11.082061</td><td>11.375956</td><td>0.005341</td></tr><tr><td>&quot;DCK&quot;</td><td>10.497371</td><td>9.998956</td><td>10.189478</td><td>9.86767</td><td>10.093687</td><td>9.469722</td><td>10.402428</td><td>10.071455</td><td>10.40603</td><td>9.985641</td><td>9.662888</td><td>9.473138</td><td>9.856085</td><td>10.232526</td><td>10.277532</td><td>10.021891</td><td>10.22684</td><td>9.689802</td><td>9.583005</td><td>9.262831</td><td>9.807789</td><td>9.730286</td><td>10.077456</td><td>10.097452</td><td>10.167003</td><td>9.87774</td><td>10.069427</td><td>10.383796</td><td>10.873611</td><td>9.465091</td><td>9.5481</td><td>9.061194</td><td>10.220148</td><td>9.926984</td><td>10.674176</td><td>10.418742</td><td>&hellip;</td><td>10.508176</td><td>11.484227</td><td>11.563565</td><td>12.148371</td><td>11.496589</td><td>11.544969</td><td>11.551292</td><td>11.560639</td><td>11.857245</td><td>11.209804</td><td>11.020661</td><td>11.399772</td><td>11.13345</td><td>11.789762</td><td>11.370884</td><td>11.225942</td><td>11.741384</td><td>11.314793</td><td>11.686282</td><td>11.657012</td><td>11.608291</td><td>10.86653</td><td>11.3405</td><td>11.125418</td><td>11.221103</td><td>11.512172</td><td>11.493717</td><td>11.464792</td><td>11.720961</td><td>11.25605</td><td>11.216281</td><td>11.194905</td><td>11.344282</td><td>11.206951</td><td>11.357196</td><td>11.290448</td><td>0.005341</td></tr><tr><td>&quot;HIST1H2BD&quot;</td><td>7.5095</td><td>8.657059</td><td>7.969671</td><td>8.937455</td><td>8.659956</td><td>9.226923</td><td>8.647802</td><td>9.961528</td><td>9.105011</td><td>9.352821</td><td>8.179081</td><td>9.195535</td><td>8.357435</td><td>7.477508</td><td>7.69326</td><td>8.642671</td><td>8.697237</td><td>8.307216</td><td>8.938674</td><td>8.013758</td><td>9.157287</td><td>7.5342</td><td>7.458843</td><td>8.610529</td><td>7.491038</td><td>8.907076</td><td>10.044203</td><td>8.559739</td><td>9.032645</td><td>8.419425</td><td>8.632645</td><td>8.589624</td><td>11.764608</td><td>7.51614</td><td>8.000564</td><td>9.086164</td><td>&hellip;</td><td>10.362027</td><td>9.852136</td><td>7.494296</td><td>7.470043</td><td>8.364253</td><td>8.862268</td><td>8.671637</td><td>8.496713</td><td>9.724094</td><td>9.172849</td><td>9.992832</td><td>9.823741</td><td>9.222521</td><td>8.81849</td><td>9.533783</td><td>8.643545</td><td>8.676295</td><td>9.183857</td><td>8.062573</td><td>7.655889</td><td>8.806198</td><td>9.814553</td><td>9.204358</td><td>8.664832</td><td>9.040981</td><td>9.117939</td><td>8.150434</td><td>9.084589</td><td>8.286141</td><td>9.216177</td><td>8.454795</td><td>8.974953</td><td>9.263088</td><td>8.993008</td><td>9.788441</td><td>8.812004</td><td>0.005341</td></tr><tr><td>&quot;FAM193A&quot;</td><td>7.909634</td><td>8.184185</td><td>8.028484</td><td>7.923776</td><td>7.700545</td><td>7.983113</td><td>7.925088</td><td>7.856273</td><td>8.328663</td><td>7.906421</td><td>8.560325</td><td>8.397465</td><td>8.3439</td><td>8.319735</td><td>8.433615</td><td>8.131879</td><td>8.285909</td><td>8.299112</td><td>8.0271</td><td>8.818271</td><td>8.323642</td><td>8.611836</td><td>8.417764</td><td>8.417008</td><td>8.245778</td><td>8.284596</td><td>8.175099</td><td>8.480435</td><td>8.659989</td><td>8.253356</td><td>8.449296</td><td>8.716879</td><td>8.550055</td><td>8.048948</td><td>7.947631</td><td>8.282915</td><td>&hellip;</td><td>11.657041</td><td>11.312582</td><td>10.891701</td><td>10.716635</td><td>10.888058</td><td>10.903002</td><td>10.757156</td><td>11.001954</td><td>10.955</td><td>11.129449</td><td>10.963976</td><td>11.428421</td><td>10.886632</td><td>10.871995</td><td>11.43978</td><td>10.829198</td><td>11.020624</td><td>11.086461</td><td>11.279585</td><td>11.199784</td><td>11.367957</td><td>11.573614</td><td>11.413678</td><td>11.484412</td><td>11.393766</td><td>11.201329</td><td>11.107445</td><td>11.289099</td><td>11.007988</td><td>11.312826</td><td>11.43513</td><td>11.512575</td><td>11.479002</td><td>11.486989</td><td>11.272045</td><td>11.116102</td><td>0.005341</td></tr><tr><td>&hellip;</td><td>&hellip;</td><td>&hellip;</td><td>&hellip;</td><td>&hellip;</td><td>&hellip;</td><td>&hellip;</td><td>&hellip;</td><td>&hellip;</td><td>&hellip;</td><td>&hellip;</td><td>&hellip;</td><td>&hellip;</td><td>&hellip;</td><td>&hellip;</td><td>&hellip;</td><td>&hellip;</td><td>&hellip;</td><td>&hellip;</td><td>&hellip;</td><td>&hellip;</td><td>&hellip;</td><td>&hellip;</td><td>&hellip;</td><td>&hellip;</td><td>&hellip;</td><td>&hellip;</td><td>&hellip;</td><td>&hellip;</td><td>&hellip;</td><td>&hellip;</td><td>&hellip;</td><td>&hellip;</td><td>&hellip;</td><td>&hellip;</td><td>&hellip;</td><td>&hellip;</td><td>&hellip;</td><td>&hellip;</td><td>&hellip;</td><td>&hellip;</td><td>&hellip;</td><td>&hellip;</td><td>&hellip;</td><td>&hellip;</td><td>&hellip;</td><td>&hellip;</td><td>&hellip;</td><td>&hellip;</td><td>&hellip;</td><td>&hellip;</td><td>&hellip;</td><td>&hellip;</td><td>&hellip;</td><td>&hellip;</td><td>&hellip;</td><td>&hellip;</td><td>&hellip;</td><td>&hellip;</td><td>&hellip;</td><td>&hellip;</td><td>&hellip;</td><td>&hellip;</td><td>&hellip;</td><td>&hellip;</td><td>&hellip;</td><td>&hellip;</td><td>&hellip;</td><td>&hellip;</td><td>&hellip;</td><td>&hellip;</td><td>&hellip;</td><td>&hellip;</td><td>&hellip;</td><td>&hellip;</td></tr><tr><td>&quot;HMGXB3&quot;</td><td>8.884899</td><td>9.321126</td><td>8.954978</td><td>8.735698</td><td>8.867692</td><td>8.6659</td><td>8.93</td><td>8.494249</td><td>8.064075</td><td>8.470445</td><td>8.164153</td><td>8.105607</td><td>7.713934</td><td>8.014677</td><td>7.685124</td><td>7.842991</td><td>7.844847</td><td>8.374832</td><td>8.260193</td><td>8.181048</td><td>8.351219</td><td>8.54031</td><td>7.880877</td><td>8.299465</td><td>8.268527</td><td>8.824084</td><td>9.258163</td><td>8.010837</td><td>8.405929</td><td>8.627643</td><td>8.680402</td><td>8.259498</td><td>7.992481</td><td>8.145473</td><td>8.222196</td><td>8.011176</td><td>&hellip;</td><td>11.036538</td><td>11.095939</td><td>11.257251</td><td>11.151553</td><td>11.023058</td><td>11.163913</td><td>11.220059</td><td>11.105017</td><td>10.886999</td><td>11.090584</td><td>11.324081</td><td>10.882513</td><td>10.571257</td><td>10.898777</td><td>11.259134</td><td>11.365529</td><td>11.026862</td><td>11.542372</td><td>11.141308</td><td>11.077966</td><td>10.871966</td><td>10.935962</td><td>10.963126</td><td>11.237844</td><td>11.186757</td><td>11.059705</td><td>11.100397</td><td>11.360904</td><td>11.116895</td><td>11.134303</td><td>11.131958</td><td>11.24264</td><td>11.131173</td><td>10.942102</td><td>10.931766</td><td>10.943571</td><td>0.009191</td></tr><tr><td>&quot;MED31&quot;</td><td>8.076068</td><td>7.929058</td><td>7.939495</td><td>8.075446</td><td>8.354066</td><td>8.588743</td><td>8.02301</td><td>8.33888</td><td>8.247141</td><td>8.048138</td><td>7.701599</td><td>7.554636</td><td>8.0809</td><td>7.671646</td><td>7.420648</td><td>7.929652</td><td>7.796207</td><td>7.315033</td><td>7.822965</td><td>7.335297</td><td>7.864703</td><td>7.284553</td><td>7.614464</td><td>7.514006</td><td>7.080041</td><td>8.280537</td><td>8.515253</td><td>8.217634</td><td>7.994272</td><td>7.700545</td><td>7.477067</td><td>7.827858</td><td>7.759008</td><td>7.280565</td><td>7.261686</td><td>7.514006</td><td>&hellip;</td><td>8.854069</td><td>8.433197</td><td>8.477747</td><td>8.864315</td><td>8.860228</td><td>8.443467</td><td>8.86357</td><td>8.696168</td><td>8.796601</td><td>8.970647</td><td>8.723075</td><td>8.670416</td><td>9.026875</td><td>9.051834</td><td>8.639793</td><td>8.901091</td><td>8.78824</td><td>8.586897</td><td>8.684748</td><td>8.67309</td><td>8.774483</td><td>8.84944</td><td>8.79401</td><td>8.582053</td><td>8.622489</td><td>8.829614</td><td>8.795131</td><td>8.625084</td><td>8.705258</td><td>8.672168</td><td>8.596334</td><td>8.640038</td><td>8.922677</td><td>8.773579</td><td>9.057361</td><td>8.678755</td><td>0.00385</td></tr><tr><td>&quot;CRTC3&quot;</td><td>10.27697</td><td>10.435765</td><td>10.658173</td><td>10.246524</td><td>10.194682</td><td>10.127344</td><td>10.22684</td><td>10.223816</td><td>9.869768</td><td>10.289897</td><td>10.117626</td><td>10.007966</td><td>9.782358</td><td>9.949467</td><td>9.909543</td><td>10.029363</td><td>10.191079</td><td>9.727741</td><td>9.705614</td><td>9.986192</td><td>10.300018</td><td>10.159796</td><td>10.349682</td><td>10.126341</td><td>10.542388</td><td>10.526306</td><td>10.466475</td><td>9.937606</td><td>9.808271</td><td>9.597941</td><td>10.063754</td><td>10.024014</td><td>9.983568</td><td>10.139933</td><td>10.139485</td><td>10.130825</td><td>&hellip;</td><td>11.396714</td><td>12.117398</td><td>11.724308</td><td>11.572034</td><td>11.773926</td><td>11.949774</td><td>11.923899</td><td>11.860438</td><td>11.572456</td><td>12.015072</td><td>11.676649</td><td>12.020712</td><td>11.49839</td><td>11.647221</td><td>11.938573</td><td>11.909551</td><td>12.036512</td><td>12.187398</td><td>11.773055</td><td>12.003675</td><td>11.693196</td><td>12.02389</td><td>11.936714</td><td>12.000036</td><td>12.068189</td><td>11.915647</td><td>12.011841</td><td>12.317908</td><td>12.048994</td><td>11.553747</td><td>11.990387</td><td>12.231234</td><td>11.855735</td><td>12.046767</td><td>11.874338</td><td>11.756234</td><td>0.00385</td></tr><tr><td>&quot;ATP5F1E&quot;</td><td>11.165557</td><td>11.435607</td><td>11.285199</td><td>11.432874</td><td>11.383205</td><td>11.698632</td><td>10.991091</td><td>11.408222</td><td>11.974345</td><td>11.805204</td><td>11.267343</td><td>11.599972</td><td>11.27165</td><td>11.360135</td><td>11.441301</td><td>11.578736</td><td>11.106248</td><td>11.398271</td><td>11.262316</td><td>10.766195</td><td>11.58219</td><td>11.162466</td><td>11.362446</td><td>11.173176</td><td>11.360135</td><td>11.666263</td><td>11.618104</td><td>11.219377</td><td>11.368441</td><td>11.679805</td><td>10.848643</td><td>11.225995</td><td>10.8928</td><td>10.927537</td><td>10.413112</td><td>10.897789</td><td>&hellip;</td><td>13.301072</td><td>12.592967</td><td>12.347981</td><td>13.151517</td><td>13.162814</td><td>12.276935</td><td>13.129066</td><td>13.111</td><td>13.26078</td><td>13.278561</td><td>13.131999</td><td>13.42577</td><td>13.638979</td><td>13.560147</td><td>12.85676</td><td>13.291592</td><td>13.67011</td><td>12.702623</td><td>12.433152</td><td>12.440128</td><td>12.716814</td><td>13.207026</td><td>13.17012</td><td>12.710762</td><td>12.785782</td><td>13.785352</td><td>13.308295</td><td>12.506913</td><td>13.053912</td><td>12.97493</td><td>12.714434</td><td>12.787248</td><td>12.708971</td><td>12.981138</td><td>13.438072</td><td>13.343017</td><td>0.0</td></tr><tr><td>&quot;ZNF638&quot;</td><td>6.687002</td><td>6.819162</td><td>6.607837</td><td>7.080872</td><td>7.021604</td><td>6.991798</td><td>7.0536</td><td>6.814338</td><td>7.44284</td><td>7.816147</td><td>7.178079</td><td>7.116146</td><td>7.180461</td><td>7.181678</td><td>7.127105</td><td>7.222068</td><td>7.082661</td><td>7.059127</td><td>7.021884</td><td>6.84822</td><td>7.176269</td><td>7.110917</td><td>7.215344</td><td>7.499287</td><td>7.627529</td><td>7.003635</td><td>6.991488</td><td>7.616451</td><td>6.817734</td><td>7.126528</td><td>7.622915</td><td>7.553857</td><td>7.328344</td><td>7.514714</td><td>7.556104</td><td>7.284896</td><td>&hellip;</td><td>12.307763</td><td>12.458594</td><td>12.136049</td><td>12.13552</td><td>12.132345</td><td>11.875665</td><td>11.959071</td><td>12.067691</td><td>12.231148</td><td>12.125612</td><td>12.122264</td><td>12.445146</td><td>12.183178</td><td>12.360345</td><td>12.261561</td><td>11.95581</td><td>12.176823</td><td>11.789465</td><td>12.40524</td><td>12.265753</td><td>12.301539</td><td>12.186163</td><td>12.032755</td><td>11.7763</td><td>12.132566</td><td>12.027477</td><td>12.088639</td><td>11.869532</td><td>11.927924</td><td>11.840193</td><td>12.106984</td><td>11.789485</td><td>12.057222</td><td>12.066815</td><td>11.988249</td><td>11.788164</td><td>0.00385</td></tr><tr><td>&quot;ZDHHC4&quot;</td><td>8.30136</td><td>8.565381</td><td>7.909634</td><td>8.363051</td><td>8.243113</td><td>8.43053</td><td>8.085604</td><td>8.3612</td><td>8.490495</td><td>8.849175</td><td>8.433615</td><td>7.875442</td><td>8.134415</td><td>8.328663</td><td>8.258437</td><td>8.087163</td><td>8.10754</td><td>8.275461</td><td>7.96598</td><td>9.069869</td><td>8.638542</td><td>8.228089</td><td>8.330569</td><td>8.182374</td><td>8.141426</td><td>8.321876</td><td>8.836878</td><td>8.007707</td><td>8.769018</td><td>8.161728</td><td>8.28941</td><td>8.658406</td><td>8.321541</td><td>8.060976</td><td>7.702198</td><td>8.410208</td><td>&hellip;</td><td>9.202176</td><td>9.903201</td><td>9.920536</td><td>9.907244</td><td>9.996801</td><td>9.71822</td><td>9.750848</td><td>10.129962</td><td>9.774661</td><td>9.936243</td><td>10.081656</td><td>9.823741</td><td>9.724186</td><td>9.884298</td><td>10.203598</td><td>9.957434</td><td>9.896671</td><td>10.291893</td><td>9.875629</td><td>9.894567</td><td>9.614661</td><td>9.947307</td><td>9.875186</td><td>10.172385</td><td>10.073602</td><td>9.9885</td><td>9.807037</td><td>10.338918</td><td>10.163344</td><td>10.024138</td><td>10.195252</td><td>10.273135</td><td>9.894091</td><td>9.678233</td><td>9.718224</td><td>9.901509</td><td>0.00385</td></tr><tr><td>&quot;TEFM&quot;</td><td>8.447411</td><td>7.948001</td><td>8.228089</td><td>8.345365</td><td>7.878314</td><td>8.139234</td><td>8.059648</td><td>8.140742</td><td>8.04306</td><td>8.171421</td><td>7.908612</td><td>7.504373</td><td>8.02301</td><td>8.083442</td><td>7.620299</td><td>8.345776</td><td>8.266746</td><td>7.650061</td><td>8.035918</td><td>6.527821</td><td>7.444935</td><td>7.066666</td><td>7.184989</td><td>7.384048</td><td>6.656784</td><td>7.75607</td><td>8.114514</td><td>8.546305</td><td>8.621493</td><td>7.897732</td><td>7.974458</td><td>7.767234</td><td>7.072259</td><td>7.834074</td><td>8.489774</td><td>7.645687</td><td>&hellip;</td><td>6.773738</td><td>7.505046</td><td>8.239991</td><td>8.868606</td><td>8.231028</td><td>8.224506</td><td>8.542889</td><td>8.042433</td><td>8.592862</td><td>7.599131</td><td>8.417282</td><td>7.611724</td><td>8.446941</td><td>8.409847</td><td>7.661834</td><td>8.555808</td><td>7.936975</td><td>7.964769</td><td>7.759895</td><td>7.922078</td><td>7.867358</td><td>7.3348</td><td>7.246026</td><td>7.234784</td><td>7.503258</td><td>7.477215</td><td>7.927877</td><td>7.467516</td><td>7.920695</td><td>7.344333</td><td>7.458901</td><td>7.029299</td><td>7.433563</td><td>7.259652</td><td>7.410649</td><td>7.859868</td><td>0.00385</td></tr><tr><td>&quot;TAOK3&quot;</td><td>8.228441</td><td>8.161298</td><td>8.146965</td><td>8.364156</td><td>8.271971</td><td>8.611068</td><td>8.42495</td><td>8.578765</td><td>8.17994</td><td>8.217225</td><td>8.09231</td><td>8.29734</td><td>8.307554</td><td>8.452822</td><td>8.510097</td><td>8.155041</td><td>8.195588</td><td>8.068843</td><td>7.901388</td><td>8.3612</td><td>8.502305</td><td>8.420275</td><td>8.36638</td><td>8.794078</td><td>8.516692</td><td>8.212316</td><td>8.208856</td><td>7.573292</td><td>8.133673</td><td>8.357891</td><td>7.898808</td><td>8.667861</td><td>8.118498</td><td>7.92203</td><td>7.505606</td><td>8.423783</td><td>&hellip;</td><td>12.785935</td><td>12.559336</td><td>12.091465</td><td>11.917292</td><td>11.872412</td><td>11.659005</td><td>11.686562</td><td>12.168387</td><td>12.20644</td><td>12.176945</td><td>11.92206</td><td>12.730429</td><td>12.088886</td><td>12.221464</td><td>12.61882</td><td>11.681125</td><td>12.288916</td><td>12.047753</td><td>12.525513</td><td>12.255455</td><td>12.50688</td><td>12.510389</td><td>12.504511</td><td>12.606421</td><td>12.349583</td><td>12.244998</td><td>12.361477</td><td>12.248336</td><td>12.18253</td><td>12.528593</td><td>12.642311</td><td>12.413194</td><td>12.483303</td><td>12.675293</td><td>12.634832</td><td>12.097556</td><td>0.009191</td></tr><tr><td>&quot;GRK2&quot;</td><td>12.278163</td><td>12.391146</td><td>12.598222</td><td>12.299219</td><td>12.002306</td><td>12.25172</td><td>12.471088</td><td>12.293355</td><td>11.016578</td><td>10.9816</td><td>12.066101</td><td>12.338337</td><td>12.045857</td><td>11.895172</td><td>12.146813</td><td>12.305699</td><td>12.377288</td><td>12.20529</td><td>12.291417</td><td>11.557308</td><td>11.783024</td><td>11.952132</td><td>11.789334</td><td>12.026241</td><td>11.783024</td><td>12.539943</td><td>12.499638</td><td>11.967819</td><td>11.357992</td><td>12.079773</td><td>12.097017</td><td>12.241015</td><td>11.727882</td><td>12.393412</td><td>12.274128</td><td>12.169964</td><td>&hellip;</td><td>16.30245</td><td>15.400344</td><td>15.267282</td><td>14.899642</td><td>15.546955</td><td>15.812356</td><td>15.326235</td><td>15.53491</td><td>15.455021</td><td>16.029852</td><td>15.433044</td><td>15.512657</td><td>15.553233</td><td>15.312916</td><td>15.694953</td><td>15.37754</td><td>15.589463</td><td>15.371209</td><td>15.214216</td><td>15.343784</td><td>15.534181</td><td>15.773656</td><td>15.805532</td><td>15.677209</td><td>15.526475</td><td>15.429473</td><td>15.053751</td><td>15.464347</td><td>15.210355</td><td>15.754133</td><td>15.567961</td><td>15.716203</td><td>15.689521</td><td>15.689227</td><td>15.423748</td><td>15.720508</td><td>0.009191</td></tr><tr><td>&quot;DHRS9&quot;</td><td>null</td><td>null</td><td>null</td><td>null</td><td>null</td><td>null</td><td>null</td><td>null</td><td>null</td><td>null</td><td>null</td><td>null</td><td>null</td><td>null</td><td>null</td><td>null</td><td>null</td><td>null</td><td>null</td><td>null</td><td>null</td><td>null</td><td>null</td><td>null</td><td>null</td><td>null</td><td>null</td><td>null</td><td>null</td><td>null</td><td>null</td><td>null</td><td>null</td><td>null</td><td>null</td><td>null</td><td>&hellip;</td><td>12.223694</td><td>11.557783</td><td>11.123142</td><td>10.851732</td><td>12.290602</td><td>11.167657</td><td>11.08136</td><td>10.764027</td><td>11.591249</td><td>11.586642</td><td>12.444905</td><td>12.715184</td><td>11.480265</td><td>11.271504</td><td>12.087438</td><td>10.152303</td><td>12.076486</td><td>10.811089</td><td>11.001183</td><td>10.211982</td><td>11.115032</td><td>11.304061</td><td>10.974553</td><td>10.905702</td><td>10.213745</td><td>10.924606</td><td>10.519682</td><td>10.585536</td><td>10.36536</td><td>10.836219</td><td>10.452468</td><td>11.266725</td><td>11.255174</td><td>10.209494</td><td>12.137662</td><td>10.969615</td><td>0.004745</td></tr><tr><td>&quot;IGF1R&quot;</td><td>null</td><td>null</td><td>null</td><td>null</td><td>null</td><td>null</td><td>null</td><td>null</td><td>null</td><td>null</td><td>null</td><td>null</td><td>null</td><td>null</td><td>null</td><td>null</td><td>null</td><td>null</td><td>null</td><td>null</td><td>null</td><td>null</td><td>null</td><td>null</td><td>null</td><td>null</td><td>null</td><td>null</td><td>null</td><td>null</td><td>null</td><td>null</td><td>null</td><td>null</td><td>null</td><td>null</td><td>&hellip;</td><td>13.088515</td><td>11.62777</td><td>11.016617</td><td>11.920137</td><td>12.313007</td><td>11.671951</td><td>11.329567</td><td>11.405025</td><td>11.879161</td><td>11.362819</td><td>10.94262</td><td>12.65254</td><td>13.112019</td><td>12.521403</td><td>11.011506</td><td>11.699473</td><td>11.245297</td><td>10.81052</td><td>12.824838</td><td>12.577711</td><td>12.890829</td><td>13.029628</td><td>12.563206</td><td>12.207178</td><td>12.029539</td><td>12.396598</td><td>12.019334</td><td>12.032871</td><td>11.809311</td><td>12.351529</td><td>11.915179</td><td>12.459671</td><td>12.901026</td><td>12.841821</td><td>12.84864</td><td>12.388443</td><td>0.003814</td></tr><tr><td>&quot;TECPR2&quot;</td><td>null</td><td>null</td><td>null</td><td>null</td><td>null</td><td>null</td><td>null</td><td>null</td><td>null</td><td>null</td><td>null</td><td>null</td><td>null</td><td>null</td><td>null</td><td>null</td><td>null</td><td>null</td><td>null</td><td>null</td><td>null</td><td>null</td><td>null</td><td>null</td><td>null</td><td>null</td><td>null</td><td>null</td><td>null</td><td>null</td><td>null</td><td>null</td><td>null</td><td>null</td><td>null</td><td>null</td><td>&hellip;</td><td>14.098223</td><td>13.443989</td><td>11.535095</td><td>12.149253</td><td>12.640769</td><td>13.277463</td><td>12.653623</td><td>12.804374</td><td>13.160602</td><td>13.591788</td><td>12.13815</td><td>13.695655</td><td>13.426517</td><td>13.226004</td><td>13.466768</td><td>11.945867</td><td>13.489309</td><td>12.10157</td><td>12.59372</td><td>12.643852</td><td>13.0972</td><td>12.886891</td><td>12.898045</td><td>12.964894</td><td>13.153181</td><td>12.561059</td><td>12.152875</td><td>11.938602</td><td>11.762991</td><td>13.561534</td><td>12.340495</td><td>12.996309</td><td>13.189065</td><td>13.479952</td><td>13.430435</td><td>12.737796</td><td>0.009155</td></tr></tbody></table></div>"
     },
     "execution_count": 14,
     "metadata": {},
     "output_type": "execute_result"
    }
   ],
   "source": [
    "# Experiment \n",
    "filtered = (\n",
    "    high_frequency_genes_dataframe(\n",
    "        dataframes=load_data_per_condition(Condition.SLE, \"../data/adex-database/samples\"),\n",
    "        allowed_null_percentage=1,  # will filter later, no filtering here\n",
    "        drop_frequencies_column=False\n",
    "    )\n",
    "    .with_columns(\n",
    "        pl.sum_horizontal(pl.all().is_null() / pl.all().count())\n",
    "        .alias(\"Null-Percentage\")\n",
    "    )\n",
    "    .filter(pl.col(\"Null-Percentage\") <= 0.01)\n",
    ")\n",
    "\n",
    "filtered"
   ],
   "metadata": {
    "collapsed": false,
    "ExecuteTime": {
     "end_time": "2024-02-25T20:50:43.615751Z",
     "start_time": "2024-02-25T20:50:42.917863Z"
    }
   },
   "id": "f85692f46861f6"
  },
  {
   "cell_type": "code",
   "execution_count": 15,
   "outputs": [
    {
     "name": "stdout",
     "output_type": "stream",
     "text": [
      "\n",
      "    Shape (all data): \n",
      "    RA: (28661, 1123)\n",
      "    T1D: (27581, 177)\n",
      "    SSc: (20411, 230)\n",
      "    SLE: (27803, 2054)\n",
      "    SjS: (23144, 401)\n",
      "\n",
      "    Shape (only commom genes): \n",
      "    RA: (2602, 1123)\n",
      "    T1D: (2504, 177)\n",
      "    SSc: (6582, 230)\n",
      "    SLE: (2050, 2054)\n",
      "    SjS: (7683, 401)\n",
      "\n",
      "    Shape (including only high-frequency genes (genes that appear in 80% of the samples)): \n",
      "    RA: (28661, 1123)\n",
      "    T1D: (27581, 177)\n",
      "    SSc: (20411, 230)\n",
      "    SLE: (27803, 2054)\n",
      "    SjS: (23144, 401)\n"
     ]
    }
   ],
   "source": [
    "print(f\"\"\"\n",
    "    Shape (all data): \n",
    "    RA: {high_frequency_genes_dataframe(ra_data, allowed_null_percentage=1, drop_frequencies_column=True).shape}\n",
    "    T1D: {high_frequency_genes_dataframe(t1d_data, allowed_null_percentage=1, drop_frequencies_column=True).shape}\n",
    "    SSc: {high_frequency_genes_dataframe(ssc_data, allowed_null_percentage=1, drop_frequencies_column=True).shape}\n",
    "    SLE: {high_frequency_genes_dataframe(sle_data, allowed_null_percentage=1, drop_frequencies_column=True).shape}\n",
    "    SjS: {high_frequency_genes_dataframe(sjs_data, allowed_null_percentage=1, drop_frequencies_column=True).shape}\n",
    "\"\"\")\n",
    "\n",
    "print(f\"\"\"\n",
    "    Shape (only commom genes): \n",
    "    RA: {high_frequency_genes_dataframe(ra_data, allowed_null_percentage=0, drop_frequencies_column=True).shape}\n",
    "    T1D: {high_frequency_genes_dataframe(t1d_data, allowed_null_percentage=0, drop_frequencies_column=True).shape}\n",
    "    SSc: {high_frequency_genes_dataframe(ssc_data, allowed_null_percentage=0, drop_frequencies_column=True).shape}\n",
    "    SLE: {high_frequency_genes_dataframe(sle_data, allowed_null_percentage=0, drop_frequencies_column=True).shape}\n",
    "    SjS: {high_frequency_genes_dataframe(sjs_data, allowed_null_percentage=0, drop_frequencies_column=True).shape}\n",
    "\"\"\")\n",
    "\n",
    "allowed_null_percentage = 0.2\n",
    "\n",
    "print(f\"\"\"\n",
    "    Shape (including only high-frequency genes (genes that appear in 80% of the samples)): \n",
    "    RA: {high_frequency_genes_dataframe(ra_data, allowed_null_percentage=allowed_null_percentage, drop_frequencies_column=True).shape}\n",
    "    T1D: {high_frequency_genes_dataframe(t1d_data, allowed_null_percentage=allowed_null_percentage, drop_frequencies_column=True).shape}\n",
    "    SSc: {high_frequency_genes_dataframe(ssc_data, allowed_null_percentage=allowed_null_percentage, drop_frequencies_column=True).shape}\n",
    "    SLE: {high_frequency_genes_dataframe(sle_data, allowed_null_percentage=allowed_null_percentage, drop_frequencies_column=True).shape}\n",
    "    SjS: {high_frequency_genes_dataframe(sjs_data, allowed_null_percentage=allowed_null_percentage, drop_frequencies_column=True).shape}\n",
    "\"\"\")"
   ],
   "metadata": {
    "collapsed": false,
    "ExecuteTime": {
     "end_time": "2024-02-25T20:50:51.807744Z",
     "start_time": "2024-02-25T20:50:50.416008Z"
    }
   },
   "id": "a2658dec7132df90"
  },
  {
   "cell_type": "markdown",
   "source": [
    "> Observation: Allowing 20% of null values is keeping the whole dataset  "
   ],
   "metadata": {
    "collapsed": false
   },
   "id": "dcf9d590f383767c"
  },
  {
   "cell_type": "markdown",
   "source": [
    "# Available tissues per condition"
   ],
   "metadata": {
    "collapsed": false
   },
   "id": "d6483d37f46e1747"
  },
  {
   "cell_type": "code",
   "outputs": [
    {
     "name": "stdout",
     "output_type": "stream",
     "text": [
      "RA: shape: (3, 1)\n",
      "┌───────────────────┐\n",
      "│ Tissue            │\n",
      "│ ---               │\n",
      "│ str               │\n",
      "╞═══════════════════╡\n",
      "│ Peripheral blood  │\n",
      "│ Whole blood       │\n",
      "│ Synovial membrane │\n",
      "└───────────────────┘\n",
      "T1D: shape: (2, 1)\n",
      "┌──────────────────┐\n",
      "│ Tissue           │\n",
      "│ ---              │\n",
      "│ str              │\n",
      "╞══════════════════╡\n",
      "│ Whole blood      │\n",
      "│ Peripheral blood │\n",
      "└──────────────────┘\n",
      "SSc: shape: (3, 1)\n",
      "┌──────────────────┐\n",
      "│ Tissue           │\n",
      "│ ---              │\n",
      "│ str              │\n",
      "╞══════════════════╡\n",
      "│ Whole blood      │\n",
      "│ Peripheral blood │\n",
      "│ Skin             │\n",
      "└──────────────────┘\n",
      "SLE: shape: (3, 1)\n",
      "┌──────────────────┐\n",
      "│ Tissue           │\n",
      "│ ---              │\n",
      "│ str              │\n",
      "╞══════════════════╡\n",
      "│ Peripheral blood │\n",
      "│ Skin             │\n",
      "│ Whole blood      │\n",
      "└──────────────────┘\n",
      "SjS: shape: (5, 1)\n",
      "┌──────────────────┐\n",
      "│ Tissue           │\n",
      "│ ---              │\n",
      "│ str              │\n",
      "╞══════════════════╡\n",
      "│ Salivary gland   │\n",
      "│ Saliva           │\n",
      "│ Whole blood      │\n",
      "│ Parotid gland    │\n",
      "│ Peripheral blood │\n",
      "└──────────────────┘\n"
     ]
    }
   ],
   "source": [
    "for condition in Condition:\n",
    "    dataset = get_pre_processed_dataset(ConditionDataLoader(condition), files_path, metadata_path, datasets_info_path)\n",
    "    print(f\"{condition.name}: {dataset.select('Tissue').unique()}\")"
   ],
   "metadata": {
    "collapsed": false,
    "ExecuteTime": {
     "end_time": "2024-03-03T09:22:45.075161Z",
     "start_time": "2024-03-03T09:22:34.173571Z"
    }
   },
   "id": "a45b7e1629bf5b9f",
   "execution_count": 3
  },
  {
   "cell_type": "markdown",
   "source": [
    "# Sequencing Technique (Microarrays vs RNA-Seq) "
   ],
   "metadata": {
    "collapsed": false
   },
   "id": "66a161d048276a29"
  },
  {
   "cell_type": "code",
   "outputs": [
    {
     "data": {
      "text/plain": "(41, 5)"
     },
     "execution_count": 17,
     "metadata": {},
     "output_type": "execute_result"
    }
   ],
   "source": [
    "datasets_info = pl.read_csv(datasets_info_path)\n",
    "datasets_info.shape"
   ],
   "metadata": {
    "collapsed": false,
    "ExecuteTime": {
     "end_time": "2024-02-25T20:51:32.653556Z",
     "start_time": "2024-02-25T20:51:32.649566Z"
    }
   },
   "id": "bbc3208840dead30",
   "execution_count": 17
  },
  {
   "cell_type": "code",
   "outputs": [
    {
     "data": {
      "text/plain": "shape: (41, 5)\n┌───────────┬─────────┬─────────────────────────────────┬────────────────────────────────┬─────────┐\n│ Dataset   ┆ Disease ┆ Method                          ┆ Title                          ┆ Samples │\n│ ---       ┆ ---     ┆ ---                             ┆ ---                            ┆ ---     │\n│ str       ┆ str     ┆ str                             ┆ str                            ┆ i64     │\n╞═══════════╪═════════╪═════════════════════════════════╪════════════════════════════════╪═════════╡\n│ GSE10325  ┆ SLE     ┆ Expression profiling by array   ┆ Combined deficiency of         ┆ 67      │\n│           ┆         ┆                                 ┆ proapopto…                     ┆         │\n│ GSE104174 ┆ SSc     ┆ Expression profiling by high    ┆ Changes in macrophage          ┆ 72      │\n│           ┆         ┆ thr…                            ┆ transcript…                    ┆         │\n│ GSE108497 ┆ SLE     ┆ Expression profiling by array   ┆ Illumina HumanHT-12 V4.0       ┆ 512     │\n│           ┆         ┆                                 ┆ express…                       ┆         │\n│ GSE110169 ┆ SLE RA  ┆ Expression profiling by array   ┆ [HG-U219] Affymetrix Human     ┆ 234     │\n│           ┆         ┆                                 ┆ Genom…                         ┆         │\n│ GSE110174 ┆ SLE     ┆ Expression profiling by array   ┆ [HT_HG-U133_Plus_PM]           ┆ 154     │\n│           ┆         ┆                                 ┆ Affymetrix …                   ┆         │\n│ …         ┆ …       ┆ …                               ┆ …                              ┆ …       │\n│ GSE84844  ┆ SjS     ┆ Expression profiling by array   ┆ Multiomic disease signatures   ┆ 60      │\n│           ┆         ┆                                 ┆ con…                           ┆         │\n│ GSE89408  ┆ RA      ┆ Expression profiling by high    ┆ CD40L-Dependent Pathway Is     ┆ 218     │\n│           ┆         ┆ thr…                            ┆ Activ…                         ┆         │\n│ GSE90081  ┆ RA      ┆ Expression profiling by high    ┆ Discovery of new candidate     ┆ 24      │\n│           ┆         ┆ thr…                            ┆ genes…                         ┆         │\n│ GSE93683  ┆ SjS     ┆ Expression profiling by array   ┆ Multiomic disease signatures   ┆ 48      │\n│           ┆         ┆                                 ┆ con…                           ┆         │\n│ GSE95065  ┆ SSc     ┆ Expression profiling by array   ┆ [HG-U133A_2] Affymetrix Human  ┆ 33      │\n│           ┆         ┆                                 ┆ Ge…                            ┆         │\n└───────────┴─────────┴─────────────────────────────────┴────────────────────────────────┴─────────┘",
      "text/html": "<div><style>\n.dataframe > thead > tr,\n.dataframe > tbody > tr {\n  text-align: right;\n  white-space: pre-wrap;\n}\n</style>\n<small>shape: (41, 5)</small><table border=\"1\" class=\"dataframe\"><thead><tr><th>Dataset</th><th>Disease</th><th>Method</th><th>Title</th><th>Samples</th></tr><tr><td>str</td><td>str</td><td>str</td><td>str</td><td>i64</td></tr></thead><tbody><tr><td>&quot;GSE10325&quot;</td><td>&quot;SLE&quot;</td><td>&quot;Expression pro…</td><td>&quot;Combined defic…</td><td>67</td></tr><tr><td>&quot;GSE104174&quot;</td><td>&quot;SSc&quot;</td><td>&quot;Expression pro…</td><td>&quot;Changes in mac…</td><td>72</td></tr><tr><td>&quot;GSE108497&quot;</td><td>&quot;SLE&quot;</td><td>&quot;Expression pro…</td><td>&quot;Illumina Human…</td><td>512</td></tr><tr><td>&quot;GSE110169&quot;</td><td>&quot;SLE RA&quot;</td><td>&quot;Expression pro…</td><td>&quot;[HG-U219] Affy…</td><td>234</td></tr><tr><td>&quot;GSE110174&quot;</td><td>&quot;SLE&quot;</td><td>&quot;Expression pro…</td><td>&quot;[HT_HG-U133_Pl…</td><td>154</td></tr><tr><td>&quot;GSE110914&quot;</td><td>&quot;T1D&quot;</td><td>&quot;Expression pro…</td><td>&quot;Abnormal neutr…</td><td>42</td></tr><tr><td>&quot;GSE112341&quot;</td><td>&quot;T1D&quot;</td><td>&quot;Expression pro…</td><td>&quot;Risk variants …</td><td>22</td></tr><tr><td>&quot;GSE117931&quot;</td><td>&quot;SSc&quot;</td><td>&quot;Expression pro…</td><td>&quot;Illumina Human…</td><td>74</td></tr><tr><td>&quot;GSE11907&quot;</td><td>&quot;SLE&quot;</td><td>&quot;Expression pro…</td><td>&quot;A modular anal…</td><td>546</td></tr><tr><td>&quot;GSE12021&quot;</td><td>&quot;RA&quot;</td><td>&quot;Expression pro…</td><td>&quot;Identification…</td><td>57</td></tr><tr><td>&quot;GSE124073&quot;</td><td>&quot;SSc&quot;</td><td>&quot;Expression pro…</td><td>&quot;The Long Non-c…</td><td>73</td></tr><tr><td>&quot;GSE124939&quot;</td><td>&quot;SLE&quot;</td><td>&quot;Expression pro…</td><td>&quot;Hypersensitive…</td><td>72</td></tr><tr><td>&hellip;</td><td>&hellip;</td><td>&hellip;</td><td>&hellip;</td><td>&hellip;</td></tr><tr><td>&quot;GSE65010&quot;</td><td>&quot;RA&quot;</td><td>&quot;Expression pro…</td><td>&quot;Phenotypic, Fu…</td><td>48</td></tr><tr><td>&quot;GSE65391&quot;</td><td>&quot;SLE&quot;</td><td>&quot;Expression pro…</td><td>&quot;Personalized I…</td><td>996</td></tr><tr><td>&quot;GSE72509&quot;</td><td>&quot;SLE&quot;</td><td>&quot;Expression pro…</td><td>&quot;The Ro60 autoa…</td><td>117</td></tr><tr><td>&quot;GSE7451&quot;</td><td>&quot;SjS&quot;</td><td>&quot;Expression pro…</td><td>&quot;Salivary prote…</td><td>20</td></tr><tr><td>&quot;GSE77298&quot;</td><td>&quot;RA&quot;</td><td>&quot;Expression pro…</td><td>&quot;Disease-Regula…</td><td>23</td></tr><tr><td>&quot;GSE80183&quot;</td><td>&quot;SLE&quot;</td><td>&quot;Expression pro…</td><td>&quot;RNA-seq Analys…</td><td>16</td></tr><tr><td>&quot;GSE82221&quot;</td><td>&quot;SLE&quot;</td><td>&quot;Expression pro…</td><td>&quot;Illumina Human…</td><td>110</td></tr><tr><td>&quot;GSE84844&quot;</td><td>&quot;SjS&quot;</td><td>&quot;Expression pro…</td><td>&quot;Multiomic dise…</td><td>60</td></tr><tr><td>&quot;GSE89408&quot;</td><td>&quot;RA&quot;</td><td>&quot;Expression pro…</td><td>&quot;CD40L-Dependen…</td><td>218</td></tr><tr><td>&quot;GSE90081&quot;</td><td>&quot;RA&quot;</td><td>&quot;Expression pro…</td><td>&quot;Discovery of n…</td><td>24</td></tr><tr><td>&quot;GSE93683&quot;</td><td>&quot;SjS&quot;</td><td>&quot;Expression pro…</td><td>&quot;Multiomic dise…</td><td>48</td></tr><tr><td>&quot;GSE95065&quot;</td><td>&quot;SSc&quot;</td><td>&quot;Expression pro…</td><td>&quot;[HG-U133A_2] A…</td><td>33</td></tr></tbody></table></div>"
     },
     "execution_count": 18,
     "metadata": {},
     "output_type": "execute_result"
    }
   ],
   "source": [
    "datasets_info"
   ],
   "metadata": {
    "collapsed": false,
    "ExecuteTime": {
     "end_time": "2024-02-25T20:51:34.688063Z",
     "start_time": "2024-02-25T20:51:34.683379Z"
    }
   },
   "id": "5e395b98202306f9",
   "execution_count": 18
  },
  {
   "cell_type": "code",
   "outputs": [
    {
     "data": {
      "text/plain": "shape: (2, 2)\n┌───────────────────────────────────┬─────┐\n│ Method                            ┆ len │\n│ ---                               ┆ --- │\n│ str                               ┆ u32 │\n╞═══════════════════════════════════╪═════╡\n│ Expression profiling by array     ┆ 31  │\n│ Expression profiling by high thr… ┆ 10  │\n└───────────────────────────────────┴─────┘",
      "text/html": "<div><style>\n.dataframe > thead > tr,\n.dataframe > tbody > tr {\n  text-align: right;\n  white-space: pre-wrap;\n}\n</style>\n<small>shape: (2, 2)</small><table border=\"1\" class=\"dataframe\"><thead><tr><th>Method</th><th>len</th></tr><tr><td>str</td><td>u32</td></tr></thead><tbody><tr><td>&quot;Expression pro…</td><td>31</td></tr><tr><td>&quot;Expression pro…</td><td>10</td></tr></tbody></table></div>"
     },
     "execution_count": 20,
     "metadata": {},
     "output_type": "execute_result"
    }
   ],
   "source": [
    "datasets_info.group_by(\"Method\").len()"
   ],
   "metadata": {
    "collapsed": false,
    "ExecuteTime": {
     "end_time": "2024-02-25T20:51:55.030896Z",
     "start_time": "2024-02-25T20:51:55.027258Z"
    }
   },
   "id": "f6d9361a20ae6d15",
   "execution_count": 20
  },
  {
   "cell_type": "markdown",
   "source": [
    "# Per Condition/Sequencing/Tissue stats "
   ],
   "metadata": {
    "collapsed": false
   },
   "id": "c351bcf088f99fd3"
  },
  {
   "cell_type": "markdown",
   "source": [
    "## Testing: "
   ],
   "metadata": {
    "collapsed": false
   },
   "id": "37e34bbd577ff69f"
  },
  {
   "cell_type": "code",
   "outputs": [
    {
     "data": {
      "text/plain": "(20, 20400)"
     },
     "execution_count": 4,
     "metadata": {},
     "output_type": "execute_result"
    }
   ],
   "source": [
    "# Test\n",
    "sample_df = (\n",
    "    get_pre_processed_dataset(\n",
    "        ConditionSequencingTissueDataLoader(\n",
    "            Condition.SjS, \n",
    "            SequencingTechnique.MICROARRAYS, \n",
    "            TissueEnum.SALIVA\n",
    "        ), \n",
    "        files_path, \n",
    "        metadata_path, \n",
    "        datasets_info_path, \n",
    "        return_metadata=False\n",
    "    )\n",
    ")\n",
    "\n",
    "sample_df.shape"
   ],
   "metadata": {
    "collapsed": false,
    "ExecuteTime": {
     "end_time": "2024-03-03T09:23:06.105247Z",
     "start_time": "2024-03-03T09:23:04.921363Z"
    }
   },
   "id": "8089ce1dfc506173",
   "execution_count": 4
  },
  {
   "cell_type": "code",
   "outputs": [
    {
     "data": {
      "text/plain": "shape: (20, 20_400)\n┌───────────┬───────────┬───────────┬───────────┬───┬───────────┬───────────┬───────────┬──────────┐\n│ Sample    ┆ RFC2      ┆ HSPA6     ┆ PAX8      ┆ … ┆ FAM86DP   ┆ FAM86B2   ┆ FAM86FP   ┆ FAM86B1  │\n│ ---       ┆ ---       ┆ ---       ┆ ---       ┆   ┆ ---       ┆ ---       ┆ ---       ┆ ---      │\n│ str       ┆ str       ┆ str       ┆ str       ┆   ┆ str       ┆ str       ┆ str       ┆ str      │\n╞═══════════╪═══════════╪═══════════╪═══════════╪═══╪═══════════╪═══════════╪═══════════╪══════════╡\n│ GSM180372 ┆ 1.9490484 ┆ 2.0559096 ┆ 1.8692430 ┆ … ┆ 1.7254567 ┆ 1.7254567 ┆ 1.7254567 ┆ 1.725456 │\n│           ┆ 3778271   ┆ 2074666   ┆ 3772085   ┆   ┆ 3161155   ┆ 3161155   ┆ 3161155   ┆ 73161155 │\n│ GSM180380 ┆ 2.2064759 ┆ 2.3095848 ┆ 1.8555991 ┆ … ┆ 1.9008513 ┆ 1.9008513 ┆ 1.9008513 ┆ 1.900851 │\n│           ┆ 3790151   ┆ 4156738   ┆ 6246481   ┆   ┆ 5443914   ┆ 5443914   ┆ 5443914   ┆ 35443914 │\n│ GSM180383 ┆ 1.9698279 ┆ 3.5230307 ┆ 1.9122797 ┆ … ┆ 1.8314809 ┆ 1.8314809 ┆ 1.8314809 ┆ 1.831480 │\n│           ┆ 9784334   ┆ 2479728   ┆ 5022177   ┆   ┆ 432738    ┆ 432738    ┆ 432738    ┆ 9432738  │\n│ GSM180378 ┆ 1.8669118 ┆ 2.2246756 ┆ 1.9331012 ┆ … ┆ 1.8620079 ┆ 1.8620079 ┆ 1.8620079 ┆ 1.862007 │\n│           ┆ 5803368   ┆ 3603498   ┆ 6297283   ┆   ┆ 734293    ┆ 734293    ┆ 734293    ┆ 9734293  │\n│ GSM180379 ┆ 2.0565130 ┆ 3.6120671 ┆ 1.9251530 ┆ … ┆ 1.7696210 ┆ 1.7696210 ┆ 1.7696210 ┆ 1.769621 │\n│           ┆ 7727808   ┆ 6693603   ┆ 0289088   ┆   ┆ 3814194   ┆ 3814194   ┆ 3814194   ┆ 03814194 │\n│ …         ┆ …         ┆ …         ┆ …         ┆ … ┆ …         ┆ …         ┆ …         ┆ …        │\n│ GSM180382 ┆ 1.9159526 ┆ 2.8009246 ┆ 1.9084982 ┆ … ┆ 1.7674132 ┆ 1.7674132 ┆ 1.7674132 ┆ 1.767413 │\n│           ┆ 8165859   ┆ 7664153   ┆ 2087322   ┆   ┆ 0670185   ┆ 0670185   ┆ 0670185   ┆ 20670185 │\n│ GSM180386 ┆ 1.8285657 ┆ 2.8924206 ┆ 1.9306246 ┆ … ┆ 1.7933174 ┆ 1.7933174 ┆ 1.7933174 ┆ 1.793317 │\n│           ┆ 0472821   ┆ 7968546   ┆ 7969617   ┆   ┆ 7834362   ┆ 7834362   ┆ 7834362   ┆ 47834362 │\n│ GSM180387 ┆ 1.8832300 ┆ 2.3298980 ┆ 1.9013964 ┆ … ┆ 1.8320456 ┆ 1.8320456 ┆ 1.8320456 ┆ 1.832045 │\n│           ┆ 9021046   ┆ 8686946   ┆ 2802121   ┆   ┆ 4330272   ┆ 4330272   ┆ 4330272   ┆ 64330272 │\n│ GSM180373 ┆ 1.9213025 ┆ 2.1731179 ┆ 1.8768787 ┆ … ┆ 1.8601290 ┆ 1.8601290 ┆ 1.8601290 ┆ 1.860129 │\n│           ┆ 3152473   ┆ 6290032   ┆ 5814847   ┆   ┆ 5036111   ┆ 5036111   ┆ 5036111   ┆ 05036111 │\n│ GSM180388 ┆ 1.9017108 ┆ 2.3333943 ┆ 1.9502601 ┆ … ┆ 1.9624214 ┆ 1.9624214 ┆ 1.9624214 ┆ 1.962421 │\n│           ┆ 5356204   ┆ 6234204   ┆ 263104    ┆   ┆ 2404516   ┆ 2404516   ┆ 2404516   ┆ 42404516 │\n└───────────┴───────────┴───────────┴───────────┴───┴───────────┴───────────┴───────────┴──────────┘",
      "text/html": "<div><style>\n.dataframe > thead > tr,\n.dataframe > tbody > tr {\n  text-align: right;\n  white-space: pre-wrap;\n}\n</style>\n<small>shape: (20, 20_400)</small><table border=\"1\" class=\"dataframe\"><thead><tr><th>Sample</th><th>RFC2</th><th>HSPA6</th><th>PAX8</th><th>GUCA1A</th><th>THRA</th><th>PTPN21</th><th>CCL5</th><th>CYP2E1</th><th>EPHB3</th><th>ESRRA</th><th>CYP2A6</th><th>SCARB1</th><th>TTLL12</th><th>WFDC2</th><th>MAPK1</th><th>PXK</th><th>VPS18</th><th>MSANTD3</th><th>SLC46A1</th><th>TIMD4</th><th>SLC39A5</th><th>ATP6V1E2</th><th>AFG3L1P</th><th>CILP2</th><th>PIGX</th><th>SLC39A13</th><th>BEST4</th><th>AK9</th><th>CORO6</th><th>TMEM106A</th><th>ALG10</th><th>TTC39C</th><th>C15orf40</th><th>RAX2</th><th>MFAP3</th><th>EYA3</th><th>&hellip;</th><th>LOC101930453</th><th>LOC101928631</th><th>MIR186</th><th>LOC102723709</th><th>LOC102723678</th><th>SNORA28</th><th>LOC101930071</th><th>KRTAP21-1</th><th>LOC101930288</th><th>ERVK3-1</th><th>LOC100128361</th><th>CENPP</th><th>FAM226B</th><th>FAM226A</th><th>LOC102724112</th><th>LOC100287834</th><th>LOC101928042</th><th>LOC101927579</th><th>LOC643406</th><th>GGT8P</th><th>LOC102724426</th><th>MIR29B1</th><th>MIR29A</th><th>LOC101927382</th><th>LOC102723773</th><th>LOC101060596</th><th>SMG1P7</th><th>LOC400499</th><th>LOC388210</th><th>MICOS10-NBL1</th><th>MROH7-TTC4</th><th>LOC102725263</th><th>LOC100129924</th><th>FAM86DP</th><th>FAM86B2</th><th>FAM86FP</th><th>FAM86B1</th></tr><tr><td>str</td><td>str</td><td>str</td><td>str</td><td>str</td><td>str</td><td>str</td><td>str</td><td>str</td><td>str</td><td>str</td><td>str</td><td>str</td><td>str</td><td>str</td><td>str</td><td>str</td><td>str</td><td>str</td><td>str</td><td>str</td><td>str</td><td>str</td><td>str</td><td>str</td><td>str</td><td>str</td><td>str</td><td>str</td><td>str</td><td>str</td><td>str</td><td>str</td><td>str</td><td>str</td><td>str</td><td>str</td><td>&hellip;</td><td>str</td><td>str</td><td>str</td><td>str</td><td>str</td><td>str</td><td>str</td><td>str</td><td>str</td><td>str</td><td>str</td><td>str</td><td>str</td><td>str</td><td>str</td><td>str</td><td>str</td><td>str</td><td>str</td><td>str</td><td>str</td><td>str</td><td>str</td><td>str</td><td>str</td><td>str</td><td>str</td><td>str</td><td>str</td><td>str</td><td>str</td><td>str</td><td>str</td><td>str</td><td>str</td><td>str</td><td>str</td></tr></thead><tbody><tr><td>&quot;GSM180372&quot;</td><td>&quot;1.949048437782…</td><td>&quot;2.055909620746…</td><td>&quot;1.869243037720…</td><td>&quot;1.785642790690…</td><td>&quot;1.851159517929…</td><td>&quot;2.184876836274…</td><td>&quot;1.741172045361…</td><td>&quot;2.009413279487…</td><td>&quot;2.072968041506…</td><td>&quot;2.162993776504…</td><td>&quot;2.122132254169…</td><td>&quot;1.871083978684…</td><td>&quot;1.781954902030…</td><td>&quot;2.046971629173…</td><td>&quot;1.930857990728…</td><td>&quot;1.760058178112…</td><td>&quot;1.924358728474…</td><td>&quot;1.937760715467…</td><td>&quot;2.051349119450…</td><td>&quot;1.909611297415…</td><td>&quot;2.017249960249…</td><td>&quot;1.976423891424…</td><td>&quot;1.844740256154…</td><td>&quot;1.899289577035…</td><td>&quot;1.635043590172…</td><td>&quot;1.794340319554…</td><td>&quot;1.981746891549…</td><td>&quot;1.803580327060…</td><td>&quot;2.154714525056…</td><td>&quot;2.103953724699…</td><td>&quot;1.963874548764…</td><td>&quot;1.855089581235…</td><td>&quot;1.833179759581…</td><td>&quot;2.155136868107…</td><td>&quot;1.826123164784…</td><td>&quot;1.823842252751…</td><td>&hellip;</td><td>&quot;1.813608677876…</td><td>&quot;1.921655505833…</td><td>&quot;1.798229187562…</td><td>&quot;2.218773628512…</td><td>&quot;2.218773628512…</td><td>&quot;1.711817859705…</td><td>&quot;2.104366287992…</td><td>&quot;2.005624943411…</td><td>&quot;1.824722602007…</td><td>&quot;2.062926547876…</td><td>&quot;2.096667115234…</td><td>&quot;2.096667115234…</td><td>&quot;2.019836567193…</td><td>&quot;2.019836567193…</td><td>&quot;2.103793866979…</td><td>&quot;1.928321626884…</td><td>&quot;1.940042866848…</td><td>&quot;1.940042866848…</td><td>&quot;2.249400091479…</td><td>&quot;1.842140845867…</td><td>&quot;1.950085648200…</td><td>&quot;1.802357902962…</td><td>&quot;1.802357902962…</td><td>&quot;1.664396301913…</td><td>&quot;2.132915504032…</td><td>&quot;2.132915504032…</td><td>&quot;2.132915504032…</td><td>&quot;2.263099988435…</td><td>&quot;2.263099988435…</td><td>&quot;2.129892952028…</td><td>&quot;1.796742330937…</td><td>&quot;2.074755064941…</td><td>&quot;2.097057027474…</td><td>&quot;1.725456731611…</td><td>&quot;1.725456731611…</td><td>&quot;1.725456731611…</td><td>&quot;1.725456731611…</td></tr><tr><td>&quot;GSM180380&quot;</td><td>&quot;2.206475937901…</td><td>&quot;2.309584841567…</td><td>&quot;1.855599162464…</td><td>&quot;1.808566476497…</td><td>&quot;1.848871881098…</td><td>&quot;1.840072669482…</td><td>&quot;1.713262578641…</td><td>&quot;1.795640081168…</td><td>&quot;2.232213608204…</td><td>&quot;2.282061304375…</td><td>&quot;2.001845666792…</td><td>&quot;1.829596687251…</td><td>&quot;2.081400859397…</td><td>&quot;2.064617444711…</td><td>&quot;2.396895148521…</td><td>&quot;1.990694282259…</td><td>&quot;1.996010387405…</td><td>&quot;1.988987221182…</td><td>&quot;1.908961045909…</td><td>&quot;2.051461247087…</td><td>&quot;2.032249214766…</td><td>&quot;1.941117494096…</td><td>&quot;1.890595672870…</td><td>&quot;1.811870582743…</td><td>&quot;1.703669798139…</td><td>&quot;1.867514424853…</td><td>&quot;1.841042859779…</td><td>&quot;2.006448903681…</td><td>&quot;1.876239471914…</td><td>&quot;2.109977180284…</td><td>&quot;1.649519461306…</td><td>&quot;2.004367685104…</td><td>&quot;2.213269330067…</td><td>&quot;2.123659383531…</td><td>&quot;2.010087184777…</td><td>&quot;1.808089709968…</td><td>&hellip;</td><td>&quot;1.725307374942…</td><td>&quot;1.880993208594…</td><td>&quot;1.727622841906…</td><td>&quot;2.218773628512…</td><td>&quot;2.218773628512…</td><td>&quot;1.837242993182…</td><td>&quot;2.292011720870…</td><td>&quot;2.081731824526…</td><td>&quot;1.780862936500…</td><td>&quot;2.160596409490…</td><td>&quot;1.847374262962…</td><td>&quot;1.847374262962…</td><td>&quot;1.897603702079…</td><td>&quot;1.897603702079…</td><td>&quot;2.180596538059…</td><td>&quot;1.678627420800…</td><td>&quot;1.649212028546…</td><td>&quot;1.649212028546…</td><td>&quot;1.796692323209…</td><td>&quot;1.806395776029…</td><td>&quot;2.044879462316…</td><td>&quot;1.795018021148…</td><td>&quot;1.795018021148…</td><td>&quot;1.776649276645…</td><td>&quot;2.032102606353…</td><td>&quot;2.032102606353…</td><td>&quot;2.032102606353…</td><td>&quot;2.131370375768…</td><td>&quot;2.131370375768…</td><td>&quot;2.246609200498…</td><td>&quot;1.832641369777…</td><td>&quot;1.993724911255…</td><td>&quot;2.004616345019…</td><td>&quot;1.900851354439…</td><td>&quot;1.900851354439…</td><td>&quot;1.900851354439…</td><td>&quot;1.900851354439…</td></tr><tr><td>&quot;GSM180383&quot;</td><td>&quot;1.969827997843…</td><td>&quot;3.523030724797…</td><td>&quot;1.912279750221…</td><td>&quot;2.014404098839…</td><td>&quot;1.961961517902…</td><td>&quot;2.164415012875…</td><td>&quot;1.735512570599…</td><td>&quot;1.928883469625…</td><td>&quot;1.898976957992…</td><td>&quot;2.305233667870…</td><td>&quot;2.040542986379…</td><td>&quot;1.812109023060…</td><td>&quot;1.944027365441…</td><td>&quot;1.802885785480…</td><td>&quot;2.199263129277…</td><td>&quot;1.879696276411…</td><td>&quot;2.027874642340…</td><td>&quot;1.921128350863…</td><td>&quot;1.944882857485…</td><td>&quot;2.045311377931…</td><td>&quot;2.053576587906…</td><td>&quot;2.075205473191…</td><td>&quot;1.823740422508…</td><td>&quot;1.871294582156…</td><td>&quot;2.204485641706…</td><td>&quot;2.019286751267…</td><td>&quot;1.808364927739…</td><td>&quot;1.902840925411…</td><td>&quot;1.954458424389…</td><td>&quot;1.954705106301…</td><td>&quot;1.804237255725…</td><td>&quot;1.948191707900…</td><td>&quot;2.088991292222…</td><td>&quot;2.429050902276…</td><td>&quot;1.963911503059…</td><td>&quot;1.995886352990…</td><td>&hellip;</td><td>&quot;1.879627312460…</td><td>&quot;1.947766254642…</td><td>&quot;1.706894253914…</td><td>&quot;2.125308563982…</td><td>&quot;2.125308563982…</td><td>&quot;1.717888037372…</td><td>&quot;1.992118886127…</td><td>&quot;1.907117637365…</td><td>&quot;1.770439738658…</td><td>&quot;1.977829280715…</td><td>&quot;1.924022327499…</td><td>&quot;1.924022327499…</td><td>&quot;1.848143682878…</td><td>&quot;1.848143682878…</td><td>&quot;2.116645483617…</td><td>&quot;1.766533531090…</td><td>&quot;1.799411861897…</td><td>&quot;1.799411861897…</td><td>&quot;1.941336803206…</td><td>&quot;1.898740474084…</td><td>&quot;1.849288392249…</td><td>&quot;1.878399047024…</td><td>&quot;1.878399047024…</td><td>&quot;1.762392139884…</td><td>&quot;2.194237694228…</td><td>&quot;2.194237694228…</td><td>&quot;2.194237694228…</td><td>&quot;3.052432449775…</td><td>&quot;3.052432449775…</td><td>&quot;2.074799266641…</td><td>&quot;1.998560821801…</td><td>&quot;1.992247857952…</td><td>&quot;2.253311068479…</td><td>&quot;1.831480943273…</td><td>&quot;1.831480943273…</td><td>&quot;1.831480943273…</td><td>&quot;1.831480943273…</td></tr><tr><td>&quot;GSM180378&quot;</td><td>&quot;1.866911858033…</td><td>&quot;2.224675636034…</td><td>&quot;1.933101262972…</td><td>&quot;1.952825515855…</td><td>&quot;1.848743765876…</td><td>&quot;2.195985549914…</td><td>&quot;1.710959700907…</td><td>&quot;1.885751666167…</td><td>&quot;1.885066200829…</td><td>&quot;2.031566647697…</td><td>&quot;2.010087184777…</td><td>&quot;1.992589789398…</td><td>&quot;1.749026906515…</td><td>&quot;1.985133255282…</td><td>&quot;2.096297807990…</td><td>&quot;2.100365521791…</td><td>&quot;2.074463818781…</td><td>&quot;1.681699436187…</td><td>&quot;1.966641419062…</td><td>&quot;2.055666133517…</td><td>&quot;1.877409162011…</td><td>&quot;2.091869996862…</td><td>&quot;1.795278068520…</td><td>&quot;1.874294596143…</td><td>&quot;1.668439119384…</td><td>&quot;2.214019766781…</td><td>&quot;1.816627411113…</td><td>&quot;2.000287724831…</td><td>&quot;1.922269399842…</td><td>&quot;2.010168340752…</td><td>&quot;1.877725443623…</td><td>&quot;1.960472595289…</td><td>&quot;1.687491191581…</td><td>&quot;2.081261504934…</td><td>&quot;1.929654708710…</td><td>&quot;1.981671124036…</td><td>&hellip;</td><td>&quot;1.838519670156…</td><td>&quot;1.741427103832…</td><td>&quot;2.124488920706…</td><td>&quot;1.987446768204…</td><td>&quot;1.987446768204…</td><td>&quot;1.817677701682…</td><td>&quot;2.061113168923…</td><td>&quot;2.216025867648…</td><td>&quot;1.745519681742…</td><td>&quot;1.864454061157…</td><td>&quot;1.934430584538…</td><td>&quot;1.934430584538…</td><td>&quot;2.420966011180…</td><td>&quot;2.420966011180…</td><td>&quot;1.929608739999…</td><td>&quot;1.649981432051…</td><td>&quot;1.673713136757…</td><td>&quot;1.673713136757…</td><td>&quot;1.831473769853…</td><td>&quot;1.867172497112…</td><td>&quot;2.266586250365…</td><td>&quot;1.950812427093…</td><td>&quot;1.950812427093…</td><td>&quot;1.882990436167…</td><td>&quot;2.196868266257…</td><td>&quot;2.196868266257…</td><td>&quot;2.196868266257…</td><td>&quot;3.057680848995…</td><td>&quot;3.057680848995…</td><td>&quot;1.711042914007…</td><td>&quot;2.287729775360…</td><td>&quot;1.877296719397…</td><td>&quot;2.176662231093…</td><td>&quot;1.862007973429…</td><td>&quot;1.862007973429…</td><td>&quot;1.862007973429…</td><td>&quot;1.862007973429…</td></tr><tr><td>&quot;GSM180379&quot;</td><td>&quot;2.056513077278…</td><td>&quot;3.612067166936…</td><td>&quot;1.925153002890…</td><td>&quot;1.935306448203…</td><td>&quot;1.853160282599…</td><td>&quot;1.898305634194…</td><td>&quot;1.547257237944…</td><td>&quot;2.133465378109…</td><td>&quot;2.104005384462…</td><td>&quot;2.137998280282…</td><td>&quot;1.994123576649…</td><td>&quot;1.769818805375…</td><td>&quot;2.092674905861…</td><td>&quot;1.857537708662…</td><td>&quot;2.023142516905…</td><td>&quot;1.839725885966…</td><td>&quot;2.078074205602…</td><td>&quot;1.915502299005…</td><td>&quot;2.048788784668…</td><td>&quot;1.734535675302…</td><td>&quot;1.896549413193…</td><td>&quot;1.854295266382…</td><td>&quot;1.933722687966…</td><td>&quot;1.845355689866…</td><td>&quot;2.235544896215…</td><td>&quot;2.041959108318…</td><td>&quot;2.111831588574…</td><td>&quot;1.719145236165…</td><td>&quot;1.990385809652…</td><td>&quot;1.875664591335…</td><td>&quot;1.837266682156…</td><td>&quot;1.790176701850…</td><td>&quot;1.915487497320…</td><td>&quot;2.015055234900…</td><td>&quot;2.055419697733…</td><td>&quot;2.069537396157…</td><td>&hellip;</td><td>&quot;1.953283999076…</td><td>&quot;1.703789559686…</td><td>&quot;1.836771878903…</td><td>&quot;2.136579799873…</td><td>&quot;2.136579799873…</td><td>&quot;2.079178638021…</td><td>&quot;2.326102503225…</td><td>&quot;2.092909818559…</td><td>&quot;1.734871382062…</td><td>&quot;2.201025159479…</td><td>&quot;1.948769911061…</td><td>&quot;1.948769911061…</td><td>&quot;1.879156350676…</td><td>&quot;1.879156350676…</td><td>&quot;2.505212311101…</td><td>&quot;1.776505338787…</td><td>&quot;1.951879358058…</td><td>&quot;1.951879358058…</td><td>&quot;1.751412992091…</td><td>&quot;2.046794330041…</td><td>&quot;1.915447135570…</td><td>&quot;1.773825249797…</td><td>&quot;1.773825249797…</td><td>&quot;1.688263894374…</td><td>&quot;2.104298429753…</td><td>&quot;2.104298429753…</td><td>&quot;2.104298429753…</td><td>&quot;2.725481954267…</td><td>&quot;2.725481954267…</td><td>&quot;1.889441401849…</td><td>&quot;1.591859584629…</td><td>&quot;1.854689260271…</td><td>&quot;1.956459734408…</td><td>&quot;1.769621038141…</td><td>&quot;1.769621038141…</td><td>&quot;1.769621038141…</td><td>&quot;1.769621038141…</td></tr><tr><td>&hellip;</td><td>&hellip;</td><td>&hellip;</td><td>&hellip;</td><td>&hellip;</td><td>&hellip;</td><td>&hellip;</td><td>&hellip;</td><td>&hellip;</td><td>&hellip;</td><td>&hellip;</td><td>&hellip;</td><td>&hellip;</td><td>&hellip;</td><td>&hellip;</td><td>&hellip;</td><td>&hellip;</td><td>&hellip;</td><td>&hellip;</td><td>&hellip;</td><td>&hellip;</td><td>&hellip;</td><td>&hellip;</td><td>&hellip;</td><td>&hellip;</td><td>&hellip;</td><td>&hellip;</td><td>&hellip;</td><td>&hellip;</td><td>&hellip;</td><td>&hellip;</td><td>&hellip;</td><td>&hellip;</td><td>&hellip;</td><td>&hellip;</td><td>&hellip;</td><td>&hellip;</td><td>&hellip;</td><td>&hellip;</td><td>&hellip;</td><td>&hellip;</td><td>&hellip;</td><td>&hellip;</td><td>&hellip;</td><td>&hellip;</td><td>&hellip;</td><td>&hellip;</td><td>&hellip;</td><td>&hellip;</td><td>&hellip;</td><td>&hellip;</td><td>&hellip;</td><td>&hellip;</td><td>&hellip;</td><td>&hellip;</td><td>&hellip;</td><td>&hellip;</td><td>&hellip;</td><td>&hellip;</td><td>&hellip;</td><td>&hellip;</td><td>&hellip;</td><td>&hellip;</td><td>&hellip;</td><td>&hellip;</td><td>&hellip;</td><td>&hellip;</td><td>&hellip;</td><td>&hellip;</td><td>&hellip;</td><td>&hellip;</td><td>&hellip;</td><td>&hellip;</td><td>&hellip;</td><td>&hellip;</td></tr><tr><td>&quot;GSM180382&quot;</td><td>&quot;1.915952681658…</td><td>&quot;2.800924676641…</td><td>&quot;1.908498220873…</td><td>&quot;1.925441004137…</td><td>&quot;2.079875394119…</td><td>&quot;2.109446571420…</td><td>&quot;1.697585462151…</td><td>&quot;1.953942777951…</td><td>&quot;1.949219051121…</td><td>&quot;2.055928835875…</td><td>&quot;1.834725407761…</td><td>&quot;1.848138406361…</td><td>&quot;1.899646947697…</td><td>&quot;1.938830010803…</td><td>&quot;2.017633231816…</td><td>&quot;2.042925546572…</td><td>&quot;2.126687240761…</td><td>&quot;1.706873661762…</td><td>&quot;1.959279336872…</td><td>&quot;1.986793746302…</td><td>&quot;1.837797955028…</td><td>&quot;1.914441039069…</td><td>&quot;1.954071780198…</td><td>&quot;1.839421606303…</td><td>&quot;1.817617308649…</td><td>&quot;2.006055978730…</td><td>&quot;1.888290049830…</td><td>&quot;1.777350099690…</td><td>&quot;1.808180430763…</td><td>&quot;1.866764248178…</td><td>&quot;1.742515042220…</td><td>&quot;1.909190259718…</td><td>&quot;2.012016330335…</td><td>&quot;2.109502557059…</td><td>&quot;2.008909707527…</td><td>&quot;2.153405921685…</td><td>&hellip;</td><td>&quot;1.868490148564…</td><td>&quot;1.918716433160…</td><td>&quot;1.777507409992…</td><td>&quot;2.171456642931…</td><td>&quot;2.171456642931…</td><td>&quot;1.798334229023…</td><td>&quot;2.255548973513…</td><td>&quot;1.852453478490…</td><td>&quot;1.854795785907…</td><td>&quot;2.185007126876…</td><td>&quot;2.065417282555…</td><td>&quot;2.065417282555…</td><td>&quot;2.110006988663…</td><td>&quot;2.110006988663…</td><td>&quot;2.084997694457…</td><td>&quot;1.832536662104…</td><td>&quot;2.042925546572…</td><td>&quot;2.042925546572…</td><td>&quot;1.616995836626…</td><td>&quot;2.160854781133…</td><td>&quot;1.931233881487…</td><td>&quot;2.117952088491…</td><td>&quot;2.117952088491…</td><td>&quot;1.746976622286…</td><td>&quot;2.148714453823…</td><td>&quot;2.148714453823…</td><td>&quot;2.148714453823…</td><td>&quot;2.227067934766…</td><td>&quot;2.227067934766…</td><td>&quot;1.891286238632…</td><td>&quot;2.316168080276…</td><td>&quot;1.727546126232…</td><td>&quot;2.094401929614…</td><td>&quot;1.767413206701…</td><td>&quot;1.767413206701…</td><td>&quot;1.767413206701…</td><td>&quot;1.767413206701…</td></tr><tr><td>&quot;GSM180386&quot;</td><td>&quot;1.828565704728…</td><td>&quot;2.892420679685…</td><td>&quot;1.930624679696…</td><td>&quot;1.814272693848…</td><td>&quot;2.066937324926…</td><td>&quot;1.745976412481…</td><td>&quot;1.786800624574…</td><td>&quot;1.933559106906…</td><td>&quot;1.959501554424…</td><td>&quot;2.021031703523…</td><td>&quot;2.061072645245…</td><td>&quot;1.972539148378…</td><td>&quot;1.871964928417…</td><td>&quot;1.903295233585…</td><td>&quot;2.009097712026…</td><td>&quot;1.875165948067…</td><td>&quot;1.924364754565…</td><td>&quot;1.924485964289…</td><td>&quot;2.037121879271…</td><td>&quot;2.080631184462…</td><td>&quot;1.820349872728…</td><td>&quot;1.893832110741…</td><td>&quot;2.063767437844…</td><td>&quot;1.928025097084…</td><td>&quot;1.759378286336…</td><td>&quot;2.217688122010…</td><td>&quot;1.687579941655…</td><td>&quot;1.855870158210…</td><td>&quot;1.934115597286…</td><td>&quot;1.802693627093…</td><td>&quot;1.723446747621…</td><td>&quot;1.923155038479…</td><td>&quot;1.966551610720…</td><td>&quot;2.712044461936…</td><td>&quot;1.962940240695…</td><td>&quot;2.124230087786…</td><td>&hellip;</td><td>&quot;1.832635314956…</td><td>&quot;1.877110840617…</td><td>&quot;1.883253464234…</td><td>&quot;1.962140522308…</td><td>&quot;1.962140522308…</td><td>&quot;1.911369487857…</td><td>&quot;1.927620321362…</td><td>&quot;1.847995477363…</td><td>&quot;1.709436442365…</td><td>&quot;1.898621938748…</td><td>&quot;1.792265150611…</td><td>&quot;1.792265150611…</td><td>&quot;1.912266246063…</td><td>&quot;1.912266246063…</td><td>&quot;1.757837875650…</td><td>&quot;1.868417737996…</td><td>&quot;1.904450535214…</td><td>&quot;1.904450535214…</td><td>&quot;2.017583490487…</td><td>&quot;2.021562388634…</td><td>&quot;1.773713016714…</td><td>&quot;1.807347316681…</td><td>&quot;1.807347316681…</td><td>&quot;1.770532826011…</td><td>&quot;2.226030792266…</td><td>&quot;2.226030792266…</td><td>&quot;2.226030792266…</td><td>&quot;2.629838037063…</td><td>&quot;2.629838037063…</td><td>&quot;1.868635534811…</td><td>&quot;1.770196816739…</td><td>&quot;1.909424094520…</td><td>&quot;1.917891443909…</td><td>&quot;1.793317478343…</td><td>&quot;1.793317478343…</td><td>&quot;1.793317478343…</td><td>&quot;1.793317478343…</td></tr><tr><td>&quot;GSM180387&quot;</td><td>&quot;1.883230090210…</td><td>&quot;2.329898086869…</td><td>&quot;1.901396428021…</td><td>&quot;1.968273609601…</td><td>&quot;1.932557544064…</td><td>&quot;2.145556066328…</td><td>&quot;2.149681945608…</td><td>&quot;2.057173098605…</td><td>&quot;1.934898869271…</td><td>&quot;1.987388230896…</td><td>&quot;2.124042242333…</td><td>&quot;1.959109602033…</td><td>&quot;1.690659072750…</td><td>&quot;1.900467012720…</td><td>&quot;2.073263033232…</td><td>&quot;1.935766321950…</td><td>&quot;2.000104718376…</td><td>&quot;1.753312582476…</td><td>&quot;2.030343554625…</td><td>&quot;2.012243030440…</td><td>&quot;1.989943979019…</td><td>&quot;1.804325934079…</td><td>&quot;1.876660889907…</td><td>&quot;2.229680239721…</td><td>&quot;1.639599083462…</td><td>&quot;2.154495759421…</td><td>&quot;1.770663862869…</td><td>&quot;1.815248893697…</td><td>&quot;2.001950653605…</td><td>&quot;2.115467925855…</td><td>&quot;2.036416664297…</td><td>&quot;2.013206529173…</td><td>&quot;1.925447364505…</td><td>&quot;2.510076797754…</td><td>&quot;2.078359869328…</td><td>&quot;2.202916732404…</td><td>&hellip;</td><td>&quot;1.952237872849…</td><td>&quot;2.216489166123…</td><td>&quot;1.640208208758…</td><td>&quot;1.786085913146…</td><td>&quot;1.786085913146…</td><td>&quot;1.798757422106…</td><td>&quot;2.084283698013…</td><td>&quot;2.011661192670…</td><td>&quot;1.693148936022…</td><td>&quot;2.107540596079…</td><td>&quot;2.197926709941…</td><td>&quot;2.197926709941…</td><td>&quot;1.928680110624…</td><td>&quot;1.928680110624…</td><td>&quot;1.755044165505…</td><td>&quot;2.009920101984…</td><td>&quot;1.800759883530…</td><td>&quot;1.800759883530…</td><td>&quot;1.623054870985…</td><td>&quot;1.817224496439…</td><td>&quot;1.955905897037…</td><td>&quot;1.849373915672…</td><td>&quot;1.849373915672…</td><td>&quot;2.038561696926…</td><td>&quot;2.290380417638…</td><td>&quot;2.290380417638…</td><td>&quot;2.290380417638…</td><td>&quot;1.908441763478…</td><td>&quot;1.908441763478…</td><td>&quot;2.179762888332…</td><td>&quot;1.890067434375…</td><td>&quot;1.990085077049…</td><td>&quot;2.097954697904…</td><td>&quot;1.832045643302…</td><td>&quot;1.832045643302…</td><td>&quot;1.832045643302…</td><td>&quot;1.832045643302…</td></tr><tr><td>&quot;GSM180373&quot;</td><td>&quot;1.921302531524…</td><td>&quot;2.173117962900…</td><td>&quot;1.876878758148…</td><td>&quot;1.853039670928…</td><td>&quot;2.043405891732…</td><td>&quot;2.098449383551…</td><td>&quot;1.648606225793…</td><td>&quot;1.924898567260…</td><td>&quot;1.948846621102…</td><td>&quot;2.016814192869…</td><td>&quot;2.049102736808…</td><td>&quot;1.842188528313…</td><td>&quot;1.760740691964…</td><td>&quot;1.964399393038…</td><td>&quot;2.144478260373…</td><td>&quot;1.988756739304…</td><td>&quot;1.959023181508…</td><td>&quot;1.783660991673…</td><td>&quot;2.079737135710…</td><td>&quot;1.925230344216…</td><td>&quot;1.961946683676…</td><td>&quot;2.015400466225…</td><td>&quot;1.976793282323…</td><td>&quot;2.262170118352…</td><td>&quot;1.776642415682…</td><td>&quot;2.541211694778…</td><td>&quot;2.096982491880…</td><td>&quot;2.074942273483…</td><td>&quot;2.083757171516…</td><td>&quot;2.181862340130…</td><td>&quot;1.710287112638…</td><td>&quot;1.998195734177…</td><td>&quot;2.127115335466…</td><td>&quot;2.175148811800…</td><td>&quot;1.814126306612…</td><td>&quot;1.853917170319…</td><td>&hellip;</td><td>&quot;1.958543120629…</td><td>&quot;1.702999727915…</td><td>&quot;2.297787986125…</td><td>&quot;2.368930577892…</td><td>&quot;2.368930577892…</td><td>&quot;1.782663130325…</td><td>&quot;2.095315690188…</td><td>&quot;1.944740753666…</td><td>&quot;1.857384246301…</td><td>&quot;2.141893538697…</td><td>&quot;1.879627312460…</td><td>&quot;1.879627312460…</td><td>&quot;1.636740554051…</td><td>&quot;1.636740554051…</td><td>&quot;1.873282512243…</td><td>&quot;1.570967408530…</td><td>&quot;1.563428052550…</td><td>&quot;1.563428052550…</td><td>&quot;1.846934338143…</td><td>&quot;2.051785395369…</td><td>&quot;2.098860709402…</td><td>&quot;1.96352788152&quot;</td><td>&quot;1.96352788152&quot;</td><td>&quot;2.147787577474…</td><td>&quot;2.171331171118…</td><td>&quot;2.171331171118…</td><td>&quot;2.171331171118…</td><td>&quot;1.801682749254…</td><td>&quot;1.801682749254…</td><td>&quot;1.857501472251…</td><td>&quot;1.918487754457…</td><td>&quot;1.794860107965…</td><td>&quot;1.860685941713…</td><td>&quot;1.860129050361…</td><td>&quot;1.860129050361…</td><td>&quot;1.860129050361…</td><td>&quot;1.860129050361…</td></tr><tr><td>&quot;GSM180388&quot;</td><td>&quot;1.901710853562…</td><td>&quot;2.333394362342…</td><td>&quot;1.950260126310…</td><td>&quot;1.919767962424…</td><td>&quot;1.868476233954…</td><td>&quot;1.931715057379…</td><td>&quot;1.987134827256…</td><td>&quot;1.800618765993…</td><td>&quot;1.991770422153…</td><td>&quot;2.084454087952…</td><td>&quot;2.089019097578…</td><td>&quot;1.919774322792…</td><td>&quot;1.828291431557…</td><td>&quot;2.010674445319…</td><td>&quot;1.952764732942…</td><td>&quot;1.951204843629…</td><td>&quot;2.034947321985…</td><td>&quot;2.063675377371…</td><td>&quot;1.990441812109…</td><td>&quot;2.097178493790…</td><td>&quot;1.785200563058…</td><td>&quot;1.985883587018…</td><td>&quot;1.808432882481…</td><td>&quot;2.032434172548…</td><td>&quot;1.771477451332…</td><td>&quot;1.989729464274…</td><td>&quot;1.954465281446…</td><td>&quot;1.966362649512…</td><td>&quot;1.772159161694…</td><td>&quot;1.923777793060…</td><td>&quot;1.773659739271…</td><td>&quot;1.929798642931…</td><td>&quot;1.929647087414…</td><td>&quot;2.260638497051…</td><td>&quot;2.071680698474…</td><td>&quot;2.256970186176…</td><td>&hellip;</td><td>&quot;2.413375034649…</td><td>&quot;1.946246612720…</td><td>&quot;1.842838926916…</td><td>&quot;2.124466500574…</td><td>&quot;2.124466500574…</td><td>&quot;1.864253187381…</td><td>&quot;1.788288070619…</td><td>&quot;1.885257061122…</td><td>&quot;1.629191364611…</td><td>&quot;2.059901433526…</td><td>&quot;2.006042480643…</td><td>&quot;2.006042480643…</td><td>&quot;1.657691675095…</td><td>&quot;1.657691675095…</td><td>&quot;2.241058358878…</td><td>&quot;1.914347626084…</td><td>&quot;1.938714755313…</td><td>&quot;1.938714755313…</td><td>&quot;2.008622707434…</td><td>&quot;1.898936450230…</td><td>&quot;2.024773804389…</td><td>&quot;2.093206100165…</td><td>&quot;2.093206100165…</td><td>&quot;1.703788216975…</td><td>&quot;2.056603714564…</td><td>&quot;2.056603714564…</td><td>&quot;2.056603714564…</td><td>&quot;2.223442778579…</td><td>&quot;2.223442778579…</td><td>&quot;2.264646536923…</td><td>&quot;1.993369267802…</td><td>&quot;2.020728068998…</td><td>&quot;1.649009630319…</td><td>&quot;1.962421424045…</td><td>&quot;1.962421424045…</td><td>&quot;1.962421424045…</td><td>&quot;1.962421424045…</td></tr></tbody></table></div>"
     },
     "execution_count": 6,
     "metadata": {},
     "output_type": "execute_result"
    }
   ],
   "source": [
    "sample_df.head(20)"
   ],
   "metadata": {
    "collapsed": false,
    "ExecuteTime": {
     "end_time": "2024-03-03T09:23:23.967745Z",
     "start_time": "2024-03-03T09:23:23.942194Z"
    }
   },
   "id": "5a61177ab1fa09e5",
   "execution_count": 6
  },
  {
   "cell_type": "markdown",
   "source": [
    "## Stats"
   ],
   "metadata": {
    "collapsed": false
   },
   "id": "b30f6a9e1cd1e338"
  },
  {
   "cell_type": "code",
   "outputs": [
    {
     "name": "stdout",
     "output_type": "stream",
     "text": [
      "MICROARRAYS|RA|PERIPHERAL_BLOOD: Samples: 302, Genes: 9667\n",
      "MICROARRAYS|RA|WHOLE_BLOOD: Samples: 513, Genes: 13774\n",
      "MICROARRAYS|RA|SYNOVIAL_MEMBRANE: Samples: 103, Genes: 13895\n",
      "MICROARRAYS|T1D|PERIPHERAL_BLOOD: Samples: 79, Genes: 4977\n",
      "MICROARRAYS|SSc|PERIPHERAL_BLOOD: Samples: 14, Genes: 11853\n",
      "MICROARRAYS|SSc|WHOLE_BLOOD: Samples: 37, Genes: 14761\n",
      "MICROARRAYS|SSc|SKIN: Samples: 33, Genes: 10477\n",
      "MICROARRAYS|SLE|PERIPHERAL_BLOOD: Samples: 812, Genes: 6521\n",
      "MICROARRAYS|SLE|WHOLE_BLOOD: Samples: 1094, Genes: 8444\n",
      "MICROARRAYS|SjS|PERIPHERAL_BLOOD: Samples: 222, Genes: 12987\n",
      "MICROARRAYS|SjS|WHOLE_BLOOD: Samples: 108, Genes: 9683\n",
      "MICROARRAYS|SjS|PAROTIC_GLAND: Samples: 35, Genes: 22803\n",
      "MICROARRAYS|SjS|SALIVARY_GLAND: Samples: 15, Genes: 22803\n",
      "MICROARRAYS|SjS|SALIVA: Samples: 20, Genes: 20399\n",
      "RNA_SEQ|RA|WHOLE_BLOOD: Samples: 24, Genes: 13635\n",
      "RNA_SEQ|RA|SYNOVIAL_MEMBRANE: Samples: 180, Genes: 19366\n",
      "RNA_SEQ|T1D|PERIPHERAL_BLOOD: Samples: 43, Genes: 7433\n",
      "RNA_SEQ|T1D|WHOLE_BLOOD: Samples: 54, Genes: 11704\n",
      "RNA_SEQ|SSc|PERIPHERAL_BLOOD: Samples: 73, Genes: 13720\n",
      "RNA_SEQ|SSc|WHOLE_BLOOD: Samples: 72, Genes: 14797\n",
      "RNA_SEQ|SLE|PERIPHERAL_BLOOD: Samples: 16, Genes: 16294\n",
      "RNA_SEQ|SLE|WHOLE_BLOOD: Samples: 117, Genes: 15669\n",
      "RNA_SEQ|SLE|SKIN: Samples: 14, Genes: 15050\n"
     ]
    }
   ],
   "source": [
    "for sequencing_technique in SequencingTechnique: \n",
    "    for condition in Condition:\n",
    "        for tissue in TissueEnum: \n",
    "            dataset = get_pre_processed_dataset(\n",
    "                ConditionSequencingTissueDataLoader(\n",
    "                    condition, \n",
    "                    sequencing_technique, \n",
    "                    tissue\n",
    "                ), \n",
    "                files_path, \n",
    "                metadata_path, \n",
    "                datasets_info_path,\n",
    "                return_metadata=False\n",
    "            )\n",
    "            \n",
    "            if dataset is not None:\n",
    "                shape = dataset.shape\n",
    "                print(f\"{sequencing_technique.name}|{condition.name}|{tissue.name}: Samples: {shape[0]}, Genes: {shape[1] - 1}\")  # -1 in genes because first column is the Sample "
   ],
   "metadata": {
    "collapsed": false,
    "ExecuteTime": {
     "end_time": "2024-03-03T09:25:49.662718Z",
     "start_time": "2024-03-03T09:23:31.508424Z"
    }
   },
   "id": "ecce72f32a4a1c63",
   "execution_count": 7
  }
 ],
 "metadata": {
  "kernelspec": {
   "display_name": "Python 3",
   "language": "python",
   "name": "python3"
  },
  "language_info": {
   "codemirror_mode": {
    "name": "ipython",
    "version": 2
   },
   "file_extension": ".py",
   "mimetype": "text/x-python",
   "name": "python",
   "nbconvert_exporter": "python",
   "pygments_lexer": "ipython2",
   "version": "2.7.6"
  }
 },
 "nbformat": 4,
 "nbformat_minor": 5
}
