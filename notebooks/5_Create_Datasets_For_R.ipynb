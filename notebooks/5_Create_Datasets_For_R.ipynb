{
 "cells": [
  {
   "cell_type": "markdown",
   "source": [
    "# Create pre-processed datasets for R\n",
    "\n",
    "> Will not be included in the repository (will be added to gitignore), since this is data derived from the initial parquet files. \n",
    "> They can be re-created through this notebook.  "
   ],
   "metadata": {
    "collapsed": false
   },
   "id": "c691bb2a52f8438a"
  },
  {
   "cell_type": "code",
   "source": [
    "from adex.models import Condition, ConditionDataLoader, ConditionSequencingTissueDataLoader, \\\n",
    "    ConditionSequencingDataLoader, SequencingTechnique, TissueEnum, METADATA_COLUMNS\n",
    "from adex.helpers import get_pre_processed_dataset\n",
    "\n",
    "data_path = \"../data/adex-database/samples\"\n",
    "metadata_path = \"../data/adex-database/metadata.csv\"\n",
    "datasets_info_path = \"../data/adex-database/datasets_info.csv\"\n"
   ],
   "metadata": {
    "collapsed": false,
    "ExecuteTime": {
     "end_time": "2024-04-14T08:28:37.256711Z",
     "start_time": "2024-04-14T08:28:36.400848Z"
    }
   },
   "id": "725801bab7dba0f0",
   "outputs": [],
   "execution_count": 2
  },
  {
   "metadata": {
    "ExecuteTime": {
     "end_time": "2024-04-14T08:28:38.117601Z",
     "start_time": "2024-04-14T08:28:38.113297Z"
    }
   },
   "cell_type": "code",
   "source": [
    "from adex.models import DATASET_INFO_COLUMNS\n",
    "\n",
    "\n",
    "def build_r_dataset(\n",
    "    condition: Condition, \n",
    "    sequencing_technique: SequencingTechnique,\n",
    "    tissue: TissueEnum\n",
    ") -> None:\n",
    "    transposed = (get_pre_processed_dataset(\n",
    "        data_loader=ConditionSequencingTissueDataLoader(\n",
    "            condition=condition,\n",
    "            sequencing_technique=sequencing_technique,\n",
    "            tissue=tissue\n",
    "        ),\n",
    "        data_path=data_path,\n",
    "        metadata_path=metadata_path,\n",
    "        datasets_info_path=datasets_info_path,\n",
    "        return_metadata=True\n",
    "    )\n",
    "    .drop(filter(lambda item: item != 'Condition',METADATA_COLUMNS)) # We need the condition for R analysis \n",
    "    .drop(DATASET_INFO_COLUMNS)\n",
    "    .transpose(include_header=True))\n",
    "\n",
    "    dataset = (\n",
    "        transposed\n",
    "        .rename(transposed.head(1).to_dicts().pop())    # add header\n",
    "        .slice(1,)                                      # remove first row because it is the header duplicated\n",
    "        .rename({\"Sample\": \"gene\"})                     # fix header\n",
    "    )\n",
    "    \n",
    "    dataset.write_csv(f\"../data/r_pre_processed_datasets/{condition.name}_{sequencing_technique.name}_{tissue.name}.csv\")"
   ],
   "id": "e7efeab928392c0c",
   "outputs": [],
   "execution_count": 3
  },
  {
   "cell_type": "code",
   "source": "build_r_dataset(Condition.RA, SequencingTechnique.RNA_SEQ, TissueEnum.SYNOVIAL_MEMBRANE)",
   "metadata": {
    "collapsed": false,
    "ExecuteTime": {
     "end_time": "2024-04-12T18:36:20.303715Z",
     "start_time": "2024-04-12T18:36:15.911406Z"
    }
   },
   "id": "3b9e39bfa6266191",
   "outputs": [],
   "execution_count": 12
  },
  {
   "metadata": {
    "ExecuteTime": {
     "end_time": "2024-04-12T18:37:17.957872Z",
     "start_time": "2024-04-12T18:37:12.369819Z"
    }
   },
   "cell_type": "code",
   "source": "build_r_dataset(Condition.SLE, SequencingTechnique.RNA_SEQ, TissueEnum.WHOLE_BLOOD)",
   "id": "f6f599c2ea48fd02",
   "outputs": [],
   "execution_count": 13
  },
  {
   "metadata": {
    "ExecuteTime": {
     "end_time": "2024-04-14T08:28:43.292229Z",
     "start_time": "2024-04-14T08:28:41.520585Z"
    }
   },
   "cell_type": "code",
   "source": "build_r_dataset(Condition.SSc, SequencingTechnique.RNA_SEQ, TissueEnum.PERIPHERAL_BLOOD)",
   "id": "864a642e748cad13",
   "outputs": [],
   "execution_count": 4
  },
  {
   "metadata": {
    "ExecuteTime": {
     "end_time": "2024-04-14T08:30:00.102870Z",
     "start_time": "2024-04-14T08:29:58.422709Z"
    }
   },
   "cell_type": "code",
   "source": "build_r_dataset(Condition.SSc, SequencingTechnique.RNA_SEQ, TissueEnum.WHOLE_BLOOD)",
   "id": "e49a4723904319fe",
   "outputs": [],
   "execution_count": 5
  }
 ],
 "metadata": {
  "kernelspec": {
   "display_name": "Python 3",
   "language": "python",
   "name": "python3"
  },
  "language_info": {
   "codemirror_mode": {
    "name": "ipython",
    "version": 2
   },
   "file_extension": ".py",
   "mimetype": "text/x-python",
   "name": "python",
   "nbconvert_exporter": "python",
   "pygments_lexer": "ipython2",
   "version": "2.7.6"
  }
 },
 "nbformat": 4,
 "nbformat_minor": 5
}
