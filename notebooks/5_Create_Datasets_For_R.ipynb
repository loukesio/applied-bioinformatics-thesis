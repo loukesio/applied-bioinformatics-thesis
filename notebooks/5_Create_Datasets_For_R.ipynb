{
 "cells": [
  {
   "cell_type": "markdown",
   "source": [
    "# Create pre-processed datasets for R\n",
    "\n",
    "> Will not be included in the repository (will be added to gitignore), since this is data derived from the initial parquet files. \n",
    "> They can be re-created through this notebook.  "
   ],
   "metadata": {
    "collapsed": false
   },
   "id": "c691bb2a52f8438a"
  },
  {
   "cell_type": "code",
   "outputs": [],
   "source": [
    "from adex.models import Condition, ConditionDataLoader, ConditionSequencingTissueDataLoader, \\\n",
    "    ConditionSequencingDataLoader, SequencingTechnique, TissueEnum\n",
    "from adex.helpers import get_pre_processed_dataset\n",
    "\n",
    "data_path = \"../data/adex-database/samples\"\n",
    "metadata_path = \"../data/adex-database/metadata.csv\"\n",
    "datasets_info_path = \"../data/adex-database/datasets_info.csv\"\n"
   ],
   "metadata": {
    "collapsed": false,
    "ExecuteTime": {
     "end_time": "2024-03-29T08:55:45.189557Z",
     "start_time": "2024-03-29T08:55:45.186706Z"
    }
   },
   "id": "725801bab7dba0f0",
   "execution_count": 4
  },
  {
   "cell_type": "markdown",
   "source": [
    "# Prepare dataset for: RA/RNA_SEQ/SYNOVIAL_MEMBRANE"
   ],
   "metadata": {
    "collapsed": false
   },
   "id": "2d7687393b0ed4ee"
  },
  {
   "cell_type": "code",
   "outputs": [],
   "source": [
    "condition = Condition.RA\n",
    "sequencing_technique = SequencingTechnique.RNA_SEQ\n",
    "tissue = TissueEnum.SYNOVIAL_MEMBRANE\n",
    "\n",
    "transposed = get_pre_processed_dataset(\n",
    "    data_loader=ConditionSequencingTissueDataLoader(\n",
    "        condition=condition,\n",
    "        sequencing_technique=sequencing_technique,\n",
    "        tissue=tissue\n",
    "    ),\n",
    "    data_path=data_path,\n",
    "    metadata_path=metadata_path,\n",
    "    datasets_info_path=datasets_info_path, \n",
    "    return_metadata=True\n",
    ").transpose(include_header=True)\n",
    "\n",
    "dataset = (\n",
    "    transposed\n",
    "    .rename(transposed.head(1).to_dicts().pop())    # add header\n",
    "    .slice(1,)                                      # remove first row because it is the header duplicated\n",
    "    .rename({\"Sample\": \"gene\"})                     # fix header\n",
    ")\n",
    "\n",
    "dataset.write_csv(f\"../data/r_pre_processed_datasets/{condition.name}_{sequencing_technique.name}_{tissue.name}.csv\")"
   ],
   "metadata": {
    "collapsed": false,
    "ExecuteTime": {
     "end_time": "2024-03-29T09:41:24.056910Z",
     "start_time": "2024-03-29T09:41:18.806071Z"
    }
   },
   "id": "3b9e39bfa6266191",
   "execution_count": 13
  }
 ],
 "metadata": {
  "kernelspec": {
   "display_name": "Python 3",
   "language": "python",
   "name": "python3"
  },
  "language_info": {
   "codemirror_mode": {
    "name": "ipython",
    "version": 2
   },
   "file_extension": ".py",
   "mimetype": "text/x-python",
   "name": "python",
   "nbconvert_exporter": "python",
   "pygments_lexer": "ipython2",
   "version": "2.7.6"
  }
 },
 "nbformat": 4,
 "nbformat_minor": 5
}
