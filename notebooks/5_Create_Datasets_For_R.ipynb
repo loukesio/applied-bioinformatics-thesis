{
 "cells": [
  {
   "cell_type": "markdown",
   "source": [
    "# Create pre-processed datasets for R\n",
    "\n",
    "> Will not be included in the repository (will be added to gitignore), since this is data derived from the initial parquet files. \n",
    "> They can be re-created through this notebook.  "
   ],
   "metadata": {
    "collapsed": false
   },
   "id": "c691bb2a52f8438a"
  },
  {
   "cell_type": "code",
   "source": [
    "from adex.models import Condition, ConditionDataLoader, ConditionSequencingTissueDataLoader, \\\n",
    "    ConditionSequencingDataLoader, SequencingTechnique, TissueEnum, METADATA_COLUMNS, FileDataLoader, DataLoader\n",
    "from adex.helpers import get_pre_processed_dataset\n",
    "\n",
    "data_path = \"../data/adex-database/samples\"\n",
    "metadata_path = \"../data/adex-database/metadata.csv\"\n",
    "datasets_info_path = \"../data/adex-database/datasets_info.csv\"\n"
   ],
   "metadata": {
    "collapsed": false,
    "ExecuteTime": {
     "end_time": "2024-04-16T06:29:09.381274Z",
     "start_time": "2024-04-16T06:29:08.240801Z"
    }
   },
   "id": "725801bab7dba0f0",
   "outputs": [],
   "execution_count": 1
  },
  {
   "metadata": {
    "ExecuteTime": {
     "end_time": "2024-04-16T06:48:04.524358Z",
     "start_time": "2024-04-16T06:48:04.519451Z"
    }
   },
   "cell_type": "code",
   "source": [
    "from adex.models import DATASET_INFO_COLUMNS\n",
    "\n",
    "\n",
    "def build_r_dataset(\n",
    "    data_loader: DataLoader\n",
    ") -> None:\n",
    "    transposed = (get_pre_processed_dataset(\n",
    "        data_loader=data_loader,\n",
    "        data_path=data_path,\n",
    "        metadata_path=metadata_path,\n",
    "        datasets_info_path=datasets_info_path,\n",
    "        return_metadata=True\n",
    "    ).fill_null(value=0)\n",
    "    .drop(filter(lambda item: item != 'Condition',METADATA_COLUMNS)) # We need the condition for R analysis \n",
    "    .drop(DATASET_INFO_COLUMNS)\n",
    "    .transpose(include_header=True))\n",
    "\n",
    "    dataset = (\n",
    "        transposed\n",
    "        .rename(transposed.head(1).to_dicts().pop())    # add header\n",
    "        .slice(1,)                                      # remove first row because it is the header duplicated\n",
    "        .rename({\"Sample\": \"gene\"})                     # fix header\n",
    "    )\n",
    "    \n",
    "    match data_loader: \n",
    "        case ConditionSequencingTissueDataLoader(condition, sequencing_technique, tissue, _):\n",
    "            dataset.write_csv(f\"../data/r_pre_processed_datasets/{condition.name}_{sequencing_technique.name}_{tissue.name}.csv\")\n",
    "        case FileDataLoader(condition, file_name, _, _):\n",
    "            dataset.write_csv(f\"../data/r_pre_processed_datasets/{condition.name}_{file_name.strip('.tsv.parquet')}.csv\")\n",
    "        case _:\n",
    "            raise ValueError(f\"DataLoader '{data_loader}' not handled in Create_Datasets_For_R\")\n",
    "    "
   ],
   "id": "e7efeab928392c0c",
   "outputs": [],
   "execution_count": 7
  },
  {
   "metadata": {},
   "cell_type": "markdown",
   "source": "# RNA SEQ datasets",
   "id": "1e0bb90d58d8136d"
  },
  {
   "cell_type": "code",
   "source": [
    "build_r_dataset(\n",
    "    ConditionSequencingTissueDataLoader(\n",
    "        condition=Condition.RA,\n",
    "        sequencing_technique=SequencingTechnique.RNA_SEQ,\n",
    "        tissue=TissueEnum.SYNOVIAL_MEMBRANE\n",
    "    )\n",
    ")\n",
    "\n",
    "# Same as above but removing the bad dataset (i.e. GSE90081)\n",
    "build_r_dataset(\n",
    "    FileDataLoader(\n",
    "        condition=Condition.RA,\n",
    "        file_name=\"GSE89408.tsv.parquet\",\n",
    "    )\n",
    ")\n"
   ],
   "metadata": {
    "collapsed": false,
    "ExecuteTime": {
     "end_time": "2024-04-12T18:36:20.303715Z",
     "start_time": "2024-04-12T18:36:15.911406Z"
    }
   },
   "id": "3b9e39bfa6266191",
   "outputs": [],
   "execution_count": 12
  },
  {
   "metadata": {},
   "cell_type": "code",
   "outputs": [],
   "execution_count": 13,
   "source": [
    "build_r_dataset(\n",
    "    ConditionSequencingTissueDataLoader(\n",
    "        condition=Condition.SLE,\n",
    "        sequencing_technique=SequencingTechnique.RNA_SEQ,\n",
    "        tissue=TissueEnum.WHOLE_BLOOD\n",
    "    )\n",
    ")"
   ],
   "id": "f6f599c2ea48fd02"
  },
  {
   "metadata": {},
   "cell_type": "code",
   "outputs": [],
   "execution_count": 4,
   "source": [
    "build_r_dataset(\n",
    "    ConditionSequencingTissueDataLoader(\n",
    "        condition=Condition.SSc,\n",
    "        sequencing_technique=SequencingTechnique.RNA_SEQ,\n",
    "        tissue=TissueEnum.PERIPHERAL_BLOOD\n",
    "    )\n",
    ")"
   ],
   "id": "864a642e748cad13"
  },
  {
   "metadata": {},
   "cell_type": "code",
   "outputs": [],
   "execution_count": 5,
   "source": [
    "build_r_dataset(\n",
    "    ConditionSequencingTissueDataLoader(\n",
    "        condition=Condition.SSc,\n",
    "        sequencing_technique=SequencingTechnique.RNA_SEQ,\n",
    "        tissue=TissueEnum.WHOLE_BLOOD\n",
    "    )\n",
    ")"
   ],
   "id": "e49a4723904319fe"
  }
 ],
 "metadata": {
  "kernelspec": {
   "display_name": "Python 3",
   "language": "python",
   "name": "python3"
  },
  "language_info": {
   "codemirror_mode": {
    "name": "ipython",
    "version": 2
   },
   "file_extension": ".py",
   "mimetype": "text/x-python",
   "name": "python",
   "nbconvert_exporter": "python",
   "pygments_lexer": "ipython2",
   "version": "2.7.6"
  }
 },
 "nbformat": 4,
 "nbformat_minor": 5
}
