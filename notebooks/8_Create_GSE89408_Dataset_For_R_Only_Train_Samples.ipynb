{
 "cells": [
  {
   "metadata": {},
   "cell_type": "markdown",
   "source": "# Creates a dataset for R with the data of the file GSE89408 but uses only the train set samples",
   "id": "f728d416598b9da7"
  },
  {
   "metadata": {
    "ExecuteTime": {
     "end_time": "2024-06-07T08:08:27.728250Z",
     "start_time": "2024-06-07T08:08:27.724645Z"
    }
   },
   "cell_type": "code",
   "source": [
    "from typing import List\n",
    "\n",
    "import polars as pl\n",
    "\n",
    "from adex.models import Condition, ConditionDataLoader, ConditionSequencingTissueDataLoader, \\\n",
    "    ConditionSequencingDataLoader, SequencingTechnique, TissueEnum, METADATA_COLUMNS, FileDataLoader, DataLoader\n",
    "from adex.helpers import get_pre_processed_dataset\n",
    "\n",
    "data_path = \"../data/adex-database/samples\"\n",
    "metadata_path = \"../data/adex-database/metadata.csv\"\n",
    "datasets_info_path = \"../data/adex-database/datasets_info.csv\""
   ],
   "id": "903f594ed560ee9e",
   "outputs": [],
   "execution_count": 5
  },
  {
   "metadata": {
    "ExecuteTime": {
     "end_time": "2024-06-07T08:08:28.591142Z",
     "start_time": "2024-06-07T08:08:28.586186Z"
    }
   },
   "cell_type": "code",
   "source": [
    "train_set_samples: List[str] = pl.read_csv(\"../data/ml/GSE89408_train_set_samples.csv\", has_header=False).to_series().to_list()\n",
    "len(train_set_samples)"
   ],
   "id": "73104f74fe334a4a",
   "outputs": [
    {
     "data": {
      "text/plain": [
       "125"
      ]
     },
     "execution_count": 6,
     "metadata": {},
     "output_type": "execute_result"
    }
   ],
   "execution_count": 6
  },
  {
   "metadata": {
    "ExecuteTime": {
     "end_time": "2024-06-07T08:09:45.248274Z",
     "start_time": "2024-06-07T08:09:43.563746Z"
    }
   },
   "cell_type": "code",
   "source": [
    "from adex.models import DATASET_INFO_COLUMNS\n",
    "\n",
    "data_loader = FileDataLoader(\n",
    "    condition=Condition.RA,\n",
    "    file_name=\"GSE89408.tsv.parquet\",\n",
    "    samples=train_set_samples\n",
    ") \n",
    "\n",
    "transposed = (get_pre_processed_dataset(\n",
    "    data_loader=data_loader,\n",
    "    data_path=data_path,\n",
    "    metadata_path=metadata_path,\n",
    "    datasets_info_path=datasets_info_path,\n",
    "    return_metadata=True\n",
    ").fill_null(value=0)\n",
    "              .drop(filter(lambda item: item != 'Condition',METADATA_COLUMNS)) # We need the condition for R analysis \n",
    "              .drop(DATASET_INFO_COLUMNS)\n",
    "              .transpose(include_header=True))\n",
    "\n",
    "dataset = (\n",
    "    transposed\n",
    "    .rename(transposed.head(1).to_dicts().pop())    # add header\n",
    "    .slice(1,)                                      # remove first row because it is the header duplicated\n",
    "    .rename({\"Sample\": \"gene\"})                     # fix header\n",
    ")\n",
    "\n",
    "dataset.write_csv(f\"../data/r_pre_processed_datasets/GSE89408_only_train_samples.csv\")\n"
   ],
   "id": "21fb5c799f483b5e",
   "outputs": [],
   "execution_count": 7
  }
 ],
 "metadata": {
  "kernelspec": {
   "display_name": "Python 3",
   "language": "python",
   "name": "python3"
  },
  "language_info": {
   "codemirror_mode": {
    "name": "ipython",
    "version": 2
   },
   "file_extension": ".py",
   "mimetype": "text/x-python",
   "name": "python",
   "nbconvert_exporter": "python",
   "pygments_lexer": "ipython2",
   "version": "2.7.6"
  }
 },
 "nbformat": 4,
 "nbformat_minor": 5
}
