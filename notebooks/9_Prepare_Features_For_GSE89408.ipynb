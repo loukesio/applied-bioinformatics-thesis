{
 "cells": [
  {
   "cell_type": "code",
   "id": "initial_id",
   "metadata": {
    "collapsed": true,
    "ExecuteTime": {
     "end_time": "2024-06-08T06:46:14.389700Z",
     "start_time": "2024-06-08T06:46:14.386898Z"
    }
   },
   "source": [
    "import polars as pl\n",
    "\n",
    "data_path = \"../data/adex-database/samples\"\n",
    "metadata_path = \"../data/adex-database/metadata.csv\"\n",
    "datasets_info_path = \"../data/adex-database/datasets_info.csv\"\n",
    "results_path = \"../results\""
   ],
   "outputs": [],
   "execution_count": 22
  },
  {
   "metadata": {},
   "cell_type": "markdown",
   "source": "# Find top-10 DE genes in the training set ",
   "id": "64fabc14e613f9ae"
  },
  {
   "metadata": {
    "ExecuteTime": {
     "end_time": "2024-06-08T06:46:14.404804Z",
     "start_time": "2024-06-08T06:46:14.399162Z"
    }
   },
   "cell_type": "code",
   "source": [
    "all_de_results_GSE89408 = pl.read_csv(f\"{results_path}/GSE89408_only_train_samples/edgeR_results.csv\")\n",
    "all_de_results_GSE89408"
   ],
   "id": "424ff326190c75b5",
   "outputs": [
    {
     "data": {
      "text/plain": [
       "shape: (19_366, 6)\n",
       "┌────────────┬───────────┬──────────┬────────────┬────────────┬───────┐\n",
       "│ gene       ┆ logFC     ┆ logCPM   ┆ PValue     ┆ FDR        ┆ topDE │\n",
       "│ ---        ┆ ---       ┆ ---      ┆ ---        ┆ ---        ┆ ---   │\n",
       "│ str        ┆ f64       ┆ f64      ┆ f64        ┆ f64        ┆ str   │\n",
       "╞════════════╪═══════════╪══════════╪════════════╪════════════╪═══════╡\n",
       "│ HOXC-AS1   ┆ -1.597633 ┆ 4.93527  ┆ 2.8398e-21 ┆ 5.4995e-17 ┆ Down  │\n",
       "│ U62317.1   ┆ 2.597768  ┆ 5.099346 ┆ 6.6225e-18 ┆ 6.4126e-14 ┆ Up    │\n",
       "│ AL139099.1 ┆ 1.38593   ┆ 5.92532  ┆ 5.7655e-17 ┆ 3.7219e-13 ┆ Up    │\n",
       "│ AC025259.1 ┆ 2.197355  ┆ 5.206168 ┆ 2.5343e-16 ┆ 1.0581e-12 ┆ Up    │\n",
       "│ AC020909.4 ┆ 1.71241   ┆ 5.515472 ┆ 2.7319e-16 ┆ 1.0581e-12 ┆ Up    │\n",
       "│ …          ┆ …         ┆ …        ┆ …          ┆ …          ┆ …     │\n",
       "│ MLEC       ┆ 0.000126  ┆ 6.493302 ┆ 1.0        ┆ 1.0        ┆ NA    │\n",
       "│ ERG28      ┆ -0.000124 ┆ 5.979651 ┆ 1.0        ┆ 1.0        ┆ NA    │\n",
       "│ TARDBP     ┆ -0.000092 ┆ 6.448589 ┆ 1.0        ┆ 1.0        ┆ NA    │\n",
       "│ DKK3       ┆ -0.000064 ┆ 6.3508   ┆ 1.0        ┆ 1.0        ┆ NA    │\n",
       "│ RBBP6      ┆ 0.000019  ┆ 6.406227 ┆ 1.0        ┆ 1.0        ┆ NA    │\n",
       "└────────────┴───────────┴──────────┴────────────┴────────────┴───────┘"
      ],
      "text/html": [
       "<div><style>\n",
       ".dataframe > thead > tr,\n",
       ".dataframe > tbody > tr {\n",
       "  text-align: right;\n",
       "  white-space: pre-wrap;\n",
       "}\n",
       "</style>\n",
       "<small>shape: (19_366, 6)</small><table border=\"1\" class=\"dataframe\"><thead><tr><th>gene</th><th>logFC</th><th>logCPM</th><th>PValue</th><th>FDR</th><th>topDE</th></tr><tr><td>str</td><td>f64</td><td>f64</td><td>f64</td><td>f64</td><td>str</td></tr></thead><tbody><tr><td>&quot;HOXC-AS1&quot;</td><td>-1.597633</td><td>4.93527</td><td>2.8398e-21</td><td>5.4995e-17</td><td>&quot;Down&quot;</td></tr><tr><td>&quot;U62317.1&quot;</td><td>2.597768</td><td>5.099346</td><td>6.6225e-18</td><td>6.4126e-14</td><td>&quot;Up&quot;</td></tr><tr><td>&quot;AL139099.1&quot;</td><td>1.38593</td><td>5.92532</td><td>5.7655e-17</td><td>3.7219e-13</td><td>&quot;Up&quot;</td></tr><tr><td>&quot;AC025259.1&quot;</td><td>2.197355</td><td>5.206168</td><td>2.5343e-16</td><td>1.0581e-12</td><td>&quot;Up&quot;</td></tr><tr><td>&quot;AC020909.4&quot;</td><td>1.71241</td><td>5.515472</td><td>2.7319e-16</td><td>1.0581e-12</td><td>&quot;Up&quot;</td></tr><tr><td>&hellip;</td><td>&hellip;</td><td>&hellip;</td><td>&hellip;</td><td>&hellip;</td><td>&hellip;</td></tr><tr><td>&quot;MLEC&quot;</td><td>0.000126</td><td>6.493302</td><td>1.0</td><td>1.0</td><td>&quot;NA&quot;</td></tr><tr><td>&quot;ERG28&quot;</td><td>-0.000124</td><td>5.979651</td><td>1.0</td><td>1.0</td><td>&quot;NA&quot;</td></tr><tr><td>&quot;TARDBP&quot;</td><td>-0.000092</td><td>6.448589</td><td>1.0</td><td>1.0</td><td>&quot;NA&quot;</td></tr><tr><td>&quot;DKK3&quot;</td><td>-0.000064</td><td>6.3508</td><td>1.0</td><td>1.0</td><td>&quot;NA&quot;</td></tr><tr><td>&quot;RBBP6&quot;</td><td>0.000019</td><td>6.406227</td><td>1.0</td><td>1.0</td><td>&quot;NA&quot;</td></tr></tbody></table></div>"
      ]
     },
     "execution_count": 23,
     "metadata": {},
     "output_type": "execute_result"
    }
   ],
   "execution_count": 23
  },
  {
   "metadata": {
    "ExecuteTime": {
     "end_time": "2024-06-08T06:46:14.409819Z",
     "start_time": "2024-06-08T06:46:14.405934Z"
    }
   },
   "cell_type": "code",
   "source": [
    "FDR_THRESHOLD = 0.05\n",
    "logFC_THRESHOLD = 1\n",
    "\n",
    "top_de_GSE89408 = (\n",
    "    all_de_results_GSE89408\n",
    "        .filter((pl.col(\"FDR\") < FDR_THRESHOLD) & ((pl.col(\"logFC\") >= logFC_THRESHOLD) | (pl.col(\"logFC\") <= -logFC_THRESHOLD)))\n",
    "        .sort(\"FDR\", descending=False)\n",
    "        .select(\"gene\")\n",
    "        .head(10)\n",
    ")\n",
    "top_de_GSE89408\n"
   ],
   "id": "88a5591ce95d5664",
   "outputs": [
    {
     "data": {
      "text/plain": [
       "shape: (10, 1)\n",
       "┌────────────┐\n",
       "│ gene       │\n",
       "│ ---        │\n",
       "│ str        │\n",
       "╞════════════╡\n",
       "│ HOXC-AS1   │\n",
       "│ U62317.1   │\n",
       "│ AL139099.1 │\n",
       "│ AC025259.1 │\n",
       "│ AC020909.4 │\n",
       "│ AC211429.1 │\n",
       "│ AC068631.2 │\n",
       "│ HSPE1-MOB4 │\n",
       "│ AC025423.4 │\n",
       "│ AC017083.2 │\n",
       "└────────────┘"
      ],
      "text/html": [
       "<div><style>\n",
       ".dataframe > thead > tr,\n",
       ".dataframe > tbody > tr {\n",
       "  text-align: right;\n",
       "  white-space: pre-wrap;\n",
       "}\n",
       "</style>\n",
       "<small>shape: (10, 1)</small><table border=\"1\" class=\"dataframe\"><thead><tr><th>gene</th></tr><tr><td>str</td></tr></thead><tbody><tr><td>&quot;HOXC-AS1&quot;</td></tr><tr><td>&quot;U62317.1&quot;</td></tr><tr><td>&quot;AL139099.1&quot;</td></tr><tr><td>&quot;AC025259.1&quot;</td></tr><tr><td>&quot;AC020909.4&quot;</td></tr><tr><td>&quot;AC211429.1&quot;</td></tr><tr><td>&quot;AC068631.2&quot;</td></tr><tr><td>&quot;HSPE1-MOB4&quot;</td></tr><tr><td>&quot;AC025423.4&quot;</td></tr><tr><td>&quot;AC017083.2&quot;</td></tr></tbody></table></div>"
      ]
     },
     "execution_count": 24,
     "metadata": {},
     "output_type": "execute_result"
    }
   ],
   "execution_count": 24
  },
  {
   "metadata": {
    "ExecuteTime": {
     "end_time": "2024-06-08T06:49:54.576837Z",
     "start_time": "2024-06-08T06:49:54.573537Z"
    }
   },
   "cell_type": "code",
   "source": "top_de_GSE89408.write_csv(f\"../data/ml/GSE89408_top_de_train_genes.csv\", include_header=True)\n",
   "id": "4812c1aa79766386",
   "outputs": [],
   "execution_count": 26
  }
 ],
 "metadata": {
  "kernelspec": {
   "display_name": "Python 3",
   "language": "python",
   "name": "python3"
  },
  "language_info": {
   "codemirror_mode": {
    "name": "ipython",
    "version": 2
   },
   "file_extension": ".py",
   "mimetype": "text/x-python",
   "name": "python",
   "nbconvert_exporter": "python",
   "pygments_lexer": "ipython2",
   "version": "2.7.6"
  }
 },
 "nbformat": 4,
 "nbformat_minor": 5
}
