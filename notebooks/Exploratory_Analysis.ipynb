{
 "cells": [
  {
   "cell_type": "code",
   "execution_count": 23,
   "id": "initial_id",
   "metadata": {
    "collapsed": true,
    "ExecuteTime": {
     "end_time": "2023-11-26T12:51:29.077023Z",
     "start_time": "2023-11-26T12:51:29.070500Z"
    }
   },
   "outputs": [],
   "source": [
    "import polars as pl "
   ]
  },
  {
   "cell_type": "markdown",
   "source": [
    "# Explore Metadata"
   ],
   "metadata": {
    "collapsed": false
   },
   "id": "8f284e4080d4d719"
  },
  {
   "cell_type": "code",
   "execution_count": 24,
   "outputs": [],
   "source": [
    "metadata_df = pl.read_csv(\"../data/adex-database/metadata.tsv\", separator=\"\\t\")"
   ],
   "metadata": {
    "collapsed": false,
    "ExecuteTime": {
     "end_time": "2023-11-26T12:51:29.086587Z",
     "start_time": "2023-11-26T12:51:29.075289Z"
    }
   },
   "id": "69d86560bc071cae"
  },
  {
   "cell_type": "code",
   "execution_count": 25,
   "outputs": [
    {
     "data": {
      "text/plain": "shape: (3_980, 10)\n┌────────────┬──────────┬──────────────┬────────┬───┬───────────┬────────┬─────┬───────────┐\n│ Sample     ┆ GSE      ┆ Experimental ┆ GPL    ┆ … ┆ Cell Type ┆ Gender ┆ Age ┆ Ethnicity │\n│ ---        ┆ ---      ┆ Strategy     ┆ ---    ┆   ┆ ---       ┆ ---    ┆ --- ┆ ---       │\n│ str        ┆ str      ┆ ---          ┆ str    ┆   ┆ str       ┆ str    ┆ str ┆ str       │\n│            ┆          ┆ str          ┆        ┆   ┆           ┆        ┆     ┆           │\n╞════════════╪══════════╪══════════════╪════════╪═══╪═══════════╪════════╪═════╪═══════════╡\n│ GSM260887  ┆ GSE10325 ┆ Expression   ┆ GPL96  ┆ … ┆ B cells   ┆ NA     ┆ NA  ┆ NA        │\n│ GSM260890  ┆ GSE10325 ┆ Expression   ┆ GPL96  ┆ … ┆ B cells   ┆ NA     ┆ NA  ┆ NA        │\n│ GSM260892  ┆ GSE10325 ┆ Expression   ┆ GPL96  ┆ … ┆ B cells   ┆ NA     ┆ NA  ┆ NA        │\n│ GSM260895  ┆ GSE10325 ┆ Expression   ┆ GPL96  ┆ … ┆ B cells   ┆ NA     ┆ NA  ┆ NA        │\n│ …          ┆ …        ┆ …            ┆ …      ┆ … ┆ …         ┆ …      ┆ …   ┆ …         │\n│ GSM2495623 ┆ GSE95065 ┆ Expression   ┆ GPL570 ┆ … ┆ NA        ┆ NA     ┆ NA  ┆ NA        │\n│ GSM2495624 ┆ GSE95065 ┆ Expression   ┆ GPL570 ┆ … ┆ NA        ┆ NA     ┆ NA  ┆ NA        │\n│ GSM2495625 ┆ GSE95065 ┆ Expression   ┆ GPL570 ┆ … ┆ NA        ┆ NA     ┆ NA  ┆ NA        │\n│ GSM2495626 ┆ GSE95065 ┆ Expression   ┆ GPL570 ┆ … ┆ NA        ┆ NA     ┆ NA  ┆ NA        │\n└────────────┴──────────┴──────────────┴────────┴───┴───────────┴────────┴─────┴───────────┘",
      "text/html": "<div><style>\n.dataframe > thead > tr > th,\n.dataframe > tbody > tr > td {\n  text-align: right;\n  white-space: pre-wrap;\n}\n</style>\n<small>shape: (3_980, 10)</small><table border=\"1\" class=\"dataframe\"><thead><tr><th>Sample</th><th>GSE</th><th>Experimental Strategy</th><th>GPL</th><th>Condition</th><th>Tissue</th><th>Cell Type</th><th>Gender</th><th>Age</th><th>Ethnicity</th></tr><tr><td>str</td><td>str</td><td>str</td><td>str</td><td>str</td><td>str</td><td>str</td><td>str</td><td>str</td><td>str</td></tr></thead><tbody><tr><td>&quot;GSM260887&quot;</td><td>&quot;GSE10325&quot;</td><td>&quot;Expression&quot;</td><td>&quot;GPL96&quot;</td><td>&quot;Healthy&quot;</td><td>&quot;Peripheral blo…</td><td>&quot;B cells&quot;</td><td>&quot;NA&quot;</td><td>&quot;NA&quot;</td><td>&quot;NA&quot;</td></tr><tr><td>&quot;GSM260890&quot;</td><td>&quot;GSE10325&quot;</td><td>&quot;Expression&quot;</td><td>&quot;GPL96&quot;</td><td>&quot;Healthy&quot;</td><td>&quot;Peripheral blo…</td><td>&quot;B cells&quot;</td><td>&quot;NA&quot;</td><td>&quot;NA&quot;</td><td>&quot;NA&quot;</td></tr><tr><td>&quot;GSM260892&quot;</td><td>&quot;GSE10325&quot;</td><td>&quot;Expression&quot;</td><td>&quot;GPL96&quot;</td><td>&quot;Healthy&quot;</td><td>&quot;Peripheral blo…</td><td>&quot;B cells&quot;</td><td>&quot;NA&quot;</td><td>&quot;NA&quot;</td><td>&quot;NA&quot;</td></tr><tr><td>&quot;GSM260895&quot;</td><td>&quot;GSE10325&quot;</td><td>&quot;Expression&quot;</td><td>&quot;GPL96&quot;</td><td>&quot;Healthy&quot;</td><td>&quot;Peripheral blo…</td><td>&quot;B cells&quot;</td><td>&quot;NA&quot;</td><td>&quot;NA&quot;</td><td>&quot;NA&quot;</td></tr><tr><td>&quot;GSM260898&quot;</td><td>&quot;GSE10325&quot;</td><td>&quot;Expression&quot;</td><td>&quot;GPL96&quot;</td><td>&quot;Healthy&quot;</td><td>&quot;Peripheral blo…</td><td>&quot;B cells&quot;</td><td>&quot;NA&quot;</td><td>&quot;NA&quot;</td><td>&quot;NA&quot;</td></tr><tr><td>&quot;GSM260901&quot;</td><td>&quot;GSE10325&quot;</td><td>&quot;Expression&quot;</td><td>&quot;GPL96&quot;</td><td>&quot;Healthy&quot;</td><td>&quot;Peripheral blo…</td><td>&quot;B cells&quot;</td><td>&quot;NA&quot;</td><td>&quot;NA&quot;</td><td>&quot;NA&quot;</td></tr><tr><td>&quot;GSM260904&quot;</td><td>&quot;GSE10325&quot;</td><td>&quot;Expression&quot;</td><td>&quot;GPL96&quot;</td><td>&quot;Healthy&quot;</td><td>&quot;Peripheral blo…</td><td>&quot;B cells&quot;</td><td>&quot;NA&quot;</td><td>&quot;NA&quot;</td><td>&quot;NA&quot;</td></tr><tr><td>&quot;GSM260907&quot;</td><td>&quot;GSE10325&quot;</td><td>&quot;Expression&quot;</td><td>&quot;GPL96&quot;</td><td>&quot;Healthy&quot;</td><td>&quot;Peripheral blo…</td><td>&quot;B cells&quot;</td><td>&quot;NA&quot;</td><td>&quot;NA&quot;</td><td>&quot;NA&quot;</td></tr><tr><td>&quot;GSM260910&quot;</td><td>&quot;GSE10325&quot;</td><td>&quot;Expression&quot;</td><td>&quot;GPL96&quot;</td><td>&quot;Healthy&quot;</td><td>&quot;Peripheral blo…</td><td>&quot;B cells&quot;</td><td>&quot;NA&quot;</td><td>&quot;NA&quot;</td><td>&quot;NA&quot;</td></tr><tr><td>&quot;GSM260915&quot;</td><td>&quot;GSE10325&quot;</td><td>&quot;Expression&quot;</td><td>&quot;GPL96&quot;</td><td>&quot;SLE&quot;</td><td>&quot;Peripheral blo…</td><td>&quot;B cells&quot;</td><td>&quot;NA&quot;</td><td>&quot;NA&quot;</td><td>&quot;NA&quot;</td></tr><tr><td>&quot;GSM260917&quot;</td><td>&quot;GSE10325&quot;</td><td>&quot;Expression&quot;</td><td>&quot;GPL96&quot;</td><td>&quot;SLE&quot;</td><td>&quot;Peripheral blo…</td><td>&quot;B cells&quot;</td><td>&quot;NA&quot;</td><td>&quot;NA&quot;</td><td>&quot;NA&quot;</td></tr><tr><td>&quot;GSM260920&quot;</td><td>&quot;GSE10325&quot;</td><td>&quot;Expression&quot;</td><td>&quot;GPL96&quot;</td><td>&quot;SLE&quot;</td><td>&quot;Peripheral blo…</td><td>&quot;B cells&quot;</td><td>&quot;NA&quot;</td><td>&quot;NA&quot;</td><td>&quot;NA&quot;</td></tr><tr><td>&hellip;</td><td>&hellip;</td><td>&hellip;</td><td>&hellip;</td><td>&hellip;</td><td>&hellip;</td><td>&hellip;</td><td>&hellip;</td><td>&hellip;</td><td>&hellip;</td></tr><tr><td>&quot;GSM2495615&quot;</td><td>&quot;GSE95065&quot;</td><td>&quot;Expression&quot;</td><td>&quot;GPL570&quot;</td><td>&quot;SSc&quot;</td><td>&quot;Skin&quot;</td><td>&quot;NA&quot;</td><td>&quot;NA&quot;</td><td>&quot;NA&quot;</td><td>&quot;NA&quot;</td></tr><tr><td>&quot;GSM2495616&quot;</td><td>&quot;GSE95065&quot;</td><td>&quot;Expression&quot;</td><td>&quot;GPL570&quot;</td><td>&quot;Healthy&quot;</td><td>&quot;Skin&quot;</td><td>&quot;NA&quot;</td><td>&quot;NA&quot;</td><td>&quot;NA&quot;</td><td>&quot;NA&quot;</td></tr><tr><td>&quot;GSM2495617&quot;</td><td>&quot;GSE95065&quot;</td><td>&quot;Expression&quot;</td><td>&quot;GPL570&quot;</td><td>&quot;SSc&quot;</td><td>&quot;Skin&quot;</td><td>&quot;NA&quot;</td><td>&quot;NA&quot;</td><td>&quot;NA&quot;</td><td>&quot;NA&quot;</td></tr><tr><td>&quot;GSM2495618&quot;</td><td>&quot;GSE95065&quot;</td><td>&quot;Expression&quot;</td><td>&quot;GPL570&quot;</td><td>&quot;Healthy&quot;</td><td>&quot;Skin&quot;</td><td>&quot;NA&quot;</td><td>&quot;NA&quot;</td><td>&quot;NA&quot;</td><td>&quot;NA&quot;</td></tr><tr><td>&quot;GSM2495619&quot;</td><td>&quot;GSE95065&quot;</td><td>&quot;Expression&quot;</td><td>&quot;GPL570&quot;</td><td>&quot;SSc&quot;</td><td>&quot;Skin&quot;</td><td>&quot;NA&quot;</td><td>&quot;NA&quot;</td><td>&quot;NA&quot;</td><td>&quot;NA&quot;</td></tr><tr><td>&quot;GSM2495620&quot;</td><td>&quot;GSE95065&quot;</td><td>&quot;Expression&quot;</td><td>&quot;GPL570&quot;</td><td>&quot;SSc&quot;</td><td>&quot;Skin&quot;</td><td>&quot;NA&quot;</td><td>&quot;NA&quot;</td><td>&quot;NA&quot;</td><td>&quot;NA&quot;</td></tr><tr><td>&quot;GSM2495621&quot;</td><td>&quot;GSE95065&quot;</td><td>&quot;Expression&quot;</td><td>&quot;GPL570&quot;</td><td>&quot;SSc&quot;</td><td>&quot;Skin&quot;</td><td>&quot;NA&quot;</td><td>&quot;NA&quot;</td><td>&quot;NA&quot;</td><td>&quot;NA&quot;</td></tr><tr><td>&quot;GSM2495622&quot;</td><td>&quot;GSE95065&quot;</td><td>&quot;Expression&quot;</td><td>&quot;GPL570&quot;</td><td>&quot;SSc&quot;</td><td>&quot;Skin&quot;</td><td>&quot;NA&quot;</td><td>&quot;NA&quot;</td><td>&quot;NA&quot;</td><td>&quot;NA&quot;</td></tr><tr><td>&quot;GSM2495623&quot;</td><td>&quot;GSE95065&quot;</td><td>&quot;Expression&quot;</td><td>&quot;GPL570&quot;</td><td>&quot;Healthy&quot;</td><td>&quot;Skin&quot;</td><td>&quot;NA&quot;</td><td>&quot;NA&quot;</td><td>&quot;NA&quot;</td><td>&quot;NA&quot;</td></tr><tr><td>&quot;GSM2495624&quot;</td><td>&quot;GSE95065&quot;</td><td>&quot;Expression&quot;</td><td>&quot;GPL570&quot;</td><td>&quot;Healthy&quot;</td><td>&quot;Skin&quot;</td><td>&quot;NA&quot;</td><td>&quot;NA&quot;</td><td>&quot;NA&quot;</td><td>&quot;NA&quot;</td></tr><tr><td>&quot;GSM2495625&quot;</td><td>&quot;GSE95065&quot;</td><td>&quot;Expression&quot;</td><td>&quot;GPL570&quot;</td><td>&quot;Healthy&quot;</td><td>&quot;Skin&quot;</td><td>&quot;NA&quot;</td><td>&quot;NA&quot;</td><td>&quot;NA&quot;</td><td>&quot;NA&quot;</td></tr><tr><td>&quot;GSM2495626&quot;</td><td>&quot;GSE95065&quot;</td><td>&quot;Expression&quot;</td><td>&quot;GPL570&quot;</td><td>&quot;Healthy&quot;</td><td>&quot;Skin&quot;</td><td>&quot;NA&quot;</td><td>&quot;NA&quot;</td><td>&quot;NA&quot;</td><td>&quot;NA&quot;</td></tr></tbody></table></div>"
     },
     "execution_count": 25,
     "metadata": {},
     "output_type": "execute_result"
    }
   ],
   "source": [
    "metadata_df"
   ],
   "metadata": {
    "collapsed": false,
    "ExecuteTime": {
     "end_time": "2023-11-26T12:51:29.100534Z",
     "start_time": "2023-11-26T12:51:29.082835Z"
    }
   },
   "id": "264392c7ea588a60"
  },
  {
   "cell_type": "code",
   "execution_count": 29,
   "outputs": [
    {
     "name": "stdout",
     "output_type": "stream",
     "text": [
      "\n",
      "Total Samples = 3980\n",
      "Unique Samples = 3854\n",
      "Conditions = 6 [SjS,SSc,SLE,T1D,Healthy,RA]\n",
      "GPL = 13 [GPL13158,GPL10558,GPL570,GPL96,GPL97,GPL15456,GPL10558_GPL13534,GPL20301,GPL6884,GPL11154,GPL16791,GPL14951_GPL13534,GPL13667]\n",
      "Tissues = 7 [Parotid gland,Salivary gland,Saliva,Whole blood,Synovial membrane,Skin,Peripheral blood]\n",
      "Males = 269, Females = 1547, Unknown Gender = 2164\n"
     ]
    }
   ],
   "source": [
    "total_samples = metadata_df.select(\"Sample\").shape[0]\n",
    "unique_samples = metadata_df.select(\"Sample\").unique().shape[0]\n",
    "\n",
    "conditions_df = metadata_df.select(\"Condition\").unique()\n",
    "conditions_count = conditions_df.shape[0]\n",
    "conditions = conditions_df.to_series().to_list()\n",
    "\n",
    "tissues_df = metadata_df.select(\"Tissue\").unique()\n",
    "tissues_count = tissues_df.shape[0]\n",
    "tissues = tissues_df.to_series().to_list()\n",
    "\n",
    "gpl_df = metadata_df.select(\"GPL\").unique()\n",
    "gpl_count = gpl_df.shape[0]\n",
    "gpls = gpl_df.to_series().to_list()\n",
    "\n",
    "males = metadata_df.select(\"Gender\").filter(pl.col(\"Gender\") == \"Male\").shape[0]\n",
    "females = metadata_df.select(\"Gender\").filter(pl.col(\"Gender\") == \"Female\").shape[0]\n",
    "gender_unknown = metadata_df.select(\"Gender\").filter((pl.col(\"Gender\") != \"Female\") & (pl.col(\"Gender\") != \"Male\")).shape[0]\n",
    "\n",
    "print(f\"\"\"\n",
    "Total Samples = {total_samples}\n",
    "Unique Samples = {unique_samples}\n",
    "Conditions = {conditions_count} [{\",\".join(conditions)}]\n",
    "GPL = {gpl_count} [{\",\".join(gpls)}]\n",
    "Tissues = {tissues_count} [{\",\".join(tissues)}]\n",
    "Males = {males}, Females = {females}, Unknown Gender = {gender_unknown}\n",
    "\"\"\")"
   ],
   "metadata": {
    "collapsed": false,
    "ExecuteTime": {
     "end_time": "2023-11-26T13:27:32.757220Z",
     "start_time": "2023-11-26T13:27:32.748587Z"
    }
   },
   "id": "a263aa6014efa310"
  },
  {
   "cell_type": "code",
   "execution_count": 27,
   "outputs": [
    {
     "data": {
      "text/plain": "shape: (6, 2)\n┌───────────┬─────────────────────┐\n│ Condition ┆ SamplesPerCondition │\n│ ---       ┆ ---                 │\n│ str       ┆ u32                 │\n╞═══════════╪═════════════════════╡\n│ SLE       ┆ 1502                │\n│ Healthy   ┆ 957                 │\n│ RA        ┆ 862                 │\n│ SjS       ┆ 281                 │\n│ SSc       ┆ 157                 │\n│ T1D       ┆ 95                  │\n└───────────┴─────────────────────┘",
      "text/html": "<div><style>\n.dataframe > thead > tr > th,\n.dataframe > tbody > tr > td {\n  text-align: right;\n  white-space: pre-wrap;\n}\n</style>\n<small>shape: (6, 2)</small><table border=\"1\" class=\"dataframe\"><thead><tr><th>Condition</th><th>SamplesPerCondition</th></tr><tr><td>str</td><td>u32</td></tr></thead><tbody><tr><td>&quot;SLE&quot;</td><td>1502</td></tr><tr><td>&quot;Healthy&quot;</td><td>957</td></tr><tr><td>&quot;RA&quot;</td><td>862</td></tr><tr><td>&quot;SjS&quot;</td><td>281</td></tr><tr><td>&quot;SSc&quot;</td><td>157</td></tr><tr><td>&quot;T1D&quot;</td><td>95</td></tr></tbody></table></div>"
     },
     "execution_count": 27,
     "metadata": {},
     "output_type": "execute_result"
    }
   ],
   "source": [
    "metadata_df.group_by(\"Condition\").agg(pl.struct([\"Sample\"]).n_unique().alias('SamplesPerCondition')).sort(\"SamplesPerCondition\", descending=True)"
   ],
   "metadata": {
    "collapsed": false,
    "ExecuteTime": {
     "end_time": "2023-11-26T12:51:29.119854Z",
     "start_time": "2023-11-26T12:51:29.093411Z"
    }
   },
   "id": "7dd1d1184588e16f"
  },
  {
   "cell_type": "code",
   "execution_count": 28,
   "outputs": [
    {
     "data": {
      "text/plain": "shape: (10, 2)\n┌───────┬───────────────┐\n│ Age   ┆ SamplesPerAge │\n│ ---   ┆ ---           │\n│ str   ┆ u32           │\n╞═══════╪═══════════════╡\n│ 1-10  ┆ 113           │\n│ 11-20 ┆ 342           │\n│ 21-30 ┆ 383           │\n│ 31-40 ┆ 331           │\n│ …     ┆ …             │\n│ 61-70 ┆ 69            │\n│ 71-80 ┆ 39            │\n│ >80   ┆ 6             │\n│ NA    ┆ 2400          │\n└───────┴───────────────┘",
      "text/html": "<div><style>\n.dataframe > thead > tr > th,\n.dataframe > tbody > tr > td {\n  text-align: right;\n  white-space: pre-wrap;\n}\n</style>\n<small>shape: (10, 2)</small><table border=\"1\" class=\"dataframe\"><thead><tr><th>Age</th><th>SamplesPerAge</th></tr><tr><td>str</td><td>u32</td></tr></thead><tbody><tr><td>&quot;1-10&quot;</td><td>113</td></tr><tr><td>&quot;11-20&quot;</td><td>342</td></tr><tr><td>&quot;21-30&quot;</td><td>383</td></tr><tr><td>&quot;31-40&quot;</td><td>331</td></tr><tr><td>&quot;41-50&quot;</td><td>105</td></tr><tr><td>&quot;51-60&quot;</td><td>66</td></tr><tr><td>&quot;61-70&quot;</td><td>69</td></tr><tr><td>&quot;71-80&quot;</td><td>39</td></tr><tr><td>&quot;&gt;80&quot;</td><td>6</td></tr><tr><td>&quot;NA&quot;</td><td>2400</td></tr></tbody></table></div>"
     },
     "execution_count": 28,
     "metadata": {},
     "output_type": "execute_result"
    }
   ],
   "source": [
    "metadata_df.group_by(\"Age\").agg(pl.struct([\"Sample\"]).n_unique().alias('SamplesPerAge')).sort(\"Age\")\n"
   ],
   "metadata": {
    "collapsed": false,
    "ExecuteTime": {
     "end_time": "2023-11-26T12:51:29.120194Z",
     "start_time": "2023-11-26T12:51:29.098016Z"
    }
   },
   "id": "6ec7fdd91846766a"
  }
 ],
 "metadata": {
  "kernelspec": {
   "display_name": "Python 3",
   "language": "python",
   "name": "python3"
  },
  "language_info": {
   "codemirror_mode": {
    "name": "ipython",
    "version": 2
   },
   "file_extension": ".py",
   "mimetype": "text/x-python",
   "name": "python",
   "nbconvert_exporter": "python",
   "pygments_lexer": "ipython2",
   "version": "2.7.6"
  }
 },
 "nbformat": 4,
 "nbformat_minor": 5
}
