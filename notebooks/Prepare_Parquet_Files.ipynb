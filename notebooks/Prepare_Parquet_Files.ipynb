{
 "cells": [
  {
   "cell_type": "code",
   "execution_count": null,
   "id": "initial_id",
   "metadata": {
    "collapsed": true,
    "is_executing": true
   },
   "outputs": [],
   "source": [
    "from pathlib import Path\n",
    "import polars as pl "
   ]
  },
  {
   "cell_type": "markdown",
   "source": [
    "# Convert tsv files to parquet "
   ],
   "metadata": {
    "collapsed": false
   },
   "id": "7428a3d0f0c034e4"
  },
  {
   "cell_type": "code",
   "execution_count": 25,
   "outputs": [
    {
     "name": "stdout",
     "output_type": "stream",
     "text": [
      "Converting: ../data/ADEx Database/samples/GSE80183.tsv\n",
      "Created: ../data/ADEx Database/samples/GSE80183.tsv.parquet\n",
      "Converting: ../data/ADEx Database/samples/GSE57383.tsv\n",
      "Created: ../data/ADEx Database/samples/GSE57383.tsv.parquet\n",
      "Converting: ../data/ADEx Database/samples/GSE45291_RA.tsv\n",
      "Created: ../data/ADEx Database/samples/GSE45291_RA.tsv.parquet\n",
      "Converting: ../data/ADEx Database/samples/GSE65010_Memory_regulatory_T_cells.tsv\n",
      "Created: ../data/ADEx Database/samples/GSE65010_Memory_regulatory_T_cells.tsv.parquet\n",
      "Converting: ../data/ADEx Database/samples/GSE50772.tsv\n",
      "Created: ../data/ADEx Database/samples/GSE50772.tsv.parquet\n",
      "Converting: ../data/ADEx Database/samples/GSE13887.tsv\n",
      "Created: ../data/ADEx Database/samples/GSE13887.tsv.parquet\n",
      "Converting: ../data/ADEx Database/samples/GSE55098_2.tsv\n",
      "Created: ../data/ADEx Database/samples/GSE55098_2.tsv.parquet\n",
      "Converting: ../data/ADEx Database/samples/GSE93683_Memory_T_cells.tsv\n",
      "Created: ../data/ADEx Database/samples/GSE93683_Memory_T_cells.tsv.parquet\n",
      "Converting: ../data/ADEx Database/samples/GSE7451.tsv\n",
      "Created: ../data/ADEx Database/samples/GSE7451.tsv.parquet\n",
      "Converting: ../data/ADEx Database/samples/GSE93683_Naive_T_cells.tsv\n",
      "Created: ../data/ADEx Database/samples/GSE93683_Naive_T_cells.tsv.parquet\n",
      "Converting: ../data/ADEx Database/samples/GSE104174.tsv\n",
      "Created: ../data/ADEx Database/samples/GSE104174.tsv.parquet\n",
      "Converting: ../data/ADEx Database/samples/GSE51092.tsv\n",
      "Created: ../data/ADEx Database/samples/GSE51092.tsv.parquet\n",
      "Converting: ../data/ADEx Database/samples/GSE61635.tsv\n",
      "Created: ../data/ADEx Database/samples/GSE61635.tsv.parquet\n",
      "Converting: ../data/ADEx Database/samples/GSE55235.tsv\n",
      "Created: ../data/ADEx Database/samples/GSE55235.tsv.parquet\n",
      "Converting: ../data/ADEx Database/samples/GSE60424_NK.tsv\n",
      "Created: ../data/ADEx Database/samples/GSE60424_NK.tsv.parquet\n",
      "Converting: ../data/ADEx Database/samples/GSE60424_T_cells.tsv\n",
      "Created: ../data/ADEx Database/samples/GSE60424_T_cells.tsv.parquet\n",
      "Converting: ../data/ADEx Database/samples/GSE124073.tsv\n",
      "Created: ../data/ADEx Database/samples/GSE124073.tsv.parquet\n",
      "Converting: ../data/ADEx Database/samples/GSE11907_SLE_GPL96.tsv\n",
      "Created: ../data/ADEx Database/samples/GSE11907_SLE_GPL96.tsv.parquet\n",
      "Converting: ../data/ADEx Database/samples/GSE56649.tsv\n",
      "Created: ../data/ADEx Database/samples/GSE56649.tsv.parquet\n",
      "Converting: ../data/ADEx Database/samples/GSE11907_SLE_GPL97.tsv\n",
      "Created: ../data/ADEx Database/samples/GSE11907_SLE_GPL97.tsv.parquet\n",
      "Converting: ../data/ADEx Database/samples/GSE40611.tsv\n",
      "Created: ../data/ADEx Database/samples/GSE40611.tsv.parquet\n",
      "Converting: ../data/ADEx Database/samples/GSE45291_SLE.tsv\n",
      "Created: ../data/ADEx Database/samples/GSE45291_SLE.tsv.parquet\n",
      "Converting: ../data/ADEx Database/samples/GSE95065_2.tsv\n",
      "Created: ../data/ADEx Database/samples/GSE95065_2.tsv.parquet\n",
      "Converting: ../data/ADEx Database/samples/GSE65010_Memory_effector_T_cells.tsv\n",
      "Created: ../data/ADEx Database/samples/GSE65010_Memory_effector_T_cells.tsv.parquet\n",
      "Converting: ../data/ADEx Database/samples/GSE60424_Monocytes.tsv\n",
      "Created: ../data/ADEx Database/samples/GSE60424_Monocytes.tsv.parquet\n",
      "Converting: ../data/ADEx Database/samples/GSE10325_B_cells.tsv\n",
      "Created: ../data/ADEx Database/samples/GSE10325_B_cells.tsv.parquet\n",
      "Converting: ../data/ADEx Database/samples/GSE65391.tsv\n",
      "Created: ../data/ADEx Database/samples/GSE65391.tsv.parquet\n",
      "Converting: ../data/ADEx Database/samples/GSE30153.tsv\n",
      "Created: ../data/ADEx Database/samples/GSE30153.tsv.parquet\n",
      "Converting: ../data/ADEx Database/samples/GSE55457.tsv\n",
      "Created: ../data/ADEx Database/samples/GSE55457.tsv.parquet\n",
      "Converting: ../data/ADEx Database/samples/GSE110169_SLE.tsv\n",
      "Created: ../data/ADEx Database/samples/GSE110169_SLE.tsv.parquet\n",
      "Converting: ../data/ADEx Database/samples/GSE95065.tsv\n",
      "Created: ../data/ADEx Database/samples/GSE95065.tsv.parquet\n",
      "Converting: ../data/ADEx Database/samples/GSE63903.tsv\n",
      "Created: ../data/ADEx Database/samples/GSE63903.tsv.parquet\n",
      "Converting: ../data/ADEx Database/samples/GSE11907_T1D_GPL97.tsv\n",
      "Created: ../data/ADEx Database/samples/GSE11907_T1D_GPL97.tsv.parquet\n",
      "Converting: ../data/ADEx Database/samples/GSE11907_T1D_GPL96.tsv\n",
      "Created: ../data/ADEx Database/samples/GSE11907_T1D_GPL96.tsv.parquet\n",
      "Converting: ../data/ADEx Database/samples/GSE23117.tsv\n",
      "Created: ../data/ADEx Database/samples/GSE23117.tsv.parquet\n",
      "Converting: ../data/ADEx Database/samples/GSE12021_GPL96.tsv\n",
      "Created: ../data/ADEx Database/samples/GSE12021_GPL96.tsv.parquet\n",
      "Converting: ../data/ADEx Database/samples/GSE110174.tsv\n",
      "Created: ../data/ADEx Database/samples/GSE110174.tsv.parquet\n",
      "Converting: ../data/ADEx Database/samples/GSE38351_RA_GPL96.tsv\n",
      "Created: ../data/ADEx Database/samples/GSE38351_RA_GPL96.tsv.parquet\n",
      "Converting: ../data/ADEx Database/samples/GSE90081.tsv\n",
      "Created: ../data/ADEx Database/samples/GSE90081.tsv.parquet\n",
      "Converting: ../data/ADEx Database/samples/GSE12021_GPL97.tsv\n",
      "Created: ../data/ADEx Database/samples/GSE12021_GPL97.tsv.parquet\n",
      "Converting: ../data/ADEx Database/samples/GSE93683_Central_memory_T_cells.tsv\n",
      "Created: ../data/ADEx Database/samples/GSE93683_Central_memory_T_cells.tsv.parquet\n",
      "Converting: ../data/ADEx Database/samples/GSE60424.tsv\n",
      "Created: ../data/ADEx Database/samples/GSE60424.tsv.parquet\n",
      "Converting: ../data/ADEx Database/samples/GSE10325_T_cells.tsv\n",
      "Created: ../data/ADEx Database/samples/GSE10325_T_cells.tsv.parquet\n",
      "Converting: ../data/ADEx Database/samples/GSE38351_RA_GPL570.tsv\n",
      "Created: ../data/ADEx Database/samples/GSE38351_RA_GPL570.tsv.parquet\n",
      "Converting: ../data/ADEx Database/samples/GSE108497.tsv\n",
      "Created: ../data/ADEx Database/samples/GSE108497.tsv.parquet\n",
      "Converting: ../data/ADEx Database/samples/GSE110169_RA.tsv\n",
      "Created: ../data/ADEx Database/samples/GSE110169_RA.tsv.parquet\n",
      "Converting: ../data/ADEx Database/samples/GSE55098.tsv\n",
      "Created: ../data/ADEx Database/samples/GSE55098.tsv.parquet\n",
      "Converting: ../data/ADEx Database/samples/GSE112341.tsv\n",
      "Created: ../data/ADEx Database/samples/GSE112341.tsv.parquet\n",
      "Converting: ../data/ADEx Database/samples/GSE38351_SLE_GPL96.tsv\n",
      "Created: ../data/ADEx Database/samples/GSE38351_SLE_GPL96.tsv.parquet\n",
      "Converting: ../data/ADEx Database/samples/GSE10325_Myeloid_cells.tsv\n",
      "Created: ../data/ADEx Database/samples/GSE10325_Myeloid_cells.tsv.parquet\n",
      "Converting: ../data/ADEx Database/samples/GSE117931_GPL14951.tsv\n",
      "Created: ../data/ADEx Database/samples/GSE117931_GPL14951.tsv.parquet\n",
      "Converting: ../data/ADEx Database/samples/GSE24706.tsv\n",
      "Created: ../data/ADEx Database/samples/GSE24706.tsv.parquet\n",
      "Converting: ../data/ADEx Database/samples/GSE93683_Memory_effector_T_cells.tsv\n",
      "Created: ../data/ADEx Database/samples/GSE93683_Memory_effector_T_cells.tsv.parquet\n",
      "Converting: ../data/ADEx Database/samples/GSE89408.tsv\n",
      "Created: ../data/ADEx Database/samples/GSE89408.tsv.parquet\n",
      "Converting: ../data/ADEx Database/samples/GSE84844.tsv\n",
      "Created: ../data/ADEx Database/samples/GSE84844.tsv.parquet\n",
      "Converting: ../data/ADEx Database/samples/GSE65010_Naive_regulatory_T_cells.tsv\n",
      "Created: ../data/ADEx Database/samples/GSE65010_Naive_regulatory_T_cells.tsv.parquet\n",
      "Converting: ../data/ADEx Database/samples/GSE82221_GPL10558.tsv\n",
      "Created: ../data/ADEx Database/samples/GSE82221_GPL10558.tsv.parquet\n",
      "Converting: ../data/ADEx Database/samples/GSE65010_Naive_effector_T_cells.tsv\n",
      "Created: ../data/ADEx Database/samples/GSE65010_Naive_effector_T_cells.tsv.parquet\n",
      "Converting: ../data/ADEx Database/samples/GSE77298.tsv\n",
      "Created: ../data/ADEx Database/samples/GSE77298.tsv.parquet\n",
      "Converting: ../data/ADEx Database/samples/GSE110914.tsv\n",
      "Created: ../data/ADEx Database/samples/GSE110914.tsv.parquet\n",
      "Converting: ../data/ADEx Database/samples/GSE72509.tsv\n",
      "Created: ../data/ADEx Database/samples/GSE72509.tsv.parquet\n",
      "Converting: ../data/ADEx Database/samples/GSE124939.tsv\n",
      "Created: ../data/ADEx Database/samples/GSE124939.tsv.parquet\n",
      "Converting: ../data/ADEx Database/samples/GSE60424_Neutrophils.tsv\n",
      "Created: ../data/ADEx Database/samples/GSE60424_Neutrophils.tsv.parquet\n",
      "Converting: ../data/ADEx Database/samples/GSE60424_B_cells.tsv\n",
      "Created: ../data/ADEx Database/samples/GSE60424_B_cells.tsv.parquet\n"
     ]
    }
   ],
   "source": [
    "for csv_file in Path(\"../data/ADEx Database/samples\").glob('*.tsv'):\n",
    "    print(f\"Converting: {csv_file}\")\n",
    "    new_file = f\"{csv_file}.parquet\"\n",
    "    \n",
    "    df = pl.read_csv(csv_file, separator=\"\\t\")\n",
    "    df.write_parquet(file=new_file, use_pyarrow=True)\n",
    "    \n",
    "    print(f\"Created: {new_file}\")"
   ],
   "metadata": {
    "collapsed": false,
    "ExecuteTime": {
     "end_time": "2023-10-15T14:20:39.162596Z",
     "start_time": "2023-10-15T14:20:36.536705Z"
    }
   },
   "id": "c89cfe88ee65c8b7"
  },
  {
   "cell_type": "markdown",
   "source": [
    "# Test Reading Parquet Files"
   ],
   "metadata": {
    "collapsed": false
   },
   "id": "c747b6357d412920"
  },
  {
   "cell_type": "code",
   "execution_count": 29,
   "outputs": [
    {
     "data": {
      "text/plain": "shape: (11_817, 9)\n┌───────────┬───────────┬───────────┬───────────┬───┬───────────┬───────────┬───────────┬──────────┐\n│ gene      ┆ GSM147943 ┆ GSM147945 ┆ GSM147946 ┆ … ┆ GSM147950 ┆ GSM147952 ┆ GSM147953 ┆ GSM14795 │\n│ ---       ┆ 8         ┆ 4         ┆ 0         ┆   ┆ 6         ┆ 0         ┆ 4         ┆ 40       │\n│ str       ┆ ---       ┆ ---       ┆ ---       ┆   ┆ ---       ┆ ---       ┆ ---       ┆ ---      │\n│           ┆ f64       ┆ f64       ┆ f64       ┆   ┆ f64       ┆ f64       ┆ f64       ┆ f64      │\n╞═══════════╪═══════════╪═══════════╪═══════════╪═══╪═══════════╪═══════════╪═══════════╪══════════╡\n│ MT-RNR1   ┆ 14.167986 ┆ 13.971773 ┆ 13.592403 ┆ … ┆ 13.423031 ┆ 13.748319 ┆ 13.524513 ┆ 13.38033 │\n│           ┆           ┆           ┆           ┆   ┆           ┆           ┆           ┆ 3        │\n│ MT-RNR2   ┆ 16.518292 ┆ 16.487825 ┆ 16.040457 ┆ … ┆ 15.992515 ┆ 16.111156 ┆ 15.978604 ┆ 16.36090 │\n│           ┆           ┆           ┆           ┆   ┆           ┆           ┆           ┆ 3        │\n│ MT-ND1    ┆ 12.597621 ┆ 12.492403 ┆ 12.147056 ┆ … ┆ 12.552038 ┆ 12.763483 ┆ 12.083709 ┆ 13.19967 │\n│           ┆           ┆           ┆           ┆   ┆           ┆           ┆           ┆ 7        │\n│ MT-ND2    ┆ 12.786968 ┆ 12.304938 ┆ 11.989102 ┆ … ┆ 12.872562 ┆ 12.742638 ┆ 11.812331 ┆ 12.83732 │\n│           ┆           ┆           ┆           ┆   ┆           ┆           ┆           ┆ 8        │\n│ …         ┆ …         ┆ …         ┆ …         ┆ … ┆ …         ┆ …         ┆ …         ┆ …        │\n│ AC092620. ┆ 5.073804  ┆ 4.308809  ┆ 4.406716  ┆ … ┆ 4.288688  ┆ 4.119014  ┆ 4.197405  ┆ 4.557959 │\n│ 2         ┆           ┆           ┆           ┆   ┆           ┆           ┆           ┆          │\n│ LINC02631 ┆ 3.81474   ┆ 3.424109  ┆ 4.526568  ┆ … ┆ 4.098084  ┆ 4.399011  ┆ 3.767165  ┆ 4.742928 │\n│ CATSPERG  ┆ 2.421501  ┆ 3.933238  ┆ 3.792992  ┆ … ┆ 4.347009  ┆ 2.798022  ┆ 3.767165  ┆ 3.954161 │\n│ TM9SF2    ┆ 11.711636 ┆ 11.841073 ┆ 11.504729 ┆ … ┆ 11.389031 ┆ 11.425561 ┆ 11.610314 ┆ 11.69618 │\n│           ┆           ┆           ┆           ┆   ┆           ┆           ┆           ┆ 1        │\n└───────────┴───────────┴───────────┴───────────┴───┴───────────┴───────────┴───────────┴──────────┘",
      "text/html": "<div><style>\n.dataframe > thead > tr > th,\n.dataframe > tbody > tr > td {\n  text-align: right;\n  white-space: pre-wrap;\n}\n</style>\n<small>shape: (11_817, 9)</small><table border=\"1\" class=\"dataframe\"><thead><tr><th>gene</th><th>GSM1479438</th><th>GSM1479454</th><th>GSM1479460</th><th>GSM1479499</th><th>GSM1479506</th><th>GSM1479520</th><th>GSM1479534</th><th>GSM1479540</th></tr><tr><td>str</td><td>f64</td><td>f64</td><td>f64</td><td>f64</td><td>f64</td><td>f64</td><td>f64</td><td>f64</td></tr></thead><tbody><tr><td>&quot;MT-RNR1&quot;</td><td>14.167986</td><td>13.971773</td><td>13.592403</td><td>13.450033</td><td>13.423031</td><td>13.748319</td><td>13.524513</td><td>13.380333</td></tr><tr><td>&quot;MT-RNR2&quot;</td><td>16.518292</td><td>16.487825</td><td>16.040457</td><td>15.952864</td><td>15.992515</td><td>16.111156</td><td>15.978604</td><td>16.360903</td></tr><tr><td>&quot;MT-ND1&quot;</td><td>12.597621</td><td>12.492403</td><td>12.147056</td><td>12.295915</td><td>12.552038</td><td>12.763483</td><td>12.083709</td><td>13.199677</td></tr><tr><td>&quot;MT-ND2&quot;</td><td>12.786968</td><td>12.304938</td><td>11.989102</td><td>12.24409</td><td>12.872562</td><td>12.742638</td><td>11.812331</td><td>12.837328</td></tr><tr><td>&quot;MT-CO1&quot;</td><td>12.311374</td><td>11.688603</td><td>12.256743</td><td>11.630877</td><td>11.854337</td><td>13.353413</td><td>11.070352</td><td>12.002387</td></tr><tr><td>&quot;MT-CO2&quot;</td><td>12.374295</td><td>12.121082</td><td>11.934617</td><td>11.707863</td><td>12.157276</td><td>12.628561</td><td>11.882701</td><td>12.778336</td></tr><tr><td>&quot;MT-ATP8&quot;</td><td>8.172831</td><td>7.928961</td><td>7.81477</td><td>7.926467</td><td>8.052351</td><td>8.737324</td><td>7.352467</td><td>8.880906</td></tr><tr><td>&quot;MT-ATP6&quot;</td><td>11.713509</td><td>11.832884</td><td>11.860993</td><td>11.574049</td><td>11.856848</td><td>12.408015</td><td>11.237025</td><td>12.648245</td></tr><tr><td>&quot;MT-CO3&quot;</td><td>12.701782</td><td>12.056173</td><td>12.230507</td><td>12.014318</td><td>12.507385</td><td>13.147756</td><td>12.049233</td><td>12.94912</td></tr><tr><td>&quot;MT-ND3&quot;</td><td>10.619202</td><td>10.354516</td><td>9.821721</td><td>10.426595</td><td>10.537383</td><td>10.881465</td><td>9.82612</td><td>11.027446</td></tr><tr><td>&quot;MT-ND4L&quot;</td><td>9.49829</td><td>9.171429</td><td>8.574886</td><td>8.823793</td><td>9.187685</td><td>9.409082</td><td>8.537516</td><td>9.352006</td></tr><tr><td>&quot;MT-ND4&quot;</td><td>13.277126</td><td>12.857749</td><td>12.823254</td><td>12.506182</td><td>12.816904</td><td>13.369433</td><td>12.08266</td><td>13.187271</td></tr><tr><td>&hellip;</td><td>&hellip;</td><td>&hellip;</td><td>&hellip;</td><td>&hellip;</td><td>&hellip;</td><td>&hellip;</td><td>&hellip;</td><td>&hellip;</td></tr><tr><td>&quot;SLC25A17&quot;</td><td>3.280149</td><td>3.664566</td><td>4.132246</td><td>3.322887</td><td>3.61917</td><td>4.347191</td><td>4.528378</td><td>1.384641</td></tr><tr><td>&quot;P2RY8&quot;</td><td>9.208019</td><td>9.20988</td><td>9.075045</td><td>9.18693</td><td>8.979927</td><td>9.254153</td><td>9.179239</td><td>9.605751</td></tr><tr><td>&quot;E4F1&quot;</td><td>8.422261</td><td>8.591767</td><td>8.732755</td><td>8.353326</td><td>8.458333</td><td>8.68349</td><td>8.455643</td><td>8.479967</td></tr><tr><td>&quot;NCF1C&quot;</td><td>12.981976</td><td>13.489106</td><td>12.894261</td><td>12.906565</td><td>12.298358</td><td>12.425494</td><td>12.401371</td><td>13.327273</td></tr><tr><td>&quot;AC092620.1&quot;</td><td>4.762545</td><td>4.885228</td><td>5.306843</td><td>5.21049</td><td>5.220432</td><td>4.757692</td><td>5.392317</td><td>3.617943</td></tr><tr><td>&quot;SPOPL&quot;</td><td>11.145739</td><td>11.212003</td><td>11.098647</td><td>11.661685</td><td>11.596335</td><td>11.126902</td><td>11.202688</td><td>10.380844</td></tr><tr><td>&quot;FNIP1&quot;</td><td>10.954671</td><td>10.754722</td><td>10.920015</td><td>10.564261</td><td>10.48234</td><td>10.659769</td><td>10.645277</td><td>10.121856</td></tr><tr><td>&quot;ETAA1&quot;</td><td>1.66841</td><td>2.470539</td><td>3.348608</td><td>3.858973</td><td>3.179958</td><td>3.077855</td><td>4.067744</td><td>1.384641</td></tr><tr><td>&quot;AC092620.2&quot;</td><td>5.073804</td><td>4.308809</td><td>4.406716</td><td>4.440639</td><td>4.288688</td><td>4.119014</td><td>4.197405</td><td>4.557959</td></tr><tr><td>&quot;LINC02631&quot;</td><td>3.81474</td><td>3.424109</td><td>4.526568</td><td>4.609831</td><td>4.098084</td><td>4.399011</td><td>3.767165</td><td>4.742928</td></tr><tr><td>&quot;CATSPERG&quot;</td><td>2.421501</td><td>3.933238</td><td>3.792992</td><td>3.322887</td><td>4.347009</td><td>2.798022</td><td>3.767165</td><td>3.954161</td></tr><tr><td>&quot;TM9SF2&quot;</td><td>11.711636</td><td>11.841073</td><td>11.504729</td><td>11.384391</td><td>11.389031</td><td>11.425561</td><td>11.610314</td><td>11.696181</td></tr></tbody></table></div>"
     },
     "execution_count": 29,
     "metadata": {},
     "output_type": "execute_result"
    }
   ],
   "source": [
    "pl.read_parquet(\"../data/ADEx Database/samples/GSE60424_Neutrophils.tsv.parquet\")"
   ],
   "metadata": {
    "collapsed": false,
    "ExecuteTime": {
     "end_time": "2023-10-15T15:28:01.670070Z",
     "start_time": "2023-10-15T15:28:01.655445Z"
    }
   },
   "id": "d63f0b140c6883ec"
  }
 ],
 "metadata": {
  "kernelspec": {
   "display_name": "Python 3",
   "language": "python",
   "name": "python3"
  },
  "language_info": {
   "codemirror_mode": {
    "name": "ipython",
    "version": 2
   },
   "file_extension": ".py",
   "mimetype": "text/x-python",
   "name": "python",
   "nbconvert_exporter": "python",
   "pygments_lexer": "ipython2",
   "version": "2.7.6"
  }
 },
 "nbformat": 4,
 "nbformat_minor": 5
}
